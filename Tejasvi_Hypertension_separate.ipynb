{
  "nbformat": 4,
  "nbformat_minor": 0,
  "metadata": {
    "colab": {
      "name": "Tejasvi_Hypertension separate.ipynb",
      "version": "0.3.2",
      "provenance": [],
      "collapsed_sections": [
        "0gpz_wrCe8Yj",
        "iRRr1Xvtww6C"
      ]
    },
    "kernelspec": {
      "name": "python3",
      "display_name": "Python 3"
    },
    "accelerator": "GPU"
  },
  "cells": [
    {
      "cell_type": "markdown",
      "metadata": {
        "id": "IdWY2wL5qcYM",
        "colab_type": "text"
      },
      "source": [
        "# ** Importing Libraries**"
      ]
    },
    {
      "cell_type": "code",
      "metadata": {
        "_uuid": "4a6e56c8be3ba785d7434891069135af56434e6d",
        "id": "YWHTbBaRVtGc",
        "colab_type": "code",
        "colab": {}
      },
      "source": [
        "import pandas as pd\n",
        "import numpy as np\n",
        "import warnings\n",
        "warnings.filterwarnings('ignore')\n",
        "import pandas_profiling \n",
        "import seaborn as sns\n",
        "import matplotlib.pyplot as plt\n",
        "%matplotlib inline"
      ],
      "execution_count": 0,
      "outputs": []
    },
    {
      "cell_type": "code",
      "metadata": {
        "id": "Qh_DFzTVp02b",
        "colab_type": "code",
        "colab": {}
      },
      "source": [
        "from sklearn.model_selection import cross_val_score\n",
        "from sklearn.model_selection import GridSearchCV\n",
        "from sklearn.tree import DecisionTreeClassifier\n",
        "from sklearn.ensemble import AdaBoostClassifier,BaggingClassifier,RandomForestClassifier,GradientBoostingClassifier\n",
        "from sklearn.metrics import f1_score,confusion_matrix,classification_report\n",
        "from sklearn.metrics import roc_auc_score,cohen_kappa_score,matthews_corrcoef,SCORERS\n",
        "from sklearn.svm import LinearSVC\n",
        "from sklearn.neighbors import KNeighborsClassifier\n",
        "from sklearn.linear_model import LogisticRegression\n",
        "from sklearn.naive_bayes import GaussianNB, BernoulliNB\n",
        "\n",
        "from xgboost import XGBClassifier \n",
        "import xgboost as xgb\n",
        "from imblearn.over_sampling import SMOTE\n",
        "from sklearn.model_selection import train_test_split"
      ],
      "execution_count": 0,
      "outputs": []
    },
    {
      "cell_type": "markdown",
      "metadata": {
        "id": "uxCX-6Ycpf10",
        "colab_type": "text"
      },
      "source": [
        "# Data Preprocessing"
      ]
    },
    {
      "cell_type": "code",
      "metadata": {
        "id": "bRH5u4uiV3fL",
        "colab_type": "code",
        "outputId": "f5580712-e22a-478c-8c2b-fe4e4b9c7cfc",
        "colab": {
          "resources": {
            "http://localhost:8080/nbextensions/google.colab/files.js": {
              "data": "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",
              "ok": true,
              "headers": [
                [
                  "content-type",
                  "application/javascript"
                ]
              ],
              "status": 200,
              "status_text": ""
            }
          },
          "base_uri": "https://localhost:8080/",
          "height": 75
        }
      },
      "source": [
        "from google.colab import files\n",
        "file=files.upload()"
      ],
      "execution_count": 0,
      "outputs": [
        {
          "output_type": "display_data",
          "data": {
            "text/html": [
              "\n",
              "     <input type=\"file\" id=\"files-a12e080e-16f3-4f1e-9270-7584ca6def30\" name=\"files[]\" multiple disabled />\n",
              "     <output id=\"result-a12e080e-16f3-4f1e-9270-7584ca6def30\">\n",
              "      Upload widget is only available when the cell has been executed in the\n",
              "      current browser session. Please rerun this cell to enable.\n",
              "      </output>\n",
              "      <script src=\"/nbextensions/google.colab/files.js\"></script> "
            ],
            "text/plain": [
              "<IPython.core.display.HTML object>"
            ]
          },
          "metadata": {
            "tags": []
          }
        },
        {
          "output_type": "stream",
          "text": [
            "Saving PatientData.csv to PatientData.csv\n"
          ],
          "name": "stdout"
        }
      ]
    },
    {
      "cell_type": "code",
      "metadata": {
        "_uuid": "1ebdb5836d943735ee1ea5ba1e95bef758cc3b26",
        "id": "ilF3yBS-VtGx",
        "colab_type": "code",
        "outputId": "26567927-c62b-41f5-d2d2-f85e634ce772",
        "colab": {
          "base_uri": "https://localhost:8080/",
          "height": 198
        }
      },
      "source": [
        "data=pd.read_csv('PatientData.csv')\n",
        "data.head()"
      ],
      "execution_count": 0,
      "outputs": [
        {
          "output_type": "execute_result",
          "data": {
            "text/html": [
              "<div>\n",
              "<style scoped>\n",
              "    .dataframe tbody tr th:only-of-type {\n",
              "        vertical-align: middle;\n",
              "    }\n",
              "\n",
              "    .dataframe tbody tr th {\n",
              "        vertical-align: top;\n",
              "    }\n",
              "\n",
              "    .dataframe thead th {\n",
              "        text-align: right;\n",
              "    }\n",
              "</style>\n",
              "<table border=\"1\" class=\"dataframe\">\n",
              "  <thead>\n",
              "    <tr style=\"text-align: right;\">\n",
              "      <th></th>\n",
              "      <th>gender</th>\n",
              "      <th>age</th>\n",
              "      <th>diabetes</th>\n",
              "      <th>hypertension</th>\n",
              "      <th>stroke</th>\n",
              "      <th>heart disease</th>\n",
              "      <th>smoking history</th>\n",
              "      <th>BMI</th>\n",
              "    </tr>\n",
              "  </thead>\n",
              "  <tbody>\n",
              "    <tr>\n",
              "      <th>0</th>\n",
              "      <td>Female</td>\n",
              "      <td>80.0</td>\n",
              "      <td>0</td>\n",
              "      <td>0</td>\n",
              "      <td>0</td>\n",
              "      <td>1</td>\n",
              "      <td>never</td>\n",
              "      <td>25.19</td>\n",
              "    </tr>\n",
              "    <tr>\n",
              "      <th>1</th>\n",
              "      <td>Female</td>\n",
              "      <td>54.0</td>\n",
              "      <td>0</td>\n",
              "      <td>0</td>\n",
              "      <td>0</td>\n",
              "      <td>0</td>\n",
              "      <td>NaN</td>\n",
              "      <td>NaN</td>\n",
              "    </tr>\n",
              "    <tr>\n",
              "      <th>2</th>\n",
              "      <td>Male</td>\n",
              "      <td>28.0</td>\n",
              "      <td>0</td>\n",
              "      <td>0</td>\n",
              "      <td>0</td>\n",
              "      <td>0</td>\n",
              "      <td>never</td>\n",
              "      <td>NaN</td>\n",
              "    </tr>\n",
              "    <tr>\n",
              "      <th>3</th>\n",
              "      <td>Female</td>\n",
              "      <td>36.0</td>\n",
              "      <td>0</td>\n",
              "      <td>0</td>\n",
              "      <td>0</td>\n",
              "      <td>0</td>\n",
              "      <td>current</td>\n",
              "      <td>23.45</td>\n",
              "    </tr>\n",
              "    <tr>\n",
              "      <th>4</th>\n",
              "      <td>Male</td>\n",
              "      <td>76.0</td>\n",
              "      <td>0</td>\n",
              "      <td>1</td>\n",
              "      <td>0</td>\n",
              "      <td>1</td>\n",
              "      <td>current</td>\n",
              "      <td>20.14</td>\n",
              "    </tr>\n",
              "  </tbody>\n",
              "</table>\n",
              "</div>"
            ],
            "text/plain": [
              "   gender   age  diabetes  hypertension  stroke  heart disease  \\\n",
              "0  Female  80.0         0             0       0              1   \n",
              "1  Female  54.0         0             0       0              0   \n",
              "2    Male  28.0         0             0       0              0   \n",
              "3  Female  36.0         0             0       0              0   \n",
              "4    Male  76.0         0             1       0              1   \n",
              "\n",
              "  smoking history    BMI  \n",
              "0           never  25.19  \n",
              "1             NaN    NaN  \n",
              "2           never    NaN  \n",
              "3         current  23.45  \n",
              "4         current  20.14  "
            ]
          },
          "metadata": {
            "tags": []
          },
          "execution_count": 10
        }
      ]
    },
    {
      "cell_type": "code",
      "metadata": {
        "_uuid": "f4e78b6cf2dc7a7613ad8066ed66d70fe6485b51",
        "id": "sBHLN8kYVtHM",
        "colab_type": "code",
        "outputId": "2defa2db-4d76-4335-cd9b-aa0a2f5e26a0",
        "colab": {
          "base_uri": "https://localhost:8080/",
          "height": 170
        }
      },
      "source": [
        "data.isna().sum()"
      ],
      "execution_count": 0,
      "outputs": [
        {
          "output_type": "execute_result",
          "data": {
            "text/plain": [
              "gender                 0\n",
              "age                    0\n",
              "diabetes               0\n",
              "hypertension           0\n",
              "stroke                 0\n",
              "heart disease          0\n",
              "smoking history    35816\n",
              "BMI                25444\n",
              "dtype: int64"
            ]
          },
          "metadata": {
            "tags": []
          },
          "execution_count": 5
        }
      ]
    },
    {
      "cell_type": "code",
      "metadata": {
        "id": "ICzB-wnKXnnh",
        "colab_type": "code",
        "outputId": "b8563d12-4932-4ae4-96fc-cdc2ff5f50a0",
        "colab": {
          "base_uri": "https://localhost:8080/",
          "height": 170
        }
      },
      "source": [
        "data.dtypes"
      ],
      "execution_count": 0,
      "outputs": [
        {
          "output_type": "execute_result",
          "data": {
            "text/plain": [
              "gender              object\n",
              "age                float64\n",
              "diabetes             int64\n",
              "hypertension         int64\n",
              "stroke               int64\n",
              "heart disease        int64\n",
              "smoking history     object\n",
              "BMI                float64\n",
              "dtype: object"
            ]
          },
          "metadata": {
            "tags": []
          },
          "execution_count": 6
        }
      ]
    },
    {
      "cell_type": "code",
      "metadata": {
        "id": "Wqrvkja6Qti8",
        "colab_type": "code",
        "outputId": "cd0fe442-3743-413c-e29e-b8876e19aeb6",
        "colab": {
          "base_uri": "https://localhost:8080/",
          "height": 9160
        }
      },
      "source": [
        "pandas_profiling.ProfileReport(data)"
      ],
      "execution_count": 0,
      "outputs": [
        {
          "output_type": "execute_result",
          "data": {
            "text/html": [
              "<meta charset=\"UTF-8\">\n",
              "\n",
              "<style>\n",
              "\n",
              "        .variablerow {\n",
              "            border: 1px solid #e1e1e8;\n",
              "            border-top: hidden;\n",
              "            padding-top: 2em;\n",
              "            padding-bottom: 2em;\n",
              "            padding-left: 1em;\n",
              "            padding-right: 1em;\n",
              "        }\n",
              "\n",
              "        .headerrow {\n",
              "            border: 1px solid #e1e1e8;\n",
              "            background-color: #f5f5f5;\n",
              "            padding: 2em;\n",
              "        }\n",
              "        .namecol {\n",
              "            margin-top: -1em;\n",
              "            overflow-x: auto;\n",
              "        }\n",
              "\n",
              "        .dl-horizontal dt {\n",
              "            text-align: left;\n",
              "            padding-right: 1em;\n",
              "            white-space: normal;\n",
              "        }\n",
              "\n",
              "        .dl-horizontal dd {\n",
              "            margin-left: 0;\n",
              "        }\n",
              "\n",
              "        .ignore {\n",
              "            opacity: 0.4;\n",
              "        }\n",
              "\n",
              "        .container.pandas-profiling {\n",
              "            max-width:975px;\n",
              "        }\n",
              "\n",
              "        .col-md-12 {\n",
              "            padding-left: 2em;\n",
              "        }\n",
              "\n",
              "        .indent {\n",
              "            margin-left: 1em;\n",
              "        }\n",
              "\n",
              "        .center-img {\n",
              "            margin-left: auto !important;\n",
              "            margin-right: auto !important;\n",
              "            display: block;\n",
              "        }\n",
              "\n",
              "        /* Table example_values */\n",
              "            table.example_values {\n",
              "                border: 0;\n",
              "            }\n",
              "\n",
              "            .example_values th {\n",
              "                border: 0;\n",
              "                padding: 0 ;\n",
              "                color: #555;\n",
              "                font-weight: 600;\n",
              "            }\n",
              "\n",
              "            .example_values tr, .example_values td{\n",
              "                border: 0;\n",
              "                padding: 0;\n",
              "                color: #555;\n",
              "            }\n",
              "\n",
              "        /* STATS */\n",
              "            table.stats {\n",
              "                border: 0;\n",
              "            }\n",
              "\n",
              "            .stats th {\n",
              "                border: 0;\n",
              "                padding: 0 2em 0 0;\n",
              "                color: #555;\n",
              "                font-weight: 600;\n",
              "            }\n",
              "\n",
              "            .stats tr {\n",
              "                border: 0;\n",
              "            }\n",
              "\n",
              "            .stats td{\n",
              "                color: #555;\n",
              "                padding: 1px;\n",
              "                border: 0;\n",
              "            }\n",
              "\n",
              "\n",
              "        /* Sample table */\n",
              "            table.sample {\n",
              "                border: 0;\n",
              "                margin-bottom: 2em;\n",
              "                margin-left:1em;\n",
              "            }\n",
              "            .sample tr {\n",
              "                border:0;\n",
              "            }\n",
              "            .sample td, .sample th{\n",
              "                padding: 0.5em;\n",
              "                white-space: nowrap;\n",
              "                border: none;\n",
              "\n",
              "            }\n",
              "\n",
              "            .sample thead {\n",
              "                border-top: 0;\n",
              "                border-bottom: 2px solid #ddd;\n",
              "            }\n",
              "\n",
              "            .sample td {\n",
              "                width:100%;\n",
              "            }\n",
              "\n",
              "\n",
              "        /* There is no good solution available to make the divs equal height and then center ... */\n",
              "            .histogram {\n",
              "                margin-top: 3em;\n",
              "            }\n",
              "        /* Freq table */\n",
              "\n",
              "            table.freq {\n",
              "                margin-bottom: 2em;\n",
              "                border: 0;\n",
              "            }\n",
              "            table.freq th, table.freq tr, table.freq td {\n",
              "                border: 0;\n",
              "                padding: 0;\n",
              "            }\n",
              "\n",
              "            .freq thead {\n",
              "                font-weight: 600;\n",
              "                white-space: nowrap;\n",
              "                overflow: hidden;\n",
              "                text-overflow: ellipsis;\n",
              "\n",
              "            }\n",
              "\n",
              "            td.fillremaining{\n",
              "                width:auto;\n",
              "                max-width: none;\n",
              "            }\n",
              "\n",
              "            td.number, th.number {\n",
              "                text-align:right ;\n",
              "            }\n",
              "\n",
              "        /* Freq mini */\n",
              "            .freq.mini td{\n",
              "                width: 50%;\n",
              "                padding: 1px;\n",
              "                font-size: 12px;\n",
              "\n",
              "            }\n",
              "            table.freq.mini {\n",
              "                 width:100%;\n",
              "            }\n",
              "            .freq.mini th {\n",
              "                overflow: hidden;\n",
              "                text-overflow: ellipsis;\n",
              "                white-space: nowrap;\n",
              "                max-width: 5em;\n",
              "                font-weight: 400;\n",
              "                text-align:right;\n",
              "                padding-right: 0.5em;\n",
              "            }\n",
              "\n",
              "            .missing {\n",
              "                color: #a94442;\n",
              "            }\n",
              "            .alert, .alert > th, .alert > td {\n",
              "                color: #a94442;\n",
              "            }\n",
              "\n",
              "\n",
              "        /* Bars in tables */\n",
              "            .freq .bar{\n",
              "                float: left;\n",
              "                width: 0;\n",
              "                height: 100%;\n",
              "                line-height: 20px;\n",
              "                color: #fff;\n",
              "                text-align: center;\n",
              "                background-color: #337ab7;\n",
              "                border-radius: 3px;\n",
              "                margin-right: 4px;\n",
              "            }\n",
              "            .other .bar {\n",
              "                background-color: #999;\n",
              "            }\n",
              "            .missing .bar{\n",
              "                background-color: #a94442;\n",
              "            }\n",
              "            .tooltip-inner {\n",
              "                width: 100%;\n",
              "                white-space: nowrap;\n",
              "                text-align:left;\n",
              "            }\n",
              "\n",
              "            .extrapadding{\n",
              "                padding: 2em;\n",
              "            }\n",
              "\n",
              "            .pp-anchor{\n",
              "\n",
              "            }\n",
              "\n",
              "</style>\n",
              "\n",
              "<div class=\"container pandas-profiling\">\n",
              "    <div class=\"row headerrow highlight\">\n",
              "        <h1>Overview</h1>\n",
              "    </div>\n",
              "    <div class=\"row variablerow\">\n",
              "    <div class=\"col-md-6 namecol\">\n",
              "        <p class=\"h4\">Dataset info</p>\n",
              "        <table class=\"stats\" style=\"margin-left: 1em;\">\n",
              "            <tbody>\n",
              "            <tr>\n",
              "                <th>Number of variables</th>\n",
              "                <td>8 </td>\n",
              "            </tr>\n",
              "            <tr>\n",
              "                <th>Number of observations</th>\n",
              "                <td>100000 </td>\n",
              "            </tr>\n",
              "            <tr>\n",
              "                <th>Total Missing (%)</th>\n",
              "                <td>7.7% </td>\n",
              "            </tr>\n",
              "            <tr>\n",
              "                <th>Total size in memory</th>\n",
              "                <td>6.1 MiB </td>\n",
              "            </tr>\n",
              "            <tr>\n",
              "                <th>Average record size in memory</th>\n",
              "                <td>64.0 B </td>\n",
              "            </tr>\n",
              "            </tbody>\n",
              "        </table>\n",
              "    </div>\n",
              "    <div class=\"col-md-6 namecol\">\n",
              "        <p class=\"h4\">Variables types</p>\n",
              "        <table class=\"stats\" style=\"margin-left: 1em;\">\n",
              "            <tbody>\n",
              "            <tr>\n",
              "                <th>Numeric</th>\n",
              "                <td>2 </td>\n",
              "            </tr>\n",
              "            <tr>\n",
              "                <th>Categorical</th>\n",
              "                <td>2 </td>\n",
              "            </tr>\n",
              "            <tr>\n",
              "                <th>Boolean</th>\n",
              "                <td>4 </td>\n",
              "            </tr>\n",
              "            <tr>\n",
              "                <th>Date</th>\n",
              "                <td>0 </td>\n",
              "            </tr>\n",
              "            <tr>\n",
              "                <th>Text (Unique)</th>\n",
              "                <td>0 </td>\n",
              "            </tr>\n",
              "            <tr>\n",
              "                <th>Rejected</th>\n",
              "                <td>0 </td>\n",
              "            </tr>\n",
              "            <tr>\n",
              "                <th>Unsupported</th>\n",
              "                <td>0 </td>\n",
              "            </tr>\n",
              "            </tbody>\n",
              "        </table>\n",
              "    </div>\n",
              "    <div class=\"col-md-12\" style=\"padding-left: 1em;\">\n",
              "        \n",
              "        <p class=\"h4\">Warnings</p>\n",
              "        <ul class=\"list-unstyled\"><li><a href=\"#pp_var_BMI\"><code>BMI</code></a> has 25444 / 25.4% missing values <span class=\"label label-default\">Missing</span></li><li><a href=\"#pp_var_smoking history\"><code>smoking history</code></a> has 35816 / 35.8% missing values <span class=\"label label-default\">Missing</span></li><li>Dataset has 27057 duplicate rows <span class=\"label label-warning\">Warning</span></li> </ul>\n",
              "    </div>\n",
              "</div>\n",
              "    <div class=\"row headerrow highlight\">\n",
              "        <h1>Variables</h1>\n",
              "    </div>\n",
              "    <div class=\"row variablerow\">\n",
              "    <div class=\"col-md-3 namecol\">\n",
              "        <p class=\"h4 pp-anchor\" id=\"pp_var_BMI\">BMI<br/>\n",
              "            <small>Numeric</small>\n",
              "        </p>\n",
              "    </div><div class=\"col-md-6\">\n",
              "    <div class=\"row\">\n",
              "        <div class=\"col-sm-6\">\n",
              "            <table class=\"stats \">\n",
              "                <tr>\n",
              "                    <th>Distinct count</th>\n",
              "                    <td>4248</td>\n",
              "                </tr>\n",
              "                <tr>\n",
              "                    <th>Unique (%)</th>\n",
              "                    <td>4.2%</td>\n",
              "                </tr>\n",
              "                <tr class=\"alert\">\n",
              "                    <th>Missing (%)</th>\n",
              "                    <td>25.4%</td>\n",
              "                </tr>\n",
              "                <tr class=\"alert\">\n",
              "                    <th>Missing (n)</th>\n",
              "                    <td>25444</td>\n",
              "                </tr>\n",
              "                <tr class=\"ignore\">\n",
              "                    <th>Infinite (%)</th>\n",
              "                    <td>0.0%</td>\n",
              "                </tr>\n",
              "                <tr class=\"ignore\">\n",
              "                    <th>Infinite (n)</th>\n",
              "                    <td>0</td>\n",
              "                </tr>\n",
              "            </table>\n",
              "\n",
              "        </div>\n",
              "        <div class=\"col-sm-6\">\n",
              "            <table class=\"stats \">\n",
              "\n",
              "                <tr>\n",
              "                    <th>Mean</th>\n",
              "                    <td>27.321</td>\n",
              "                </tr>\n",
              "                <tr>\n",
              "                    <th>Minimum</th>\n",
              "                    <td>10.01</td>\n",
              "                </tr>\n",
              "                <tr>\n",
              "                    <th>Maximum</th>\n",
              "                    <td>95.69</td>\n",
              "                </tr>\n",
              "                <tr class=\"ignore\">\n",
              "                    <th>Zeros (%)</th>\n",
              "                    <td>0.0%</td>\n",
              "                </tr>\n",
              "            </table>\n",
              "        </div>\n",
              "    </div>\n",
              "</div>\n",
              "<div class=\"col-md-3 collapse in\" id=\"minihistogram-7154344956364899257\">\n",
              "    <img src=\"data:image/png;base64,iVBORw0KGgoAAAANSUhEUgAAAMgAAABLCAYAAAA1fMjoAAAABHNCSVQICAgIfAhkiAAAAAlwSFlzAAAPYQAAD2EBqD%2BnaQAAADl0RVh0U29mdHdhcmUAbWF0cGxvdGxpYiB2ZXJzaW9uIDMuMC4zLCBodHRwOi8vbWF0cGxvdGxpYi5vcmcvnQurowAAAu1JREFUeJzt3bFLG3EYh/HvNUUUdFFPiGBGR0HIZBAHHWpwFUUhi0MWBfdOItUxg/4NgpPo1FEnETsIQsgmQsBwAVERMSC83QLS9qVKoj/l%2BWx3Idy7PLwhFy6RmZkA/NWX9x4ACNnX9x6gFbLff774Pb9%2BfGvDJPhs2CCAg0AAB4EADgIBHAQCOAgEcBAI4CAQwEEggONT3El/De6%2B43%2BwQQAHgQAOAgEcBAI4CARwEAjgIBDAQSCAg0AAB4EADgIBHAQCOAgEcBAI4CAQwEEggINAAAeBAA4CARwEAjgIBHAQCOAgEMAR3HOxXvO8KqBd2CCAI7gNErKXbjeexPjxsUEAB4EADgIBHAQCOAgEcBAI4CAQwMF9kDbiX6w%2BPjYI4GCDBIatE5bIzOy9hwA8SZJod3dXc3NzGhgYeNNr8xELwavX69re3la9Xn/zaxMI4CAQwEEggINAELw4jrW8vKw4jt/82nyLBTjYIICDQAAHgQAOAgEcBAI4CARwEAjgIBAE4%2B7uTqurq8rlcs1zR0dHmp2d1cLCgorFom5vbyVJ5%2Bfnmp%2Bf1%2BLiogqFgqrVanuGMiAQS0tLtrOzY2NjY2Zm9vj4aLlczi4vL83MbGtry9bX183MbHp62k5PT83MbG9vz4rFYltmYoMgGKVSSePj483js7MzDQ0NKZPJSJJmZmZ0eHioarWq%2B/t7ZbNZSVI%2Bn9fx8bGenp5aPhOBIBg9PT3PjpMkefb7qziOVavVlCSJ%2Bvv7m%2Bc7OjrU2dmp6%2Bvrls9EIPgwzExRFP3zde%2B11yIQBCudTitJkuZxrVbT4ODgH%2BcfHh7UaDTU29vb8hkIBMEaGRnR1dWVLi4uJEn7%2B/uanJxUOp1WX1%2BfTk5OJEkHBweamJhQKpVq%2BQz83B1BuLm50crKihqNhsrlskZHRzU8PKypqSmVSiWlUinFcayNjQ11d3erUqlobW1NURSpq6tLm5ubbXmgA4EADj5iAQ4CARwEAjh%2BA9jurPoBqUMwAAAAAElFTkSuQmCC\">\n",
              "\n",
              "</div>\n",
              "<div class=\"col-md-12 text-right\">\n",
              "    <a role=\"button\" data-toggle=\"collapse\" data-target=\"#descriptives-7154344956364899257,#minihistogram-7154344956364899257\"\n",
              "       aria-expanded=\"false\" aria-controls=\"collapseExample\">\n",
              "        Toggle details\n",
              "    </a>\n",
              "</div>\n",
              "<div class=\"row collapse col-md-12\" id=\"descriptives-7154344956364899257\">\n",
              "    <ul class=\"nav nav-tabs\" role=\"tablist\">\n",
              "        <li role=\"presentation\" class=\"active\"><a href=\"#quantiles-7154344956364899257\"\n",
              "                                                  aria-controls=\"quantiles-7154344956364899257\" role=\"tab\"\n",
              "                                                  data-toggle=\"tab\">Statistics</a></li>\n",
              "        <li role=\"presentation\"><a href=\"#histogram-7154344956364899257\" aria-controls=\"histogram-7154344956364899257\"\n",
              "                                   role=\"tab\" data-toggle=\"tab\">Histogram</a></li>\n",
              "        <li role=\"presentation\"><a href=\"#common-7154344956364899257\" aria-controls=\"common-7154344956364899257\"\n",
              "                                   role=\"tab\" data-toggle=\"tab\">Common Values</a></li>\n",
              "        <li role=\"presentation\"><a href=\"#extreme-7154344956364899257\" aria-controls=\"extreme-7154344956364899257\"\n",
              "                                   role=\"tab\" data-toggle=\"tab\">Extreme Values</a></li>\n",
              "\n",
              "    </ul>\n",
              "\n",
              "    <div class=\"tab-content\">\n",
              "        <div role=\"tabpanel\" class=\"tab-pane active row\" id=\"quantiles-7154344956364899257\">\n",
              "            <div class=\"col-md-4 col-md-offset-1\">\n",
              "                <p class=\"h4\">Quantile statistics</p>\n",
              "                <table class=\"stats indent\">\n",
              "                    <tr>\n",
              "                        <th>Minimum</th>\n",
              "                        <td>10.01</td>\n",
              "                    </tr>\n",
              "                    <tr>\n",
              "                        <th>5-th percentile</th>\n",
              "                        <td>16.23</td>\n",
              "                    </tr>\n",
              "                    <tr>\n",
              "                        <th>Q1</th>\n",
              "                        <td>22.03</td>\n",
              "                    </tr>\n",
              "                    <tr>\n",
              "                        <th>Median</th>\n",
              "                        <td>26.5</td>\n",
              "                    </tr>\n",
              "                    <tr>\n",
              "                        <th>Q3</th>\n",
              "                        <td>31.53</td>\n",
              "                    </tr>\n",
              "                    <tr>\n",
              "                        <th>95-th percentile</th>\n",
              "                        <td>41.25</td>\n",
              "                    </tr>\n",
              "                    <tr>\n",
              "                        <th>Maximum</th>\n",
              "                        <td>95.69</td>\n",
              "                    </tr>\n",
              "                    <tr>\n",
              "                        <th>Range</th>\n",
              "                        <td>85.68</td>\n",
              "                    </tr>\n",
              "                    <tr>\n",
              "                        <th>Interquartile range</th>\n",
              "                        <td>9.5</td>\n",
              "                    </tr>\n",
              "                </table>\n",
              "            </div>\n",
              "            <div class=\"col-md-4 col-md-offset-2\">\n",
              "                <p class=\"h4\">Descriptive statistics</p>\n",
              "                <table class=\"stats indent\">\n",
              "                    <tr>\n",
              "                        <th>Standard deviation</th>\n",
              "                        <td>7.6863</td>\n",
              "                    </tr>\n",
              "                    <tr>\n",
              "                        <th>Coef of variation</th>\n",
              "                        <td>0.28133</td>\n",
              "                    </tr>\n",
              "                    <tr>\n",
              "                        <th>Kurtosis</th>\n",
              "                        <td>1.8615</td>\n",
              "                    </tr>\n",
              "                    <tr>\n",
              "                        <th>Mean</th>\n",
              "                        <td>27.321</td>\n",
              "                    </tr>\n",
              "                    <tr>\n",
              "                        <th>MAD</th>\n",
              "                        <td>5.9262</td>\n",
              "                    </tr>\n",
              "                    <tr class=\"\">\n",
              "                        <th>Skewness</th>\n",
              "                        <td>0.90121</td>\n",
              "                    </tr>\n",
              "                    <tr>\n",
              "                        <th>Sum</th>\n",
              "                        <td>2036900</td>\n",
              "                    </tr>\n",
              "                    <tr>\n",
              "                        <th>Variance</th>\n",
              "                        <td>59.079</td>\n",
              "                    </tr>\n",
              "                    <tr>\n",
              "                        <th>Memory size</th>\n",
              "                        <td>781.3 KiB</td>\n",
              "                    </tr>\n",
              "                </table>\n",
              "            </div>\n",
              "        </div>\n",
              "        <div role=\"tabpanel\" class=\"tab-pane col-md-8 col-md-offset-2\" id=\"histogram-7154344956364899257\">\n",
              "            <img src=\"data:image/png;base64,iVBORw0KGgoAAAANSUhEUgAAAlgAAAGQCAYAAAByNR6YAAAABHNCSVQICAgIfAhkiAAAAAlwSFlzAAAPYQAAD2EBqD%2BnaQAAADl0RVh0U29mdHdhcmUAbWF0cGxvdGxpYiB2ZXJzaW9uIDMuMC4zLCBodHRwOi8vbWF0cGxvdGxpYi5vcmcvnQurowAAIABJREFUeJzt3Xt0VOW9//FPkiFBkkySgZPgDymh3EoupICQNkSDUEFFEDEEYy2lRYsQiUmhggIFtYoeQ8ECKxpbPaXYMofAkYugSLl4AbtELU4CqAQomAUmygy5mEAu8/vDkzkdQQV9wuzA%2B7VWVuT5zn72M/OdmE/23jMT5PV6vQIAAIAxwYFeAAAAwKWGgAUAAGAYAQsAAMAwAhYAAIBhBCwAAADDCFgAAACGEbAAAAAMI2ABAAAYRsACAAAwjIAFAABgGAELAADAMAIWAACAYQQsAAAAwwhYAAAAhhGwAAAADCNgAQAAGEbAAgAAMIyABQAAYBgBCwAAwDACFgAAgGEELAAAAMMIWAAAAIYRsAAAAAwjYAEAABhGwAIAADCMgAUAAGAYAQsAAMAwAhYAAIBhBCwAAADDCFgAAACGEbAAAAAMI2ABAAAYRsACAAAwjIAFAABgGAELAADAMAIWAACAYQQsAAAAwwhYAAAAhhGwAAAADLMFegGXi8rK6kAvwdKCg4PkcITr5MlaNTd7A70c/C/6Yj30xJroizUFBwepY8eIwOw7IHsFviQ4OEhBQUEKDg4K9FLwb%2BiL9dATa6Iv1hTIfhCwAAAADCNgAQAAGEbAAgAAMIyABQAAYBgBCwAAwDACFgAAgGEELAAAAMMIWAAAAIYRsAAAAAwjYAEAABhGwAIAADCMgAUAAGAYAQsAAMAwW6AXgMvHjUveDPQSLsjmvCGBXgIAoI3iCBYAAIBhBCwAAADDCFgAAACGEbAAAAAMI2ABAAAYRsACAAAwjIAFAABgGAELAADAMMsGrAMHDujnP/%2B5Bg4cqLS0NOXl5amyslKStHv3bmVmZmrAgAEaNWqU1q9f77ftihUrNHLkSA0YMEDZ2dkqKSnx1U6fPq3f/va3uvbaa5Wamqrc3Fy53W5fvby8XL/61a%2BUmpqq6667Tk8%2B%2BaSam5svzp0GAACXBEsGrDNnzuiXv/ylBg8erN27d2vjxo367LPPtGDBAlVUVGjatGm6/fbbtXv3bs2ZM0fz5s2Ty%2BWSJG3btk1Lly7Vf/7nf2rXrl267rrrdM899%2Bjzzz%2BXJC1evFilpaVyOp165ZVX5PV69cADD/j2PX36dMXFxWnr1q16/vnntXXrVv35z38OyOMAAADaJksGrLq6OuXn52vKlCkKDQ2Vw%2BHQ9ddfr48%2B%2BkgbNmxQfHy8MjMzFRYWprS0NA0bNkyrV6%2BWJDmdTo0bN04pKSlq37697rrrLknS9u3b1djYqOLiYk2bNk1XXnmloqOjlZeXpx07duiTTz6Ry%2BXSgQMHNHPmTEVGRio%2BPl6TJk2S0%2BkM5MMBAADaGEsGrKioKI0fP1422xcflXjo0CH9z//8j2688UaVlpYqISHB7/YJCQm%2B04BfrgcHB6tv375yuVw6evSoqqurlZiY6Kv36NFD7du3V2lpqUpLS9WlSxdFRUX56omJiTp8%2BLBqampa8y4DAIBLiKU/7Lm8vFwjR45UY2OjsrKylJubq7vvvltxcXF%2Bt4uOjvZdR%2BXxePwCkvRFYHO73fJ4PJIku93uV7fb7b76l2stc7ndbkVERJzXuisqKnzXi7Ww2TooNjb2vLaHNdhslvz746IKCQn2%2B47AoyfWRF%2BsKZD9sHTA6tKli1wul/71r3/pt7/9re6///7z2s7r9X7r%2Bjdtez6cTqeWLVvmN5aTk6Pc3NzvPDcunpiY8EAvwTLs9isCvQR8CT2xJvqCFpYOWJIUFBSk%2BPh45efn6/bbb1dGRobvSFQLt9sth8MhSYqJiTmr7vF41KtXL99tPB6PwsP/75fnqVOn1LFjRzU1NZ1z26CgIN%2B252PChAkaNmyY35jN1kFud%2B15z4HAo19f/PVnt1%2Bhqqo6NTXxaloroCfWRF%2BsqaUvgWDJgLV7924tWLBAmzdvVnDwF4f3Wr7369dPr7zyit/tS0pKlJKSIklKSkpSaWmpbr31VklSU1OT9u3bp8zMTHXt2lVRUVG%2Ba60k6cMPP9SZM2eUlJSkiooKHT9%2BXCdPnvQFKpfLpZ49e/oFsm8SGxt71unAyspqNTbyQ9eW0K//09TUzONhMfTEmugLWljyZHFSUpJqamr05JNPqq6uTidPntTSpUt19dVXKzs7W%2BXl5Vq9erVOnz6tnTt3aufOncrKypIkZWdn68UXX9Q///lP1dXVqbCwUKGhoRo6dKhCQkKUlZWlp59%2BWsePH5fb7dbvf/97XX/99erUqZMSEhKUnJysRYsWqaamRmVlZXr%2B%2BeeVnZ0d4EcEAAC0JZYMWJGRkXruuedUUlKiH/3oRxo1apQiIyP1%2B9//Xh07dtQzzzyjlStXauDAgXrsscf05JNP6gc/%2BIEk6dprr9Wvf/1r5eXlafDgwdq1a5eKiorUvn17SVJubq5SUlJ0yy23aPjw4QoPD9ejjz7q2/cf/vAHVVRUaMiQIZo4caLGjh2rO%2B64IyCPAwAAaJuCvCau6sY3qqysDvQSAu7GJW8GegkXZHPekEAvIeBstmDFxITL7a7ltIdF0BNroi/W1NKXQLDkESwAAIC2jIAFAABgGAELAADAMAIWAACAYQQsAAAAwwhYAAAAhhGwAAAADCNgAQAAGEbAAgAAMIyABQAAYBgBCwAAwDACFgAAgGEELAAAAMMIWAAAAIYRsAAAAAwjYAEAABhGwAIAADCMgAUAAGAYAQsAAMAwAhYAAIBhBCwAAADDCFgAAACGEbAAAAAMI2ABAAAYRsACAAAwjIAFAABgGAELAADAMAIWAACAYQQsAAAAwwhYAAAAhhGwAAAADCNgAQAAGEbAAgAAMIyABQAAYBgBCwAAwDACFgAAgGEELAAAAMMIWAAAAIZZNmCVl5crJydHqampSktL0%2BzZs1VVVaWPP/5Yffr0UXJyst/Xn/70J9%2B2mzZt0ujRo9W/f3%2BNGzdOb7zxhq/W3NysxYsXa/jw4Ro0aJAmT56sY8eO%2Beoej0d5eXlKS0tTenq65syZo/r6%2Bot63wEAQNtm2YB1zz33yG63a9u2bVq7dq0%2B%2BugjPfHEE766y%2BXy%2B5o8ebIkaf/%2B/Zo1a5Zmzpypt956S5MmTdK9996rEydOSJJeeOEFbdiwQUVFRdq%2Bfbvi4%2BOVk5Mjr9crSZo3b57q6uq0ceNGrVmzRmVlZSooKLj4DwAAAGizLBmwqqqqlJSUpBkzZig8PFydO3fWrbfeqj179nzjtqtXr1ZGRoYyMjIUFhamMWPGqHfv3lq/fr0kyel0atKkSerRo4ciIiKUn5%2BvsrIy7d27V59%2B%2Bqm2bt2q/Px8ORwOxcXFadq0aVqzZo0aGhpa%2B24DAIBLhC3QCzgXu92uhQsX%2Bo0dP35csbGxvn/ff//92rVrlxobGzV%2B/Hjl5uaqXbt2Ki0tVUZGht%2B2CQkJcrlcqq%2Bv18GDB5WQkOCrRUREqFu3bnK5XKqurlZISIj69OnjqycmJurzzz/XoUOH/Ma/TkVFhSorK/3GbLYOfuuH9dlslvz746IKCQn2%2B47AoyfWRF%2BsKZD9sGTA%2BjKXy6WVK1eqsLBQoaGh6t%2B/v66//no9%2Buij2r9/v6ZPny6bzab77rtPHo9HUVFRfttHRUXp4MGDOnXqlLxe7znrbrdb0dHRioiIUFBQkF9Nktxu93mv1%2Bl0atmyZX5jOTk5ys3NvdC7jgCKiQkP9BIsw26/ItBLwJfQE2uiL2hh%2BYD1zjvvaOrUqZoxY4bS0tIkSatWrfLV%2B/XrpylTpuiZZ57RfffdJ0m%2B66m%2BytfVv2nb8zFhwgQNGzbMb8xm6yC3u/Y7z42L5%2Bo5Lwd6CRfk1ZnXGJ8zJCRYdvsVqqqqU1NTs/H5ceHoiTXRF2tq6UsgWDpgbdu2Tb/5zW80b948jR079itv16VLF3366afyer2KiYmRx%2BPxq3s8HjkcDkVHRys4OPic9Y4dO8rhcKimpkZNTU0KCQnx1SSpY8eO573u2NjYs04HVlZWq7GRHzq0ntZ8fjU1NfP8tRh6Yk30BS0se7L43Xff1axZs/TUU0/5havdu3ersLDQ77aHDh1Sly5dFBQUpKSkJJWUlPjVXS6XUlJSFBYWpl69eqm0tNRXq6qq0tGjR9WvXz/17dtXXq9XBw4c8NvWbrere/furXRPAQDApcaSAauxsVFz587VzJkzlZ6e7leLjIzU8uXLtW7dOjU0NMjlculPf/qTsrOzJUlZWVnatWuXduzYodOnT6u4uFhHjhzRmDFjJEnZ2dlasWKFysrKVFNTo4KCAvXt21fJyclyOBwaOXKklixZopMnT%2BrEiRNavny5MjMzZbNZ%2BmAfAACwkCCviYuODNuzZ49%2B%2BtOfKjQ09Kzayy%2B/rH379mnZsmU6cuSIIiMj9bOf/Ux33323goO/yItbtmzRokWLVF5erp49e2rOnDkaNGiQpC%2BusVq6dKlWrVql2tpapaam6uGHH1bnzp0lSdXV1Zo/f762b9%2Budu3a6eabb9bs2bPPuZYLUVlZ/Z22vxTcuOTNQC/hkrY5b4jxOW22YMXEhMvtruW0h0XQE2uiL9bU0pdAsGTAuhQRsAhYrY2AdXmgJ9ZEX6wpkAHLkqcIAQAA2jICFgAAgGEELAAAAMMIWAAAAIYRsAAAAAwjYAEAABhGwAIAADCMgAUAAGAYAQsAAMAwAhYAAIBhBCwAAADDCFgAAACGEbAAAAAMI2ABAAAYRsACAAAwjIAFAABgGAELAADAMAIWAACAYQQsAAAAwwhYAAAAhhGwAAAADCNgAQAAGEbAAgAAMIyABQAAYBgBCwAAwDACFgAAgGEELAAAAMMIWAAAAIYRsAAAAAwjYAEAABhGwAIAADCMgAUAAGAYAQsAAMAwAhYAAIBhBCwAAADDCFgAAACGEbAAAAAMs2zAKi8vV05OjlJTU5WWlqbZs2erqqpKkrR//37deeedGjhwoEaMGKHnnnvOb9tNmzZp9OjR6t%2B/v8aNG6c33njDV2tubtbixYs1fPhwDRo0SJMnT9axY8d8dY/Ho7y8PKWlpSk9PV1z5sxRfX39xbnTAADgkmDZgHXPPffIbrdr27ZtWrt2rT766CM98cQTqq%2Bv15QpU/SjH/1Ir7/%2BuhYvXqxnnnlGW7ZskfRF%2BJo1a5Zmzpypt956S5MmTdK9996rEydOSJJeeOEFbdiwQUVFRdq%2Bfbvi4%2BOVk5Mjr9crSZo3b57q6uq0ceNGrVmzRmVlZSooKAjY4wAAANoeSwasqqoqJSUlacaMGQoPD1fnzp116623as%2BePdqxY4caGho0depUdejQQYmJiRo/frycTqckafXq1crIyFBGRobCwsI0ZswY9e7dW%2BvXr5ckOZ1OTZo0ST169FBERITy8/NVVlamvXv36tNPP9XWrVuVn58vh8OhuLg4TZs2TWvWrFFDQ0MgHxIAANCGWDJg2e12LVy4UJ06dfKNHT9%2BXLGxsSotLVWfPn0UEhLiqyUkJKikpESSVFpaqoSEBL/5EhIS5HK5VF9fr4MHD/rVIyIi1K1bN7lcLu3fv18hISHq06ePr56YmKjPP/9chw4daq27CwAALjG2QC/gfLhcLq1cuVKFhYXavHmz7Ha7Xz06Oloej0fNzc3yeDyKioryq0dFRengwYM6deqUvF7vOetut1vR0dGKiIhQUFCQX02S3G73ea%2B3oqJClZWVfmM2WwfFxsae9xzAhbLZzP%2B9FBIS7PcdgUdPrIm%2BWFMg%2B2H5gPXOO%2B9o6tSpmjFjhtLS0rR58%2BZz3u7fQ1HL9VRf5evq37Tt%2BXA6nVq2bJnfWE5OjnJzc7/z3MBXiYkJb7W57fYrWm1ufDv0xJroC1oYD1jDhg3TuHHjdNttt%2BnKK6/8TnNt27ZNv/nNbzRv3jyNHTtWkuRwOHTkyBG/23k8HkVHRys4OFgxMTHyeDxn1R0Oh%2B8256p37NhRDodDNTU1ampq8p2CbLltx44dz3vdEyZM0LBhw/zGbLYOcrtrz3sO4EK1xvMrJCRYdvsVqqqqU1NTs/H5ceHoiTXRF2tq6UsgGA9Yt912m1566SUVFhbqxz/%2BsbKysjRs2DDZbBe2q3fffVezZs3SU089pfT0dN94UlKS/va3v6mxsdE3p8vlUkpKiq/ecj1WC5fLpVGjRiksLEy9evVSaWmpBg8eLOmLC%2BqPHj2qfv36qUuXLvJ6vTpw4IASExN929rtdnXv3v281x4bG3vW6cDKymo1NvJDh9bTms%2BvpqZmnr8WQ0%2Bsib6ghfGTkzk5Odq0aZP%2B%2B7//W7169dJjjz2mjIwMPfnkkzp8%2BPB5zdHY2Ki5c%2Bdq5syZfuFKkjIyMhQREaHCwkLV1dVp7969Ki4uVnZ2tiQpKytLu3bt0o4dO3T69GkVFxfryJEjGjNmjCQpOztbK1asUFlZmWpqalRQUKC%2BffsqOTlZDodDI0eO1JIlS3Ty5EmdOHFCy5cvV2Zm5gUHRAAAcPkK8pq46OhreL1ebdq0SQsWLFBNTY3S0tJ03333qV%2B/fl%2B5zZ49e/TTn/5UoaGhZ9Vefvll1dbWav78%2BSopKVGnTp10991364477vDdZsuWLVq0aJHKy8vVs2dPzZkzR4MGDfKtZ%2BnSpVq1apVqa2uVmpqqhx9%2BWJ07d5YkVVdXa/78%2Bdq%2BfbvatWunm2%2B%2BWbNnzz7nWi5EZWX1d9r%2BUnDjkjcDvYRL2ua8IcbntNmCFRMTLre7lr/KLYKeWBN9saaWvgRCqwWshoYGvfrqq1q7dq3eeustxcfHKysrSxUVFfrrX/%2Bqhx56SKNHj26NXVsSAYuA1doIWJcHemJN9MWaAhmwjJ/3KisrU3FxsV588UXV1tZq5MiR%2BvOf/6yBAwf6bjNo0CAtWLDgsgpYAADg8mE8YI0aNUrdu3fXlClTNHbsWEVHR591m4yMDJ08edL0rgEAACzBeMBasWKF7xV6X2fv3r2mdw0AAGAJxl9F2KdPH91zzz3aunWrb%2By//uu/dPfdd5/1/lMAAACXIuMBa%2BHChaqurlbPnj19Y0OHDlVzc7Mef/xx07sDAACwHOOnCN944w1t2LBBMTExvrH4%2BHgVFBTo5ptvNr07AAAAyzF%2BBKu%2Bvl5hYWFn7yg4WHV1daZ3BwAAYDnGA9agQYP0%2BOOP69SpU76xTz75RA899JDfWzUAAABcqoyfInzwwQf1y1/%2BUj/%2B8Y8VERGh5uZm1dbWqmvXrvrLX/5iencAAACWYzxgde3aVS%2B99JJee%2B01HT16VMHBwerevbvS09MVEhJiencAAACW0yqfYBwaGqqf/OQnrTE1AACA5RkPWMeOHdOiRYv00Ucfqb6%2B/qz63//%2Bd9O7BAAAsJRWuQaroqJC6enp6tChg%2BnpAQAALM94wCopKdHf//53ORwO01MDAAC0CcbfpqFjx44cuQIAAJc14wFrypQpWrZsmbxer%2BmpAQAA2gTjpwhfe%2B01vfvuu1q7dq2uuuoqBQf7Z7hVq1aZ3iUAAIClGA9YERERuvbaa01PCwAA0GYYD1gLFy40PSUAAECbYvwaLEk6dOiQli5dqgceeMA39t5777XGrgAAACzHeMDavXu3xowZoy1btmjjxo2Svnjz0YkTJ/ImowAA4LJgPGAtXrxYv/nNb7RhwwYFBQVJ%2BuLzCR9//HEtX77c9O4AAAAsx3jA%2BvDDD5WdnS1JvoAlSTfccIPKyspM7w4AAMByjAesyMjIc34GYUVFhUJDQ03vDgAAwHKMB6wBAwboscceU01NjW/s8OHDmjVrln784x%2Bb3h0AAIDlGH%2BbhgceeEA///nPlZqaqqamJg0YMEB1dXXq1auXHn/8cdO7AwAAsBzjAatz587auHGjdu7cqcOHD6t9%2B/bq3r27hgwZ4ndNFgAAwKXKeMCSpHbt2uknP/lJa0wNAABgecYD1rBhw772SBXvhQUAAC51xgPWTTfd5BewmpqadPjwYblcLv385z83vTsAAADLMR6wZs6cec7xV155Rf/4xz9M7w4AAMByWuWzCM/lJz/5iV566aWLtTsAAICAuWgBa9%2B%2BffJ6vRdrdwAAAAFj/BTh7bffftZYXV2dysrKNGLECNO7AwAAsBzjASs%2BPv6sVxGGhYUpMzNT48ePN707AAAAyzEesHi3dgAAcLkzHrBefPHF877t2LFjTe8eAAAg4IwHrDlz5qi5ufmsC9qDgoL8xoKCgghYAADgkmT8VYR//OMflZ6erhdeeEF79uzR22%2B/rZUrV%2Braa6/Vs88%2Bq/fff1/vv/%2B%2B9u7d%2B41zvf7660pLS1N%2Bfr7f%2BNq1a/WDH/xAycnJfl/vv/%2B%2BJKm5uVmLFy/W8OHDNWjQIE2ePFnHjh3zbe/xeJSXl6e0tDSlp6drzpw5qq%2Bv99X379%2BvO%2B%2B8UwMHDtSIESP03HPPGXp0AADA5aBVrsEqKipSXFycb%2Bzqq69W165dNXnyZG3cuPG85nn22WdVXFysbt26nbM%2BaNAg/eUvfzln7YUXXtCGDRv07LPPKi4uTosXL1ZOTo7WrVunoKAgzZs3T2fOnNHGjRvV0NCg%2B%2B67TwUFBZo7d67q6%2Bs1ZcoUZWVlqaioSIcPH9Yvf/lLXXXVVbwKEgAAnBfjR7COHDmiqKios8btdrvKy8vPe56wsLCvDVhfx%2Bl0atKkSerRo4ciIiKUn5%2BvsrIy7d27V59%2B%2Bqm2bt2q/Px8ORwOxcXFadq0aVqzZo0aGhq0Y8cONTQ0aOrUqerQoYMSExM1fvx4OZ3OC14HAAC4PBk/gtWlSxc9/vjjuu%2B%2B%2BxQTEyNJqqqq0h/%2B8Ad973vfO%2B95Jk6c%2BLX148eP6xe/%2BIVKSkpkt9uVm5urW265RfX19Tp48KASEhJ8t42IiFC3bt3kcrlUXV2tkJAQ9enTx1dPTEzU559/rkOHDqm0tFR9%2BvRRSEiIr56QkKDVq1ef99orKipUWVnpN2azdVBsbOx5zwFcKJvN/PsGh4QE%2B31H4NETa6Iv1hTIfhgPWA8%2B%2BKBmzJghp9Op8PBwBQcHq6amRu3bt9fy5cuN7MPhcCg%2BPl6//vWv1bNnT7366qu6//77FRsbq%2B9///vyer1nHUWLioqS2%2B1WdHS0IiIi/N6rq%2BW2brdbHo9Hdrvdb9vo6Gh5PB41NzcrOPibm%2BV0OrVs2TK/sZycHOXm5n7buwx8o5iY8Fab226/otXmxrdDT6yJvqCF8YCVnp6uHTt2aOfOnTpx4oS8Xq/i4uJ0zTXXKDIy0sg%2Bhg4dqqFDh/r%2BPWrUKL366qtau3at78Omv%2B5jeb7NR/Z8%2Bc1Tv86ECRM0bNgwvzGbrYPc7toL3i9wvlrj%2BRUSEiy7/QpVVdWpqanZ%2BPy4cPTEmuiLNbX0JRCMByxJuuKKKzR8%2BHCdOHFCXbt2bY1dnKVLly4qKSlRdHS0goOD5fF4/Ooej0cdO3aUw%2BFQTU2NmpqafKcBW27bUj9y5MhZ27bMez5iY2PPOh1YWVmtxkZ%2B6NB6WvP51dTUzPPXYuiJNdEXtDB%2BcrK%2Bvl6zZs1S//79deONN0r64hqsu%2B66S1VVVUb28be//U2bNm3yGysrK1PXrl0VFhamXr16qbS01FerqqrS0aNH1a9fP/Xt21der1cHDhzw1V0ul%2Bx2u7p3766kpCR98MEHamxs9KunpKQYWTsAALj0GQ9YTz75pPbv36%2BCggK/Iz5NTU0qKCgwso8zZ87okUcekcvlUkNDgzZu3KjXXnvN90HT2dnZWrFihcrKylRTU6OCggL17dtXycnJcjgcGjlypJYsWaKTJ0/qxIkTWr58uTIzM2Wz2ZSRkaGIiAgVFhaqrq5Oe/fuVXFxsbKzs42sHQAAXPqCvN/mgqSvkZ6erpUrVyo%2BPl4pKSm%2BNxQ9ceKExo4dq7feeuu85klOTpYk35Ekm%2B2Ls5kul0ter1eFhYUqLi5WZWWlrrrqKt1///267rrrJH1xjdXSpUu1atUq1dbWKjU1VQ8//LA6d%2B4sSaqurtb8%2BfO1fft2tWvXTjfffLNmz56t0NBQSdKHH36o%2BfPnq6SkRJ06ddLdd9%2BtO%2B644zs9LpWV1d9p%2B0vBjUveDPQSLmmb84YYn9NmC1ZMTLjc7lpOe1gEPbEm%2BmJNLX0JBOMBq3///nrvvfckyS9gnTlzRldffbXv3dYvNwQsAlZrI2BdHuiJNdEXawpkwDJ%2BivB73/ue/vGPf0jyf7Xeyy%2B/rP/3//6f6d0BAABYjvFXEd5xxx2aPn26brvtNjU3N%2Bv5559XSUmJXnnlFc2ZM8f07gAAACzHeMCaMGGCbDabVq5cqZCQED399NPq3r27CgoKdMMNN5jeHQAAgOUYD1gnT57Ubbfdpttuu8301AAAAG2C8Wuwhg8f/q3eKR0AAOBSYTxgpaamavPmzaanBQAAaDOMnyK88sor9eijj6qoqEjf%2B9731K5dO7/6okWLTO8SAADAUowHrIMHD%2Br73/%2B%2BJMntdpueHgAAwPKMBaz8/HwtXrxYf/nLX3xjy5cvV05OjqldAAAAtAnGrsHatm3bWWNFRUWmpgcAAGgzjAWsc71ykFcTAgCAy5GxgBUUFHReYwAAAJc642/TAAAAcLkjYAEAABhm7FWEDQ0NmjFjxjeO8T5YAADgUmcsYA0cOFAVFRXfOAYAAHCpMxaw/v39rwAAAC5nXIMFAABgGAELAADAMAIWAACAYQQsAAAAwwhYAAAAhhGwAAAADCNgAQAAGEbAAgAAMIyABQAAYBgBCwAAwDACFgAAgGEELAAAAMMIWAAAAIYRsAAAAAwjYAEAABhGwAIAADCMgAUAAGAYAQsAAMAwAhYAAIBhBCwAAADDLB2wXn/9daWlpSk/P/%2Bs2qZNmzR69Gj1799f48aN0xtvvOGrNTc3a/HixRo%2BfLgGDRqkyZMn69ixY766x%2BNRXl6e0tLSlJ6erjlz5qi%2Bvt5X379/v%2B68804NHDhQI0aM0HPPPde6dxQAAFxSLBuwnn32Wf3ud79Tt26tsTJzAAATwklEQVTdzqrt379fs2bN0syZM/XWW29p0qRJuvfee3XixAlJ0gsvvKANGzaoqKhI27dvV3x8vHJycuT1eiVJ8%2BbNU11dnTZu3Kg1a9aorKxMBQUFkqT6%2BnpNmTJFP/rRj/T6669r8eLFeuaZZ7Rly5aLd%2BcBAECbZtmAFRYWpuLi4nMGrNWrVysjI0MZGRkKCwvTmDFj1Lt3b61fv16S5HQ6NWnSJPXo0UMRERHKz89XWVmZ9u7dq08//VRbt25Vfn6%2BHA6H4uLiNG3aNK1Zs0YNDQ3asWOHGhoaNHXqVHXo0EGJiYkaP368nE7nxX4IAABAG2XZgDVx4kRFRkaes1ZaWqqEhAS/sYSEBLlcLtXX1%2BvgwYN%2B9YiICHXr1k0ul0v79%2B9XSEiI%2BvTp46snJibq888/16FDh1RaWqo%2BffooJCTEb%2B6SkhLD9xAAAFyqbIFewLfh8XgUFRXlNxYVFaWDBw/q1KlT8nq956y73W5FR0crIiJCQUFBfjVJcrvd8ng8stvtfttGR0fL4/GoublZwcHfnEkrKipUWVnpN2azdVBsbOwF3U/gQths5v9eCgkJ9vuOwKMn1kRfrCmQ/WiTAUuS73qqb1P/pm3P5d8D2TdxOp1atmyZ31hOTo5yc3MveL/A%2BYqJCW%2B1ue32K1ptbnw79MSa6AtatMmAFRMTI4/H4zfm8XjkcDgUHR2t4ODgc9Y7duwoh8OhmpoaNTU1%2BU4Dtty2pX7kyJGztm2Z93xMmDBBw4YN8xuz2TrI7a69kLsJXJDWeH6FhATLbr9CVVV1ampqNj4/Lhw9sSb6Yk0tfQmENhmwkpKSzromyuVyadSoUQoLC1OvXr1UWlqqwYMHS5Kqqqp09OhR9evXT126dJHX69WBAweUmJjo29Zut6t79%2B5KSkrS3/72NzU2Nspms/nqKSkp572%2B2NjYs04HVlZWq7GRHzq0ntZ8fjU1NfP8tRh6Yk30BS3a5MnirKws7dq1Szt27NDp06dVXFysI0eOaMyYMZKk7OxsrVixQmVlZaqpqVFBQYH69u2r5ORkORwOjRw5UkuWLNHJkyd14sQJLV%2B%2BXJmZmbLZbMrIyFBERIQKCwtVV1envXv3qri4WNnZ2QG%2B1wAAoK2w7BGs5ORkSVJjY6MkaevWrZK%2BOJrUu3dvFRQUaOHChSovL1fPnj31zDPP6D/%2B4z8kSbfffrsqKyv1s5/9TLW1tUpNTfW7Jurhhx/W/PnzNXz4cLVr104333yz781MQ0ND9fTTT2v%2B/PkqKipSp06dlJ%2Bfr6FDh17Eew8AANqyIO%2B3ueIbF6yysjrQSwi4G5e8GeglXNI25w0xPqfNFqyYmHC53bWc9rAIemJN9MWaWvoSCG3yFCEAAICVEbAAAAAMI2ABAAAYRsACAAAwjIAFAABgGAELAADAMAIWAACAYZZ9o1GcH95bCgAA6%2BEIFgAAgGEELAAAAMMIWAAAAIYRsAAAAAwjYAEAABhGwAIAADCMgAUAAGAYAQsAAMAwAhYAAIBhBCwAAADDCFgAAACG8VmEwCWiLX0u5ea8IYFeAgC0Ko5gAQAAGEbAAgAAMIyABQAAYBgBCwAAwDACFgAAgGEELAAAAMMIWAAAAIYRsAAAAAwjYAEAABhGwAIAADCMgAUAAGAYAQsAAMAwAhYAAIBhBCwAAADDCFgAAACGEbAAAAAMI2ABAAAYRsACAAAwrM0GrD59%2BigpKUnJycm%2Br0ceeUSStHv3bmVmZmrAgAEaNWqU1q9f77ftihUrNHLkSA0YMEDZ2dkqKSnx1U6fPq3f/va3uvbaa5Wamqrc3Fy53e6Let8AAEDbZgv0Ar6Ll19%2BWVdddZXfWEVFhaZNm6Y5c%2BZo9OjReueddzR16lR1795dycnJ2rZtm5YuXao//vGP6tOnj1asWKF77rlHW7ZsUYcOHbR48WKVlpbK6XTqiiuu0Lx58/TAAw/o6aefDtC9BAAAbU2bPYL1VTZs2KD4%2BHhlZmYqLCxMaWlpGjZsmFavXi1JcjqdGjdunFJSUtS%2BfXvdddddkqTt27ersbFRxcXFmjZtmq688kpFR0crLy9PO3bs0CeffBLIuwUAANqQNn0Ea9GiRXrvvfdUU1OjG2%2B8UbNnz1ZpaakSEhL8bpeQkKDNmzdLkkpLS3XTTTf5asHBwerbt69cLpf69u2r6upqJSYm%2Buo9evRQ%2B/btVVpaqri4uPNaV0VFhSorK/3GbLYOio2N/bZ3Fbik2GyX3N92F01ISLDfd1gDfbGmQPajzQasH/7wh0pLS9MTTzyhY8eOKS8vTw899JA8Hs9ZQSg6Otp3HZXH41FUVJRfPSoqSm63Wx6PR5Jkt9v96na7/YKuw3I6nVq2bJnfWE5OjnJzc897DuBSFhMTHugltHl2%2BxWBXgLOgb6gRZsNWE6n0/ffPXr00MyZMzV16lQNHDjwG7f1er3fqf5NJkyYoGHDhvmN2Wwd5HbXfqd5gUsFPwvfXkhIsOz2K1RVVaempuZALwf/i75YU0tfAqHNBqwvu%2Bqqq9TU1KTg4GDfkagWbrdbDodDkhQTE3NW3ePxqFevXr7beDwehYf/31/Yp06dUseOHc97LbGxsWedDqysrFZjIz90gCR%2BFgxoamrmcbQg%2BoIWbfJk8b59%2B/T444/7jZWVlSk0NFQZGRl%2Bb7sgSSUlJUpJSZEkJSUlqbS01FdramrSvn37lJKSoq5duyoqKsqv/uGHH%2BrMmTNKSkpqxXsEAAAuJW0yYHXs2FFOp1NFRUU6c%2BaMDh8%2BrKeeekoTJkzQLbfcovLycq1evVqnT5/Wzp07tXPnTmVlZUmSsrOz9eKLL%2Bqf//yn6urqVFhYqNDQUA0dOlQhISHKysrS008/rePHj8vtduv3v/%2B9rr/%2BenXq1CnA9xoAALQVQd7vesFRgLz99ttatGiRPvjgA4WGhurWW29Vfn6%2BwsLC9Pbbb%2Bt3v/udysrK1KVLF82YMUMjRozwbfvXv/5VRUVF%2Buyzz5ScnKwFCxaod%2B/ekqQzZ85o4cKFeumll9TY2KjrrrtOCxYsUGRk5Hdab2Vl9Xfa/qvcuOTNVpkXaE2b84YEegltls0WrJiYcLndtZyKshD6Yk0tfQmENhuw2hoCFvB/CFjfHr/IrYm%2BWFMgA1abPEUIAABgZQQsAAAAwwhYAAAAhhGwAAAADCNgAQAAGEbAAgAAMIyABQAAYBgBCwAAwDACFgAAgGEELAAAAMMIWAAAAIYRsAAAAAwjYAEAABhGwAIAADCMgAUAAGAYAQsAAMAwAhYAAIBhBCwAAADDCFgAAACGEbAAAAAMI2ABAAAYRsACAAAwjIAFAABgGAELAADAMAIWAACAYbZALwDA5efGJW8GegkXZHPekEAvAUAbwxEsAAAAwwhYAAAAhhGwAAAADCNgAQAAGEbAAgAAMIyABQAAYBgBCwAAwDACFgAAgGEELAAAAMMIWAAAAIYRsAAAAAwjYAEAABjGhz2fQ3l5uR566CHt3btXHTp00E033aQZM2YoOJg8ClyO%2BHBqABeKgHUO06dPV2JiorZu3arPPvtMU6ZMUadOnfSLX/wi0EsDAABtAIdkvsTlcunAgQOaOXOmIiMjFR8fr0mTJsnpdAZ6aQAAoI3gCNaXlJaWqkuXLoqKivKNJSYm6vDhw6qpqVFERMQ3zlFRUaHKykq/MZutg2JjY42vFwC%2BrC2d0nx15jWBXoIRISHBft9hDYHsBwHrSzwej%2Bx2u99YS9hyu93nFbCcTqeWLVvmN3bvvfdq%2BvTp5hb6v/Y8eoPxOQOhoqJCTqdTEyZMIIhaCH2xHnpiTRUVFfrzn/9IXywmkH0hap%2BD1%2Bv9TttPmDBBa9eu9fuaMGGCodVdmiorK7Vs2bKzjvwhsOiL9dATa6Iv1hTIvnAE60scDoc8Ho/fmMfjUVBQkBwOx3nNERsby18wAABcxjiC9SVJSUk6fvy4Tp486RtzuVzq2bOnwsPDA7gyAADQVhCwviQhIUHJyclatGiRampqVFZWpueff17Z2dmBXhoAAGgjQhYsWLAg0IuwmmuuuUYbN27UI488opdeekmZmZmaPHmygoKCAr20S1p4eLgGDx7MkUKLoS/WQ0%2Bsib5YU6D6EuT9rld0AwAAwA%2BnCAEAAAwjYAEAABhGwAIAADCMgAUAAGAYAQsAAMAwAhYAAIBhBCwAAADDCFgAAACGEbAAAAAMI2DhoisvL1dOTo5SU1OVlpam2bNnq6qqSpK0f/9%2B3XnnnRo4cKBGjBih5557LsCrvfw89thj6tOnj%2B/fu3fvVmZmpgYMGKBRo0Zp/fr1AVzd5aewsFDp6en64Q9/qEmTJunjjz%2BWRF8Cad%2B%2BfZo4caKuvvpqDRkyRDNnztTJkycl0ZeL7fXXX1daWpry8/PPqm3atEmjR49W//79NW7cOL3xxhu%2BWnNzsxYvXqzhw4dr0KBBmjx5so4dO2Z2cV7gIrv55pu9s2fP9tbU1HiPHz/uHTdunPfBBx/01tXVea%2B55hrv0qVLvbW1td6SkhLv4MGDva%2B88kqgl3zZ2Ldvn3fw4MHe3r17e71er/eTTz7x/vCHP/SuXr3aW19f733zzTe9/fr1877//vsBXunlYeXKld4bbrjBW1ZW5q2urvY%2B8sgj3kceeYS%2BBFBDQ4N3yJAh3kWLFnlPnz7tPXnypPcXv/iFd/r06fTlIisqKvKOGDHCe/vtt3vz8vL8avv27fMmJSV5d%2BzY4a2vr/euW7fOm5KS4j1%2B/LjX6/V6V6xY4b3uuuu8Bw8e9FZXV3sffvhh7%2BjRo73Nzc3G1scRLFxUVVVVSkpK0owZMxQeHq7OnTvr1ltv1Z49e7Rjxw41NDRo6tSp6tChgxITEzV%2B/Hg5nc5AL/uy0NzcrPnz52vSpEm%2BsQ0bNig%2BPl6ZmZkKCwtTWlqahg0bptWrVwduoZeR5557Tvn5%2Bfr%2B97%2BviIgIzZ07V3PnzqUvAVRZWanKykrdcsstCg0NVUxMjK6//nrt37%2BfvlxkYWFhKi4uVrdu3c6qrV69WhkZGcrIyFBYWJjGjBmj3r17%2B44oOp1OTZo0ST169FBERITy8/NVVlamvXv3GlsfAQsXld1u18KFC9WpUyff2PHjxxUbG6vS0lL16dNHISEhvlpCQoJKSkoCsdTLzqpVqxQWFqbRo0f7xkpLS5WQkOB3O3pycXzyySf6%2BOOPderUKd10001KTU1Vbm6uTp48SV8CKC4uTn379pXT6VRtba0%2B%2B%2BwzbdmyRUOHDqUvF9nEiRMVGRl5ztpX9cLlcqm%2Bvl4HDx70q0dERKhbt25yuVzG1kfAQkC5XC6tXLlSU6dOlcfjkd1u96tHR0fL4/Goubk5QCu8PHz66adaunSp5s%2Bf7zf%2BVT1xu90Xc3mXpRMnTkiSXn75ZT3//PNat26dTpw4oblz59KXAAoODtbSpUv197//XQMGDFBaWpoaGxs1Y8YM%2BmIhHo9HUVFRfmNRUVFyu906deqUvF7vV9ZNIWAhYN555x1NnjxZM2bMUFpa2lfeLigo6CKu6vK0cOFCjRs3Tj179gz0UvC/vF6vJOmuu%2B5SXFycOnfurOnTp2vbtm0BXtnl7cyZM7rnnnt0ww03aM%2BePXrttdcUGRmpmTNnBnpp%2BJKWn6FvW/%2BuCFgIiG3btulXv/qVHnzwQU2cOFGS5HA4zvrrwePxKDo6WsHBPFVby%2B7du/Xee%2B8pJyfnrFpMTIw8Ho/fmNvtlsPhuFjLu2y1nEb/9yMiXbp0kdfrVUNDA30JkN27d%2Bvjjz/Wr3/9a0VGRiouLk65ubl69dVXFRwcTF8s4lz/7/J4PHI4HL7fKeeqd%2BzY0dga%2BK2Fi%2B7dd9/VrFmz9NRTT2ns2LG%2B8aSkJH3wwQdqbGz0jblcLqWkpARimZeN9evX67PPPtN1112n1NRUjRs3TpKUmpqq3r17n3X9SElJCT25CDp37qyIiAjt37/fN1ZeXq527dopIyODvgRIU1OTmpub/Y5%2BnDlzRpKUlpZGXywiKSnprF60/D4JCwtTr169VFpa6qtVVVXp6NGj6tevn7E1ELBwUTU2Nmru3LmaOXOm0tPT/WoZGRmKiIhQYWGh6urqtHfvXhUXFys7OztAq708zJ49W6%2B88orWrVundevWqaioSJK0bt06jR49WuXl5Vq9erVOnz6tnTt3aufOncrKygrwqi99NptNmZmZevrpp/Wvf/1Ln332mZYvX67Ro0fr1ltvpS8B0r9/f3Xo0EFLly5VXV2d3G63CgsLNWjQIN1yyy30xSKysrK0a9cu7dixQ6dPn1ZxcbGOHDmiMWPGSJKys7O1YsUKlZWVqaamRgUFBerbt6%2BSk5ONrSHI29onIYF/s2fPHv30pz9VaGjoWbWXX35ZtbW1mj9/vkpKStSpUyfdfffduuOOOwKw0svXxx9/rOHDh%2BuDDz6QJL399tv63e9%2Bp7KyMnXp0kUzZszQiBEjArzKy8OZM2e0cOFCvfTSS2poaNDIkSM1b948hYeH05cAKikp0RNPPKEDBw4oNDRUgwcP1uzZsxUXF0dfLqKWMNRy1sNms0mS75WAW7Zs0aJFi1ReXq6ePXtqzpw5GjRokKQvrr9aunSpVq1apdraWqWmpurhhx9W586dja2PgAUAAGAYpwgBAAAMI2ABAAAYRsACAAAwjIAFAABgGAELAADAMAIWAACAYQQsAAAAwwhYAAAAhhGwAAAADCNgAQAAGEbAAgAAMIyABQAAYBgBCwAAwLD/D52V36%2BsaTIfAAAAAElFTkSuQmCC\"/>\n",
              "        </div>\n",
              "        <div role=\"tabpanel\" class=\"tab-pane col-md-12\" id=\"common-7154344956364899257\">\n",
              "            \n",
              "<table class=\"freq table table-hover\">\n",
              "    <thead>\n",
              "    <tr>\n",
              "        <td class=\"fillremaining\">Value</td>\n",
              "        <td class=\"number\">Count</td>\n",
              "        <td class=\"number\">Frequency (%)</td>\n",
              "        <td style=\"min-width:200px\">&nbsp;</td>\n",
              "    </tr>\n",
              "    </thead>\n",
              "    <tr class=\"\">\n",
              "        <td class=\"fillremaining\">23.0</td>\n",
              "        <td class=\"number\">103</td>\n",
              "        <td class=\"number\">0.1%</td>\n",
              "        <td>\n",
              "            <div class=\"bar\" style=\"width:1%\">&nbsp;</div>\n",
              "        </td>\n",
              "</tr><tr class=\"\">\n",
              "        <td class=\"fillremaining\">27.12</td>\n",
              "        <td class=\"number\">101</td>\n",
              "        <td class=\"number\">0.1%</td>\n",
              "        <td>\n",
              "            <div class=\"bar\" style=\"width:1%\">&nbsp;</div>\n",
              "        </td>\n",
              "</tr><tr class=\"\">\n",
              "        <td class=\"fillremaining\">27.8</td>\n",
              "        <td class=\"number\">100</td>\n",
              "        <td class=\"number\">0.1%</td>\n",
              "        <td>\n",
              "            <div class=\"bar\" style=\"width:1%\">&nbsp;</div>\n",
              "        </td>\n",
              "</tr><tr class=\"\">\n",
              "        <td class=\"fillremaining\">24.96</td>\n",
              "        <td class=\"number\">100</td>\n",
              "        <td class=\"number\">0.1%</td>\n",
              "        <td>\n",
              "            <div class=\"bar\" style=\"width:1%\">&nbsp;</div>\n",
              "        </td>\n",
              "</tr><tr class=\"\">\n",
              "        <td class=\"fillremaining\">22.4</td>\n",
              "        <td class=\"number\">99</td>\n",
              "        <td class=\"number\">0.1%</td>\n",
              "        <td>\n",
              "            <div class=\"bar\" style=\"width:1%\">&nbsp;</div>\n",
              "        </td>\n",
              "</tr><tr class=\"\">\n",
              "        <td class=\"fillremaining\">25.0</td>\n",
              "        <td class=\"number\">99</td>\n",
              "        <td class=\"number\">0.1%</td>\n",
              "        <td>\n",
              "            <div class=\"bar\" style=\"width:1%\">&nbsp;</div>\n",
              "        </td>\n",
              "</tr><tr class=\"\">\n",
              "        <td class=\"fillremaining\">25.6</td>\n",
              "        <td class=\"number\">98</td>\n",
              "        <td class=\"number\">0.1%</td>\n",
              "        <td>\n",
              "            <div class=\"bar\" style=\"width:1%\">&nbsp;</div>\n",
              "        </td>\n",
              "</tr><tr class=\"\">\n",
              "        <td class=\"fillremaining\">26.7</td>\n",
              "        <td class=\"number\">94</td>\n",
              "        <td class=\"number\">0.1%</td>\n",
              "        <td>\n",
              "            <div class=\"bar\" style=\"width:1%\">&nbsp;</div>\n",
              "        </td>\n",
              "</tr><tr class=\"\">\n",
              "        <td class=\"fillremaining\">24.5</td>\n",
              "        <td class=\"number\">94</td>\n",
              "        <td class=\"number\">0.1%</td>\n",
              "        <td>\n",
              "            <div class=\"bar\" style=\"width:1%\">&nbsp;</div>\n",
              "        </td>\n",
              "</tr><tr class=\"\">\n",
              "        <td class=\"fillremaining\">28.45</td>\n",
              "        <td class=\"number\">93</td>\n",
              "        <td class=\"number\">0.1%</td>\n",
              "        <td>\n",
              "            <div class=\"bar\" style=\"width:1%\">&nbsp;</div>\n",
              "        </td>\n",
              "</tr><tr class=\"other\">\n",
              "        <td class=\"fillremaining\">Other values (4237)</td>\n",
              "        <td class=\"number\">73575</td>\n",
              "        <td class=\"number\">73.6%</td>\n",
              "        <td>\n",
              "            <div class=\"bar\" style=\"width:100%\">&nbsp;</div>\n",
              "        </td>\n",
              "</tr><tr class=\"missing\">\n",
              "        <td class=\"fillremaining\">(Missing)</td>\n",
              "        <td class=\"number\">25444</td>\n",
              "        <td class=\"number\">25.4%</td>\n",
              "        <td>\n",
              "            <div class=\"bar\" style=\"width:35%\">&nbsp;</div>\n",
              "        </td>\n",
              "</tr>\n",
              "</table>\n",
              "        </div>\n",
              "        <div role=\"tabpanel\" class=\"tab-pane col-md-12\"  id=\"extreme-7154344956364899257\">\n",
              "            <p class=\"h4\">Minimum 5 values</p>\n",
              "            \n",
              "<table class=\"freq table table-hover\">\n",
              "    <thead>\n",
              "    <tr>\n",
              "        <td class=\"fillremaining\">Value</td>\n",
              "        <td class=\"number\">Count</td>\n",
              "        <td class=\"number\">Frequency (%)</td>\n",
              "        <td style=\"min-width:200px\">&nbsp;</td>\n",
              "    </tr>\n",
              "    </thead>\n",
              "    <tr class=\"\">\n",
              "        <td class=\"fillremaining\">10.01</td>\n",
              "        <td class=\"number\">2</td>\n",
              "        <td class=\"number\">0.0%</td>\n",
              "        <td>\n",
              "            <div class=\"bar\" style=\"width:100%\">&nbsp;</div>\n",
              "        </td>\n",
              "</tr><tr class=\"\">\n",
              "        <td class=\"fillremaining\">10.08</td>\n",
              "        <td class=\"number\">1</td>\n",
              "        <td class=\"number\">0.0%</td>\n",
              "        <td>\n",
              "            <div class=\"bar\" style=\"width:50%\">&nbsp;</div>\n",
              "        </td>\n",
              "</tr><tr class=\"\">\n",
              "        <td class=\"fillremaining\">10.14</td>\n",
              "        <td class=\"number\">1</td>\n",
              "        <td class=\"number\">0.0%</td>\n",
              "        <td>\n",
              "            <div class=\"bar\" style=\"width:50%\">&nbsp;</div>\n",
              "        </td>\n",
              "</tr><tr class=\"\">\n",
              "        <td class=\"fillremaining\">10.19</td>\n",
              "        <td class=\"number\">1</td>\n",
              "        <td class=\"number\">0.0%</td>\n",
              "        <td>\n",
              "            <div class=\"bar\" style=\"width:50%\">&nbsp;</div>\n",
              "        </td>\n",
              "</tr><tr class=\"\">\n",
              "        <td class=\"fillremaining\">10.21</td>\n",
              "        <td class=\"number\">1</td>\n",
              "        <td class=\"number\">0.0%</td>\n",
              "        <td>\n",
              "            <div class=\"bar\" style=\"width:50%\">&nbsp;</div>\n",
              "        </td>\n",
              "</tr>\n",
              "</table>\n",
              "            <p class=\"h4\">Maximum 5 values</p>\n",
              "            \n",
              "<table class=\"freq table table-hover\">\n",
              "    <thead>\n",
              "    <tr>\n",
              "        <td class=\"fillremaining\">Value</td>\n",
              "        <td class=\"number\">Count</td>\n",
              "        <td class=\"number\">Frequency (%)</td>\n",
              "        <td style=\"min-width:200px\">&nbsp;</td>\n",
              "    </tr>\n",
              "    </thead>\n",
              "    <tr class=\"\">\n",
              "        <td class=\"fillremaining\">88.72</td>\n",
              "        <td class=\"number\">1</td>\n",
              "        <td class=\"number\">0.0%</td>\n",
              "        <td>\n",
              "            <div class=\"bar\" style=\"width:100%\">&nbsp;</div>\n",
              "        </td>\n",
              "</tr><tr class=\"\">\n",
              "        <td class=\"fillremaining\">88.76</td>\n",
              "        <td class=\"number\">1</td>\n",
              "        <td class=\"number\">0.0%</td>\n",
              "        <td>\n",
              "            <div class=\"bar\" style=\"width:100%\">&nbsp;</div>\n",
              "        </td>\n",
              "</tr><tr class=\"\">\n",
              "        <td class=\"fillremaining\">91.82</td>\n",
              "        <td class=\"number\">1</td>\n",
              "        <td class=\"number\">0.0%</td>\n",
              "        <td>\n",
              "            <div class=\"bar\" style=\"width:100%\">&nbsp;</div>\n",
              "        </td>\n",
              "</tr><tr class=\"\">\n",
              "        <td class=\"fillremaining\">95.22</td>\n",
              "        <td class=\"number\">1</td>\n",
              "        <td class=\"number\">0.0%</td>\n",
              "        <td>\n",
              "            <div class=\"bar\" style=\"width:100%\">&nbsp;</div>\n",
              "        </td>\n",
              "</tr><tr class=\"\">\n",
              "        <td class=\"fillremaining\">95.69</td>\n",
              "        <td class=\"number\">1</td>\n",
              "        <td class=\"number\">0.0%</td>\n",
              "        <td>\n",
              "            <div class=\"bar\" style=\"width:100%\">&nbsp;</div>\n",
              "        </td>\n",
              "</tr>\n",
              "</table>\n",
              "        </div>\n",
              "    </div>\n",
              "</div>\n",
              "</div><div class=\"row variablerow\">\n",
              "    <div class=\"col-md-3 namecol\">\n",
              "        <p class=\"h4 pp-anchor\" id=\"pp_var_age\">age<br/>\n",
              "            <small>Numeric</small>\n",
              "        </p>\n",
              "    </div><div class=\"col-md-6\">\n",
              "    <div class=\"row\">\n",
              "        <div class=\"col-sm-6\">\n",
              "            <table class=\"stats \">\n",
              "                <tr>\n",
              "                    <th>Distinct count</th>\n",
              "                    <td>102</td>\n",
              "                </tr>\n",
              "                <tr>\n",
              "                    <th>Unique (%)</th>\n",
              "                    <td>0.1%</td>\n",
              "                </tr>\n",
              "                <tr class=\"ignore\">\n",
              "                    <th>Missing (%)</th>\n",
              "                    <td>0.0%</td>\n",
              "                </tr>\n",
              "                <tr class=\"ignore\">\n",
              "                    <th>Missing (n)</th>\n",
              "                    <td>0</td>\n",
              "                </tr>\n",
              "                <tr class=\"ignore\">\n",
              "                    <th>Infinite (%)</th>\n",
              "                    <td>0.0%</td>\n",
              "                </tr>\n",
              "                <tr class=\"ignore\">\n",
              "                    <th>Infinite (n)</th>\n",
              "                    <td>0</td>\n",
              "                </tr>\n",
              "            </table>\n",
              "\n",
              "        </div>\n",
              "        <div class=\"col-sm-6\">\n",
              "            <table class=\"stats \">\n",
              "\n",
              "                <tr>\n",
              "                    <th>Mean</th>\n",
              "                    <td>41.886</td>\n",
              "                </tr>\n",
              "                <tr>\n",
              "                    <th>Minimum</th>\n",
              "                    <td>0.08</td>\n",
              "                </tr>\n",
              "                <tr>\n",
              "                    <th>Maximum</th>\n",
              "                    <td>80</td>\n",
              "                </tr>\n",
              "                <tr class=\"ignore\">\n",
              "                    <th>Zeros (%)</th>\n",
              "                    <td>0.0%</td>\n",
              "                </tr>\n",
              "            </table>\n",
              "        </div>\n",
              "    </div>\n",
              "</div>\n",
              "<div class=\"col-md-3 collapse in\" id=\"minihistogram-3659253720150359030\">\n",
              "    <img src=\"data:image/png;base64,iVBORw0KGgoAAAANSUhEUgAAAMgAAABLCAYAAAA1fMjoAAAABHNCSVQICAgIfAhkiAAAAAlwSFlzAAAPYQAAD2EBqD%2BnaQAAADl0RVh0U29mdHdhcmUAbWF0cGxvdGxpYiB2ZXJzaW9uIDMuMC4zLCBodHRwOi8vbWF0cGxvdGxpYi5vcmcvnQurowAAATRJREFUeJzt2cFtwzAQAEHLSEkpIj3lnZ5SRHqiGzAWlgNBBDXz9oMCvDqS2sYY4wY8dT97ATCzj7MXwP99fv/u%2Bv3fz9dBK1mPCQLBBJnM3mnAsUwQCAKBIBAIm%2B8gx1npPPHOzdc7zz/bDZtD%2Bg4r/eF5jS0WBIFAuOwWy3aJV5ggEKabICvcfLAOEwSCQCAIBIJAIEx3SGdOV70WN0EgLDFBrvp243gmCASBQBAIBIFAEAgEgUAQCASBQBAIBIFAEAgEgUAQCASBQBAIBIFAEAgEgUAQCASBQBAIBIFAEAgEgUAQCASBQBAIhG2MMc5eBMzKBIEgEAgCgSAQCAKBIBAIAoEgEAgCgSAQCAKBIBAIAoEgEAgCgSAQCAKBIBAIAoEgEAgCgSAQCAKBIBAIAoHwABrEH5kqb0FCAAAAAElFTkSuQmCC\">\n",
              "\n",
              "</div>\n",
              "<div class=\"col-md-12 text-right\">\n",
              "    <a role=\"button\" data-toggle=\"collapse\" data-target=\"#descriptives-3659253720150359030,#minihistogram-3659253720150359030\"\n",
              "       aria-expanded=\"false\" aria-controls=\"collapseExample\">\n",
              "        Toggle details\n",
              "    </a>\n",
              "</div>\n",
              "<div class=\"row collapse col-md-12\" id=\"descriptives-3659253720150359030\">\n",
              "    <ul class=\"nav nav-tabs\" role=\"tablist\">\n",
              "        <li role=\"presentation\" class=\"active\"><a href=\"#quantiles-3659253720150359030\"\n",
              "                                                  aria-controls=\"quantiles-3659253720150359030\" role=\"tab\"\n",
              "                                                  data-toggle=\"tab\">Statistics</a></li>\n",
              "        <li role=\"presentation\"><a href=\"#histogram-3659253720150359030\" aria-controls=\"histogram-3659253720150359030\"\n",
              "                                   role=\"tab\" data-toggle=\"tab\">Histogram</a></li>\n",
              "        <li role=\"presentation\"><a href=\"#common-3659253720150359030\" aria-controls=\"common-3659253720150359030\"\n",
              "                                   role=\"tab\" data-toggle=\"tab\">Common Values</a></li>\n",
              "        <li role=\"presentation\"><a href=\"#extreme-3659253720150359030\" aria-controls=\"extreme-3659253720150359030\"\n",
              "                                   role=\"tab\" data-toggle=\"tab\">Extreme Values</a></li>\n",
              "\n",
              "    </ul>\n",
              "\n",
              "    <div class=\"tab-content\">\n",
              "        <div role=\"tabpanel\" class=\"tab-pane active row\" id=\"quantiles-3659253720150359030\">\n",
              "            <div class=\"col-md-4 col-md-offset-1\">\n",
              "                <p class=\"h4\">Quantile statistics</p>\n",
              "                <table class=\"stats indent\">\n",
              "                    <tr>\n",
              "                        <th>Minimum</th>\n",
              "                        <td>0.08</td>\n",
              "                    </tr>\n",
              "                    <tr>\n",
              "                        <th>5-th percentile</th>\n",
              "                        <td>4</td>\n",
              "                    </tr>\n",
              "                    <tr>\n",
              "                        <th>Q1</th>\n",
              "                        <td>24</td>\n",
              "                    </tr>\n",
              "                    <tr>\n",
              "                        <th>Median</th>\n",
              "                        <td>43</td>\n",
              "                    </tr>\n",
              "                    <tr>\n",
              "                        <th>Q3</th>\n",
              "                        <td>60</td>\n",
              "                    </tr>\n",
              "                    <tr>\n",
              "                        <th>95-th percentile</th>\n",
              "                        <td>80</td>\n",
              "                    </tr>\n",
              "                    <tr>\n",
              "                        <th>Maximum</th>\n",
              "                        <td>80</td>\n",
              "                    </tr>\n",
              "                    <tr>\n",
              "                        <th>Range</th>\n",
              "                        <td>79.92</td>\n",
              "                    </tr>\n",
              "                    <tr>\n",
              "                        <th>Interquartile range</th>\n",
              "                        <td>36</td>\n",
              "                    </tr>\n",
              "                </table>\n",
              "            </div>\n",
              "            <div class=\"col-md-4 col-md-offset-2\">\n",
              "                <p class=\"h4\">Descriptive statistics</p>\n",
              "                <table class=\"stats indent\">\n",
              "                    <tr>\n",
              "                        <th>Standard deviation</th>\n",
              "                        <td>22.517</td>\n",
              "                    </tr>\n",
              "                    <tr>\n",
              "                        <th>Coef of variation</th>\n",
              "                        <td>0.53758</td>\n",
              "                    </tr>\n",
              "                    <tr>\n",
              "                        <th>Kurtosis</th>\n",
              "                        <td>-1.0038</td>\n",
              "                    </tr>\n",
              "                    <tr>\n",
              "                        <th>Mean</th>\n",
              "                        <td>41.886</td>\n",
              "                    </tr>\n",
              "                    <tr>\n",
              "                        <th>MAD</th>\n",
              "                        <td>19.074</td>\n",
              "                    </tr>\n",
              "                    <tr class=\"\">\n",
              "                        <th>Skewness</th>\n",
              "                        <td>-0.051979</td>\n",
              "                    </tr>\n",
              "                    <tr>\n",
              "                        <th>Sum</th>\n",
              "                        <td>4188600</td>\n",
              "                    </tr>\n",
              "                    <tr>\n",
              "                        <th>Variance</th>\n",
              "                        <td>507.01</td>\n",
              "                    </tr>\n",
              "                    <tr>\n",
              "                        <th>Memory size</th>\n",
              "                        <td>781.3 KiB</td>\n",
              "                    </tr>\n",
              "                </table>\n",
              "            </div>\n",
              "        </div>\n",
              "        <div role=\"tabpanel\" class=\"tab-pane col-md-8 col-md-offset-2\" id=\"histogram-3659253720150359030\">\n",
              "            <img src=\"data:image/png;base64,iVBORw0KGgoAAAANSUhEUgAAAlgAAAGQCAYAAAByNR6YAAAABHNCSVQICAgIfAhkiAAAAAlwSFlzAAAPYQAAD2EBqD%2BnaQAAADl0RVh0U29mdHdhcmUAbWF0cGxvdGxpYiB2ZXJzaW9uIDMuMC4zLCBodHRwOi8vbWF0cGxvdGxpYi5vcmcvnQurowAAIABJREFUeJzt3Xl8VNX9//F3FpNIQjYgYFNqLJtkYROIDUpIkEUoIMgWy5diQUFSUpC0iEDFqoAFpDX4ANIWWyoPHaGtApXla1nqki60LskQtwhfJb9AIswQEpJAkvv7wwdTx2AJcGByx9fz8chDc86dc84nM5m8OffmJsCyLEsAAAAwJtDXCwAAAPA3BCwAAADDCFgAAACGEbAAAAAMI2ABAAAYRsACAAAwjIAFAABgGAELAADAMAIWAACAYQQsAAAAwwhYAAAAhhGwAAAADCNgAQAAGEbAAgAAMIyABQAAYBgBCwAAwDACFgAAgGEELAAAAMMIWAAAAIYRsAAAAAwjYAEAABhGwAIAADCMgAUAAGAYAQsAAMAwAhYAAIBhBCwAAADDCFgAAACGEbAAAAAMI2ABAAAYRsACAAAwjIAFAABgGAELAADAMAIWAACAYQQsAAAAwwhYAAAAhhGwAAAADCNgAQAAGEbAAgAAMIyABQAAYFiwrxfwdVFRcdroeIGBAYqNDdfJk9VqbLSMju1r1GY//lqX5L%2B1%2BWtdErXZ0dWsq1271kbHay52sGwqMDBAAQEBCgwM8PVSjKM2%2B/HXuiT/rc1f65KozY78sS4CFgAAgGEELAAAAMMIWAAAAIYRsAAAAAwjYAEAABhGwAIAADCMgAUAAGAYAQsAAMAwAhYAAIBhBCwAAADDCFgAAACGEbAAAAAMa9EB67XXXlNaWprmzZvXpG/Pnj0aPXq0evfurWHDhunFF1/06t%2B0aZOGDRumPn36KCsrS0VFRZ6%2Buro6/fSnP9XAgQOVmpqqnJwcuVwuT39paanuv/9%2BpaamKiMjQytXrlRjY%2BPVKxQAAPiVYF8v4Kv86le/0tatW3XjjTc26Xv33XeVm5urp556SoMGDdIbb7yh7Oxsffvb31bfvn21d%2B9e5eXl6de//rW6deumTZs2adasWdqzZ49atWqlNWvWyOl0yuFw6Prrr9eSJUu0cOFCrV%2B/XpI0Z84cJSUl6dVXX9WJEyc0c%2BZMtW3bVvfee%2B%2B1/jIAwCW78xdv%2BHoJzbZz7gBfLwG4KlrsDlZoaOhXBiy3262ZM2fqjjvuUHBwsNLT09W1a1cdPHhQkuRwODRu3Dj17NlTYWFhmjFjhiRp3759qq%2Bv19atWzV79mzdcMMNio6O1ty5c7V//34dP35chYWFeu%2B995Sbm6vWrVsrISFB06ZNk8PhuKb1AwAA%2B2qxO1hTp079yr6BAwdq4MCBns/r6%2BtVUVGh9u3bS5KcTqdGjBjh6Q8MDFT37t1VWFio7t276/Tp00pKSvL0d%2BrUSWFhYXI6nSovL1d8fLyioqI8/UlJSTp8%2BLCqqqoUERFhskwAAOCHWmzAuhSrVq1Sq1atPKHK7XZ7BSRJioqKksvlktvtliRFRkZ69UdGRnr6v9x3fiyXy9WsgFVeXq6KigqvtuDgVoqLi7u0wv6LoKBAr//6E2qzH3%2BtS/Lv2lqC4GDzX1d/fs78tTZ/rMvWAcuyLK1atUo7duzQpk2bFBoa6tV3scdeTl9zOBwOrV271qstOztbOTk5VzTuhURGXm98zJaC2uzHX%2BuS/Ls2X4qJCb9qY/vzc%2BavtflTXbYNWI2NjVq4cKHeffddPf/88%2BrYsaOnLyYmxrNTdZ7b7VaXLl0UGxvr%2BTw8/D/f2KdOnVKbNm3U0NBwwccGBAR4HnsxkyZNUmZmpldbcHAruVzVl1TjfxMUFKjIyOtVWVmjhgb/%2Bg1HarMff61L8u/aWgKT74vn%2BfNz5q%2B1Xc26rmaI/29sG7CWLVumDz/8UM8//7yio6O9%2BpKTk%2BV0OjV27FhJUkNDgw4dOqTx48erY8eOioqKktPpVHx8vCTpgw8%2B0NmzZ5WcnKzy8nKVlZXp5MmTnkBVWFiozp07ewWy/yYuLq7J6cCKitOqrzf/zdDQ0HhVxm0JqM1%2B/LUuyb9r86Wr%2BTX15%2BfMX2vzp7psebLzX//6l7Zt26b8/Pwm4UqSsrKy9NJLL%2Bntt99WTU2N1q1bp5CQEA0aNEhBQUGaOHGi1q9fr7KyMrlcLj311FMaMmSI2rZtq8TERKWkpGj16tWqqqpSSUmJnn32WWVlZfmgUgAAYEctdgcrJSVF0ue/IShJr776qqTPd5P%2B8Ic/6PTp08rIyPB6TL9%2B/bRx40YNHDhQDz74oObOnasTJ04oJSVF%2Bfn5CgsLkyTl5OSourpaY8aMUX19vTIyMrR06VLPOE8//bSWLFmiAQMGKCIiQpMnT9Y999xzDaoGAAD%2BIMC60iu60SwVFaeNjhccHKiYmHC5XNV%2Bs516HrXZj7/WJdmztq/7jUbt%2BJw1l7/WdjXrateutdHxmsuWpwgBAABaMgIWAACAYS32GiwAaCn6Ltrl6yUAsBl2sAAAAAwjYAEAABhGwAIAADCMgAUAAGAYAQsAAMAwAhYAAIBhBCwAAADDCFgAAACGEbAAAAAMI2ABAAAYRsACAAAwjIAFAABgGAELAADAMAIWAACAYQQsAAAAwwhYAAAAhhGwAAAADCNgAQAAGEbAAgAAMIyABQAAYBgBCwAAwDACFgAAgGHBvl4AAODr685fvOHrJVySnXMH%2BHoJsAkCFgAAfspOAfbgE8N9vQSjOEUIAABgGDtYAK45O/2rGgAuBztYAAAAhhGwAAAADCNgAQAAGEbAAgAAMIyABQAAYBgBCwAAwDBu0wD4CW59AAAtBztYAAAAhhGwAAAADCNgAQAAGNaiA9Zrr72mtLQ0zZs3r0nfK6%2B8olGjRql3794aN26cXn/9dU9fY2Oj1qxZo8GDB6tfv36aPn26Pv30U0%2B/2%2B3W3LlzlZaWpttuu02LFi1SbW2tp7%2B4uFhTpkzRLbfcoqFDh2rjxo1Xt1AAAOBXWmzA%2BtWvfqXHH39cN954Y5O%2B4uJiLViwQLm5ufrb3/6madOm6Yc//KGOHTsmSdq8ebO2b9%2Bu/Px87du3TwkJCcrOzpZlWZKkJUuWqKamRjt27NAf/vAHlZSUaNWqVZKk2tpazZw5U7feeqtee%2B01rVmzRhs2bNCePXuuXfEAAMDWWmzACg0N1datWy8YsLZs2aL09HSlp6crNDRUo0ePVteuXbVt2zZJksPh0LRp09SpUydFRERo3rx5Kikp0TvvvKPPPvtMr776qubNm6fY2Fi1b99es2fP1h/%2B8AedO3dO%2B/fv17lz5/TAAw%2BoVatWSkpK0oQJE%2BRwOK71lwAAANhUiw1YU6dOVevWrS/Y53Q6lZiY6NWWmJiowsJC1dbW6qOPPvLqj4iI0I033qjCwkIVFxcrKChI3bp18/QnJSXpzJkz%2Bvjjj%2BV0OtWtWzcFBQV5jV1UVGS4QgAA4K9seR8st9utqKgor7aoqCh99NFHOnXqlCzLumC/y%2BVSdHS0IiIiFBAQ4NUnSS6XS263W5GRkV6PjY6OltvtVmNjowIDL55Jy8vLVVFR4dUWHNxKcXFxl1TnfxMUFOj1X39CbQBaquBg337v%2Bvt7iD/VZcuAJclzPdXl9F/ssRfyxUB2MQ6HQ2vXrvVqy87OVk5OziXPezGRkdcbH7OloDYALU1MTLivlyDJf99D/KkuWwasmJgYud1urza3263Y2FhFR0crMDDwgv1t2rRRbGysqqqq1NDQ4DkNeP7Y8/1Hjhxp8tjz4zbHpEmTlJmZ6dUWHNxKLlf1pZT5XwUFBSoy8npVVtaooaHR2LgtAbUBaKlMvo9fDn9/D7kadfkqFNsyYCUnJze5JqqwsFAjR45UaGiounTpIqfTqf79%2B0uSKisr9cknn6hHjx6Kj4%2BXZVl67733lJSU5HlsZGSkbrrpJiUnJ%2Bv5559XfX29goODPf09e/Zs9vri4uKanA6sqDit%2Bnrz3wwNDY1XZdyWgNoAtDQt5fvWX99D/KkuW57snDhxot58803t379fdXV12rp1q44cOaLRo0dLkrKysrRp0yaVlJSoqqpKq1atUvfu3ZWSkqLY2FgNGzZMv/jFL3Ty5EkdO3ZMzzzzjMaPH6/g4GClp6crIiJC69atU01Njd555x1t3bpVWVlZPq4aAADYRYvdwUpJSZEk1dfXS5JeffVVSZ/vJnXt2lWrVq3S8uXLVVpaqs6dO2vDhg1q166dJGny5MmqqKjQ//zP/6i6ulqpqale10T97Gc/0yOPPKLBgwfruuuu03e/%2B13PzUxDQkK0fv16PfLII8rPz1fbtm01b948DRo06BpWDwAA7CzAupwrvnHJKipOGx0vODhQMTHhcrmq/WY79Txquzx3/uINo%2BMBaGrn3AE%2Bnf9S30Ps9L5w8InhV%2BW9sV27C9/y6Wqz5SlCAACAloyABQAAYFiLvQYL8DU7ba0DAFoWdrAAAAAMI2ABAAAYRsACAAAwjIAFAABgGAELAADAMAIWAACAYQQsAAAAwwhYAAAAhhGwAAAADCNgAQAAGEbAAgAAMIyABQAAYBgBCwAAwDACFgAAgGEELAAAAMMIWAAAAIYF%2B3oBuDJDVr3m6yU02865A3y9BAAArgl2sAAAAAwjYAEAABhGwAIAADCMgAUAAGAYAQsAAMAwAhYAAIBhBCwAAADDCFgAAACGEbAAAAAMI2ABAAAYRsACAAAwjIAFAABgGAELAADAMAIWAACAYQQsAAAAwwhYAAAAhhGwAAAADCNgAQAAGEbAAgAAMIyABQAAYJhtA9ahQ4c0depU9e3bVwMGDFBubq5OnjwpSSooKND48ePVp08fjRw5Utu2bfN67KZNmzRs2DD16dNHWVlZKioq8vTV1dXppz/9qQYOHKjU1FTl5OTI5XJd09oAAIC92TJg1dfX6/7771evXr305ptvaseOHTp58qSWLl2q8vJyzZ49W5MnT1ZBQYEWLVqkJUuWqLCwUJK0d%2B9e5eXl6ec//7nefPNNZWRkaNasWTpz5owkac2aNXI6nXI4HNq9e7csy9LChQt9WS4AALAZWwasiooKVVRUaMyYMQoJCVFMTIyGDBmi4uJibd%2B%2BXQkJCRo/frxCQ0OVlpamzMxMbdmyRZLkcDg0btw49ezZU2FhYZoxY4Ykad%2B%2Bfaqvr9fWrVs1e/Zs3XDDDYqOjtbcuXO1f/9%2BHT9%2B3JclAwAAGwn29QIuR/v27dW9e3c5HA796Ec/Um1trfbs2aNBgwbJ6XQqMTHR6/jExETt3LlTkuR0OjVixAhPX2BgoLp3767CwkJ1795dp0%2BfVlJSkqe/U6dOCgsLk9PpVPv27Zu1vvLyclVUVHi1BQe3Ulxc3OWW3ERQkP2ycXBw89Z8vjY71gjAvzX3fexq8ff3R3%2Bqy5YBKzAwUHl5eZo2bZp%2B97vfSZL69%2B%2Bv%2BfPna/bs2U2CUHR0tOc6KrfbraioKK/%2BqKgouVwuud1uSVJkZKRXf2Rk5CVdh%2BVwOLR27VqvtuzsbOXk5DR7DH8UExN%2BScdHRl5/lVYCAJfnUt/HrhZ/fX/0p7psGbDOnj2rWbNmafjw4Z7rpx599FHl5uY26/GWZV1R/8VMmjRJmZmZXm3Bwa3kclVf0bhfFBQUaLsXYnPrP19bZWWNGhoar/KqAKD5TL6PXw5/f3%2B8GnX5KhTbMmAVFBTo6NGjevDBBxUUFKTWrVsrJydHY8aM0e233%2B7ZiTrP5XIpNjZWkhQTE9Ok3%2B12q0uXLp5j3G63wsP/84ScOnVKbdq0afb64uLimpwOrKg4rfp6//tmuBSXWn9DQ%2BPX/msGoGVpKe9J/vr%2B6E912TJgNTQ0qLGx0Wun6ezZs5KktLQ0/elPf/I6vqioSD179pQkJScny%2Bl0auzYsZ6xDh06pPHjx6tjx46KioqS0%2BlUfHy8JOmDDz7Q2bNnlZycfC1KAwC0YHf%2B4g1fLwE2YcuryXr37q1WrVopLy9PNTU1crlcWrdunfr166cxY8aotLRUW7ZsUV1dnQ4cOKADBw5o4sSJkqSsrCy99NJLevvtt1VTU6N169YpJCREgwYNUlBQkCZOnKj169errKxMLpdLTz31lIYMGaK2bdv6uGoAAGAXttzBiomJ0W9%2B8xs9%2BeSTGjhwoEJCQtS/f38tXbpUbdq00YYNG/T444/r0UcfVXx8vFauXKmbb75ZkjRw4EA9%2BOCDmjt3rk6cOKGUlBTl5%2BcrLCxMkpSTk6Pq6mqNGTNG9fX1ysjI0NKlS31YLQAAsJsA60qv6EazVFScNjpecHCgYmLC1XfRLqPjXk075w5o1nHna3O5qn16Lp5TAQBw7Rx8YvhVed9v16610fGay5anCAEAAFoy4wErMzNTa9euVVlZmemhAQAAbMF4wLr77rv1yiuv6I477tCMGTO0Z88e1dfXm54GAACgxTIesLKzs/XKK6/oxRdfVJcuXbRs2TKlp6dr5cqVOnz4sOnpAAAAWpyrdg1WUlKSFixYoH379unhhx/Wiy%2B%2BqBEjRmj69Ol69913r9a0AAAAPnfVAta5c%2Bf0yiuv6L777tOCBQvUvn17LVy4UN27d9e0adO0ffv2qzU1AACATxm/D1ZJSYm2bt2ql156SdXV1Ro2bJh%2B97vf6ZZbbvEc069fPy1dulSjRo0yPT0AAIDPGQ9YI0eO1E033aSZM2fqrrvuUnR0dJNj0tPTdfLkSdNTAwAAtAjGA9amTZvUv3//ix73zjvvmJ4aAACgRTB%2BDVa3bt00a9Ysvfrqq5623/72t7rvvvvkdrtNTwcAANDiGA9Yy5cv1%2BnTp9W5c2dP26BBg9TY2KgVK1aYng4AAKDFMX6K8PXXX9f27dsVExPjaUtISNCqVav03e9%2B1/R0AAAALY7xHaza2lqFhoY2nSgwUDU1NaanAwAAaHGM72D169dPK1as0Pz58xUVFSVJOn78uJ588kmvWzXg6%2BfOX7zh6yUAAHBNGA9YDz/8sH7wgx/oO9/5jiIiItTY2Kjq6mp17NhRv//9701PBwAA0OIYD1gdO3bUn//8Z/31r3/VJ598osDAQN1000267bbbFBQUZHo6AACAFsd4wJKkkJAQ3XHHHVdjaAAAgBbPeMD69NNPtXr1an344Yeqra1t0v%2BXv/zF9JQAAAAtylW5Bqu8vFy33XabWrVqZXp4AACAFs94wCoqKtJf/vIXxcbGmh4aAADAFozfB6tNmzbsXAEAgK814wFr5syZWrt2rSzLMj00AACALRg/RfjXv/5V//73v/XHP/5R3/zmNxUY6J3hXnjhBdNTAgAAtCjGA1ZERIQGDhxoelgAAADbMB6wli9fbnpIAAAAWzF%2BDZYkffzxx8rLy9PChQs9bW%2B99dbVmAoAAKDFMR6wCgoKNHr0aO3Zs0c7duyQ9PnNR6dOncpNRgEAwNeC8YC1Zs0a/fjHP9b27dsVEBAg6fO/T7hixQo988wzpqcDAABocYwHrA8%2B%2BEBZWVmS5AlYkjR8%2BHCVlJSYng4AAKDFMR6wWrdufcG/QVheXq6QkBDT0wEAALQ4xgNWnz59tGzZMlVVVXnaDh8%2BrAULFug73/mO6ekAAABaHOO3aVi4cKG%2B//3vKzU1VQ0NDerTp49qamrUpUsXrVixwvR0AAAALY7xgNWhQwft2LFDBw4c0OHDhxUWFqabbrpJAwYM8LomCwAAwF8ZD1iSdN111%2BmOO%2B64GkMDAAC0eMYDVmZm5n/dqeJeWAAAwN8ZD1gjRozwClgNDQ06fPiwCgsL9f3vf9/0dAAAAC2O8YCVm5t7wfbdu3fr73//u%2BnpAAAAWpyr8rcIL%2BSOO%2B7Qn//852s1HQAAgM9cs4B16NAhWZZ1raYDAADwGeOnCCdPntykraamRiUlJRo6dKjRudatW6fNmzerqqpKvXr10uOPP65vfvObKigo0OrVq/Xxxx/rhhtu0MyZMzV69GjP4zZt2qTNmzeroqJC3bp106JFi5ScnCxJqqur0xNPPKH9%2B/errq5OqampevTRRxUTE2N07QAAwH8Z38FKSEjQTTfd5PXRu3dvLViwQMuWLTM2z%2BbNm7Vt2zZt2rRJr7/%2Bujp37qzf/va3Ki8v1%2BzZszV58mQVFBRo0aJFWrJkiQoLCyVJe/fuVV5enn7%2B85/rzTffVEZGhmbNmqUzZ85I%2BvyPVTudTjkcDu3evVuWZWnhwoXG1g0AAPxfgGXT83aDBw/WggULmuyK/eY3v9GOHTv0pz/9ydM2b948tW7dWj/72c80c%2BZMJSQkeEJTY2OjBg4cqIULF2rYsGG69dZb9eSTT2rw4MGSpJKSEo0cOVIHDhxQ%2B/btL3u9FRWnL/uxFxIcHKiYmHD1XbTL6LgAAPjCwSeGy%2BWqVn19o9Fx27VrbXS85jJ%2BivCll15q9rF33XXXZc1x/PhxHT16VKdOndKIESN04sQJpaamaunSpXI6nUpMTPQ6PjExUTt37pQkOZ1OjRgxwtMXGBio7t27q7CwUN27d9fp06eVlJTk6e/UqZPCwsLkdDqbHbDKy8tVUVHh1RYc3EpxcXGXVe%2BFBAVds8vnAAC4JvzpZ5vxgLVo0SI1NjY2uaA9ICDAqy0gIOCyA9axY8ckSbt27dKzzz4ry7KUk5OjxYsXq7a2tkkQio6OlsvlkiS53W5FRUV59UdFRcnlcsntdkuSIiMjvfojIyM9j28Oh8OhtWvXerVlZ2crJyen2WMAAPB1Exl5va%2BXYIzxgPXrX/9aGzdu1KxZs9StWzdZlqX3339fv/rVrzRlyhSlpqZe8Rzng9qMGTM8YWrOnDm67777lJaW1uzHX27/xUyaNEmZmZlebcHBreRyVV/RuF8UFBToVy9EAAAqK2vU0GD2FGFMTLjR8ZrLeMBasWKF8vPzvXaR%2Bvbtq44dO2r69OnasWPHFc/Rtm1bSd47TfHx8bIsS%2BfOnfPsRJ3ncrkUGxsrSYqJiWnS73a71aVLF88xbrdb4eH/eUJOnTqlNm3aNHt9cXFxTU4HVlScNn5eGQAAf9LQ0Og3PyuNn%2Bw8cuRIk1Nw0udhqLS01MgcHTp0UEREhIqLiz1tpaWluu6665Senq6ioiKv44uKitSzZ09JUnJyspxOp6evoaFBhw4dUs%2BePdWxY0dFRUV59X/wwQc6e/as5zYOAAAAF2M8YMXHx2vFihVe1yxVVlZq9erV%2Bta3vmVkjuDgYI0fP17r16/X//3f/%2BnEiRN65plnNGrUKI0dO1alpaXasmWL6urqdODAAR04cEATJ06UJGVlZemll17S22%2B/rZqaGq1bt04hISEaNGiQgoKCNHHiRK1fv15lZWVyuVx66qmnNGTIEM%2BuGQAAwMUYP0X48MMPa/78%2BXI4HAoPD1dgYKCqqqoUFhamZ555xtg88%2BfP19mzZzVhwgSdO3dOw4YN0%2BLFixUeHq4NGzbo8ccf16OPPqr4%2BHitXLlSN998syRp4MCBevDBBzV37lydOHFCKSkpys/PV1hYmCQpJydH1dXVGjNmjOrr65WRkaGlS5caWzcAAPB/V%2BU%2BWDU1NTpw4ICOHTsmy7LUvn173X777Wrd2jf3omgJuA8WAABfjftgNcP111%2BvwYMH69ixY%2BrYsePVmAIAAKDFMn4NVm1trRYsWKDevXvrzjvvlPT5NVgzZsxQZWWl6ekAAABaHOMBa%2BXKlSouLtaqVasUGPif4RsaGrRq1SrT0wEAALQ4xgPW7t279fTTT2v48OEKCAiQ9PktGpYvX649e/aYng4AAKDFMR6wqqurlZCQ0KQ9NjZWZ86cMT0dAABAi2M8YH3rW9/S3//%2Bd0nef3Jm165d%2BsY3vmF6OgAAgBbH%2BG8R3nPPPZozZ47uvvtuNTY26tlnn1VRUZF2796tRYsWmZ4OAACgxTEesCZNmqTg4GA999xzCgoK0vr163XTTTdp1apVGj58uOnpAAAAWhzjAevkyZO6%2B%2B67dffdd5seGgAAwBaMX4M1ePBgXYWbwwMAANiG8YCVmpqqnTt3mh4WAADANoyfIrzhhhv0xBNPKD8/X9/61rd03XXXefWvXr3a9JQAAAAtivGA9dFHH%2Bnb3/62JMnlcpkeHgAAoMUzFrDmzZunNWvW6Pe//72n7ZlnnlF2drapKQAAAGzB2DVYe/fubdKWn59vangAAADbMBawLvSbg/w2IQAA%2BDoyFrDO/2Hni7UBAAD4O%2BO3aQAAAPi6I2ABAAAYZuy3CM%2BdO6f58%2BdftI37YAEAAH9nLGDdcsstKi8vv2gbAACAvzMWsL54/ysAAICvM67BAgAAMIyABQAAYBgBCwAAwDACFgAAgGEELAAAAMMIWAAAAIYRsAAAAAwjYAEAABhGwAIAADCMgAUAAGAYAQsAAMAwAhYAAIBhBCwAAADDCFgAAACGEbAAAAAMI2ABAAAYRsACAAAwzC8C1rJly9StWzfP5wUFBRo/frz69OmjkSNHatu2bV7Hb9q0ScOGDVOfPn2UlZWloqIiT19dXZ1%2B%2BtOfauDAgUpNTVVOTo5cLtc1qwUAANif7QNWcXGxXn75Zc/n5eXlmj17tiZPnqyCggItWrRIS5YsUWFhoSRp7969ysvL089//nO9%2BeabysjI0KxZs3TmzBlJ0po1a%2BR0OuVwOLR7925ZlqWFCxf6pDYAAGBPtg5YjY2NeuSRRzRt2jRP2/bt25WQkKDx48crNDRUaWlpyszM1JYtWyRJDodD48aNU8%2BePRUWFqYZM2ZIkvbt26f6%2Bnpt3bpVs2fP1g033KDo6GjNnTtX%2B/fv1/Hjx31RIgAAsCFbB6wXXnhBoaGhGjVqlKfN6XQqMTHR67jExETPacAv9wcGBqp79%2B4qLCzUJ598otOnTyspKcnT36lTJ4WFhcnpdF7lagAAgL8I9vUCLtdnn32mvLw8/f73v/dqd7vdat%2B%2BvVdbdHS05zoqt9utqKgor/6oqCi5XC653W5JUmRkpFd/ZGTkJV2HVV5eroqKCq%2B24OBWiouLa/YYFxMUZOtsDABAE/70s822AWv58uUaN26cOnfurKNHj17SYy3LuqL%2Bi3E4HFq7dq2G06IRAAAT80lEQVRXW3Z2tnJycq5oXAAA/Flk5PW%2BXoIxtgxYBQUFeuutt7Rjx44mfTExMZ6dqPNcLpdiY2O/st/tdqtLly6eY9xut8LDwz39p06dUps2bZq9vkmTJikzM9OrLTi4lVyu6maPcTFBQYF%2B9UIEAKCyskYNDY1Gx4yJCb/4QVeBLQPWtm3bdOLECWVkZEj6z45TamqqfvCDHzQJXkVFRerZs6ckKTk5WU6nU2PHjpUkNTQ06NChQxo/frw6duyoqKgoOZ1OxcfHS5I%2B%2BOADnT17VsnJyc1eX1xcXJPTgRUVp1Vfb/ZFAwCAP2loaPSbn5W2PNn50EMPaffu3Xr55Zf18ssvKz8/X5L08ssva9SoUSotLdWWLVtUV1enAwcO6MCBA5o4caIkKSsrSy%2B99JLefvtt1dTUaN26dQoJCdGgQYMUFBSkiRMnav369SorK5PL5dJTTz2lIUOGqG3btr4sGQAA2Igtd7CioqK8LlSvr6%2BXJHXo0EGStGHDBj3%2B%2BON69NFHFR8fr5UrV%2Brmm2%2BWJA0cOFAPPvig5s6dqxMnTiglJUX5%2BfkKCwuTJOXk5Ki6ulpjxoxRfX29MjIytHTp0mtbIAAAsLUA60qv6EazVFScNjpecHCgYmLC1XfRLqPjAgDgCwefGC6Xq9r4KcJ27VobHa%2B5bHmKEAAAoCUjYAEAABhGwAIAADCMgAUAAGAYAQsAAMAwAhYAAIBhBCwAAADDCFgAAACGEbAAAAAMI2ABAAAYRsACAAAwjIAFAABgGAELAADAMAIWAACAYQQsAAAAwwhYAAAAhhGwAAAADCNgAQAAGEbAAgAAMIyABQAAYBgBCwAAwDACFgAAgGEELAAAAMMIWAAAAIYRsAAAAAwjYAEAABhGwAIAADCMgAUAAGAYAQsAAMAwAhYAAIBhBCwAAADDCFgAAACGEbAAAAAMI2ABAAAYRsACAAAwjIAFAABgGAELAADAMAIWAACAYQQsAAAAw2wbsEpLS5Wdna3U1FSlpaXpoYceUmVlpSSpuLhYU6ZM0S233KKhQ4dq48aNXo995ZVXNGrUKPXu3Vvjxo3T66%2B/7ulrbGzUmjVrNHjwYPXr10/Tp0/Xp59%2Bek1rAwAA9mbbgDVr1ixFRkZq7969%2BuMf/6gPP/xQTz75pGprazVz5kzdeuuteu2117RmzRpt2LBBe/bskfR5%2BFqwYIFyc3P1t7/9TdOmTdMPf/hDHTt2TJK0efNmbd%2B%2BXfn5%2Bdq3b58SEhKUnZ0ty7J8WS4AALARWwasyspKJScna/78%2BQoPD1eHDh00duxYHTx4UPv379e5c%2Bf0wAMPqFWrVkpKStKECRPkcDgkSVu2bFF6errS09MVGhqq0aNHq2vXrtq2bZskyeFwaNq0aerUqZMiIiI0b948lZSU6J133vFlyQAAwEZsGbAiIyO1fPlytW3b1tNWVlamuLg4OZ1OdevWTUFBQZ6%2BxMREFRUVSZKcTqcSExO9xktMTFRhYaFqa2v10UcfefVHREToxhtvVGFh4VWuCgAA%2BItgXy/AhMLCQj333HNat26ddu7cqcjISK/%2B6Ohoud1uNTY2yu12Kyoqyqs/KipKH330kU6dOiXLsi7Y73K5mr2e8vJyVVRUeLUFB7dSXFzcJVb21YKCbJmNAQD4Sv70s832Aetf//qXHnjgAc2fP19paWnauXPnBY8LCAjw/P/Frqe60uutHA6H1q5d69WWnZ2tnJycKxoXAAB/Fhl5va%2BXYIytA9bevXv14x//WEuWLNFdd90lSYqNjdWRI0e8jnO73YqOjlZgYKBiYmLkdrub9MfGxnqOuVB/mzZtmr2uSZMmKTMz06stOLiVXK7qS6juvwsKCvSrFyIAAJWVNWpoaDQ6ZkxMuNHxmsu2Aevf//63FixYoF/%2B8pe67bbbPO3Jycl6/vnnVV9fr%2BDgz8srLCxUz549Pf3nr8c6r7CwUCNHjlRoaKi6dOkip9Op/v37S/r8gvpPPvlEPXr0aPba4uLimpwOrKg4rfp6sy8aAAD8SUNDo9/8rLTlyc76%2BnotXrxYubm5XuFKktLT0xUREaF169appqZG77zzjrZu3aqsrCxJ0sSJE/Xmm29q//79qqur09atW3XkyBGNHj1akpSVlaVNmzappKREVVVVWrVqlbp3766UlJRrXicAALCnAMuGN3g6ePCgvve97ykkJKRJ365du1RdXa1HHnlERUVFatu2re677z7dc889nmP27Nmj1atXq7S0VJ07d9aiRYvUr18/SZ9ff5WXl6cXXnhB1dXVSk1N1c9%2B9jN16NDhitZcUXH6ih7/ZcHBgYqJCVffRbuMjgsAgC8cfGK4XK5q4ztY7dq1Njpec9kyYNkRAQsAgK/mbwHLlqcIAQAAWjICFgAAgGEELAAAAMMIWAAAAIYRsAAAAAwjYAEAABhGwAIAADCMgAUAAGAYAQsAAMAwAhYAAIBhBCwAAADDCFgAAACGEbAAAAAMI2ABAAAYRsACAAAwjIAFAABgGAELAADAMAIWAACAYQQsAAAAwwhYAAAAhhGwAAAADCNgAQAAGEbAAgAAMIyABQAAYBgBCwAAwDACFgAAgGEELAAAAMMIWAAAAIYRsAAAAAwjYAEAABhGwAIAADCMgAUAAGAYAQsAAMAwAhYAAIBhBCwAAADDCFgAAACGEbAAAAAMI2ABAAAYRsACAAAwjIAFAABgGAHrAkpLS3X//fcrNTVVGRkZWrlypRobG329LAAAYBPBvl5ASzRnzhwlJSXp1Vdf1YkTJzRz5ky1bdtW9957r6%2BXBgAAbIAdrC8pLCzUe%2B%2B9p9zcXLVu3VoJCQmaNm2aHA6Hr5cGAABsgh2sL3E6nYqPj1dUVJSnLSkpSYcPH1ZVVZUiIiIuOkZ5ebkqKiq82oKDWykuLs7YOoOCyMYAAP/iTz/bCFhf4na7FRkZ6dV2Pmy5XK5mBSyHw6G1a9d6tf3whz/UnDlzjK2zvLxcv/vdr/XKjyYZDW4tQXl5uRwOhyZNoja78Ne6JP%2BtzV/rkqjNjsrLy5WXl%2BdXdflPVDTIsqwrevykSZP0xz/%2B0etj0qRJhlb3uYqKCq1du7bJTpk/oDb78de6JP%2BtzV/rkqjNjvyxLnawviQ2NlZut9urze12KyAgQLGxsc0aIy4uzm8SOAAAuHTsYH1JcnKyysrKdPLkSU9bYWGhOnfurPDwcB%2BuDAAA2AUB60sSExOVkpKi1atXq6qqSiUlJXr22WeVlZXl66UBAACbCFq6dOlSXy%2Bipbn99tu1Y8cOPfbYY/rzn/%2Bs8ePHa/r06QoICPD10ryEh4erf//%2BfrmzRm324691Sf5bm7/WJVGbHflbXQHWlV7RDQAAAC%2BcIgQAADCMgAUAAGAYAQsAAMAwAhYAAIBhBCwAAADDCFgAAACGEbAAAAAMI2ABAAAYRsACAAAwjIBlQ6Wlpbr//vuVmpqqjIwMrVy5Uo2Njb5e1mV57bXXlJaWpnnz5jXpe%2BWVVzRq1Cj17t1b48aN0%2Buvv%2B6DFV6%2B0tJSZWdnKzU1VWlpaXrooYdUWVkpSSouLtaUKVN0yy23aOjQodq4caOPV9t87733nr7//e/rlltuUVpamubOnauKigpJUkFBgcaPH68%2Bffpo5MiR2rZtm49Xe3mWLVumbt26eT63e13dunVTcnKyUlJSPB%2BPPfaYJPvXJknr1q3Tbbfdpl69emnatGk6evSoJHvX9s9//tPr%2BUpJSVFycrLndWnn2g4dOqSpU6eqb9%2B%2BGjBggHJzc3Xy5ElJ9q6rCQu2M3bsWGvx4sVWZWWldfjwYWvo0KHWxo0bfb2sS5afn28NHTrUmjx5sjV37lyvvkOHDlnJycnW/v37rdraWuvll1%2B2evbsaZWVlflotZfuu9/9rvXQQw9ZVVVVVllZmTVu3Djr4Ycftmpqaqzbb7/dysvLs6qrq62ioiKrf//%2B1u7du3295Iuqq6uzvvOd71hr16616urqrBMnTlhTpkyxZs%2BebR0/ftzq1auXtWXLFqu2ttZ64403rB49eljvvvuur5d9SQ4dOmT179/f6tq1q2VZll/U1bVrV%2BvTTz9t0u4PtT333HPW8OHDrZKSEuv06dPWY489Zj322GN%2BUduXrVu3zvrRj35k69rOnTtnDRgwwFq9erVVV1dnnTx50rr33nutOXPm2LquC2EHy2YKCwv13nvvKTc3V61bt1ZCQoKmTZsmh8Ph66VdstDQUG3dulU33nhjk74tW7YoPT1d6enpCg0N1ejRo9W1a1fb/GumsrJSycnJmj9/vsLDw9WhQweNHTtWBw8e1P79%2B3Xu3Dk98MADatWqlZKSkjRhwgRbPIc1NTWaN2%2BeZs6cqZCQEMXGxmrIkCH68MMPtX37diUkJGj8%2BPEKDQ1VWlqaMjMztWXLFl8vu9kaGxv1yCOPaNq0aZ42f6jrq/hDbRs3btS8efP07W9/WxEREVq8eLEWL17sF7V90f/7f/9Pzz77rH7yk5/YuraKigpVVFRozJgxCgkJUUxMjIYMGaLi4mJb13UhBCybcTqdio%2BPV1RUlKctKSlJhw8fVlVVlQ9XdummTp2q1q1bX7DP6XQqMTHRqy0xMVGFhYXXYmlXLDIyUsuXL1fbtm09bWVlZYqLi5PT6VS3bt0UFBTk6UtMTFRRUZEvlnpJoqKiNGHCBAUHB0uSPv74Y/3pT3/SnXfe%2BZXPmR3qOu%2BFF15QaGioRo0a5Wnzh7okafXq1Ro0aJD69u2rJUuWqLq62va1HT9%2BXEePHtWpU6c0YsQIpaamKicnRydPnrR9bV/2y1/%2BUnfffbe%2B8Y1v2Lq29u3bq3v37nI4HKqurtaJEye0Z88eDRo0yNZ1XQgBy2bcbrciIyO92s6HLZfL5YslXRVut9srREqf12nXGgsLC/Xcc8/pgQceuOBzGB0dLbfbbZtr6UpLS5WcnKwRI0YoJSVFOTk5X1mXXZ6zzz77THl5eXrkkUe82u1elyT16tVLaWlp2rNnjxwOh95%2B%2B209%2Buijtq/t2LFjkqRdu3bp2Wef1csvv6xjx45p8eLFtq/ti44ePao9e/bo3nvvlWTv12RgYKDy8vL0l7/8RX369FFaWprq6%2Bs1f/58W9d1IQQsG7Isy9dLuCb8pc5//etfmj59uubPn6%2B0tLSvPC4gIOAarurKxMfHq7CwULt27dKRI0f0k5/8xNdLumLLly/XuHHj1LlzZ18vxTiHw6EJEyYoJCREnTp1Um5urnbs2KFz5875emlX5Px7xIwZM9S%2BfXt16NBBc%2BbM0d69e328MrM2b96soUOHql27dr5eyhU7e/asZs2apeHDh%2BvgwYP661//qtatWys3N9fXSzOOgGUzsbGxcrvdXm1ut1sBAQGKjY310arMi4mJuWCddqtx7969uv/%2B%2B/Xwww9r6tSpkj5/Dr/8LzK3263o6GgFBtrnWzIgIEAJCQmaN2%2BeduzYoeDg4CbPmcvlssVzVlBQoLfeekvZ2dlN%2Bi70WrRLXV/lm9/8phoaGhQYGGjr2s6fgv/irkd8fLwsy9K5c%2BdsXdsX7d69W5mZmZ7P7fyaLCgo0NGjR/Xggw%2BqdevWat%2B%2BvXJycvS///u/tn89fpl93s0hSUpOTlZZWZnnV1qlz08/de7cWeHh4T5cmVnJyclNzrsXFhaqZ8%2BePlrRpfv3v/%2BtBQsW6Je//KXuuusuT3tycrLef/991dfXe9rsUltBQYGGDRvmdSrzfCjs0aNHk%2BesqKjIFnVt27ZNJ06cUEZGhlJTUzVu3DhJUmpqqrp27WrbuqTPfyV%2BxYoVXm0lJSUKCQlRenq6rWvr0KGDIiIiVFxc7GkrLS3VddddZ/vazisuLlZpaakGDBjgaUtJSbFtbQ0NDWpsbPQ6Q3H27FlJUlpamm3ruiCf/g4jLsuECROshx9%2B2Dp9%2BrT10UcfWZmZmdZzzz3n62VdtgULFjS5TcP7779vpaSkWPv27bNqa2utLVu2WL1797bKy8t9tMpLc%2B7cOevOO%2B%2B0XnjhhSZ9dXV1VkZGhvX0009bZ86csd5%2B%2B22rb9%2B%2B1r59%2B679Qi9RZWWllZaWZq1YscI6c%2BaMdeLECWv69OnWPffcY3322WdW7969rRdffNGqra219u/fb/Xo0cMqLi729bIvyu12W2VlZZ6Pt956y%2BratatVVlZmlZaW2rYuy7KsY8eOWb169bI2bNhg1dXVWR9//LE1YsQI67HHHrP1c3besmXLrMGDB1tHjhyxPvvsM2vSpEnWQw895Be1WZZlbd261erfv79Xm51rO3nypNW/f3/rqaeess6cOWOdPHnSmjVrlvW9733P1nVdCAHLhsrKyqwZM2ZYPXr0sNLS0qynn37aamxs9PWyLllycrKVnJxs3XzzzdbNN9/s%2Bfy83bt3W0OHDrWSkpKsMWPGWP/4xz98uNpL889//tPq2rWrp6Yvfhw9etR6//33rcmTJ1vJycnWoEGDrM2bN/t6yc323nvvWVOmTLF69Ohh3XrrrdbcuXOtY8eOWZZlWf/4xz%2Bs0aNHW0lJSdbQoUNtcW%2BvC/n0008998GyLPvX9Y9//MOaNGmS1atXL6t///7W8uXLrdraWk%2BfnWurq6uzli5davXr18/q1auXtWDBAquqqsqyLPvXZlmWtX79emvkyJFN2u1cW2FhoTVlyhSrb9%2B%2BVlpaml%2B%2Bh1iWZQVYlp9cSQwAANBCcA0WAACAYQQsAAAAwwhYAAAAhhGwAAAADCNgAQAAGEbAAgAAMIyABQAAYBgBCwAAwDACFgAAgGEELAAAAMMIWAAAAIYRsAAAAAwjYAEAABj2/wGz/a6sgwg5twAAAABJRU5ErkJggg%3D%3D\"/>\n",
              "        </div>\n",
              "        <div role=\"tabpanel\" class=\"tab-pane col-md-12\" id=\"common-3659253720150359030\">\n",
              "            \n",
              "<table class=\"freq table table-hover\">\n",
              "    <thead>\n",
              "    <tr>\n",
              "        <td class=\"fillremaining\">Value</td>\n",
              "        <td class=\"number\">Count</td>\n",
              "        <td class=\"number\">Frequency (%)</td>\n",
              "        <td style=\"min-width:200px\">&nbsp;</td>\n",
              "    </tr>\n",
              "    </thead>\n",
              "    <tr class=\"\">\n",
              "        <td class=\"fillremaining\">80.0</td>\n",
              "        <td class=\"number\">5621</td>\n",
              "        <td class=\"number\">5.6%</td>\n",
              "        <td>\n",
              "            <div class=\"bar\" style=\"width:7%\">&nbsp;</div>\n",
              "        </td>\n",
              "</tr><tr class=\"\">\n",
              "        <td class=\"fillremaining\">51.0</td>\n",
              "        <td class=\"number\">1619</td>\n",
              "        <td class=\"number\">1.6%</td>\n",
              "        <td>\n",
              "            <div class=\"bar\" style=\"width:2%\">&nbsp;</div>\n",
              "        </td>\n",
              "</tr><tr class=\"\">\n",
              "        <td class=\"fillremaining\">47.0</td>\n",
              "        <td class=\"number\">1574</td>\n",
              "        <td class=\"number\">1.6%</td>\n",
              "        <td>\n",
              "            <div class=\"bar\" style=\"width:2%\">&nbsp;</div>\n",
              "        </td>\n",
              "</tr><tr class=\"\">\n",
              "        <td class=\"fillremaining\">48.0</td>\n",
              "        <td class=\"number\">1568</td>\n",
              "        <td class=\"number\">1.6%</td>\n",
              "        <td>\n",
              "            <div class=\"bar\" style=\"width:2%\">&nbsp;</div>\n",
              "        </td>\n",
              "</tr><tr class=\"\">\n",
              "        <td class=\"fillremaining\">53.0</td>\n",
              "        <td class=\"number\">1542</td>\n",
              "        <td class=\"number\">1.5%</td>\n",
              "        <td>\n",
              "            <div class=\"bar\" style=\"width:2%\">&nbsp;</div>\n",
              "        </td>\n",
              "</tr><tr class=\"\">\n",
              "        <td class=\"fillremaining\">49.0</td>\n",
              "        <td class=\"number\">1541</td>\n",
              "        <td class=\"number\">1.5%</td>\n",
              "        <td>\n",
              "            <div class=\"bar\" style=\"width:2%\">&nbsp;</div>\n",
              "        </td>\n",
              "</tr><tr class=\"\">\n",
              "        <td class=\"fillremaining\">52.0</td>\n",
              "        <td class=\"number\">1534</td>\n",
              "        <td class=\"number\">1.5%</td>\n",
              "        <td>\n",
              "            <div class=\"bar\" style=\"width:2%\">&nbsp;</div>\n",
              "        </td>\n",
              "</tr><tr class=\"\">\n",
              "        <td class=\"fillremaining\">46.0</td>\n",
              "        <td class=\"number\">1522</td>\n",
              "        <td class=\"number\">1.5%</td>\n",
              "        <td>\n",
              "            <div class=\"bar\" style=\"width:2%\">&nbsp;</div>\n",
              "        </td>\n",
              "</tr><tr class=\"\">\n",
              "        <td class=\"fillremaining\">57.0</td>\n",
              "        <td class=\"number\">1521</td>\n",
              "        <td class=\"number\">1.5%</td>\n",
              "        <td>\n",
              "            <div class=\"bar\" style=\"width:2%\">&nbsp;</div>\n",
              "        </td>\n",
              "</tr><tr class=\"\">\n",
              "        <td class=\"fillremaining\">54.0</td>\n",
              "        <td class=\"number\">1506</td>\n",
              "        <td class=\"number\">1.5%</td>\n",
              "        <td>\n",
              "            <div class=\"bar\" style=\"width:2%\">&nbsp;</div>\n",
              "        </td>\n",
              "</tr><tr class=\"other\">\n",
              "        <td class=\"fillremaining\">Other values (92)</td>\n",
              "        <td class=\"number\">80452</td>\n",
              "        <td class=\"number\">80.5%</td>\n",
              "        <td>\n",
              "            <div class=\"bar\" style=\"width:100%\">&nbsp;</div>\n",
              "        </td>\n",
              "</tr>\n",
              "</table>\n",
              "        </div>\n",
              "        <div role=\"tabpanel\" class=\"tab-pane col-md-12\"  id=\"extreme-3659253720150359030\">\n",
              "            <p class=\"h4\">Minimum 5 values</p>\n",
              "            \n",
              "<table class=\"freq table table-hover\">\n",
              "    <thead>\n",
              "    <tr>\n",
              "        <td class=\"fillremaining\">Value</td>\n",
              "        <td class=\"number\">Count</td>\n",
              "        <td class=\"number\">Frequency (%)</td>\n",
              "        <td style=\"min-width:200px\">&nbsp;</td>\n",
              "    </tr>\n",
              "    </thead>\n",
              "    <tr class=\"\">\n",
              "        <td class=\"fillremaining\">0.08</td>\n",
              "        <td class=\"number\">36</td>\n",
              "        <td class=\"number\">0.0%</td>\n",
              "        <td>\n",
              "            <div class=\"bar\" style=\"width:41%\">&nbsp;</div>\n",
              "        </td>\n",
              "</tr><tr class=\"\">\n",
              "        <td class=\"fillremaining\">0.16</td>\n",
              "        <td class=\"number\">59</td>\n",
              "        <td class=\"number\">0.1%</td>\n",
              "        <td>\n",
              "            <div class=\"bar\" style=\"width:66%\">&nbsp;</div>\n",
              "        </td>\n",
              "</tr><tr class=\"\">\n",
              "        <td class=\"fillremaining\">0.24</td>\n",
              "        <td class=\"number\">87</td>\n",
              "        <td class=\"number\">0.1%</td>\n",
              "        <td>\n",
              "            <div class=\"bar\" style=\"width:97%\">&nbsp;</div>\n",
              "        </td>\n",
              "</tr><tr class=\"\">\n",
              "        <td class=\"fillremaining\">0.32</td>\n",
              "        <td class=\"number\">89</td>\n",
              "        <td class=\"number\">0.1%</td>\n",
              "        <td>\n",
              "            <div class=\"bar\" style=\"width:100%\">&nbsp;</div>\n",
              "        </td>\n",
              "</tr><tr class=\"\">\n",
              "        <td class=\"fillremaining\">0.4</td>\n",
              "        <td class=\"number\">66</td>\n",
              "        <td class=\"number\">0.1%</td>\n",
              "        <td>\n",
              "            <div class=\"bar\" style=\"width:74%\">&nbsp;</div>\n",
              "        </td>\n",
              "</tr>\n",
              "</table>\n",
              "            <p class=\"h4\">Maximum 5 values</p>\n",
              "            \n",
              "<table class=\"freq table table-hover\">\n",
              "    <thead>\n",
              "    <tr>\n",
              "        <td class=\"fillremaining\">Value</td>\n",
              "        <td class=\"number\">Count</td>\n",
              "        <td class=\"number\">Frequency (%)</td>\n",
              "        <td style=\"min-width:200px\">&nbsp;</td>\n",
              "    </tr>\n",
              "    </thead>\n",
              "    <tr class=\"\">\n",
              "        <td class=\"fillremaining\">76.0</td>\n",
              "        <td class=\"number\">733</td>\n",
              "        <td class=\"number\">0.7%</td>\n",
              "        <td>\n",
              "            <div class=\"bar\" style=\"width:13%\">&nbsp;</div>\n",
              "        </td>\n",
              "</tr><tr class=\"\">\n",
              "        <td class=\"fillremaining\">77.0</td>\n",
              "        <td class=\"number\">730</td>\n",
              "        <td class=\"number\">0.7%</td>\n",
              "        <td>\n",
              "            <div class=\"bar\" style=\"width:13%\">&nbsp;</div>\n",
              "        </td>\n",
              "</tr><tr class=\"\">\n",
              "        <td class=\"fillremaining\">78.0</td>\n",
              "        <td class=\"number\">682</td>\n",
              "        <td class=\"number\">0.7%</td>\n",
              "        <td>\n",
              "            <div class=\"bar\" style=\"width:13%\">&nbsp;</div>\n",
              "        </td>\n",
              "</tr><tr class=\"\">\n",
              "        <td class=\"fillremaining\">79.0</td>\n",
              "        <td class=\"number\">621</td>\n",
              "        <td class=\"number\">0.6%</td>\n",
              "        <td>\n",
              "            <div class=\"bar\" style=\"width:11%\">&nbsp;</div>\n",
              "        </td>\n",
              "</tr><tr class=\"\">\n",
              "        <td class=\"fillremaining\">80.0</td>\n",
              "        <td class=\"number\">5621</td>\n",
              "        <td class=\"number\">5.6%</td>\n",
              "        <td>\n",
              "            <div class=\"bar\" style=\"width:100%\">&nbsp;</div>\n",
              "        </td>\n",
              "</tr>\n",
              "</table>\n",
              "        </div>\n",
              "    </div>\n",
              "</div>\n",
              "</div><div class=\"row variablerow\">\n",
              "    <div class=\"col-md-3 namecol\">\n",
              "        <p class=\"h4 pp-anchor\" id=\"pp_var_diabetes\">diabetes<br/>\n",
              "            <small>Boolean</small>\n",
              "        </p>\n",
              "    </div><div class=\"col-md-6\">\n",
              "    <div class=\"row\">\n",
              "        <div class=\"col-sm-6\">\n",
              "            <table class=\"stats \">\n",
              "                <tr class=\"\">\n",
              "                    <th>Distinct count</th>\n",
              "                    <td>2</td>\n",
              "                </tr>\n",
              "                <tr>\n",
              "                    <th>Unique (%)</th>\n",
              "                    <td>0.0%</td>\n",
              "                </tr>\n",
              "                <tr class=\"ignore\">\n",
              "                    <th>Missing (%)</th>\n",
              "                    <td>0.0%</td>\n",
              "                </tr>\n",
              "                <tr class=\"ignore\">\n",
              "                    <th>Missing (n)</th>\n",
              "                    <td>0</td>\n",
              "                </tr>\n",
              "            </table>\n",
              "        </div>\n",
              "        <div class=\"col-sm-6\">\n",
              "            <table class=\"stats \">\n",
              "                <tr>\n",
              "                    <th>Mean</th>\n",
              "                    <td>0.085</td>\n",
              "                </tr>\n",
              "            </table>\n",
              "        </div>\n",
              "    </div>\n",
              "</div>\n",
              "<div class=\"col-md-3 collapse in\" id=\"minifreqtable-3202231446374719258\">\n",
              "    <table class=\"mini freq\">\n",
              "        <tr class=\"\">\n",
              "    <th>0</th>\n",
              "    <td>\n",
              "        <div class=\"bar\" style=\"width:100%\" data-toggle=\"tooltip\" data-placement=\"right\" data-html=\"true\"\n",
              "             data-delay=500 title=\"Percentage: 91.5%\">\n",
              "            91500\n",
              "        </div>\n",
              "        \n",
              "    </td>\n",
              "</tr><tr class=\"\">\n",
              "    <th>1</th>\n",
              "    <td>\n",
              "        <div class=\"bar\" style=\"width:10%\" data-toggle=\"tooltip\" data-placement=\"right\" data-html=\"true\"\n",
              "             data-delay=500 title=\"Percentage: 8.5%\">\n",
              "            &nbsp;\n",
              "        </div>\n",
              "        8500\n",
              "    </td>\n",
              "</tr>\n",
              "    </table>\n",
              "</div>\n",
              "<div class=\"col-md-12 text-right\">\n",
              "    <a role=\"button\" data-toggle=\"collapse\" data-target=\"#freqtable-3202231446374719258, #minifreqtable-3202231446374719258\"\n",
              "        aria-expanded=\"true\" aria-controls=\"collapseExample\">\n",
              "        Toggle details\n",
              "    </a>\n",
              "</div>\n",
              "<div class=\"col-md-12 extrapadding collapse\" id=\"freqtable-3202231446374719258\">\n",
              "    \n",
              "<table class=\"freq table table-hover\">\n",
              "    <thead>\n",
              "    <tr>\n",
              "        <td class=\"fillremaining\">Value</td>\n",
              "        <td class=\"number\">Count</td>\n",
              "        <td class=\"number\">Frequency (%)</td>\n",
              "        <td style=\"min-width:200px\">&nbsp;</td>\n",
              "    </tr>\n",
              "    </thead>\n",
              "    <tr class=\"\">\n",
              "        <td class=\"fillremaining\">0</td>\n",
              "        <td class=\"number\">91500</td>\n",
              "        <td class=\"number\">91.5%</td>\n",
              "        <td>\n",
              "            <div class=\"bar\" style=\"width:100%\">&nbsp;</div>\n",
              "        </td>\n",
              "</tr><tr class=\"\">\n",
              "        <td class=\"fillremaining\">1</td>\n",
              "        <td class=\"number\">8500</td>\n",
              "        <td class=\"number\">8.5%</td>\n",
              "        <td>\n",
              "            <div class=\"bar\" style=\"width:10%\">&nbsp;</div>\n",
              "        </td>\n",
              "</tr>\n",
              "</table>\n",
              "</div>\n",
              "</div><div class=\"row variablerow\">\n",
              "    <div class=\"col-md-3 namecol\">\n",
              "        <p class=\"h4 pp-anchor\" id=\"pp_var_gender\">gender<br/>\n",
              "            <small>Categorical</small>\n",
              "        </p>\n",
              "    </div><div class=\"col-md-3\">\n",
              "    <table class=\"stats \">\n",
              "        <tr class=\"\">\n",
              "            <th>Distinct count</th>\n",
              "            <td>3</td>\n",
              "        </tr>\n",
              "        <tr>\n",
              "            <th>Unique (%)</th>\n",
              "            <td>0.0%</td>\n",
              "        </tr>\n",
              "        <tr class=\"ignore\">\n",
              "            <th>Missing (%)</th>\n",
              "            <td>0.0%</td>\n",
              "        </tr>\n",
              "        <tr class=\"ignore\">\n",
              "            <th>Missing (n)</th>\n",
              "            <td>0</td>\n",
              "        </tr>\n",
              "    </table>\n",
              "</div>\n",
              "<div class=\"col-md-6 collapse in\" id=\"minifreqtable-509933657305187650\">\n",
              "    <table class=\"mini freq\">\n",
              "        <tr class=\"\">\n",
              "    <th>Female</th>\n",
              "    <td>\n",
              "        <div class=\"bar\" style=\"width:100%\" data-toggle=\"tooltip\" data-placement=\"right\" data-html=\"true\"\n",
              "             data-delay=500 title=\"Percentage: 58.6%\">\n",
              "            58552\n",
              "        </div>\n",
              "        \n",
              "    </td>\n",
              "</tr><tr class=\"\">\n",
              "    <th>Male</th>\n",
              "    <td>\n",
              "        <div class=\"bar\" style=\"width:71%\" data-toggle=\"tooltip\" data-placement=\"right\" data-html=\"true\"\n",
              "             data-delay=500 title=\"Percentage: 41.4%\">\n",
              "            41430\n",
              "        </div>\n",
              "        \n",
              "    </td>\n",
              "</tr><tr class=\"\">\n",
              "    <th>Other</th>\n",
              "    <td>\n",
              "        <div class=\"bar\" style=\"width:1%\" data-toggle=\"tooltip\" data-placement=\"right\" data-html=\"true\"\n",
              "             data-delay=500 title=\"Percentage: 0.0%\">\n",
              "            &nbsp;\n",
              "        </div>\n",
              "        18\n",
              "    </td>\n",
              "</tr>\n",
              "    </table>\n",
              "</div>\n",
              "<div class=\"col-md-12 text-right\">\n",
              "    <a role=\"button\" data-toggle=\"collapse\" data-target=\"#freqtable-509933657305187650, #minifreqtable-509933657305187650\"\n",
              "       aria-expanded=\"true\" aria-controls=\"collapseExample\">\n",
              "        Toggle details\n",
              "    </a>\n",
              "</div>\n",
              "<div class=\"col-md-12 extrapadding collapse\" id=\"freqtable-509933657305187650\">\n",
              "    \n",
              "<table class=\"freq table table-hover\">\n",
              "    <thead>\n",
              "    <tr>\n",
              "        <td class=\"fillremaining\">Value</td>\n",
              "        <td class=\"number\">Count</td>\n",
              "        <td class=\"number\">Frequency (%)</td>\n",
              "        <td style=\"min-width:200px\">&nbsp;</td>\n",
              "    </tr>\n",
              "    </thead>\n",
              "    <tr class=\"\">\n",
              "        <td class=\"fillremaining\">Female</td>\n",
              "        <td class=\"number\">58552</td>\n",
              "        <td class=\"number\">58.6%</td>\n",
              "        <td>\n",
              "            <div class=\"bar\" style=\"width:100%\">&nbsp;</div>\n",
              "        </td>\n",
              "</tr><tr class=\"\">\n",
              "        <td class=\"fillremaining\">Male</td>\n",
              "        <td class=\"number\">41430</td>\n",
              "        <td class=\"number\">41.4%</td>\n",
              "        <td>\n",
              "            <div class=\"bar\" style=\"width:71%\">&nbsp;</div>\n",
              "        </td>\n",
              "</tr><tr class=\"\">\n",
              "        <td class=\"fillremaining\">Other</td>\n",
              "        <td class=\"number\">18</td>\n",
              "        <td class=\"number\">0.0%</td>\n",
              "        <td>\n",
              "            <div class=\"bar\" style=\"width:1%\">&nbsp;</div>\n",
              "        </td>\n",
              "</tr>\n",
              "</table>\n",
              "</div>\n",
              "</div><div class=\"row variablerow\">\n",
              "    <div class=\"col-md-3 namecol\">\n",
              "        <p class=\"h4 pp-anchor\" id=\"pp_var_heart disease\">heart disease<br/>\n",
              "            <small>Boolean</small>\n",
              "        </p>\n",
              "    </div><div class=\"col-md-6\">\n",
              "    <div class=\"row\">\n",
              "        <div class=\"col-sm-6\">\n",
              "            <table class=\"stats \">\n",
              "                <tr class=\"\">\n",
              "                    <th>Distinct count</th>\n",
              "                    <td>2</td>\n",
              "                </tr>\n",
              "                <tr>\n",
              "                    <th>Unique (%)</th>\n",
              "                    <td>0.0%</td>\n",
              "                </tr>\n",
              "                <tr class=\"ignore\">\n",
              "                    <th>Missing (%)</th>\n",
              "                    <td>0.0%</td>\n",
              "                </tr>\n",
              "                <tr class=\"ignore\">\n",
              "                    <th>Missing (n)</th>\n",
              "                    <td>0</td>\n",
              "                </tr>\n",
              "            </table>\n",
              "        </div>\n",
              "        <div class=\"col-sm-6\">\n",
              "            <table class=\"stats \">\n",
              "                <tr>\n",
              "                    <th>Mean</th>\n",
              "                    <td>0.03942</td>\n",
              "                </tr>\n",
              "            </table>\n",
              "        </div>\n",
              "    </div>\n",
              "</div>\n",
              "<div class=\"col-md-3 collapse in\" id=\"minifreqtable-4097903756128877034\">\n",
              "    <table class=\"mini freq\">\n",
              "        <tr class=\"\">\n",
              "    <th>0</th>\n",
              "    <td>\n",
              "        <div class=\"bar\" style=\"width:100%\" data-toggle=\"tooltip\" data-placement=\"right\" data-html=\"true\"\n",
              "             data-delay=500 title=\"Percentage: 96.1%\">\n",
              "            96058\n",
              "        </div>\n",
              "        \n",
              "    </td>\n",
              "</tr><tr class=\"\">\n",
              "    <th>1</th>\n",
              "    <td>\n",
              "        <div class=\"bar\" style=\"width:5%\" data-toggle=\"tooltip\" data-placement=\"right\" data-html=\"true\"\n",
              "             data-delay=500 title=\"Percentage: 3.9%\">\n",
              "            &nbsp;\n",
              "        </div>\n",
              "        3942\n",
              "    </td>\n",
              "</tr>\n",
              "    </table>\n",
              "</div>\n",
              "<div class=\"col-md-12 text-right\">\n",
              "    <a role=\"button\" data-toggle=\"collapse\" data-target=\"#freqtable-4097903756128877034, #minifreqtable-4097903756128877034\"\n",
              "        aria-expanded=\"true\" aria-controls=\"collapseExample\">\n",
              "        Toggle details\n",
              "    </a>\n",
              "</div>\n",
              "<div class=\"col-md-12 extrapadding collapse\" id=\"freqtable-4097903756128877034\">\n",
              "    \n",
              "<table class=\"freq table table-hover\">\n",
              "    <thead>\n",
              "    <tr>\n",
              "        <td class=\"fillremaining\">Value</td>\n",
              "        <td class=\"number\">Count</td>\n",
              "        <td class=\"number\">Frequency (%)</td>\n",
              "        <td style=\"min-width:200px\">&nbsp;</td>\n",
              "    </tr>\n",
              "    </thead>\n",
              "    <tr class=\"\">\n",
              "        <td class=\"fillremaining\">0</td>\n",
              "        <td class=\"number\">96058</td>\n",
              "        <td class=\"number\">96.1%</td>\n",
              "        <td>\n",
              "            <div class=\"bar\" style=\"width:100%\">&nbsp;</div>\n",
              "        </td>\n",
              "</tr><tr class=\"\">\n",
              "        <td class=\"fillremaining\">1</td>\n",
              "        <td class=\"number\">3942</td>\n",
              "        <td class=\"number\">3.9%</td>\n",
              "        <td>\n",
              "            <div class=\"bar\" style=\"width:5%\">&nbsp;</div>\n",
              "        </td>\n",
              "</tr>\n",
              "</table>\n",
              "</div>\n",
              "</div><div class=\"row variablerow\">\n",
              "    <div class=\"col-md-3 namecol\">\n",
              "        <p class=\"h4 pp-anchor\" id=\"pp_var_hypertension\">hypertension<br/>\n",
              "            <small>Boolean</small>\n",
              "        </p>\n",
              "    </div><div class=\"col-md-6\">\n",
              "    <div class=\"row\">\n",
              "        <div class=\"col-sm-6\">\n",
              "            <table class=\"stats \">\n",
              "                <tr class=\"\">\n",
              "                    <th>Distinct count</th>\n",
              "                    <td>2</td>\n",
              "                </tr>\n",
              "                <tr>\n",
              "                    <th>Unique (%)</th>\n",
              "                    <td>0.0%</td>\n",
              "                </tr>\n",
              "                <tr class=\"ignore\">\n",
              "                    <th>Missing (%)</th>\n",
              "                    <td>0.0%</td>\n",
              "                </tr>\n",
              "                <tr class=\"ignore\">\n",
              "                    <th>Missing (n)</th>\n",
              "                    <td>0</td>\n",
              "                </tr>\n",
              "            </table>\n",
              "        </div>\n",
              "        <div class=\"col-sm-6\">\n",
              "            <table class=\"stats \">\n",
              "                <tr>\n",
              "                    <th>Mean</th>\n",
              "                    <td>0.07485</td>\n",
              "                </tr>\n",
              "            </table>\n",
              "        </div>\n",
              "    </div>\n",
              "</div>\n",
              "<div class=\"col-md-3 collapse in\" id=\"minifreqtable-2295408889668257164\">\n",
              "    <table class=\"mini freq\">\n",
              "        <tr class=\"\">\n",
              "    <th>0</th>\n",
              "    <td>\n",
              "        <div class=\"bar\" style=\"width:100%\" data-toggle=\"tooltip\" data-placement=\"right\" data-html=\"true\"\n",
              "             data-delay=500 title=\"Percentage: 92.5%\">\n",
              "            92515\n",
              "        </div>\n",
              "        \n",
              "    </td>\n",
              "</tr><tr class=\"\">\n",
              "    <th>1</th>\n",
              "    <td>\n",
              "        <div class=\"bar\" style=\"width:9%\" data-toggle=\"tooltip\" data-placement=\"right\" data-html=\"true\"\n",
              "             data-delay=500 title=\"Percentage: 7.5%\">\n",
              "            &nbsp;\n",
              "        </div>\n",
              "        7485\n",
              "    </td>\n",
              "</tr>\n",
              "    </table>\n",
              "</div>\n",
              "<div class=\"col-md-12 text-right\">\n",
              "    <a role=\"button\" data-toggle=\"collapse\" data-target=\"#freqtable-2295408889668257164, #minifreqtable-2295408889668257164\"\n",
              "        aria-expanded=\"true\" aria-controls=\"collapseExample\">\n",
              "        Toggle details\n",
              "    </a>\n",
              "</div>\n",
              "<div class=\"col-md-12 extrapadding collapse\" id=\"freqtable-2295408889668257164\">\n",
              "    \n",
              "<table class=\"freq table table-hover\">\n",
              "    <thead>\n",
              "    <tr>\n",
              "        <td class=\"fillremaining\">Value</td>\n",
              "        <td class=\"number\">Count</td>\n",
              "        <td class=\"number\">Frequency (%)</td>\n",
              "        <td style=\"min-width:200px\">&nbsp;</td>\n",
              "    </tr>\n",
              "    </thead>\n",
              "    <tr class=\"\">\n",
              "        <td class=\"fillremaining\">0</td>\n",
              "        <td class=\"number\">92515</td>\n",
              "        <td class=\"number\">92.5%</td>\n",
              "        <td>\n",
              "            <div class=\"bar\" style=\"width:100%\">&nbsp;</div>\n",
              "        </td>\n",
              "</tr><tr class=\"\">\n",
              "        <td class=\"fillremaining\">1</td>\n",
              "        <td class=\"number\">7485</td>\n",
              "        <td class=\"number\">7.5%</td>\n",
              "        <td>\n",
              "            <div class=\"bar\" style=\"width:9%\">&nbsp;</div>\n",
              "        </td>\n",
              "</tr>\n",
              "</table>\n",
              "</div>\n",
              "</div><div class=\"row variablerow\">\n",
              "    <div class=\"col-md-3 namecol\">\n",
              "        <p class=\"h4 pp-anchor\" id=\"pp_var_smoking history\">smoking history<br/>\n",
              "            <small>Categorical</small>\n",
              "        </p>\n",
              "    </div><div class=\"col-md-3\">\n",
              "    <table class=\"stats \">\n",
              "        <tr class=\"\">\n",
              "            <th>Distinct count</th>\n",
              "            <td>6</td>\n",
              "        </tr>\n",
              "        <tr>\n",
              "            <th>Unique (%)</th>\n",
              "            <td>0.0%</td>\n",
              "        </tr>\n",
              "        <tr class=\"alert\">\n",
              "            <th>Missing (%)</th>\n",
              "            <td>35.8%</td>\n",
              "        </tr>\n",
              "        <tr class=\"alert\">\n",
              "            <th>Missing (n)</th>\n",
              "            <td>35816</td>\n",
              "        </tr>\n",
              "    </table>\n",
              "</div>\n",
              "<div class=\"col-md-6 collapse in\" id=\"minifreqtable-6742939569866260855\">\n",
              "    <table class=\"mini freq\">\n",
              "        <tr class=\"\">\n",
              "    <th>never</th>\n",
              "    <td>\n",
              "        <div class=\"bar\" style=\"width:98%\" data-toggle=\"tooltip\" data-placement=\"right\" data-html=\"true\"\n",
              "             data-delay=500 title=\"Percentage: 35.1%\">\n",
              "            35095\n",
              "        </div>\n",
              "        \n",
              "    </td>\n",
              "</tr><tr class=\"\">\n",
              "    <th>former</th>\n",
              "    <td>\n",
              "        <div class=\"bar\" style=\"width:26%\" data-toggle=\"tooltip\" data-placement=\"right\" data-html=\"true\"\n",
              "             data-delay=500 title=\"Percentage: 9.4%\">\n",
              "            9352\n",
              "        </div>\n",
              "        \n",
              "    </td>\n",
              "</tr><tr class=\"\">\n",
              "    <th>current</th>\n",
              "    <td>\n",
              "        <div class=\"bar\" style=\"width:26%\" data-toggle=\"tooltip\" data-placement=\"right\" data-html=\"true\"\n",
              "             data-delay=500 title=\"Percentage: 9.3%\">\n",
              "            9286\n",
              "        </div>\n",
              "        \n",
              "    </td>\n",
              "</tr><tr class=\"other\">\n",
              "    <th>Other values (2)</th>\n",
              "    <td>\n",
              "        <div class=\"bar\" style=\"width:29%\" data-toggle=\"tooltip\" data-placement=\"right\" data-html=\"true\"\n",
              "             data-delay=500 title=\"Percentage: 10.5%\">\n",
              "            10451\n",
              "        </div>\n",
              "        \n",
              "    </td>\n",
              "</tr><tr class=\"missing\">\n",
              "    <th>(Missing)</th>\n",
              "    <td>\n",
              "        <div class=\"bar\" style=\"width:100%\" data-toggle=\"tooltip\" data-placement=\"right\" data-html=\"true\"\n",
              "             data-delay=500 title=\"Percentage: 35.8%\">\n",
              "            35816\n",
              "        </div>\n",
              "        \n",
              "    </td>\n",
              "</tr>\n",
              "    </table>\n",
              "</div>\n",
              "<div class=\"col-md-12 text-right\">\n",
              "    <a role=\"button\" data-toggle=\"collapse\" data-target=\"#freqtable-6742939569866260855, #minifreqtable-6742939569866260855\"\n",
              "       aria-expanded=\"true\" aria-controls=\"collapseExample\">\n",
              "        Toggle details\n",
              "    </a>\n",
              "</div>\n",
              "<div class=\"col-md-12 extrapadding collapse\" id=\"freqtable-6742939569866260855\">\n",
              "    \n",
              "<table class=\"freq table table-hover\">\n",
              "    <thead>\n",
              "    <tr>\n",
              "        <td class=\"fillremaining\">Value</td>\n",
              "        <td class=\"number\">Count</td>\n",
              "        <td class=\"number\">Frequency (%)</td>\n",
              "        <td style=\"min-width:200px\">&nbsp;</td>\n",
              "    </tr>\n",
              "    </thead>\n",
              "    <tr class=\"\">\n",
              "        <td class=\"fillremaining\">never</td>\n",
              "        <td class=\"number\">35095</td>\n",
              "        <td class=\"number\">35.1%</td>\n",
              "        <td>\n",
              "            <div class=\"bar\" style=\"width:98%\">&nbsp;</div>\n",
              "        </td>\n",
              "</tr><tr class=\"\">\n",
              "        <td class=\"fillremaining\">former</td>\n",
              "        <td class=\"number\">9352</td>\n",
              "        <td class=\"number\">9.4%</td>\n",
              "        <td>\n",
              "            <div class=\"bar\" style=\"width:26%\">&nbsp;</div>\n",
              "        </td>\n",
              "</tr><tr class=\"\">\n",
              "        <td class=\"fillremaining\">current</td>\n",
              "        <td class=\"number\">9286</td>\n",
              "        <td class=\"number\">9.3%</td>\n",
              "        <td>\n",
              "            <div class=\"bar\" style=\"width:26%\">&nbsp;</div>\n",
              "        </td>\n",
              "</tr><tr class=\"\">\n",
              "        <td class=\"fillremaining\">not current</td>\n",
              "        <td class=\"number\">6447</td>\n",
              "        <td class=\"number\">6.4%</td>\n",
              "        <td>\n",
              "            <div class=\"bar\" style=\"width:18%\">&nbsp;</div>\n",
              "        </td>\n",
              "</tr><tr class=\"\">\n",
              "        <td class=\"fillremaining\">ever</td>\n",
              "        <td class=\"number\">4004</td>\n",
              "        <td class=\"number\">4.0%</td>\n",
              "        <td>\n",
              "            <div class=\"bar\" style=\"width:12%\">&nbsp;</div>\n",
              "        </td>\n",
              "</tr><tr class=\"missing\">\n",
              "        <td class=\"fillremaining\">(Missing)</td>\n",
              "        <td class=\"number\">35816</td>\n",
              "        <td class=\"number\">35.8%</td>\n",
              "        <td>\n",
              "            <div class=\"bar\" style=\"width:100%\">&nbsp;</div>\n",
              "        </td>\n",
              "</tr>\n",
              "</table>\n",
              "</div>\n",
              "</div><div class=\"row variablerow\">\n",
              "    <div class=\"col-md-3 namecol\">\n",
              "        <p class=\"h4 pp-anchor\" id=\"pp_var_stroke\">stroke<br/>\n",
              "            <small>Boolean</small>\n",
              "        </p>\n",
              "    </div><div class=\"col-md-6\">\n",
              "    <div class=\"row\">\n",
              "        <div class=\"col-sm-6\">\n",
              "            <table class=\"stats \">\n",
              "                <tr class=\"\">\n",
              "                    <th>Distinct count</th>\n",
              "                    <td>2</td>\n",
              "                </tr>\n",
              "                <tr>\n",
              "                    <th>Unique (%)</th>\n",
              "                    <td>0.0%</td>\n",
              "                </tr>\n",
              "                <tr class=\"ignore\">\n",
              "                    <th>Missing (%)</th>\n",
              "                    <td>0.0%</td>\n",
              "                </tr>\n",
              "                <tr class=\"ignore\">\n",
              "                    <th>Missing (n)</th>\n",
              "                    <td>0</td>\n",
              "                </tr>\n",
              "            </table>\n",
              "        </div>\n",
              "        <div class=\"col-sm-6\">\n",
              "            <table class=\"stats \">\n",
              "                <tr>\n",
              "                    <th>Mean</th>\n",
              "                    <td>0.01426</td>\n",
              "                </tr>\n",
              "            </table>\n",
              "        </div>\n",
              "    </div>\n",
              "</div>\n",
              "<div class=\"col-md-3 collapse in\" id=\"minifreqtable1206842646276599073\">\n",
              "    <table class=\"mini freq\">\n",
              "        <tr class=\"\">\n",
              "    <th>0</th>\n",
              "    <td>\n",
              "        <div class=\"bar\" style=\"width:100%\" data-toggle=\"tooltip\" data-placement=\"right\" data-html=\"true\"\n",
              "             data-delay=500 title=\"Percentage: 98.6%\">\n",
              "            98574\n",
              "        </div>\n",
              "        \n",
              "    </td>\n",
              "</tr><tr class=\"\">\n",
              "    <th>1</th>\n",
              "    <td>\n",
              "        <div class=\"bar\" style=\"width:2%\" data-toggle=\"tooltip\" data-placement=\"right\" data-html=\"true\"\n",
              "             data-delay=500 title=\"Percentage: 1.4%\">\n",
              "            &nbsp;\n",
              "        </div>\n",
              "        1426\n",
              "    </td>\n",
              "</tr>\n",
              "    </table>\n",
              "</div>\n",
              "<div class=\"col-md-12 text-right\">\n",
              "    <a role=\"button\" data-toggle=\"collapse\" data-target=\"#freqtable1206842646276599073, #minifreqtable1206842646276599073\"\n",
              "        aria-expanded=\"true\" aria-controls=\"collapseExample\">\n",
              "        Toggle details\n",
              "    </a>\n",
              "</div>\n",
              "<div class=\"col-md-12 extrapadding collapse\" id=\"freqtable1206842646276599073\">\n",
              "    \n",
              "<table class=\"freq table table-hover\">\n",
              "    <thead>\n",
              "    <tr>\n",
              "        <td class=\"fillremaining\">Value</td>\n",
              "        <td class=\"number\">Count</td>\n",
              "        <td class=\"number\">Frequency (%)</td>\n",
              "        <td style=\"min-width:200px\">&nbsp;</td>\n",
              "    </tr>\n",
              "    </thead>\n",
              "    <tr class=\"\">\n",
              "        <td class=\"fillremaining\">0</td>\n",
              "        <td class=\"number\">98574</td>\n",
              "        <td class=\"number\">98.6%</td>\n",
              "        <td>\n",
              "            <div class=\"bar\" style=\"width:100%\">&nbsp;</div>\n",
              "        </td>\n",
              "</tr><tr class=\"\">\n",
              "        <td class=\"fillremaining\">1</td>\n",
              "        <td class=\"number\">1426</td>\n",
              "        <td class=\"number\">1.4%</td>\n",
              "        <td>\n",
              "            <div class=\"bar\" style=\"width:2%\">&nbsp;</div>\n",
              "        </td>\n",
              "</tr>\n",
              "</table>\n",
              "</div>\n",
              "</div>\n",
              "    <div class=\"row headerrow highlight\">\n",
              "        <h1>Correlations</h1>\n",
              "    </div>\n",
              "    <div class=\"row variablerow\">\n",
              "    <img src=\"data:image/png;base64,iVBORw0KGgoAAAANSUhEUgAAAoMAAAI5CAYAAADaPzCdAAAABHNCSVQICAgIfAhkiAAAAAlwSFlzAAAPYQAAD2EBqD%2BnaQAAADl0RVh0U29mdHdhcmUAbWF0cGxvdGxpYiB2ZXJzaW9uIDMuMC4zLCBodHRwOi8vbWF0cGxvdGxpYi5vcmcvnQurowAAIABJREFUeJzs3X98zfX///H7fg9jGtuILT/nN82P5ncZmiSk/PxWpJJfwyL6oXcS1TuktyhUfpW0/HgL6VPmR71D3m/5NcvQyG82toNh9ut8/zjtcGyynM3rnM7ternscpzn6/l6vR7naeecxx6v5%2Bv1cjObzWYBAADAJbkbHQAAAACMQzIIAADgwkgGAQAAXBjJIAAAgAsjGQQAAHBhJIMAAAAujGQQAADAhZEMAgAAuDCSQQAAABdGMggAAODCPI0OAMDfQ61atW66zMvLS2XLllX9%2BvXVvXt3RUVFyc3N7Q5GBwC4GTfuTQygKOQlgw0bNlRgYKDNsqtXr%2BrQoUM6efKkJKldu3aaMWOGvL2973icAABbJIMAikReMjhr1ix16NChwD5xcXF68cUXdfnyZQ0cOFDjxo27kyECAArAnEEAd0yHDh00evRoSdKSJUt09epVgyMCADBnEMAd9eCDD%2BrNN9/UlStX9Ouvvyo8PNxm%2BdatW7V48WLt2rVLJpNJfn5%2Bql27th577DE98sgjBW7TZDJp/vz5%2BuGHH3TkyBFlZmbK399fDRs21NNPP62IiIh860RGRurEiRP6%2BOOPdfXqVU2fPl3Hjh3TggUL1KRJE0nSgQMHNG/ePG3fvl1nzpyRp6engoKCdN999%2BmJJ54ocJ7kxYsXtXDhQq1fv15HjhxRVlaWypcvr8aNG2vAgAFq0KCBTf/jx4%2Brffv2kqQ9e/YoKSlJH330kXbu3CmTyaSgoCC1b99eMTExKlmy5G2NOQD8GSqDAO6osmXLWv994cIFm2XTp0/XgAEDtG7dOvn5%2BSkiIkIBAQHaunWrxowZo1GjRiknJ8dmnZSUFPXo0UOzZ8/WoUOHVLduXTVv3lze3t7auHGj%2Bvfvr%2BXLl980nkOHDikmJkZeXl5q3ry5fH19JUn//e9/9dhjj%2Bnf//63rl69qiZNmig8PFzp6en66quv1KtXL23dutVmWydOnNCjjz6qDz74QL/99ptq166t5s2by2w2a82aNerVq5eWLVt201h27Nihfv36KSEhQbVr11bVqlV14sQJLVq0SNHR0YUeYwD4S8wAUATCwsLMYWFh5nXr1v1pv6SkJGvfPXv2WNu///57c1hYmLlZs2bmbdu22azz3//%2B19yyZUtzWFiYef78%2BTbLJk2aZA4LCzNHRUWZz549a23Pzs42T5482RwWFmZu0qSJOT093Wa9du3amcPCwsyRkZHmjz76KF%2BcPXv2NIeFhZnfeecdc05Ojs12p0%2Bfbg4LCzN36dLFZp1%2B/fqZw8LCzD169DCfOXPG2p6Tk2P%2B4IMPzGFhYeb69eubDx06ZF127Ngx63g88MAD5rlz55pzc3Oty//9739bl%2B/bt%2B/PhhYAbguVQQB31Pfffy9J8vf3V506daztH330kSRp3Lhxuu%2B%2B%2B2zWadasmcaOHStJWrhwoc2yoKAgPfzwwxo%2BfLjKlStnbffw8FBMTIzc3d118eJF7dq1q8B4cnNzNWjQoHzt%2B/btkyT16NFD7u7XPio9PDw0YsQIjRgxQk8%2B%2BaQyMzMlSbt379b27dslSe%2B%2B%2B66CgoKs67i7u2v48OGqV6%2BeMjMz9eWXXxYYS82aNfXcc8/ZXHanW7duCggIsO4DAIoacwYB3DE//PCD5syZI0l69tln5elp%2BQg6c%2BaMEhISJEkdO3YscN0OHTrIzc1NJ0%2Be1OHDh1W1alVJ0nPPPXfT/ZUoUULlypVTSkqKUlJSCuzTvHlzm2QvT5kyZXT27FmtXbtWI0eOtFnm7u6uYcOG2bT95z//kWQ5q7p69eo3fQ0JCQn5Di/nKWhOpJubm0JCQpSamqq0tLQC1wMAe5AMAihSc%2BbM0YoVK2zaMjMz9fvvv%2BvYsWOSLNW2Z5991rr8wIED1n%2B/9NJLN922p6ensrKy9Pvvv1uTwbzt//DDD9q7d6%2BSk5N14cIFmf%2B4atbFixclWSqABQkODi6wvX///po2bZo%2B/PBD/ec//1GXLl3UokWLm15c%2B7fffpNkqe7dTLVq1SRZ5ikWJDQ0tMB2Hx8fSVJWVtZNtw0At4tkEECR2rNnT742Dw8P3XXXXWrfvr169%2B6t%2B%2B%2B/32b5%2BfPnrf9ev379LfeRl%2BBJUmJiooYNG6bjx4/fVrz%2B/v4FtucdOp4zZ47i4%2BMVHx8vSQoMDFSnTp3Uv39/hYSE5IupTJkyN91X6dKlJVmSuoyMDOvJKnm4CDcAI5AMAihSf3bR6ZvJmyPn5eWl%2BPj4Qt%2BqLiMjQ0OGDNHJkydVpUoVDR06VC1atNBdd90lLy8vSdcuIXOrfRdk0KBB6tOnj%2BLi4vTDDz9oy5YtSklJ0WeffabY2Fi9%2B%2B67euihhwr9Os3XXeO/oEPTAGAEkkEAhsu73ExWVpbS0tKsJ0zcyo8//qiTJ0/Kzc1Nc%2BfO1T333JOvT0ZGhl2xlSlTRj169FCPHj2Uk5OjLVu2aNasWdq5c6deffVVNW/eXHfddZe1wnjj5XKul7fM19eXKiAAh8GfpgAMFxYWZv33wYMHC73e77//Lsky166gRPDo0aM6d%2B6c3fHl8fDwUJs2bbRo0SIFBwfr0qVL1sPieXMFr5//eKO8ZX82rxAA7jSSQQCGCwwMVL169SRJX331VYF9Dh8%2BrG7dulkvQSNdm4N3s9vazZo1y/rvGy9W/Wd2796tV155RfPmzStwube3t8qXLy/pWuUxbx7kgQMHCkwIc3NzrZfVadOmTaFjAYDiRjIIwCEMHjxYkrRmzRotWLDAZn7dkSNHNGLECCUmJurUqVPW9tq1a0uSTp8%2Brbi4OGv7lStXNGnSJMXHx1tvd3ezM3gL4uHhoeXLl2vGjBnatGlTvuXr1q3Tvn375OXlpcaNG0uS6tatq9atW0uSXnnlFaWmplr7Z2dna8qUKUpKSlLp0qXVp0%2BfQscCAMWNOYMAHMKDDz6oQYMGae7cuXr77be1aNEiVatWTWlpadq3b59ycnJUt25djRkzxrpOeHi4WrdurZ9%2B%2BknR0dFq1KiRfHx8tHfvXnl6emr%2B/Pn65ptvtHPnTi1atEj79%2B/XkCFD1KxZsz%2BNpX79%2Bho4cKDmzZun559/XpUqVdI999wjd3d3HT9%2B3Hp4%2BtVXX1VgYKB1vbfeekv9%2B/dXfHy8IiMjFRYWJh8fHx08eFBpaWny9fXVtGnTbno5GwAwAskgAIcxevRotWzZUp9//rl27dqlrVu3ysfHR/Xr11fnzp3Vr1%2B/fCdevP/%2B%2B5o6darWr1%2BvvXv3KigoSFFRURo8eLBCQ0NVoUIF/frrr9qxY4cOHjxY6DOVx40bp2bNmmnlypXau3evdu7cqezsbAUGBqpLly564oknrFXHPMHBwVq2bJkWLFigdevW6eDBg8rOzlZwcLAefPBBPfPMMwXObQQAI7mZrz8WAwAAAJfCnEEAAAAXRjIIAADgwkgGAQAAXBjJIAAAQBH7z3/%2Bo5YtWyomJuZP%2B%2BXm5mr69Olq3769mjVrpmeeeUbHjh2zLjeZTBo1apRatmyp1q1b69VXX7X7zko3IhkEAAAoQh9//LEmTZpUqKsHLF68WKtXr9bcuXO1ceNGValSRcOGDbNea/W1117TlStXtGbNGi1fvlxJSUmaOnVqkcZLMggAAFCEfHx8tGzZskIlg7GxsRowYICqV68uPz8/xcTEKCkpSbt379bZs2cVFxenmJgYBQQEKDg4WEOHDtXy5cuVlZVVZPFynUEAAIAbJCcnKyUlxaYtMDBQQUFBt1z3qaeeKtQ%2BMjIy9Ntvv6lu3brWNj8/P91zzz2Kj4/XxYsX5eHhoVq1almX16tXT5cvX9ahQ4ds2u1BMuhsCnnB3DuialXp4EGpZk3p8GFjY7nuVmSG8/WVWraUtmyRinhex21xd6ADAL6%2BUvPm0s8/O8bYVK5sdAQWnp5SlSrS779L2dlGRyOdOWN0BNf4%2BEhNm0rbt0s3uQf1HbV/v9ERWJQuLT3%2BuLRsmXTxotHRWDzzjHH7LobvxtgZMzRz5kybtuHDhys6OrrI9nH%2B/HmZzWb5%2B/vbtPv7%2BystLU1ly5aVn5%2BfzcXy8/qmpaUVWRwkg7h9ZctKHh6WR1zj5WX5YPLycoyEx5F4elrGxpOPHhseHpZx8fBwjGTQkVz/O%2BMIyaCj8Pa2/KF3wx15UHR69%2B6tyMhIm7brbz9ZlP7s/h934t4gfCIDAADnVgxHQIKCggp1SNgeZcuWlbu7u0wmk027yWRSuXLlFBAQoPT0dOXk5MjDw8O6TJLKlStXZHE40PEjAAAA1%2BHj46OaNWsqISHB2nbhwgUdPXpUDRs2VJ06dWQ2m5WYmGhdHh8frzJlyqhq1apFFgfJIAAAcG7u7kX/U0zOnDmjTp06Wa8l2LdvXy1atEhJSUlKT0/X1KlTVadOHTVo0EABAQGKiorS%2B%2B%2B/r9TUVJ0%2BfVqzZs3S448/Ls8inG7DYWIAAIAi1KBBA0lS9h9zgOP%2BOMkxPj5eWVlZOnz4sDIzMyVJffr0UUpKip588kldunRJERERNieuTJw4Ua%2B//rrat28vLy8vdenS5ZYXsv6rSAYBAIBzc6SrJsiS9N1M5cqVtf%2B6s9Ld3Nw0YsQIjRgxosD%2BpUuX1nvvvVfkMV6PZBAAADg3B0sGnQ2jBwAA4MKoDAIAAOdGZdAujB4AAIALozIIAACcG5VBu5AMAgAA50YyaBdGDwAAwIVRGQQAAM6NyqBdGD0AAAAXRmUQAAA4NyqDdiEZBAAAzo1k0C6MHgAAgAujMggAAJwblUG7MHoAAAAujMogAABwblQG7UIyCAAAnBvJoF0YPQAAABdGZRAAADg3KoN2YfQAAABcGJVBAADg3KgM2oVkEAAAODeSQbswegAAAC6MyiAAAHBuVAbtwugBAAC4MCqDAADAuVEZtAvJIAAAcG4kg3YhGbyF%2BPh4vf322zpw4IC8vb3VsWNHjR8/Xl5eXlq6dKmmT5%2BuzMxM9e7dWyaTSTk5OXrnnXckSZ9//rkWL16skydPqnLlyoqJiVGHDh0MfkUAAADXkErfQkxMjJo3b65t27Zp2bJl2rhxo7788kslJCTotdde0%2Buvv67NmzerRIkSWrdunXW977//XjNnztSUKVP0yy%2B/aOTIkRo1apROnjxp4KsBAOBvyN296H9cCJXBW1i5cqW8vb3l4eGhu%2B%2B%2BW82aNdPevXuVnp6uWrVqKSoqSpI0ZMgQLV261LresmXL9Pjjj6t%2B/fqSpAcffFBNmjTRmjVrNGjQoELtOzk5WSkpKTZtgVWrKqhs2SJ6dXaqXdv20UilSxsdwTUlS9o%2BGs3NzegIrnG0sfHxMToCCy8v20ejlSpldATXlChh%2B2i0cuWMjsDC39/2EbADyeAt/Pzzz5o1a5Z%2B//13ZWdnKzs7W506dVJKSooqVapk7efh4aG6detanx89elSbN2/WwoULrW1ms1k1atQo9L5jY2M1c%2BZMm7bhI0cqeuRIO15RMfjiC6MjcEx//CGAAtSrZ3QEjqliRaMjsAgNNTqC/Bzhj05JCg83OgJb7doZHYFjcLFKXlEjGfwTSUlJGjlypMaNG6devXrJ19dXL774orKzs5WbmytPT9vhc7/ul9HX11ejR4/WwIEDb3v/vXv3VmRkpE1b4COPSNclmIaqXduSCPbrJyUmGhvL7NnG7v96JUtaEsG9e6XLl42OxvEqg/XqSQkJjjE2wcFGR2Dh5WVJBE%2BdkrKyjI5GOnfO6AiuKVHC8lmTmChduWJ0NNKRI0ZHYOHvb0kEN26Uzp83OhqL7t2N2zfJoF1IBv/Evn375O3traeeekqSpbK3b98%2B1axZU%2BXKldPevXutfXNycvTrr78qIiJCkhQaGqr9%2B/fbbO/kyZOqWLGi3Ar55RwUFKSgoCDbxsOH7XhFxSQxUdq509gYLl40dv8FuXzZMeJyxA/Jy5el9HSjo5AcZcpFnqws6epVo6OQLl0yOoL8rlxxjLgcKVGWLImgo8UEp%2BOA3xKOo1KlSsrIyNC%2Bfft0/vx5TZkyRd7e3kpOTlZERIT27t2rTZs2KTMzUx999JEyMjKs6/bu3Vtr167Vpk2blJ2drZ9//lldunTR7t27DXxFAAD8DXECiV2oDP6J8PBw/b//9//0xBNPqESJEhoyZIheeeUVDRkyRF988YVGjRqlMWPGyMvLS/3791dERIS16teqVSuNGzdOEydO1NmzZ1W5cmVNmDBB9957r8GvCgCAvxkXS96KGsngLYwfP17jx4%2B3afvf//4nScrMzNTgwYOt7U888YSaNm1q8/yJJ564M4ECAADcBlLp23Ts2DGFh4drw4YNys3N1U8//aSdO3eqbdu2RocGAIBr4TCxXagM3qaQkBC98847mjJlil544QUFBwfr9ddfV%2BPGjY0ODQAAoNBIBu3wyCOP6JFHHjE6DAAAXJuLVfKKGskgAABwbiSDdmH0AAAAXBiVQQAA4NyoDNqF0QMAAHBhVAYBAIBzc8DK4IkTJ/TGG29o9%2B7dKlmypDp37qzRo0fL/YZYBw4caL1%2BcZ7s7GwNGzZMw4cP15NPPqkdO3bYrFe1alWtWrWqyGIlGQQAAM7NAZPB6Oho1atXT3FxcTp37pyef/55lS9fXk8//bRNv3nz5tk8v3Dhgjp37qyOHTta295880316NGj2GJ1vNEDAABwYvHx8UpMTNSYMWNUunRpValSRQMGDFBsbOwt133//ffVsWNH1apV6w5EakFlEAAAOLdiqAwmJycrJSXFpi0wMFBBQUG3XDchIUGVKlWSv7%2B/ta1evXo6fPiw0tPT5efnV%2BB6R44c0cqVKxUXF2fTvnbtWn3yySc6deqUGjVqpIkTJyo0NPQ2XlXBqAwCAADcIDY2Vj169LD5KUxlT5JMJpPKlClj05aXGKalpd10vblz5%2Bqxxx5TQECAta169eqqWbOmvvjiC61fv14BAQF69tlnlZmZeRuvqmBUBgEAgHMrhspg7969FRkZadMWGBhY6PXNZvNf2p/JZNLXX3%2Btb7/91qZ9woQJNs8nTpyoiIgI/fLLL2rRosVf2sfNkAwCAADnVgzJYFBQUKEOCRckICBAJpPJps1kMsnNzc2m6ne99evXq2rVqgoJCfnTbfv5%2Bcnf319nzpy5rdgKwmFiAACAIlS/fn2dOnVKqamp1rb4%2BHjVqFFDpUqVKnCd9evXq1WrVjZt6enpmjBhgk3il5qaqtTU1FsmjX8FySAAAHBu7u5F/2OHunXrqkGDBpo2bZrS09OVlJSk%2BfPnq2/fvpKkTp06afv27Tbr7Nu3T5UrV7Zp8/Pz0%2B7duzVp0iSZTCadP39eb7zxhmrVqqXw8HC7YrweySAAAEARmzFjhpKTk9WqVSs99dRT6t69u/r16ydJOnz4sC5fvmzTPyUlReXLl8%2B3nVmzZslsNisqKkoPPPCAsrKyNHfu3HwXr7YHcwYBAIBzc8CLTleoUEEff/xxgcv279%2Bfr23v3r0F9r377rs1c%2BbMIo3tRiSDAADAuTlgMuhMGD0AAAAXRmUQAAA4NyqDdmH0AAAAXBiVQQAA4NyoDNqFZBAAADg3kkG7MHoAAAAujMogAABwblQG7cLoAQAAuDAqgwAAwLlRGbQLySAAAHBuJIN2IRl0NnFxRkdwTenSlsfZs6WLF42NpUMHY/d/vfBwaccOafBgaedOo6ORtm83OoJrSpSwPJYq5Rgf3mXKGB2BhecfH8WlSkk%2BPsbGIklXrxodwTW%2BvpbH0qUlLy9jY5GksDCjI7AoVcryGBoqlStnbCxweiSDAADAuTnCH5dOjNEDAABwYVQGAQCAc6MyaBeSQQAA4NxIBu3C6AEAALgwKoMAAMC5URm0C6MHAADgwqgMAgAA50Zl0C4kgwAAwLmRDNqF0QMAAHBhVAYBAIBzozJoF0YPAADAhVEZBAAAzo3KoF1IBgEAgHMjGbQLowcAAODCqAwCAADnRmXQLiSDAADAuZEM2oXRAwAAcGFUBgEAgHOjMmgXRg8AAMCFURkEAADOjcqgXUgGAQCAcyMZtAujBwAA4MKoDAIAAOdGZdAujB4AAIALozIIAACcG5VBu5AMAgAA50YyaBdGDwAAwIVRGQQAAM6NyqBdnHr0lixZosjISK1cuVKRkZGFWueDDz5Qr169ijkyAAAA5%2BDUyWCe7t27a8OGDXdkX1u3blV8fPwd2RcAACgEd/ei/7HTiRMnNGjQIEVERKhdu3aaMmWKcnNz8/X74IMPVKdOHTVo0MDm5%2BzZs5Kkq1ev6h//%2BIfatm2riIgIjRgxQmlpaXbHd72/RTJ4Jy1YsEB79%2B41OgwAAJDHAZPB6OhoBQcHKy4uTvPnz1dcXJwWLlxYYN9u3bopPj7e5qd8%2BfKSpOnTpyshIUGxsbH67rvvZDab9fLLL9sd3/WcKhncvXu3unbtqnvvvVdPP/20zp07J0lasWKFWrVqZe33008/qUePHgoPD1ebNm00Y8aMfNuaPXu2WrRooZYtW2r69Okym82SpNzcXM2YMUMdOnRQo0aN9Nhjj%2BmXX36RJA0ePFibNm3SpEmT1L9/f0mWzH/w4MGKiIhQs2bNNHbsWKWnp0uSrly5onHjxqlFixYKDw9Xnz59SCQBAPibi4%2BPV2JiosaMGaPSpUurSpUqGjBggGJjY//SdrKzs7Vs2TINHTpUFStWVNmyZTVq1Cht2rRJZ86cKbJ4neYEkpycHI0YMUIPP/ywRo4cqcTEREVHR8vT0/YlXL58WdHR0XrllVf0%2BOOP68CBA%2BrTp4/q169vnVd48OBBtWjRQhs3btTevXs1cOBA1a5dWw899JAWLlyob775Rp988onuvvtuxcbGasiQIdq0aZNmz56tyMhIPffcc%2Brbt6/MZrOGDh2qxo0ba/r06bp8%2BbJeeOEF/fOf/9Sbb76phQsX6uzZs1q3bp28vb318ccf67XXXtO///3vQr3m5ORkpaSk2LQFZmQoKDCwaAbVXiVL2j4aKTzc6AiuqV3b9tFoJUoYHcE1vr62j0bzdJCPQA8P20ejOcr/jyT5%2BNg%2BGq1UKaMjsMh7XzvS%2B9tIxXACSYHfwYGBCgoKuuW6CQkJqlSpkvz9/a1t9erV0%2BHDh5Weni4/Pz%2Bb/vv371efPn104MABVaxYUS%2B//LJat26to0eP6uLFi6pXr561b/Xq1eXr66uEhAQFBwfb%2BSotHOST8Nb27t2r5ORkDRkyRD4%2BPmrUqJE6duyojRs32vQrWbKkfvzxR5UqVUpubm6qVauWatWqpb1791qTQXd3dw0bNkze3t5q2rSp2rRpox9//FEPPfSQli1bpgEDBqhKlSqSpCeffFILFy7Upk2b1LlzZ5t9xcfH6%2BDBg1qyZIlKlCihEiVKKDo6Ws8884wmTpyoCxcuyMvLS76%2BvvL09NTQoUM1dOjQQr/m2NhYzZw506Zt%2BLBhin744dsYwWJUv77REUg7dhgdQX5ffGF0BI6rWjWjI3BMZcsaHYFFuXJGR5BfSIjRETimOnWMjuBvq8Dv4OHDFR0dfct1TSaTypQpY9OWlximpaXZJIMVKlRQSEiIRo8eraCgIMXGxmrw4MFatWqVTCaTJOXbVpkyZYp03qDTJIOnT59WmTJlVLp0aWtbXsJ2o2%2B//VYLFizQiRMnlJubq6ysLDVt2tS6PDQ0VN7e3jbP9%2B/fL0k6evSoJk%2BerLfeesu6PDc3V6dOncq3n2PHjiknJ0cRERE27Tk5OUpLS1O/fv30zDPP6P7771ebNm3UoUMHtW/fvtCvuXfv3vnOkg78/Xfpv/8t9DaKVcmSlkRw717p8mVjYxk82Nj9X692bUsi2K%2BflJhodDTS558bHcE1vr6WRPDQISkjw%2BhopCL6q9puHh6WRNBkknJyjI5GKuLJ6Xbx8bEkgseOSVevGh2NdOGC0RFYlChhSQT37ZOuXDE6GovGjY3bdzFUBgv8Dv4LR%2Bbypp/dSs%2BePdWzZ0/r8wEDBuibb77RqlWr1LZt27%2B0rdvlNMlgZmamcm74kCzorJytW7dqwoQJmjp1qjp27CgvLy/169fPpo%2Bbm5vNc7PZbE0OfX19NWnSJEVFRd0yJh8fH5UsWVI7d%2B4scHlAQIDWrl2rbdu2acOGDfrHP/6hVatWFTiHsSBBQUH5y9GnT0sXLxZq/Tvm8mXjY7rJ/4GhEhMdIy5H%2BaK4XkaGY8SVnW10BLZychwjJkdI1G909apjxHXpktER2LpyxfFiMkIxJIMFfgcXUkBAgLWql8dkMsnNzU0BAQG3XL9SpUpKTk629jWZTCp13RSF8%2BfPq1wRVvCd5gSSoKAgpaen6%2BJ1SUdSUlK%2Bfnv27FHVqlXVuXNneXl56erVq/n6HT9%2BXFlZWdbnR48etR53DwkJsVYJr%2B9fkNDQUF2%2BfFnHjh2ztqWnp1tLt5cuXVJOTo5atmyp8ePHa%2BnSpfruu%2B%2BK/JRwAADgOOrXr69Tp04pNTXV2hYfH68aNWrYJHWS9OGHH2rr1q02bUlJSQoJCVFISIj8/f2VkJBgXXbgwAFlZmaqfhFO0XKaZLBRo0by9/fXJ598oszMTG3fvj3ffEHJkk2fPn1ap06d0tmzZzVhwgQFBQXZnHWTlZWljz/%2BWJmZmdq1a5c2b96sjh07SpL69OmjxYsXa9euXcrJydHatWvVpUsXnTx5UpKlGpg3oTMsLEzh4eGaPHmyUlNTdeHCBb3%2B%2BusaO3asJGnEiBH65z//qfT0dOXm5mrnzp0qW7aszYRSAABgJwe7tEzdunXVoEEDTZs2Tenp6UpKStL8%2BfPVt29fSVKnTp20fft2SZaq3xtvvKFDhw7p6tWrmjdvno4ePapHH31UHh4e6tWrl2bPnq1Tp04pLS1N7733njp27Gi99ExRcJrDxL6%2Bvpo1a5YmTJigBQsWKDw8XAMHDtRnn31m0y8qKkrr169X586dFRAQoLFjx6ozivj6AAAgAElEQVRNmzZ69dVXNWXKFPn6%2BqpBgwYym81q06aNPD099dxzz6l169aSpMcff1ynTp3S8OHDlZ6ermrVqmnmzJm6%2B%2B67JUm9evXS%2B%2B%2B/ry1btujrr7/WtGnTNHHiRLVv317e3t5q0aKF3nnnHUnSm2%2B%2Bab1QpJubm2rWrKlZs2bJndvmAADwtzZjxgy99tpratWqlfz8/NSnTx/rtLXDhw/r8h9z7UePHi3JMlfQZDKpRo0aWrBggSpUqCDJUli6dOmSunXrpuzsbLVr104TJkwo0ljdzMU9KxFFa/16oyO4pnRp6b77LCe0GD1nsEMHY/d/vfBwy9nNjRs7xpzBP/76dAglSkh160q//uoYcwYrVzY6AgtPT8sZvOfOOcacwRsup2EoX1%2BpRg3pt98cY86go0zzKVXK8hmzY4fjzBls08a4fb/9dtFvs4gv7OzInKYyCAAAUCCOuNmF0QMAAHBhVAYBAIBzozJoF0YPAADAhVEZBAAAzo3KoF1IBgEAgHMjGbQLowcAAODCqAwCAADnRmXQLoweAACAC6MyCAAAnBuVQbuQDAIAAOdGMmgXRg8AAMCFURkEAADOjcqgXRg9AAAAF0ZlEAAAODcqg3YhGQQAAM6NZNAujB4AAIALozIIAACcG5VBu5AMAgAA50YyaBdGDwAAwIVRGQQAAM6NyqBdGD0AAAAXRmUQAAA4NyqDdiEZBAAAzo1k0C6MHgAAgAujMggAAJwblUG7MHoAAAAujMogAABwblQG7UIy6Gwc6Rfeze3ao9Fxbd9u7P6vV6KE5fHzz6UrV4yNRZKaNjU6gmvCw6UdO6QnnpB27jQ6GunsWaMjsPDwsH00WunSRkdwjbe35bFUKcnLy9hYJMf5P/L1tTzedde1zxxXZvR3kJNj9AAAAFwYlUEAAODcqAzahdEDAABwYVQGAQCAc6MyaBeSQQAA4NxIBu3C6AEAALgwKoMAAMC5URm0C6MHAADgwqgMAgAA50Zl0C4kgwAAwLmRDNqF0QMAAHBhVAYBAIBzozJoF0YPAADAhVEZBAAAzs0BK4MnTpzQG2%2B8od27d6tkyZLq3LmzRo8eLfcCYl2yZIkWLFig5ORkhYaGKjo6Wh06dJAkvfTSS1q1apU8PDys/X18fLR9%2B/Yii5VkEAAAODcHTAajo6NVr149xcXF6dy5c3r%2B%2BedVvnx5Pf300zb9vvvuO02bNk1z5sxRw4YNtXLlSo0aNUrffvutQkJCJElDhgxRdHR0scXqeKMHAADgxOLj45WYmKgxY8aodOnSqlKligYMGKDY2Nh8fTMyMvTCCy%2BoSZMm8vLyUs%2BePVWqVCnt2rXrjsVLZRAAADi3YqgMJicnKyUlxaYtMDBQQUFBt1w3ISFBlSpVkr%2B/v7WtXr16Onz4sNLT0%2BXn52dt79atm826Fy5c0KVLlxQcHGxt%2B/nnn7V%2B/XodOXJE1atX14QJE1S/fv3bfWn5kAwCAADcIDY2VjNnzrRpGz58eKEO15pMJpUpU8amLS8xTEtLs0kGr2c2mzV%2B/Hg1atRI9913nyQpJCRE7u7uGjlypEqVKqWZM2dq4MCB%2Bu6773TXXXfdzkvLh2QQAAA4t2KoDPbu3VuRkZE2bYGBgYVe32w2/6X9ZWVl6aWXXtJvv/2mRYsWWduHDRtm0%2B/FF1/UmjVrFBcXp549e/6lfdwMySAAAHBuxZAMBgUFFeqQcEECAgJkMpls2kwmk9zc3BQQEJCvf0ZGhoYOHaorV65o8eLFf1rx8/DwUMWKFZWcnHxbsRWEE0gAAACKUP369XXq1CmlpqZa2%2BLj41WjRg2VKlXKpq/ZbFZMTIw8PT21YMECm0TQbDbr7bffVmJiorUtMzNTR48etZ5pXBRIBgEAgHNzdy/6HzvUrVtXDRo00LRp05Senq6kpCTNnz9fffv2lSR16tTJep3A1atX67ffftO//vUv%2Bfj42GzHzc1Nx48f1xtvvKEzZ87o0qVLmjp1qry8vKzXISwKJIMAAABFbMaMGUpOTlarVq301FNPqXv37urXr58k6fDhw7p8%2BbIkafny5Tpx4oTuu%2B8%2BNWjQwPozfvx4SdLkyZNVpUoV9ejRQy1bttS%2Bffu0cOFClSxZsshiZc4gAABwbg540ekKFSro448/LnDZ/v37rf9euHDhn26nbNmyevvtt4s0thuRDAIAAOfmgMmgM2H0AAAAXBiVQQAA4NyoDNqF0QMAAHBhVAYBAIBzozJoF7tGr1atWvrxxx%2BLKhanEBUVpaVLlxodBgAAyONg1xl0Nn%2BbyuD333%2BvWrVq6Z577inW/Xz33XfFun0AAIA76W%2BT%2Bs6YMUNHjhwxOgwAAHCnURm0i92vNiUlRf3791fDhg3VuXNnHThwQFeuXFHjxo21YcMGm779%2B/fXe%2B%2B9pxUrVqhjx45aunSp2rRpo3vvvVf/%2BMc/lJ2dbe37%2Beef66GHHlKjRo308MMPKy4uzrrsySef1JQpU/TII49o0KBB6tq1qw4ePKihQ4fq5ZdfliQlJiaqf//%2Batq0qZo3b65JkyYpKytLkrRixQp17dpVK1euVGRkpMLDwxUTE2Ndvnv3bvXq1Uvh4eGKiIjQq6%2B%2BqoyMDElSZGSklixZIknKzc3VrFmz1LFjRzVs2FCPPvqotm7dao0zMjJSS5cu1aBBgxQeHq4OHTrop59%2BsnfIAQDA9UgG7WL3q42NjdWECRO0ZcsWlS9fXu%2B9955KlCihqKgorV692tovLS1N//vf/9S1a1dJ0pkzZxQfH6/vv/9ey5cv14YNG7R48WJJlkO%2BM2fO1JQpU/TLL79o5MiRGjVqlE6ePGnd3jfffKPJkydrzpw5WrVqlSTpww8/1Ntvv60rV67o2WefVcuWLbVlyxYtXbpU27Zt06effmpd/8SJE9q7d6/WrFmjr776SnFxcVq3bp0kaezYserZs6d%2B%2BeUXrV69Wvv371dsbGy%2B17548WItXbpUM2fO1Pbt2/XII49o6NChOnfunLXPp59%2BquHDh2vbtm2677779NZbb9k75AAAAEXG7jmD3bp1U9WqVSXZVs26deum559/Xunp6fLz89P69esVFhamGjVqaM%2BePbp69apGjRqlEiVKqHr16nr44Ye1adMm9e/fX8uWLdPjjz%2Bu%2BvXrS5IefPBBNWnSRGvWrNGgQYMkSQ0bNlTDhg0LjGnTpk0ym816/vnnJUkhISF65plnNGfOHA0ePFiSdOnSJY0aNUolS5ZUzZo1VatWLR06dEiSdOHCBZUsWVLu7u4KCgrSV199JfcC/kpYtmyZ%2BvXrp1q1akmSBg4cqE8%2B%2BUSbNm3SY489Jklq166dNc6oqCitXLlSubm5BW7vRsnJyUpJSbFpC8zIUFD58rdc947Iuy9iEd4f8baVKGF0BNf4%2Bto%2BGi083OgIrqld2/bRaB4eRkdgkReHo8Tj7W10BNd4eto%2BGi031%2BgILPL%2Bjxzp/8pILlbJK2p2v7sqV65s/bePj4/1UGtERIQCAgIUFxen7t27a926dXrkkUesff39/RUQEGB9fvfdd1sPoR49elSbN2%2B2uV%2Bf2WxWjRo1rM8rVap005iOHTumc%2BfOqUGDBjbre1/3prnrrrvk5%2BdnfV6iRAnroeAXXnhBr7zyij799FO1bt1a3bp1U/Xq1fPt5/jx4/naQ0NDdeLEiQLHx9fXVzk5OcrKypKPj89N488TGxurmTNn2rQNHzZM0Q89dMt176h69YyOwDFVq2Z0BBY7dhgdQX5ffGF0BI6pdGmjI7AoW9boCPILDDQ6Asf0J9%2BFQGHZnQy6ubndtL1r165avXq1OnTooG3btmnixInW5Tk5OTb9zWazdVu%2Bvr4aPXq0Bg4ceNP9evzJX9A%2BPj6qWbOmzWHqG/1ZZa5nz57q0KGDNmzYoPXr16t79%2B6aPn26OnToYNMvMzOzwPWvH5PCVABvpnfv3oqMjLRpCzx6VPrf/257m0WqZElLIpiQIF2%2BbGwspUoZu//r%2BfpaEsFDh6Q//sAw1BNPGB3BNbVrWxLBfv2kxESjo5FumNdsGA8PSyJ48aJ0w2ejIa5cMTqCazw9LYlgSop03bxywzjCe1qyVAQrVZJOnJBu8l10x/1xlNAQVAbtUqx1927duunTTz/VihUr1KhRIwUHB1uXpaenKzU11VodPHnypHV5aGio9u/fb7OtkydPqmLFijdNPq8XGhqqY8eO6dKlSyr1R5KQlpYmLy8vm2rgzaSlpemuu%2B7SY489pscee0wzZ87UsmXL8iWDoaGhOnTokNq3by9Jys7O1pEjR9SnT59b7qMwgoKCFBQUZNuYnCylpxfJ9ovM5cvGx%2BSIHwQZGY7xpbpzp9ER5JeY6BhxOULidb2cHMeIyVGSi%2BtlZztGXI6SDObJzHS8mIzgiN8BTqRYR69atWqqU6eO/vWvf9kcIpYkb29vzZo1SxkZGfrtt9/0zTffWKtgvXv31tq1a7Vp0yZlZ2fr559/VpcuXbR79%2B6b7svHx0dHjhxRenq6WrdurYCAAP3zn/9Uenq6UlJSNHLkSE2dOvWWMZ8%2BfVqRkZH66aeflJubq4sXL%2BrAgQMKDQ3N17dbt2764osvlJSUpMzMTM2ePVs5OTn5qnkAAACOqthn5Hbv3l3vvPOOoqKibNrLlCmjsLAwdezYURcvXlTXrl2tFbVWrVpp3Lhxmjhxos6ePavKlStrwoQJuvfee2%2B6nz59%2Bujdd9/Vli1b9NFHH%2BnDDz/UpEmT1KpVK/n5%2Bal9%2B/YaN27cLeOtUKGCJk%2BerMmTJ%2BvkyZPy8/NT27ZtNWLEiHx9Bw4cqLS0ND333HO6cOGC6tSpo0WLFqlMmTJ/cZQAAMBtozJoFzez2Wwuzh3MmDFDx44d05QpU6xtK1as0LRp07R58%2Bbi3PXf08aNRkdwjZ%2Bf1KyZZQ6j0YeJHSkBL1FCqltX%2BvVXxzhM3LSp0RFcEx5uOaGlcWPHOEx89qzREVh4eFhO2jCZHOMwsdHv5%2Bt5e0sVK0qnTjnGYWKj50fn8fW1zNE7fNhxDhPXqWPcvg8eLPpt1qxZ9Nt0UMVaGdy1a5c%2B%2B%2BwzffbZZ8W5GwAA4MqoDNql2JLBZ555Rvv379e4ceNU21GuKQYAAP5%2BSAbtUmzJ4PV3%2B7hRjx491KNHj%2BLaNQAAAArJQS7pDgAAcJuoDNqF0QMAAHBhVAYBAIBzozJoF5JBAADg3EgG7cLoAQAAuDAqgwAAwLlRGbQLowcAAODCqAwCAADnRmXQLiSDAADAuZEM2oXRAwAAcGFUBgEAgHOjMmgXRg8AAMCFURkEAADOjcqgXUgGAQCAcyMZtAujBwAA4MKoDAIAAOdGZdAujB4AAIALozIIAACcG5VBu5AMAgAA50YyaBdGDwAAwIVRGQQAAM6NyqBdGD0AAAAXRjIIAACcm7t70f/Y6cSJExo0aJAiIiLUrl07TZkyRbm5uQX2XbRokaKiotS4cWP17dtXe/futS67evWq/vGPf6ht27aKiIjQiBEjlJaWZnd81yMZBAAAzs0Bk8Ho6GgFBwcrLi5O8%2BfPV1xcnBYuXJiv34YNG/TBBx/o3Xff1ZYtW9SuXTsNHjxYly9fliRNnz5dCQkJio2N1XfffSez2ayXX37Z7viuRzIIAABQhOLj45WYmKgxY8aodOnSqlKligYMGKDY2Nh8fWNjY9WjRw81atRIvr6%2BevbZZyVJGzduVHZ2tpYtW6ahQ4eqYsWKKlu2rEaNGqVNmzbpzJkzRRYvJ5AAAADnVgwnkCQnJyslJcWmLTAwUEFBQbdcNyEhQZUqVZK/v7%2B1rV69ejp8%2BLDS09Pl5%2Bdn07dz587W5%2B7u7qpTp47i4%2BNVp04dXbx4UfXq1bMur169unx9fZWQkKDg4GB7XqIVyaCzqVzZ6Aiu8fGxPAYHS2XLGhtLmTLG7v96nn%2B8rYKDpexsY2ORpLNnjY7gGg8Py%2BOGDVJOjrGxSFL58kZHYBEeLu3YIUVGSjt3Gh2NdPy40RFck/c74%2BFx7b1lpGrVjI7Aws3N8lipkmQ2GxvL31RsbKxmzpxp0zZ8%2BHBFR0ffcl2TyaQyN3wv5SWGaWlpNsmgyWSySRrz%2BqalpclkMklSvm2VKVOmSOcNOsA7CwAA4PaZ5Vbk2%2Bzdu7ciIyNt2gIDAwu9vvkvJOm36vtXtnU7SAYBAIBTu8lJunYJCgoq1CHhggQEBFirenlMJpPc3NwUEBBg037XXXcV2LdmzZrWviaTSaVKlbIuP3/%2BvMqVK3dbsRWEE0gAAACKUP369XXq1CmlpqZa2%2BLj41WjRg2bpC6vb0JCgvV5Tk6Ofv31VzVq1EghISHy9/e3WX7gwAFlZmaqfv36RRYvySAAAHBqublF/2OPunXrqkGDBpo2bZrS09OVlJSk%2BfPnq2/fvpKkTp06afv27ZKkvn37auXKldq1a5euXLmijz76SN7e3nrggQfk4eGhXr16afbs2Tp16pTS0tL03nvvqWPHjipfhHOeOUwMAABQxGbMmKHXXntNrVq1kp%2Bfn/r06aN%2B/fpJkg4fPmy9jmDbtm31wgsvaNSoUTp37pwaNGiguXPnytfXV5I0YsQIXbp0Sd26dVN2drbatWunCRMmFGmsbubinpWIonXwoNERXOPjI4WGSkePSlevGhuLo51NXK6cdO6cY5xN7AhnYObx8LCceW4ycTbx9fLOJm7cmLOJb%2BTlJQUFScnJUlaW0dE4zu%2BMm5vk7S1lZjrO2cR5V5gwQHF8BRn4cu44B/qWAAAA%2BOuK4wQSV8KcQQAAABdGZRAAADg1KoP2IRkEAABOjWTQPhwmBgAAcGFUBgEAgFOjMmgfKoMAAAAujMogAABwalQG7UMyCAAAnBrJoH04TAwAAODCqAwCAACnRmXQPlQGAQAAXBiVQQAA4NSoDNqHZBAAADg1kkH7cJgYAADAhVEZBAAATo3KoH2oDAIAALgwKoMAAMCpURm0D8kgAABwaiSD9uEwMQAAgAujMggAAJwalUH7UBkEAABwYVQGAQCAU6MyaB8qg3aIjIzUkiVLjA4DAACXlptb9D%2BuxKWTwWXLlik1NdXoMAAAAAzjsslgTk6O3nnnHaWlpRkdCgAAsAOVQfu4RDI4d%2B5ctWvXTo0aNVJUVJS%2B/vpr3Xfffbp48aK6deummTNnatu2bQoPD9eCBQvUuHFj7dy5U5L05Zdf6qGHHlKjRo3UqVMnrV27tsB9ZGZmql%2B/fnrppZckSRkZGZo4caIeeOAB3XvvvXryySf122%2B/3bHXDAAAUBh/%2BxNIduzYoUWLFumrr75SxYoVtXnzZkVHR2vhwoXq2bOnvv76a1WvXl3btm1TVlaWjhw5oi1btsjHx0cbNmzQlClTNGfOHDVq1Ejr1q3Tiy%2B%2BqOrVq6tWrVo2%2B3n99dfl7e2tN998U5I0depU/frrr4qNjZW/v79mzJih4cOH69tvv5Wbm1uhYk9OTlZKSopNW%2BCVKwoKCiqawbGXl5fto5E8HehX2cPD9tFojhKH5HhjEx5udAQWtWvbPhrNEd7TefLe247yHi/k53exy4vDUeIxmKtV8oqag7y7is/Fixfl7u4uX19fubm5qXXr1vrll1908uTJfH2zsrLUr18/%2Bfr6SrLMKezSpYuaNm0qSercubPmzZun7777ziYZ/PTTTxUfH68lS5bIy8tLubm5WrFihd5//30FBwdLkkaNGqXPP/9ce/bsUaNGjQoVe2xsrGbOnGnTNnzYMEWPGHFbY1FsKlY0OgLHVLas0RE4rtKljY7AYscOoyOw9cUXRkfguAICjI7AMTlS4m4gkkH7/O2TwRYtWqhu3bqKjIxUixYt1LZtW3Xr1u2m/e%2B%2B%2B27rv48fP67mzZvbLL/nnnt04sQJ6/Mff/xRmzZt0qeffqrSf3zBnTt3TpcuXdLQoUNtqoC5ubk6depUoZPB3r17KzIy0qYt8MoV6ejRQq1f7Ly8LIngqVNSVpaxsZQqZez%2Br%2BfhYUkETSYpJ8foaBynCidZYildWrp40THG5ob3l2Fq17Ykgv36SYmJRkcj/d//GR3BNZ6elkQwNVXKzjY6Gsf5I8/NzfIZnJUlmc1GR2Ph7W10BLhNf/tk0NvbW7Nnz1ZiYqLWr1%2BvxYsXa968efrggw8K7O953aGIzMzMAvtcn%2BDt3LlT999/v6ZPn66IiAh5eHhYK4tffvml6tevf9uxBwUF5T8kfPCgdPXqbW%2BzWGRlGR%2BTj4%2Bx%2By9ITo5jfHk5opwcx0gG/5gb7DASEx0jJqP/uCtIdrZjxOUoiVces9nxYjIAlUH7/O1PIMnKylJ6erpq166tYcOGaeXKlXJzc9OWLVtuuW5oaKgOHTpk03bo0CGFhIRYn0dHR2vatGlKTU3V7NmzJUmlS5dW2bJltX//fpt1jx8/XgSvCAAAoOj87ZPBefPm6bnnntPp06clSUlJSTp//ryaNGkiSfr999%2BVnp5e4LrdunXT6tWrtWvXLmVlZWnFihU6ePCgHn74YWsfd3d3lSpVSm%2B//bZmz56tX3/9VZLUp08fffTRR0pKSlJWVpYWLFigxx9/XFeuXCnmVwwAgGvh0jL2%2BdsfJn766ad18uRJde/eXRkZGapYsaLGjBljvczMyJEj1adPH3Xs2DHfug8//LBOnDihsWPH6uzZs6pWrZrmzZunKlWq5Ot73333qW/fvho7dqxWrFihoUOH6sKFC%2BrXr5%2BysrJUp04dffzxxypRosQdeNUAALgOV0veipqb2cxkA6dy8KDREVzj4yOFhlpOaDF6zmCZMsbu/3qenlK5ctK5c44xZ9BRLskhOd7JNeXLGx2BRXi45czmxo0dY86gI01p8fKSgoKk5GTHmDPoKL8zbm6WEzYyMx1nzqCBc7eL423jKFeeuhMc6FsCAADgr6MyaJ%2B//ZxBAAAA3ByVQQAA4NSoDNqHZBAAADg1kkH7cJgYAADAhVEZBAAATo3KoH2oDAIAALgwkkEAAODUnO0OJCaTSaNGjVLLli3VunVrvfrqq8rIyLhp/%2B%2B//15du3ZVeHi4oqKi9NVXX1mXffDBB6pTp44aNGhg83P27NlCx8NhYgAA4NSc7TDxa6%2B9pszMTK1Zs0ZZWVkaOXKkpk6dqvHjx%2Bfru2fPHo0ZM0bvvfeeHnjgAW3evFnDhg1TtWrV1LRpU0mW2%2Be%2B8847tx0PlUEAAIA75OzZs4qLi1NMTIwCAgIUHBysoUOHavny5coq4C47JpNJzz//vDp06CBPT0/df//9CgsL0/bt24ssJiqDAADAqRVHZTA5OVkpKSk2bYGBgQoKCrJru/v27ZOHh4dq1aplbatXr54uX76sQ4cO2bRLUtu2bdW2bVvr8%2BzsbKWkpCg4ONjatn//fvXp00cHDhxQxYoV9fLLL6t169aFjolkEAAAOLXiSAZjY2M1c%2BZMm7bhw4crOjraru2aTCb5%2BfnJzc3N2ubv7y9JSktLu%2BX6U6dOVcmSJdW5c2dJUoUKFRQSEqLRo0crKChIsbGxGjx4sFatWqVq1aoVKiaSQQAAgBv07t1bkZGRNm2BgYGFWvfrr7/W2LFjC1wWExMjs9n8l%2BMxm82aOnWq1qxZo0WLFsnHx0eS1LNnT/Xs2dPab8CAAfrmm2%2B0atUqjRo1qlDbJhkEAABOrTgqg0FBQbd9SLhbt27q1q1bgcs2b96s9PR05eTkyMPDQ5KlWihJ5cqVK3Cd3Nxcvfzyy9qzZ4%2BWLFmikJCQP91/pUqVlJycXOh4OYEEAADgDqlTp47MZrMSExOtbfHx8SpTpoyqVq1a4DpvvfWWDh48WGAi%2BOGHH2rr1q02bUlJSbdMGK9HMggAAJyaM11nMCAgQFFRUXr//feVmpqq06dPa9asWXr88cfl6Wk5YNu/f3%2BtXbtWkvTLL79o1apVmjt3rsqWLZtveyaTSW%2B88YYOHTqkq1evat68eTp69KgeffTRQsfEYWIAAODUnO06gxMnTtTrr7%2Bu9u3by8vLS126dFFMTIx1%2BbFjx3T%2B/HlJ0vLly3Xx4kW1a9fOZhvNmjXTvHnzNHr0aEmWuYImk0k1atTQggULVKFChULH42a%2BnVmMMM7Bg0ZHcI2PjxQaKh09Kl29amwsZcoYu//reXpK5cpJ585J2dlGR2OJx1F4eEhly0omk5STY3Q0UvnyRkdgER4u7dghNW4s7dxpdDTS8eNGR3CNl5cUFCQlJ0sFXIPtjnOU3xk3N8nbW8rMlBzla/yPExqM8N13Rb/NqKii36ajcqBvCQAAgL/O2SqDjoY5gwAAAC6MyiAAAHBqVAbtQzIIAACcGsmgfThMDAAA4MKoDAIAAKdGZdA%2BVAYBAABcGJVBAADg1KgM2odkEAAAODWSQftwmBgAAMCFURkEAABOjcqgfUgGnc2ZM0ZHcE2pUpZ7E587J126ZGwsRt8b%2BXq%2BvpZ7E6elSRkZRkcjlS5tdATXeHtb7k185YrlnqpGc5R78Hp5WR7/7/8c4/67lSsbHcE1efdt7tTJMe7bnJpqdAQWHh6W91NGhmPc51sy9N7EsA/JIAAAcGpUBu1DMggAAJwayaB9OIEEAADAhVEZBAAATo3KoH2oDAIAALgwKoMAAMCpURm0D8kgAABwaiSD9uEwMQAAgAujMggAAJwalUH7UBkEAABwYVQGAQCAU6MyaB%2BSQQAA4NRIBu3DYWIAAAAXRmUQAAA4NSqD9qEyCAAA4MKoDAIAAKdGZdA%2BJIMAAMCpkQzah8PEAAAALozKIAAAcGpUBu1DZRAAAMCFURkEAABOjcqgfUgGAQCAUyMZtA%2BHiQEAAFwYlUEAAODUqAzah2QQAAA4NZJB%2B3CYGAAAwIVRGQQAAE6NyqB9qAwCAAC4sL%2BUDNaqVUs//vhjccVit5iYGL300kuSpPHjx2vs2LEGRwQAAIpbbm7R/7gShz5M/P3336tWrVq65557/vK6kyZNKoaIAHOFp7gAACAASURBVACAo3G25M1kMmnChAn673//K3d3d91///167bXX5Ovrm6/vihUr9Morr8jLy8umffHixWrYsKFyc3P1r3/9S2vWrNGFCxfUsGFDTZgwQSEhIYWOx6EPE8%2BYMUNHjhwxOgwAAIAi89prr%2BnKlStas2aNli9frqSkJE2dOvWm/Zs1a6b4%2BHibn4YNG0qyJIWrV6/W3LlztXHjRlWpUkXDhg2T2WwudDx/ORlMSUlR//791bBhQ3Xu3FkHDhywLtu6dat69%2B6t8PBwtWnTRrNmzbIuM5vNmjp1qu6//36Fh4fr0Ucf1f/%2B9z/r8ieffFJTpkzRI488okGDBqlr1646ePCghg4dqpdffrnAWL766itFRkaqSZMmeuONN5R73Z8GL730kmJiYiRJZ8%2Be1bBhwxQREaHGjRtrwIABOnbsmLXv559/roceekiNGjXSww8/rLi4OOuy1NRUjRgxQi1atFDTpk313HPP6dSpU9blc%2BfOVbt27dSoUSNFRUXp66%2B/ti5LTExU//791bRpUzVv3lyTJk1SVlbWXx1yAADwJ5zpMPHZs2cVFxenmJgYBQQEKDg4WEOHDtXy5ctvK0eIjY3VgAEDVL16dfn5%2BSkmJkZJSUnavXt3obfxl5PB2NhYTZgwQVu2bFH58uX13nvvSZJOnz6toUOHqm/fvtq%2Bfbs%2B%2BeQTffnll1q9erUk6euvv9bKlSsVGxur7du3q3379hoxYoRycnKs2/7mm280efJkzZkzR6tWrZIkffjhh/%2B/vXuPq/n%2B4wD%2BqnRBlFJGF2NLkSLXuYUil0qxTNjNZZncVuayuaz8bK5zmUv2G8Zom0ummHvEIjOSLophm1y6uIRSnTqd3x/9nDkrE6f6nNP39Xw8PHI%2B3%2B85vXaWevf%2BfL6fLxYsWFAmx7Vr1zB37lx8%2BumniIuLg6OjI44fP15u5pUrV8LExAQnTpxAbGwsbG1tsWjRIgClU9GrV6/GkiVLcO7cOUyZMgUfffQRbt26BQBYsmQJ8vLyEB0drXz9L774AgAQHx%2BP7777DuHh4UhISMCcOXMQEhKCu3fvIj8/H2PHjkXXrl1x6tQp7NixA7/%2B%2Bis2bNjwom85ERER1RCpqanQ09ODvb29cszR0RGPHz/GtWvXyn3O7du3MWrUKHTs2BHu7u7KxlNBQQGuXLmCVq1aKc81NjZG06ZNkZSUVOFML7xm0MfHB82aNQMAuLm54YcffgAA7N27F3Z2dvD19QVQerGJv78/IiMj4e3tDW9vb7i7u6NevXoAAE9PT6xatQq3bt1Szms7Ozsr257Pc%2BTIEbRq1Qp9%2BvQBAPj5%2BWHz5s3lnvvw4UOYmprCwMAAOjo6CAkJga5uaR28c%2BdO%2BPn5oXXr1gAADw8PtG/fHnv37kVAQABCQ0NRXFyMOnXqAAD69OmDdevWAQAePXoEXV1dGBkZQUdHB927d8e5c%2Begq6uL/fv3Q6FQYNy4cQAAGxsbjBkzBl9//TU%2B/PDDCv03ZmVlITs7W2XM4vFjWFpYVOj5Va52bdWPIpWzzkIYQ0PVj6IZGIhO8LdatVQ/iqanJzpBKU17X1xcRCf4m4OD6kfRNOVr5v8/w5QfJa4qOnnl/gy2sIClpaVar5uTkwNjY2Po6Ogox0xMTAAA9%2B/fL3O%2BmZkZXn31VQQHB%2BP111/H4cOHMX36dFhaWqJ58%2BZQKBTK5z/9euW91rO88Hcea2tr5d8NDQ2VLc3r168jKSkJTk5OyuMKhUJZOObn5%2BOLL77AiRMn8ODBA%2BU5MplM%2BXcrK6sK58jMzFTJAgCvvvpqueeOHTsW48ePxy%2B//ILu3btjwIAB6NKlizL3yZMnVQpJhUKB119/HQDw119/YeHChUhMTERBQQFKSkpgamoKAOjSpQtatWoFNzc3dOnSBa6urvDx8UGdOnWQnp6Ou3fvlnk/DF7gB/O2bduwevVqlbGJEyZgkodHhV%2BjWmjKN2lN8wKLdyVHU36h0TRmZqITlIqPF52grO%2B/F51AMxkbi06gEaqiGCz3Z/DEiZg0adJznxsZGfnMHU2CgoJeaD1fr1690KtXL%2BVjT09PHD58GLt27cLHH38MAC/0euV54WLw6Ur2aUZGRujZs6eya/ZPoaGhuHTpEsLDw9G0aVOkp6ejb9%2B%2BKufovcBvXDKZDMXFxSpjJc/4anBycsLRo0fxyy%2B/ICYmBhMnTsRbb72FGTNmwMjICFOnTsXo0aPLPK%2BkpATjxo1D%2B/btcfDgQZiZmWHHjh1YsWIFAMDAwADr1q1DWloaoqOjER4ejo0bN2LXrl0wNDSEnZ2dcpr8ZQwbNgxubm4qYxY3bwLnz7/0a1aq2rVLC8G0NCA/X2yW/3ecNYKhYWkhmJ4OFBaKTgPUrSs6wd9q1SotBLOzgX/8%2BxVCU7o8tWqVFoL37mnG%2B9K/v%2BgEf3NwKC0ER4wo/V4jWkyM6ASldHVLC8HcXM25lLZ%2BfdEJKlW5P4Mr%2BIusj48PfHx8yj128uRJ5ObmQi6XK%2BuenJwcAIC5uXmFXt/KygrJyckwNTWFrq6u8vlP5OTkVPi1gErcWsbW1hZHjhyBQqFQFozZ2dkwMTGBgYEBEhMTMXToUGX3LiUlRa3PZ2lpWeY1rl69irZt25Y5NycnByYmJnB3d4e7uzu8vb0xbtw4zJgxA7a2trh06ZLK%2Bbdu3ULjxo1x584d3Lx5EytWrIDZ/39jv3jxovK8oqIiFBYWwsHBAQ4ODhg3bhwGDhyIU6dOwdbWFunp6cjLy0Pd//8wvn//PvT19WFcwd/kLC0ty7aj798H8vIq9Pxqk58vPtM/LrnXCIWFQEGB6BSa%2Bd4UFwNPzQoIoynTsk8UFwOacJGZpvzC%2BbS0NM3I9dQ6d41QUqJ5mQSoinq43J/BlaBly5ZQKBRIS0uDo6MjACApKQn169dXzqY%2B7YcffoCJiQkGDhyoHLt69SpsbGyUjaeUlBR06tQJQOnSuOvXr1d42R1QiVvLeHp6IicnB2vXrkVBQQHS09MxevRo5fSrtbU1kpKSIJPJkJCQgJ9//hlA6Zz8sxgaGuKvv/5Cbm5umWOurq64ePEiYmJiIJPJEB4ejszMzHJfx9/fH9988w0KCwtRVFSECxcuKPcuHDZsGPbt24eYmBgUFxfj9OnT8PLywoULF2BmZoY6deogISEBhYWF2LNnD1JTU5Gbm4u8vDxs3LgRH3zwATIyMgCU/s958OABbG1t0b17d5iZmWHRokXIzc1FdnY2pkyZ8q%2BXjhMREVHNZmZmhn79%2BmHFihW4d%2B8eMjIysGbNGvj5%2BaHW/39Bfe%2B997Bv3z4ApTOh//nPf5CUlISioiLs3bsXJ06cgL%2B/PwBg%2BPDh%2BO6773D16lXk5uZi6dKlaNmypcoyteeptF%2BLGzRogLVr12Lx4sVYt24dzMzM4OPjo5x%2BnTp1KqZPn45OnTqhTZs2WLx4MQAgMDAQW7duLfc1/f39sXjxYpw6dQphYWEqx9q0aYPZs2cjJCQEDx8%2BhLe3N/r371/uvPmKFSsQGhqKsLAw1KpVC05OTsqirFu3bpgxYwbmzZuHO3fuwNraGiEhIcoOY0hICJYsWYKVK1cqL3p5%2B%2B234eHhgWPHjuHWrVvw9fVFQUEBGjdujI8//hgtW7YEUHol9Pz589GtWzcYGxvD3d0dM2bMqJw3nIiIiABozkx5Rc2bNw%2BfffYZ3N3doa%2BvDy8vL%2BV2eACQnp6uvL7i3XffRV5eHqZMmYLs7GxYW1tjzZo1ygtf/f39kZ2djXfeeQd5eXno3LlzmbWOz6OjUHfVIVWv2FjRCf5Wt27pVYfnz4ufJv7/RT0awcgIeP114MoVzZgm1qT1lAYGQOPGwO3bnCZ%2Bmr4%2BYGkJZGVpxjTxPy7OE8rFpfSClnbtNGOa%2BN490QlK6emVrtF7%2BFBzpokbNBD2qZ%2BxHbFaytnVrsbiNelEREREEqYhvxYTERERvRxtmybWNOwMEhEREUkYO4NERESk1dgZVA%2BLQSIiItJqLAbVw2liIiIiIgljZ5CIiIi0GjuD6mFnkIiIiEjC2BkkIiIircbOoHpYDBIREZFWYzGoHk4TExEREUkYO4NERESk1dgZVA87g0REREQSxs4gERERaTV2BtXDYpCIiIi0GotB9XCamIiIiEjC2BkkIiIircbOoHrYGSQiIiKSMHYGiYiISKuxM6geFoNERESk1VgMqofTxEREREQSxs4gERERaTV2BtXDziARERGRhLEzSERERFqNnUH1sBgkIiIircZiUD2cJiYiIiKSMHYGiYiISKuxM6gedgaJiIiIJIydQSIiItJq7Ayqh8Wgtrl0SXSCv5mbAy4uwF9/AXfvis3SooXYz/%2B0unVLPz58COTlic0CAHp6ohP87cl37IKC0j%2BiNW8uOkEpHZ3Sj6amgEIhNgsA3LsnOsHfnnz9xsQAcrnQKAAAMzPRCUq5uADx8UCvXsD586LTlBL4tctiUD2cJiYiIiKSMHYGiYiISKuxM6geFoNERESk1VgMqofTxEREREQSxs4gERERaTV2BtXDziARERGRhLEzSERERFqNnUH1sBgkIiIircZiUD2cJiYiIiKSMHYGiYiISKuxM6gedgaJiIiIJIydQSIiItJq7Ayqh8UgERERaTVtKwZzcnIQEhKCM2fOQFdXFz179sScOXNgZGRU5tzZs2cjMjJSZUwul8PHxwcLFizAzJkzERUVBT09PeVxQ0NDnD17tsJ5OE1MREREVI3mzJmD/Px87N27FxEREbh69SqWLl1a7rnz589HUlKS8s/58%2BfRvHlz9O/fX3nO%2BPHjVc55kUIQYDFIREREWq6kpPL/VJU7d%2B7gyJEjCAoKgpmZGRo1aoTAwEBERESgqKjouc/fvHkzmjRpgp49e1ZaJhaDRERERNUkNTUVenp6sLe3V445Ojri8ePHuHbt2r8%2B9%2BHDh1i3bh2mTZumMn769Gn4%2BvrCxcUFfn5%2BSE5OfqFMXDNIREREWq0qOnlZWVnIzs5WGbOwsIClpaVar5uTkwNjY2Po6Ogox0xMTAAA9%2B/f/9fnbt26FR07doSdnZ1yzMbGBrq6upgyZQrq1q2L1atXY/To0Th48CAaNGhQoUwsBomIiEirVUUxuG3bNqxevVplbOLEiZg0adJznxsZGYnp06eXeywoKAgKheKF88jlcoSHh%2BPLL79UGZ8wYYLK42nTpmHv3r04cuQIhg4dWqHXZjFIRERE9A/Dhg2Dm5ubypiFhUWFnuvj4wMfH59yj508eRK5ubmQy%2BXKK4BzcnIAAObm5s98zd9%2B%2Bw0ymQwdOnT418%2Btp6eHxo0bIysrq0JZARaDREREpOWqojNoaWmp9pRweVq2bAmFQoG0tDQ4OjoCAJKSklC/fn00a9bsmc%2BLjo7GG2%2B8gVq1/i7dFAoFFi5ciMGDB8PBwQEAIJPJcP36ddjY2FQ4Ey8gISIiIqomZmZm6NevH1asWIF79%2B4hIyMDa9asgZ%2Bfn7LQe%2B%2B997Bv3z6V56WmpsLa2lplTEdHBzdu3EBoaCgyMzORl5eHpUuXQl9fH3369KlwJhaDREREpNW0aWsZAJg3bx7q1asHd3d3DBo0CM7OzggKClIeT09Px4MHD1Sek52djYYNG5Z5rc8//xyvvvoqhgwZgq5duyI1NRWbN29GnTp1KpyH08RERESk1bTtDiT16tXDsmXLnnn86NGjZcYOHjxY7rmmpqZYsGCBWnnYGSQiIiKSMHYGiYiISKtpW2dQ07AzSERERCRh7AwSERGRVmNnUD0sBomIiEirsRhUD6eJiYiIiCSMnUEiIiLSauwMqoedwWdwc3ODo6MjnJyc4OzsjG7dumHq1KnIzMwEAMycORP29vY4ffp0medevHgR9vb2mDlzpnLM3t4eJ06cqLb8RERERBXBYvBfzJ49G0lJSUhMTMSuXbtw584dzJ07V3nc3Nwce/bsKfO8PXv2wMzMrDqjEhERSZa23YFE07AYrKBGjRrBw8MDf/zxh3LM1dUVhw4dgkwmU44pFArs378frq6uImISERFJDotB9bAYrACFQoH09HRERkbCy8tLOW5lZYWmTZvi2LFjyrGzZ8/C3Ny8zM2kiYiIiDQRLyD5F/Pnz8cXX3wBhUKBoqIidOnSBSNHjlQ5Z9CgQdizZw/69esHoHSK2NvbG48ePVL782dlZSE7O1tlzAKApbm52q9dKUxMVD%2BKVLeu6AR/q11b9aNoRkaiE/zNwED1o2g6OqITlHqSQ1Py6OmJTvA3XV3Vj6K5uIhOUMrBQfWjxEmtk1fZWAz%2Bi9mzZ2P48OEAgIcPH2LLli3w9fVFVFSU8hwvLy8sX74cDx8%2BRO3atXHkyBFERkbixx9/VPvzb9u2DatXr1YZmzhhAiaNGaP2a1eq3r1FJ9BMLVuKTqC5rKxEJ9BM%2BvqiE5TSlGL9acbGohOUio8XnUDV99%2BLTkA1AIvBCqpfvz4mTJiAiIgI7N%2B/XzluZmaGzp0748CBA7C0tISDgwMsLCwq5XMOGzYMbm5uKmMWp08Du3dXyuurzcSktBA8dgx48EBsFltbsZ//abVrlxaCqalAfr7oNECDBqIT/M3AoLQQvHkTeGqtrTCaUpTq6JQWgkVFgEIhOg1QUCA6wd90dUsLwdxczWj/9OolOkEpB4fSQnDECCAtTXSaUgILZU340tBmLAZfQmFhocrjQYMGISIiAg0bNoS3t3elfR5LS0tYWlqqDp4%2BDdy9W2mfo1I8eCA%2Bk6ZMnT8tPx/IyxOdQnOmq58mk2lGwaEJhdfTFArNyCSXi05QVkmJZuQ6f150AlVpaZqXSQAWg%2BrRkEUYmq%2BwsBDffvst7t%2B/D3d3d5Vj7u7uuHz5Ms6cOYO%2BffsKSkhERET04tgZ/BdPLiABAENDQ7Rq1Qrr16%2BH7T%2BmJA0NDdGzZ0/k5ubCWFPWtRAREUkEO4PqYTH4DEePHv3X4wsXLlR5PH/%2BfJXHkyZNUnl86dKlyglGREREVIlYDBIREZFWY2dQPSwGiYiISKuxGFQPLyAhIiIikjB2BomIiEirsTOoHhaDREREpNVYDKqH08REREREEsbOIBEREWk1dgbVw84gERERkYSxM0hERERajZ1B9bAYJCIiIq3GYlA9nCYmIiIikjB2BomIiEirsTOoHnYGiYiIiCSMnUEiIiLSauwMqofFIBEREWk1FoPq4TQxERERkYSxM0hERERajZ1B9bAzSERERCRh7AwSERGRVmNnUD0sBomIiEirsRhUD6eJiYiIiCSMnUEiIiLSauwMqoedQSIiIiIJY2eQiIiItBo7g%2BphZ5CIiIi0WklJ5f%2BpaklJSejbty/eeuut55773XffoV%2B/fmjXrh2GDx%2BO5ORk5bHCwkLMnTsXrq6u6Ny5MyZPnoz79%2B%2B/UBYWg0RERETVKCoqCpMmTULTpk2fe%2B7Ro0exatUqLF68GKdOnULv3r3x4Ycf4vHjxwCA5cuXIyUlBdu2bcPBgwehUCjwySefvFAeFoNERESk1bStM1hYWIht27ahTZs2zz1327ZtGDJkCNq0aQMjIyOMHTsWAHDs2DEUFxdj586dCAwMROPGjWFqaoqPPvoIMTExyMzMrHAeFoNERERE1Wjo0KFo1KhRhc5NSUlBq1atlI91dXXRsmVLJCUl4fr163j06BEcHR2Vx1977TUYGRkhJSWlwnl4AQkRERFptaro5GVlZSE7O1tlzMLCApaWlpX/yf5FTk4OTExMVMZMTExw//595OTkAADq16%2Bvcrx%2B/fovtG6QxaC2GTNGdAKlrKwsbFu1CsOGDav2fxyajO/Ls6m8N82aiY6jMbKysrBt2zbN%2BZoxNBSdQCkrKwvbNm/WnPdGoRCdAMBT/5YOHNCM90WwqvjfsmrVNqxevVplbOLEiZg0adJznxsZGYnp06eXe2zBggUYMmTIC2VRPOc/8HnHn4fFIL207OxsrF69Gm5ubvxm9BS%2BL8/G96Z8fF%2Beje9N%2Bfi%2BVL1hw4bBzc1NZczCwqJCz/Xx8YGPj0%2Bl5GjQoIGyA/hETk4O7OzsYGZmpnxct25d5fEHDx7A3Ny8wp%2BDxSARERHRP1haWmpEod26dWukpKRg8ODBAAC5XI6LFy/Cz88PNjY2MDExQUpKCqysrAAAly9fhkwmQ%2BvWrSv8OXgBCREREZEG6d%2B/P86ePQsAGD58OHbv3o2EhATk5%2BcjLCwMBgYG6NWrF/T09PDWW29h3bp1uH37Nu7fv49ly5ahb9%2B%2BaNiwYYU/HzuDRERERNWoX79%2BuHXrFuRyOUpKSuDk5AQAOHDgAKysrPDHH38o9xF0dXVFcHAwPvroI9y9exdOTk7473//CyMjIwDA5MmTkZeXBx8fHxQXF6N3794ICQl5oTw6CnVXHZJkadyidw3B9%2BXZ%2BN6Uj%2B/Ls/G9KR/fF6pMLAaJiIiIJIxrBomIiIgkjMUgERERkYSxGCQiIiKSMBaDRERERBLGYpCIiIhIwlgMEhEREUkYi0EiIiIiCWMxSERERCRhLAaJiIiIJIzFIFEVefDggegIGkcmk5X5I3WJiYk4dOiQ8nFhYaHANOLJ5XL897//xcCBA9GxY0cAQF5eHubNmyf594aoqrAYpBeSkZGB9evXY/78%2BcqxxMREgYk0Q0pKCoYMGaJ8PGXKFHTu3BldunTB%2BfPnBSYT79SpU/Dy8kLr1q3Rpk2bMn%2Bk6urVqxgwYADeeecdBAcHAwBu3ryJ3r174%2BLFi4LTibNw4UL8/PPPGDdunLL4KyoqwtWrV7FgwQLB6YhqJt6bmCosOjoaQUFBaNeuHc6dO4ekpCTcvn0bXl5emDdvHjw9PUVHFGb48OHo0aMHAgMDceTIEYSEhGD79u2Ij4/H999/j%2B%2B//150RGH69u2LTp06wcPDA7Vr1y5zvFOnTgJSiffee%2B/ByckJkydPRocOHZS/VG3atAnR0dHYsmWL4IRidO3aFTt27ICVlRXatGmDCxcuAACys7MxePBgxMbGCk4oRkX/u7t3717FSagmqiU6AGmPFStWYNmyZejTpw%2BcnZ0BAI0bN8aaNWswf/58SReDly9fVv7wjo6OxsCBA9GkSRM0btwYoaGhgtOJdefOHYSGhqJWLX67eVpiYiK%2B%2BeYbGBgYQEdHRzn%2B9ttvY/Xq1QKTiVVUVIRXXnmlzHjt2rWRl5cnIJFmGDt27HPP0dHRQWpqajWkoZqG352pwtLT0%2BHm5gYAKj%2B8OnbsiBs3boiKpREMDQ1RVFQEHR0d/PLLL1iyZAkA4PHjxygpKRGcTqxOnTohLS0NrVu3Fh1Fo5iamuLhw4do2LChyvj169clXTg7Ojpi48aN%2BOCDD5Rj%2Bfn5WLp0qaS/htLS0kRHoBpMut9x6IU1adIEly5dQsuWLVXGY2NjYW5uLiiVZnB1dcXkyZNRq1YtGBsb44033kBRURGWL1%2BOdu3aiY4nVJ8%2BfTB9%2BnT07t0b1tbW0NVVXao8bNgwQcnE6t27NyZPnozAwEAoFAqkpqYiLS0NYWFhku6yz5w5E2PHjsXmzZshk8kwaNAgpKenw8zMDGvXrhUdj6hG4ppBqrCtW7di7dq18PPzw8aNG/Hxxx/j0qVL2LdvH6ZPn46RI0eKjihMQUEBNm3ahEePHmHEiBGwsrLC48ePMWnSJHz%2B%2BeflTntJxZNucnl0dHQQHR1djWk0R2FhIZYsWYKffvpJOf1pamqKYcOGYcKECTAwMBCcUJyCggLExMTg%2BvXrMDIygq2tLbp37y7pjuknn3xSofN4kQ29DBaD9EIOHTqEiIgI5TdpGxsb%2BPv7o2vXrqKjaYz79%2B%2BjQYMGomOQllAoFLh79y6MjIxgbGwMoHTdnL6%2BvuBk4ty7dw9mZmYAgNzcXMTFxcHW1hb29vaCk4nj4OAAc3NzuLq6wsrK6pnnTZw4sRpTUU3BYpCoEuTl5WHRokWIiopCcXExkpOTkZOTgxkzZmDBggXKH2xSde/ePRw/fhw3b94EADRt2hS9e/dWFj9S9Mknn%2BDzzz8vM22elpaGadOmYc%2BePYKSiRUVFYWQkBDEx8cjPz8fvr6%2BAEr37Zw2bRrefPNNwQnFSE1NRVRUFA4cOICGDRvC29sbnp6ekl%2BiQ5WDxSBV2L9NU%2Bjq6qJRo0ZwdXVF27ZtqzGVZpgxYwaysrIwYcIEjB49GomJicjLy8PcuXOhUCiwbNky0RGFiYuLw4QJE1C7dm3Y2NgAKL1IQi6XY8uWLWjRooXghGKMGDECRkZG%2BOqrr2BsbAyFQoGwsDCsW7cOI0aMwMyZM0VHFGLAgAGYPXs2unXrhh9//BHh4eHYvXs3rly5guDgYPz888%2BiIwp39uxZ7NmzB0eOHIGDgwO8vb3h4eGBOnXqiI5GWorFIFXY7NmzcfjwYdSuXRutWrWCrq4uLl68iMLCQnTq1Al37tzB%2BfPnERISAj8/P9Fxq1Xnzp2xf/9%2BmJmZqeyN9vDhQ/Tr1w9xcXGCE4ozZMgQeHt7Y9SoUcoxuVyOsLAw/Pbbb9i8ebPAdOIUFRVh7ty5SE5Oxqefforly5fj3r17WLBggfLOG1Lk4uKi3Kg9MDAQTk5OGD9%2BfJljBBQXF%2BPkyZPYv38/zpw5AxcXF3z55ZeiY5EWku5qXHphpqameOeddxAYGKic2iopKUFYWBj09fUREBCA2NhYzJ8/X3LFoI6OTrlTnnK5XPK30Lp27RreeecdlTE9PT0EBATgu%2B%2B%2BE5RKPH19fSxYsAAbNmzA2LFj4erqik2bNkm%2Bu9OgQQNkZmbCwMAAcXFxmDJlCgAgMzMTRkZGgtNploKCAmRlZeHOnTsoLi5G3bp1RUciLcVikCps%2B/btiI2NVVnjpKuriw8%2B%2BAC9e/dGQEAAunXrhszMTIEpxXBxccHixYvx8ccfK8du3ryJzz//XLJ32HjC0tISf/75J15//XWV8fT0dMmtGdy2bVuZMWNjti%2BV%2BAAAFXxJREFUY/Ts2RMJCQmIjIxU/vuS6pY7/v7%2B8PPzg56eHjp37gx7e3vk5uYiKCgI/fr1Ex1PuKKiIsTExCAqKgqxsbF444038Oabb8Ld3V3SV6CTelgMUoXp6%2BvjxIkT6NOnj8p4XFwcZDIZACAmJgaNGzcWEU%2BoOXPmIDAwEB06dEBxcTHat2%2BPx48fw8XFBUuXLhUdTygfHx8EBARg5MiRaN68OYDSbmF4eDj69%2B8vOF31%2Bvrrr595zMjICN988w2A0k6zVIvBgIAAdOjQAY8ePUKXLl0AlL43vXr1UllqIDVnzpzBnj17cOjQITRt2hSDBg1CaGio5C9Oo8rBNYNUYTt27MDcuXPh4OAAKysr1KpVC7du3UJSUhKCgoLw/vvvo127dli0aJFkN81NTEzEjRs3YGhoCFtbW9jZ2YmOJJxCocDWrVsRERGBGzduQCaTwdbWFoMGDcKYMWOgp6cnOiJpgcePH8PDw0Oy9yZ2cHBAw4YN0aNHD24tQ5WOxSC9kIsXL%2BLEiRPIzs5GSUkJzM3N0blzZ/zwww9YtmwZbty4AWtra9Exq92oUaPw7bfflhnPzc3FO%2B%2B8g59%2B%2BklAKtJ0v//%2BOw4ePKiy5Y6np6fyqmspysjIwBdffIHk5GTljANQun2TpaUlDh48KDCdODNnzlS5DeizcNNpehksBqnC5HI5fvzxxzLfpLOysnD58mX8%2BuuvAtOJkZKSgqSkJMyfP1%2B5jczTrl%2B/ju%2B//15yV0Du3LlTeRFReevknibV6dAnd%2B5p2bIlbG1tAQB//PEHrly5go0bN6JDhw6CE4oREBAAAHB3d8d//vMfhISEICUlBampqVizZg331XtKTk4O9u/fj8LCQri7u0v6lwhSD4tBqrCQkBAcO3YMHTp0wIEDB%2BDp6YnU1FQYGBhg1qxZkrwH7%2BnTp7Fp0ybExMSgSZMmZY4bGRnhrbfewvvvv1/94QTq378/Dhw4AIC3o3uWgQMHYuLEiRg4cKDK%2BK5du/Djjz9i%2B/btgpKJ1alTJxw/fhy1a9dW2aZp7969OHv2LEJCQsQGFCQ7Oxtz5szBH3/8AW9vb4wYMQK%2Bvr7KO9Xk5ORgw4YNktznldTHYpAqrHv37ti5cydeeeUVODs7IzExEQqFAkuXLoW1tTWGDx8uOqIw48ePR1hYmOgYpEXatm2Lc%2BfOlVkzWVxcjDfeeANnz54VlEysrl274tixYzA0NESnTp1w6NAhmJqaQiaToVu3bvjtt99ERxRi6tSpuHv3Lvr27YuoqCjUrVsXHTp0QGBgIADg22%2B/xfHjx7Fp0yaxQUkr6T7/FKJShYWFeOWVVwCU7hMnk8mgo6ODgIAAyRdCYWFhKCgowP79%2B1W%2BGWdkZIgLpSFkMhm2bNmifBwdHY3x48dj0aJFyMvLE5hMrCZNmii7Xk9LSUmR9FRohw4dMHHiROTn58PJyQkLFy5EcnIytm/fDkNDQ9HxhPn111%2BxZMkSjBw5EkuXLkVcXBzeffdd5fGRI0fi4sWLAhOSNmMxSBXWokULrF69GkVFRWjWrBl27NgBALh9%2BzYeP34sOJ1Y8fHx6NmzJ5YtW6bcSubmzZsYMGCApO8%2BAgDz5s1T3mf32rVrCA4OhqOjo3IfRql69913ERAQgNDQUGzduhVbt27FvHnzMHbsWAwdOlR0PGFCQ0NhYWGBWrVqYebMmThz5gz8/PywbNkyzJgxQ3Q8YXJzc2FhYQEAsLGxQa1atVT26TQwMJD8Bvf08jhNTBWWlJSE4OBgREZG4tSpU/joo4%2BU34BGjhyJTz/9VHREYYYOHQpfX1%2BMHDlSOYUOlF4ksGHDBkRERAhOKE6XLl2wZ88eNGzYEMuXL8eVK1ewZs0aPHr0CAMGDJDsViEAcPTo0TJb7vj4%2BJRZRyhlCoUCd%2B7cgZmZmaS3IXp6/WR5j581RlQR3HSaKszJyQmHDx8GAPTp0wdRUVFITU2FlZWV5Bct//7778qrYp/e/qF///6YNWuWqFgaobCwEA0bNgQAnDx5EiNHjgRQeucNKU8TX7hwAW5ubv96gY1UZWRkYO/evcjIyMDs2bNhYWGBxMREODs7i44mjFwux/bt25U7Fvzz8ZMxopfBYpBeWvPmzZV3lJA6CwsL3L59u8zWDklJSZK75do/2dnZYdeuXTAyMsKVK1eUxc%2BpU6ckebeaJ8aMGYNTp07xFmL/EB0djaCgILRr1w7nzp3D7Nmzcfv2bYwaNQrz5s2T7Ib2lpaWWLdu3TMfPxkjehksBokqgbe3Nz744AOMGjUKJSUlOHLkCNLS0hAeHo4RI0aIjifUrFmzMG3aNDx69AizZs2CiYkJcnJyMHHiRHzxxRei4wkzadIkLFq0CCNGjECTJk3KTIFKtUhcsWIFli1bhj59%2Big7gY0bN8aaNWswf/58yRaDR48eFR2BajCuGSSqBAqFAps2bUJERASuX78OIyMj2NjYwN/fH35%2BfhW6c4DUZGZmolGjRqJjCOPi4oLi4mIUFxeXezw1NbWaE2mGtm3bIj4%2BHrq6uipr4ORyOdq3b4%2BEhATBCYlqHnYGiSqBjo4ORo0ahVGjRomOonHkcjkOHz6Mq1evlnu1Y3BwsIBU4n399deiI2ikJk2a4NKlS2jZsqXKeGxsrKS33CGqSiwGiSrJwYMHcfz4cWRmZsLQ0BCNGjWCh4cHunTpIjqaUNOmTcORI0dgb28PIyMjlWNS7pj%2B9ttvmDBhQpnxvLw8rFixAp06dRKQSrwRI0ZgzJgx8PPzg1wux6ZNm3Dp0iXl7fuIqPJxmpioEixfvhybNm1Cjx49lBeRXL9%2BHadOnUJAQADGjx8vOKE47dq1w/bt2/H666%2BLjqIRcnJycO/ePfj6%2BiIqKqrM/az//PNPTJkyRbk9kRQdOnSo3CUXXbt2FR2NqEZiMUhUCbp3746VK1eiffv2KuMJCQmYOHGipPfSc3Nzw759%2B8p0BaUqIiICCxcuRG5ubplCUEdHBwqFAh4eHvjqq68EJSQiqWExSFQJunbtipiYmDJXgBYVFaFHjx44ffq0oGTi7d69GykpKQgODkbt2rVFx9EIcrkcnTt3xrfffgszMzMAwKNHjxAXF4f27dtLej%2B99PR0LFmyRFkML168GNu2bUPTpk2xZMkSvPbaa4ITEtU8LAaJKsHXX3%2BN/Px8TJgwAfr6%2BgBKf%2BB/8803UCgUkp4m9vHxwc2bN/H48WM0aNCgzDpBqXZNo6KiEBISgvj4eOTn58PX1xcA8ODBA0ybNg1vvvmm4IRijB49GjY2NggNDcXp06cxadIkrF27FgkJCTh9%2BjQ2bNggOiJRjcMLSIhe0rBhw1QKm8uXLyM8PBw2NjbQ1dVFeno6iouL4eTkJOli8P333xcdQSOFhYVh1apVAIDIyEgYGBhg9%2B7duHLlCoKDgyVbDCYmJmLt2rUAgP3792PAgAHo2LEj2rZti/Xr1wtOR1QzsRgkekk9evRQedy9e3dBSTTb4MGDRUfQSLdv30a3bt0AACdOnMDAgQOhp6cHe3t73Lp1S3A6cfT09JQbcMfGxmL27NkASvfyLCoqEhmNqMZiMUj0kiZOnFih87788ssqTqLZ5HI5NmzYgN27dyM7Oxu//fYb8vLy8OWXX2LGjBkwNDQUHVEIMzMzZGZmwsDAAHFxcZgyZQqA0s24pXyxTceOHREaGgp9fX3IZDLlL1mbNm2Cg4OD4HRENROLQaJKEhMTg%2BTkZMhkMuVYZmYmDh8%2BjKlTpwpMJtbChQtx5swZjBs3DnPmzAFQemHN1atXsWDBAoSEhIgNKMiTu9Po6emhc%2BfOsLe3R25uLoKCgtC/f3/R8YQJDQ3FypUrcf/%2BfYSFhUFfXx8PHjzATz/9hBUrVoiOR1Qj8QISokqwatUqbNy4Efb29khMTISLiwuuXr2KRo0a4cMPP8SAAQNERxSma9eu2LFjB6ysrFRuL5adnY3BgwdL9gISADh//jwePnyILl26wMDAAMXFxdi4cSNGjRqlvBCJiKiqsTNIVAl27tyJ7du3w87ODs7OzggPD0dhYSFCQ0NRq5a0/5kVFRXhlVdeKTNeu3Zt5OXlCUikOVxcXFQe16pVCwEBAYLSiDNz5kwsXLgQAJ7bRZf6sguiqqArOgBRTfDo0SPY2dkBKF0AL5fLYWhoiODgYCxevFhwOrEcHR2xceNGlbH8/HwsXboUrVu3FpSKNMnTXVADA4N//UNElY/TxESVYMiQIXj77bcxePBgeHl5YfLkyejXrx8yMjIwcOBAxMfHi44oTFpaGsaOHQsAuHv3Luzs7JCeng4zMzOsXbsW9vb2ghMSEUkbi0GiShAbG4vJkyfjxIkT2LdvH0JDQ9G8eXNkZGTA1dVV8lNbBQUFOHbsGNLT02FkZARbW1t0795d8lPoVOqTTz6p8LkLFiyowiRE0sRikKiS5OfnK2%2B3FhcXh6SkJFhZWaFfv36SLnpmzZqFzz//vMx4bm4uZsyYgTVr1ghIRZokODhY%2BfeSkhIcP34c1tbWaNasGUpKSnD16lVkZmZiwIAB5X4tEZF6WAwSUZVIT0/Hn3/%2BicDAQKxbtw7//Fbz119/YfHixcqri4kAYN68eXB0dCxzB5bw8HBcuXIFn332maBkRDUXi0Gil%2BTu7o7o6GgAz7/7iBS3Tzl8%2BDC%2B%2Buor/P777%2BUeNzQ0hL%2B//wtNEVLN17FjR8TFxZXppstkMnTt2hVnz54VlIyo5pLu3BWRmiZPnqz8%2B79th/H0/YulpG/fvujbty98fHwQGRkpOg5piXr16uHEiRNwc3NTGY%2BLi0O9evUEpSKq2VgMEr2klStX4quvvqrQub6%2BvlWcRnM1btxYdATSIh9%2B%2BCEmTJiAVq1awdraGnK5HLdv30ZqaipmzZolOh5RjcRikOglPb058N27d7F9%2B3b07dsXr776KkpKSnDlyhXExMRg9OjRAlOKd%2BvWLSQnJ3NPQaqQt956Cx06dEB0dDQyMzMhk8ng4OCAzz77DM7OzqLjEdVIXDNIVAnGjBmDKVOmlPlhdfbsWaxdu7bMpstSsnTpUuzbtw/Ozs5o0qRJmbVgT19JSkRE1Y%2BdQaJKEB8fDwcHhzLjzs7OOH/%2BvIBEmuPChQuwsrLC3bt3cffuXZVjUl1PSUSkSVgMElUCW1tbrFq1CuPGjYOxsTGA0n301q9fD2tra8HpxNqyZYvoCERE9C84TUxUCS5cuIApU6YgOzsb9evXh1wuR25uLurXr481a9agffv2oiMKlZGRgb179yIzM1N5EUBiYiLXgBERaQAWg0SVpKSkBMnJycjIyIBMJoOlpSXatGkDQ0ND0dGEio6ORlBQENq1a4dz584hKSkJt2/fhpeXF%2BbNmwdPT0/REUmD8I41RNWP08RElURXVxfOzs7sdv3DihUrsGzZMvTp00f53jRu3Bhr1qzB/PnzWQwSgL/vWBMVFYWBAweWe8caKW7eTlQdWAwSUZVKT09XbiD89AUjHTt2xI0bN0TFIg2TlpaGr776CkVFRRgzZkyZ40/uWENElY/FIBFVqSZNmuDSpUto2bKlynhsbCzMzc0FpSJNwzvWEInDYpCIqtSIESMwZswY%2BPn5QS6XY9OmTbh06RL27duH6dOni45HGoZ3rCGqfiwGiahKvf3227C0tERERARsbGwQGRkJGxsbhIWFoWvXrqLjkYbhHWuIqh%2BvJiYiIo3BO9YQVT92BomoSpWUlCA8PBwxMTHIysoCALzyyitwc3ODv78/70JCKnjHGqLqx84gEVWpuXPn4ujRo/Dy8kKTJk2gUChw69Yt/Pzzz%2Bjbty8%2B%2B%2Bwz0RFJS6Smppa5EImI1MdikIiqlIuLCyIiItC8eXOV8StXrmDo0KGSv3czlfXkFwaZTKYcy8zMRGBgIOLj4wUmI6qZOE1MRFWqXr165d6f2cbGBvXq1ROQiDTZ2bNnMXnyZNy/fx9AaWH4ZHq4T58%2BIqMR1VjsDBJRldq5cyeSkpIQFBQEU1NTAEBOTg5Wr14Ne3t7DB06VHBC0iRDhgyBu7s7Bg4ciEGDBmHfvn1ITk7Gvn37MGfOHFhaWoqOSFTjsBgkoirl4eGBzMxMyGQy1K9fHyUlJcjNzYW%2Bvj7q16%2Bvci5vN0YuLi6Ij4%2BHjo4OnJ2dkZiYCABISEjAypUr8e233wpOSFTzcJqYiKrU%2BPHjRUcgLWJiYoLs7GxYWlqifv36SE9Ph42NDRwdHZGQkCA6HlGNxGKQiKrUn3/%2BiUGDBuG1114THYW0gJeXF958803s378fPXr0wKRJkzBo0CAkJSWVu/aUiNTHaWIiqlLvv/8%2Bzp49ixYtWsDb2xuenp5c90X/avfu3fDx8UFeXh5CQ0ORlJQEKysrfPzxx9xahqgKsBgkoiqXk5OD6OhoHD58GL/%2B%2Bivatm0Lb29veHh4wNjYWHQ8IiJJYzFIRNUqLy8Pu3btwsqVK1FUVIT%2B/ftj7NixsLOzEx2NNMTPP/%2BM3bt3Izs7G7t374ZMJsOWLVswevRo3oWEqAroig5ARNLw%2BPFjREZG4qOPPsKiRYvQvHlzTJ8%2BHdbW1nj77bfx008/iY5IGmDt2rVYvHgxXFxccO3aNQDAw4cPsXv3bqxcuVJwOqKaiZ1BIqpSMTEx2LNnD44ePYoGDRrA29sbvr6%2BaNasmfKchIQETJo0Cb/88ovApKQJevbsifXr18POzg5t2rTBhQsXAADp6el49913cezYMcEJiWoeXk1MRFVq6tSp8PDwwLp169C5c%2Bdyz2nbti3s7e2rORlpokePHpW7ZMDS0hL37t0TkIio5mMxSERV6uTJkzAyMnrueevXr6%2BGNKTpWrRogaioKAwaNEhlfOPGjdyeiKiKcJqYiKrUlStXsGzZMvzxxx%2BQyWRljkdHRwtIRZoqLi4OEyZMQIsWLZCYmIiePXvi8uXLePDgAdauXYtOnTqJjkhU47AYJKIq5enpiYYNG6J3797ldgj9/f0FpCJNlpGRgb179yI9PR1GRkawtbWFp6en8t7WRFS5WAwSUZVq06YN4uLiUKdOHdFRiIioHFwzSERVysXFBXfu3IGtra3oKKQFuKyAqPqxM0hElS42Nlb596ysLGzfvh2%2Bvr6wsrIqs2lw9%2B7dqzseaTAvLy%2BYm5tzWQFRNWIxSESVzsHBoULn6ejoIDU1tYrTkDbhsgKi6sdpYiKqdGlpaaIjkJbisgKi6sfOIBERCcVlBURisRgkIiKhuKyASCwWg0REREQSpis6ABERERGJw2KQiIiISMJYDBIRERFJGItBIiIiIgljMUhEREQkYSwGiYiIiCSMxSARERGRhLEYJCIiIpIwFoNEREREEvY/ROwqjVB61VMAAAAASUVORK5CYII%3D\" class=\"center-img\">\n",
              "    <img src=\"data:image/png;base64,iVBORw0KGgoAAAANSUhEUgAAAoMAAAI5CAYAAADaPzCdAAAABHNCSVQICAgIfAhkiAAAAAlwSFlzAAAPYQAAD2EBqD%2BnaQAAADl0RVh0U29mdHdhcmUAbWF0cGxvdGxpYiB2ZXJzaW9uIDMuMC4zLCBodHRwOi8vbWF0cGxvdGxpYi5vcmcvnQurowAAIABJREFUeJzs3X98zfX///H7fm%2B2GWNDWPJj82tpovmVsnhPyo%2BKsE8ilfyaHxF6p0JKvSm9mRLlRykt8i6kj/zIxzfknZ/NGEL5MWzYwWazX%2Bf7x2mHYxM5W69zOrfr5bLLq/N8PV%2Bv1%2BP1zDnncR6vX25ms9ksAAAAuCR3owMAAACAcUgGAQAAXBjJIAAAgAsjGQQAAHBhJIMAAAAujGQQAADAhZEMAgAAuDCSQQAAABdGMggAAODCSAYBAABcmKfRAQBwfD///LOWLVumnTt36vjx48rOzpaPj49CQ0PVuHFjderUSTExMXJzczM6VADAn%2BTGs4kBXI/ZbNbrr7%2BuTz75RJIUFBSk8PBwBQQEKDMzU/v27VNmZqYkqV27dpoxY4a8vb2NDBkA8CeRDAK4rk8//VSTJk2Sr6%2BvJk6cqM6dO8vDw8M6PycnR59//rneeustFRYWasCAARo1apSBEQMA/izOGQRwXYsXL5YkPfnkk%2BrWrZtNIihJvr6%2B6tevn5599llJ0qJFi5STk/OXxwkAuHUkgwCu6%2BjRo5KkiIiIP%2BzXr18/ffjhh1qzZo18fX0lSePGjVNERITeeustZWVlacqUKYqJiVFkZKRatGihoUOH6sCBA9dd55YtWzR06FC1adNGjRs3VosWLdSvXz%2BtWLHiusuYTCZNnz5d3bp1U1RUlBo1aqRWrVpp4MCB2rp1a4nLxMTEKCIiQhs3btSaNWvUqVMnRUZGavv27ZKkmTNnKiIiQuPGjVNubq5mzpyp2NhY3Xnnnbrvvvv02muv6dKlS5KkgwcPatiwYWrdurUiIyPVuXNnLV%2B%2BvMTtZmdna%2B7cuXr88cfVrFkzNWzYUNHR0Xrqqae0Zs2aEpfp06ePIiIitHjxYmVlZWn69OnWWJo3b65nn31We/bsue74AEBJSAYBXFdwcLAkadeuXTfsd%2B%2B996py5crF5mVlZalfv35avHixKlasqObNm6ugoEBr1qxRjx49Skxepk%2Bfrn79%2BmnNmjUKCAhQdHS0goODtWXLFo0ePVojRoxQQUGBzTLp6el69NFHNXv2bB0%2BfFgNGzZUixYt5O3tre%2B//159%2B/bVl19%2Bed19OHz4sEaOHCkvLy%2B1aNHCmtRe7YUXXtC8efNUvXp11atXT2lpaVq0aJHGjh2rAwcOqHfv3kpJSVH9%2BvUVEhKiAwcO6IUXXtCGDRts1pOdna24uDhNmzZNycnJqlOnjlq2bKmgoCBt3rxZQ4cO1cyZM68ba25urvr166eFCxeqWrVqatSokQoKCrRx40b16dPHmsQDwE0xA8B1jB071hweHm6OiIgwv/XWW%2BbTp0//6WWbNm1qfvjhh22WvXDhgrl79%2B7m8PBwc/fu3W2W%2B%2B6778zh4eHm5s2bm7du3Woz77///a%2B5VatW5vDwcPP8%2BfNt5k2ePNkcHh5ujo2NNZ85c8banp%2Bfb3799dfN4eHh5rvvvtucmZlps1y7du3M4eHh5piYGPP7779fbD9mzJhhDg8PN7dp08bcpUsXc3p6unXemjVrrOPTsWNH88yZM82FhYVms9lsLigoMA8ZMsQcHh5ufvrpp23WOX/%2BfHN4eLi5RYsW5iNHjpQ4r0GDBuajR4/azHviiSfM4eHh5vvvv98cFxdnPnv2rHVeWlqauXXr1ubw8HDzG2%2B8UWw/AOB6qAwCuK4RI0aoWrVqMpvN%2Buijj3T//ffriSee0LvvvqvNmzcrOzv7huvIzMzUhAkTFBoaam0LDAzUuHHjJFluW/Prr79a573//vuSpLFjx%2Bqee%2B6xWVfz5s01ZswYSdLChQtt5oWGhuqhhx7S0KFDValSJWu7h4eHRo4cKXd3d128ePG6Vc6iC2CuJy0tTRMnTrSpfrZv314hISEym83y9PTUkCFDrLfXcXd3V8%2BePSVJe/futVmXv7%2B/OnfurIEDB6pWrVo28/r27auQkBAVFBRoy5YtJcaSnp6ud955x1q5laSQkBB17txZkrR79%2B7r7gcAXIv7DAK4rqpVq2rJkiWaOnWqVq5cqYKCAv3000/66aef9P7778vLy0vR0dHq0qWLHnroIXl6Fv9ICQ0N1d13312sPSoqSv7%2B/srKytKuXbtUq1YtnT59WsnJyZKkDh06lBhT%2B/bt5ebmptTUVB05ckR33HGHJFkvYimJn5%2BfKlWqpPT0dKWnp5fYp0WLFnJ3v/7v45CQEN11113F2qtXr6709HS1a9eu2H0Wq1evLkk6f/68TXuPHj3Uo0ePErfj5uamGjVq/GGs99xzj6pUqVKsPSwsTJKUkZFx3f0AgGuRDAL4QyEhIfrXv/6lMWPGaM2aNdqyZYu2bdums2fPKi8vTz/88IN%2B%2BOEHzZ07V%2B%2B99541ISkSHh5e4nrd3d1VvXp1HThwQMePH5ckmwtKiiqHJfH09FReXp5%2B/fVXazIoWc6l%2B7//%2Bz/t2bNHaWlpunDhgsy/3z3r4sWLkiwVwJKUlFxdrUaNGiW2F91XsSjxK2lefn5%2BsXmFhYXatGmTdu7cqbS0NJlMJmtsR44c%2BcNYa9asWWK7j4%2BPJCkvL%2B%2BPdgUAbJAMArgplStXVu/evdW7d29Jlgsutm7dqq%2B//lo7d%2B7UwYMHNWDAAK1YsUJeXl7W5YKCgq67zsDAQEmWi0wk2wraunXrbhhTUYInSSkpKRoyZIg1sfyz/ihOSTb7dCvzr5aamqohQ4YUO3x8s7ixN4DSRDII4JbUrl1btWvXVu/evbVw4UK98cYbOnLkiFatWqWuXbta%2B/3RodeiyldRn6LDrF5eXkpKSrrpx9vl5ORo0KBBSk1NVa1atTR48GC1bNlSFStWtCZpMTExOnHixHXX8Vc%2BSm/YsGHau3evKleurPj4eLVt21aVK1e2Jnl9%2BvTRf//7378sHgCujWQQgN369u2rRYsW6ejRozp48KDNvKLH1ZWkaF5RhbBChQqSLIc5MzIybC6Q%2BCMbN25Uamqq3NzcNGfOHN1%2B%2B%2B3F%2BjjKzbCTk5OVlJQkSZo2bZpatmxZrI%2BjxArANXA1MYASrVmzRq%2B88ormzJlzU/2LDrMWnbdW5Jdffimxf0FBgbVSV3QO3NXnF16bVP6RoquRw8LCSkwEjx49qrNnz970%2BsrSb7/9JknW%2BxleKysr6w9vxg0ApY1kEECJkpKSlJiYqDlz5ig1NfUP%2B54%2BfVopKSmSVOyK22PHjmnfvn3Fltm%2Bfbv1yR1RUVGSLBerNGrUSJL0xRdflLitI0eOqGvXrtZb0EhXKouXL18ucZlZs2ZZ//vam1X/1QICAiRZDpGXdKHHRx99ZK0MlnThCQCUNpJBACV66qmnFBISoosXL6pv374lPs7NbDbrxx9/1DPPPKO8vDzdddddat26tU2fwMBAjR8/3qYyZzKZ9Oabb0qy3NLltttus84bOHCgJGnlypVasGCB9WpgyVJVGzZsmFJSUnTy5Elre/369SVJp06d0tq1a63t2dnZmjx5spKSkqwJ5%2BHDh295TEpDeHi4PDw8VFBQoM8%2B%2B8zanp%2Bfrw8%2B%2BECJiYlq166dpCtXFQNAWeKcQQAlqlixoubNm6f4%2BHj9%2BuuvevLJJxUSEqLatWurXLlyMplMOn78uPVeeHfffbcSEhKKXTASExOjY8eO6YEHHlBkZKS8vLy0e/duZWZmKiAgQK%2B88opN/3/84x8aMGCA5syZoylTpujjjz9W7dq1lZGRoX379qmgoEANGzbU6NGjrctERUWpTZs2%2BuGHHxQfH68mTZrIx8dHe/bskaenp%2BbPn69vvvlGO3fu1Mcff6z9%2B/dr0KBBat68edkP5DWqVq2q7t27KzExUVOmTNHy5ctVoUIF7du3T1lZWUpISNDx48f1/fffa/Xq1erTp4/i4uL04IMP/uWxAnANJIMAris8PFwrVqzQN998o/Xr1yslJUU///yzcnNz5evrqypVqqhly5bq1KmT7r///hKvyHV3d9e8efP03nvv6bvvvlNqaqr8/f0VGxurkSNH2twnsMioUaPUqlUrLVq0SLt27dKWLVvk4%2BOjxo0bq1OnToqLiyt2e5V3331X06ZN07p167Rnzx6FhoYqNjZWAwcOVFhYmKpWraq9e/dqx44dOnjw4F969fC1xo8fr6CgIK1cuVIHDhxQpUqVFB0dreeee04NGjRQTk6Otm7dqo0bN%2BrgwYM21VEAKG1uZj5lAJSBcePG6T//%2BY8eeeQR6yFhAIDj4ZxBAAAAF0YyCAAA4MJIBgEAAFwYySAAAEAp%2B3//7/%2BpVatWGjly5B/2Kyws1PTp0/XAAw%2BoefPmevrpp3Xs2DHrfJPJpBEjRqhVq1Zq06aNXnrppVJ/ShEXkAAAAJSiuXPnaunSpQoODlbVqlU1ffr06/b95JNPNH/%2BfM2dO1dVqlTR9OnT9dNPP%2Bnrr7%2BWm5ub4uPjlZubqylTpigvL0/Dhw9X48aNNX78%2BFKLl8ogAABAKfLx8dHSpUtLfDzmtRITE9WvXz/VqVNHAQEBGjlypA4dOqTdu3frzJkzWrt2rUaOHKng4GBVqVJFgwcP1pdfflniE4xuFfcZBAAAuEZaWpr1pvpFQkJCFBoaesNln3zyyZvaRk5Ojn755Rc1bNjQ2hYQEKDbb79dSUlJunjxojw8PBQREWGd36hRI126dEmHDx%2B2abcHyaCzMfBGucXccYd08KBUr55k9GOzrnoEmeF8faVWraTNm6VSPq/jlrg70AEAX1%2BpRQvpxx8dY2xq1DA6AgtPT6lWLenXXyVHeB7xqVNGR3CFr6/UrJm0bZtj/JvZscPoCCzKl5f69pUWLpQuXDA6Govhw43bdhl8NybOmKGEhASbtqFDhyo%2BPr7UtnH%2B/HmZzWYFBQXZtAcFBSkjI0MVKlRQQECAzU3yi/pmZGSUWhwkg7h1FSpIHh6WKa7w8rJ8MHl5OcaXlyPx9LSMjScfPTY8PCzj4uHhGMmgI7l6bHCFj4/lh56Pj9GR/G317NlTMTExNm0hISFlsq0/unzjr7i0g09kAADg3MrgCEhoaOhNHRK2R4UKFeTu7i6TyWTTbjKZVKlSJQUHByszM1MFBQXy%2BP0HUVHfSpUqlVocDnT8CAAAwHX4%2BPioXr16Sk5OtrZduHBBR48e1Z133qkGDRrIbDYrJSXFOj8pKUnly5cv8bnut4pkEAAAODd399L/KyOnT59Wx44drfcS7N27tz7%2B%2BGMdOnRImZmZmjZtmho0aKDIyEgFBwcrNjZW7777rs6dO6dTp05p1qxZ6t69uzxL8XQbDhMDAACUosjISElS/u/nAK/9/SLHpKQk5eXl6ciRI8rNzZUk9erVS%2Bnp6erTp4%2BysrIUHR1tc%2BHKpEmT9Oqrr%2BqBBx6Ql5eXHn744RveyPrPIhkEAADOzZHumiBL0nc9NWrU0P79%2B62v3dzcNGzYMA0bNqzE/oGBgXrnnXdKPcarkQwCAADn5mDJoLNh9AAAAFwYlUEAAODcqAzahdEDAABwYVQGAQCAc6MyaBeSQQAA4NxIBu3C6AEAALgwKoMAAMC5URm0C6MHAADgwqgMAgAA50Zl0C4kgwAAwLmRDNqF0QMAAHBhVAYBAIBzozJoF0YPAADAhVEZBAAAzo3KoF1IBgEAgHMjGbQLowcAAODCqAwCAADnRmXQLoweAACAC6MyCAAAnBuVQbuQDAIAAOdGMmgXRg8AAMCFURkEAADOjcqgXRg9AAAAF0ZlEAAAODcqg3YhGQQAAM6NZNAuJIM3kJSUpClTpujAgQPy9vZWhw4dNH78eHl5eWnJkiWaPn26cnNz1bNnT5lMJhUUFOjNN9%2BUJC1atEiffvqpUlNTVaNGDY0cOVLt27c3eI8AAACuIJW%2BgZEjR6pFixbaunWrli5dqu%2B//16ff/65kpOT9fLLL%2BvVV1/Vpk2b5OfnpzVr1liX%2B%2B6775SQkKCpU6dq%2B/btGj58uEaMGKHU1FQD9wYAgL8hd/fS/3MhVAZv4KuvvpK3t7c8PDx02223qXnz5tqzZ48yMzMVERGh2NhYSdKgQYO0ZMkS63JLly5V9%2B7d1bhxY0nSP/7xD919991auXKlBgwYcFPbTktLU3p6uk1byB13KLRChVLaOzvVr287NVJgoNERXFGunO3UaG5uRkdwhaONjY%2BP0RFYeHnZTo3m7290BFf4%2BdlOjRYSYnQEFhUr2k4BO5AM3sCPP/6oWbNm6ddff1V%2Bfr7y8/PVsWNHpaenq3r16tZ%2BHh4eatiwofX10aNHtWnTJi1cuNDaZjabVbdu3ZvedmJiohISEmzahg4frvjhw%2B3YozLw2WdGR%2BCYfv8hgBI0amR0BI6pWjWjI7AICzM6guIaNDA6AoumTY2OwNaDDxodgWNwsUpeaSMZ/AOHDh3S8OHDNXbsWD3%2B%2BOPy9fXVCy%2B8oPz8fBUWFsrT03b43K/6x%2Bjr66tRo0apf//%2Bt7z9nj17KiYmxqYtpHNn6aoE01D161sSwbg4KSXF2FhmzzZ2%2B1crV86SCO7ZI126ZHQ0jlcZbNRISk52jLGpUsXoCCy8vCyJ4MmTUl6e0dFIZ84YHcEVfn6WRHDfPik72%2BhojP%2BsK1KxoiUR/PZbKSPD6Ggs4uKM2zbJoF1IBv/Avn375O3trSeffFKSpbK3b98%2B1atXT5UqVdKePXusfQsKCrR3715FR0dLksLCwrR//36b9aWmpqpatWpyu8kv59DQUIWGhto2Hjlixx6VkZQUaedOY2O4eNHY7Zfk0iXHiMsRPyQvXZIyM42OQnKUUy6K5OVJly8bHYWUlWV0BMVlZztGXNecumO4jAzHiwlOxwG/JRxH9erVlZOTo3379un8%2BfOaOnWqvL29lZaWpujoaO3Zs0cbNmxQbm6u3n//feXk5FiX7dmzp1atWqUNGzYoPz9fP/74ox5%2B%2BGHt3r3bwD0CAOBviAtI7EJl8A9ERUXpf/7nf/TEE0/Iz89PgwYN0j//%2BU8NGjRIn332mUaMGKHRo0fLy8tLffv2VXR0tLXq17p1a40dO1aTJk3SmTNnVKNGDU2YMEF33XWXwXsFAMDfjIslb6WNZPAGxo8fr/Hjx9u0/fTTT5Kk3NxcDRw40Nr%2BxBNPqFmzZjavn3jiib8mUAAAgFtAKn2Ljh07pqioKK1fv16FhYX64YcftHPnTrVt29bo0AAAcC0cJrYLlcFbVLNmTb355puaOnWqnn/%2BeVWpUkWvvvqqmjrabQcAAAD%2BAMmgHTp37qzOnTsbHQYAAK7NxSp5pY1kEAAAODeSQbswegAAAC6MyiAAAHBuVAbtwugBAAC4MCqDAADAuTlgZfDEiROaOHGidu/erXLlyqlTp04aNWqU3K%2BJtX///tb7FxfJz8/XkCFDNHToUPXp00c7duywWe6OO%2B7Q8uXLSy1WkkEAAODcHDAZjI%2BPV6NGjbR27VqdPXtWzz33nCpXrqynnnrKpt%2B8efNsXl%2B4cEGdOnVShw4drG2vvfaaHn300TKL1fFGDwAAwIklJSUpJSVFo0ePVmBgoGrVqqV%2B/fopMTHxhsu%2B%2B%2B676tChgyIiIv6CSC2oDAIAAOdWBpXBtLQ0paen27SFhIQoNDT0hssmJyerevXqCgoKsrY1atRIR44cUWZmpgICAkpc7rffftNXX32ltWvX2rSvWrVKH374oU6ePKkmTZpo0qRJCgsLu4W9KhmVQQAAgGskJibq0Ucftfm7mcqeJJlMJpUvX96mrSgxzMjIuO5yc%2BbM0WOPPabg4GBrW506dVSvXj199tlnWrdunYKDg/XMM88oNzf3FvaqZFQGAQCAcyuDymDPnj0VExNj0xYSEnLTy5vN5j%2B1PZPJpK%2B//lrffvutTfuECRNsXk%2BaNEnR0dHavn27WrZs%2Bae2cT0kgwAAwLmVQTIYGhp6U4eESxIcHCyTyWTTZjKZ5ObmZlP1u9q6det0xx13qGbNmn%2B47oCAAAUFBen06dO3FFtJOEwMAABQiho3bqyTJ0/q3Llz1rakpCTVrVtX/v7%2BJS6zbt06tW7d2qYtMzNTEyZMsEn8zp07p3Pnzt0wafwzSAYBAIBzc3cv/T87NGzYUJGRkXr77beVmZmpQ4cOaf78%2Berdu7ckqWPHjtq2bZvNMvv27VONGjVs2gICArR7925NnjxZJpNJ58%2Bf18SJExUREaGoqCi7YrwaySAAAEApmzFjhtLS0tS6dWs9%2BeST6tatm%2BLi4iRJR44c0aVLl2z6p6enq3LlysXWM2vWLJnNZsXGxur%2B%2B%2B9XXl6e5syZU%2Bzm1fbgnEEAAODcHPCm01WrVtXcuXNLnLd///5ibXv27Cmx72233aaEhIRSje1aJIMAAMC5OWAy6EwYPQAAABdGZRAAADg3KoN2YfQAAABcGJVBAADg3KgM2oVkEAAAODeSQbswegAAAC6MyiAAAHBuVAbtwugBAAC4MCqDAADAuVEZtAvJIAAAcG4kg3YhGXQ2a9caHcEVgYGW6ezZ0sWLxsbSvr2x279aVJS0Y4c0cKC0c6fR0UjbthkdwRV%2Bfpapv79jfHiXL290BBaev38U%2B/tLPj7GxiJJly8bHcEVvr6Wafnykre3sbFI0t13Gx2Bhb%2B/ZdqggRQWZmwscHokgwAAwLk5wo9LJ8boAQAAuDAqgwAAwLlRGbQLySAAAHBuJIN2YfQAAABcGJVBAADg3KgM2oXRAwAAcGFUBgEAgHOjMmgXkkEAAODcSAbtwugBAAC4MCqDAADAuVEZtAujBwAA4MKoDAIAAOdGZdAuJIMAAMC5kQzahdEDAABwYVQGAQCAc6MyaBeSQQAA4NxIBu3C6AEAALgwKoMAAMC5URm0C6MHAADgwqgMAgAA50Zl0C4kgwAAwLmRDNqF0QMAAHBhVAYBAIBzozJoF0YPAADAhVEZBAAAzo3KoF1IBgEAgHMjGbQLowcAAODCqAwCAADnRmXQLk49eosXL1ZMTIy%2B%2BuorxcTE3NQyM2fO1OOPP17GkQEAADgHp04Gi3Tr1k3r16//S7a1ZcsWJSUl/SXbAgAAN8HdvfT/7HTixAkNGDBA0dHRateunaZOnarCwsJi/WbOnKkGDRooMjLS5u/MmTOSpMuXL%2BuVV15R27ZtFR0drWHDhikjI8Pu%2BK72t0gG/0oLFizQnj17jA4DAAAUccBkMD4%2BXlWqVNHatWs1f/58rV27VgsXLiyxb9euXZWUlGTzV7lyZUnS9OnTlZycrMTERK1evVpms1kvvvii3fFdzamSwd27d6tLly6666679NRTT%2Bns2bOSpGXLlql169bWfj/88IMeffRRRUVF6d5779WMGTOKrWv27Nlq2bKlWrVqpenTp8tsNkuSCgsLNWPGDLVv315NmjTRY489pu3bt0uSBg4cqA0bNmjy5Mnq27evJEvmP3DgQEVHR6t58%2BYaM2aMMjMzJUnZ2dkaO3asWrZsqaioKPXq1YtEEgCAv7mkpCSlpKRo9OjRCgwMVK1atdSvXz8lJib%2BqfXk5%2Bdr6dKlGjx4sKpVq6YKFSpoxIgR2rBhg06fPl1q8TrNBSQFBQUaNmyYHnroIQ0fPlwpKSmKj4%2BXp6ftLly6dEnx8fH65z//qe7du%2BvAgQPq1auXGjdubD2v8ODBg2rZsqW%2B//577dmzR/3791f9%2BvX14IMPauHChfrmm2/04Ycf6rbbblNiYqIGDRqkDRs2aPbs2YqJidGzzz6r3r17y2w2a/DgwWratKmmT5%2BuS5cu6fnnn9dbb72l1157TQsXLtSZM2e0Zs0aeXt7a%2B7cuXr55Zf1n//856b2OS0tTenp6TZtITk5Cg0JKZ1BtVe5crZTI0VFGR3BFfXr206N5udndARX%2BPraTo3m6SAfgR4etlOjOcr/H0ny8bGdGs3f3%2BgILIre1470/jZSGVxAUuJ3cEiIQkNDb7hscnKyqlevrqCgIGtbo0aNdOTIEWVmZiogIMCm//79%2B9WrVy8dOHBA1apV04svvqg2bdro6NGjunjxoho1amTtW6dOHfn6%2Bio5OVlVqlSxcy8tHOST8Mb27NmjtLQ0DRo0SD4%2BPmrSpIk6dOig77//3qZfuXLltHHjRvn7%2B8vNzU0RERGKiIjQnj17rMmgu7u7hgwZIm9vbzVr1kz33nuvNm7cqAcffFBLly5Vv379VKtWLUlSnz59tHDhQm3YsEGdOnWy2VZSUpIOHjyoxYsXy8/PT35%2BfoqPj9fTTz%2BtSZMm6cKFC/Ly8pKvr688PT01ePBgDR48%2BKb3OTExUQkJCTZtQ4cMUfxDD93CCJahxo2NjkDascPoCIr77DOjI3BctWsbHYFjqlDB6AgsKlUyOoLiatY0OgLH5Cg/Ov%2BGSvwOHjpU8fHxN1zWZDKpfPnyNm1FiWFGRoZNMli1alXVrFlTo0aNUmhoqBITEzVw4EAtX75cJpNJkoqtq3z58qV63qDTJIOnTp1S%2BfLlFRgYaG0rStiu9e2332rBggU6ceKECgsLlZeXp2bNmlnnh4WFydvb2%2Bb1/v37JUlHjx7V66%2B/rjfeeMM6v7CwUCdPniy2nWPHjqmgoEDR0dE27QUFBcrIyFBcXJyefvpp3Xfffbr33nvVvn17PfDAAze9zz179ix2lXTIr79K//3vTa%2BjTJUrZ0kE9%2ByRLl0yNpaBA43d/tXq17ckgnFxUkqK0dFIixYZHcEVvr6WRPDwYSknx%2BhopFL6VW03Dw9LImgySQUFRkcjlfLJ6Xbx8bEkgseOSZcvGx2NdPGi0RFY%2BPlZPmtSUqTsbKOjsTDyCE0ZVAZL/A7%2BE0fmik4/u5EePXqoR48e1tf9%2BvXTN998o%2BXLl6tt27Z/al23ymmSwdzcXBVc8yFZ0lU5W7Zs0YQJEzRt2jR16NBBXl5eiouLs%2Bnj5uZm89psNluTQ19fX02ePFmxsbE3jMnHx0flypXTzp07S5wfHBysVatWaevWrVq/fr1eeeUVLV%2B%2BvMRzGEsSGhpavBx96pTjfBhRucVbAAAgAElEQVQVuXTJ%2BJiu8//AUCkpjhGXo3xRXC0nxzHiys83OgJbBQWOEZMjJOrXunzZMeLKyjI6AlvZ2Y4XkxHKIBks8Tv4JgUHB1urekVMJpPc3NwUHBx8w%2BWrV6%2ButLQ0a1%2BTyST/q05ROH/%2BvCqVYgXfaS4gCQ0NVWZmpi5elXQcOnSoWL%2Bff/5Zd9xxhzp16iQvLy9dvny5WL/jx48rLy/P%2Bvro0aPW4%2B41a9a0Vgmv7l%2BSsLAwXbp0SceOHbO2ZWZmWku3WVlZKigoUKtWrTR%2B/HgtWbJEq1evLvVLwgEAgONo3LixTp48qXPnzlnbkpKSVLduXZukTpLee%2B89bdmyxabt0KFDqlmzpmrWrKmgoCAlJydb5x04cEC5ublqXIqnaDlNMtikSRMFBQXpww8/VG5urrZt21bsfEHJkk2fOnVKJ0%2Be1JkzZzRhwgSFhobaXHWTl5enuXPnKjc3V7t27dKmTZvUoUMHSVKvXr306aefateuXSooKNCqVav08MMPKzU1VZKlGlh0Qmd4eLiioqL0%2Buuv69y5c7pw4YJeffVVjRkzRpI0bNgwvfXWW8rMzFRhYaF27typChUq2JxQCgAA7ORgt5Zp2LChIiMj9fbbbyszM1OHDh3S/Pnz1bt3b0lSx44dtW3bNkmWqt/EiRN1%2BPBhXb58WfPmzdPRo0f1yCOPyMPDQ48//rhmz56tkydPKiMjQ%2B%2B88446dOhgvfVMaXCaw8S%2Bvr6aNWuWJkyYoAULFigqKkr9%2B/fXJ598YtMvNjZW69atU6dOnRQcHKwxY8bo3nvv1UsvvaSpU6fK19dXkZGRMpvNuvfee%2BXp6alnn31Wbdq0kSR1795dJ0%2Be1NChQ5WZmanatWsrISFBt912myTp8ccf17vvvqvNmzfr66%2B/1ttvv61JkybpgQcekLe3t1q2bKk333xTkvTaa69ZbxTp5uamevXqadasWXLnsTkAAPytzZgxQy%2B//LJat26tgIAA9erVy3ra2pEjR3Tp93PtR40aJclyrqDJZFLdunW1YMECVa1aVZKlsJSVlaWuXbsqPz9f7dq104QJE0o1VjdzWZ%2BViNK1bp3REVwRGCjdc4/lghajzxls397Y7V8tKspydXPTpo5xzuDvvz4dgp%2Bf1LChtHevY5wzWKOG0RFYeHparuA9e9Yxzhm85nYahvL1lerWlX75xTHOGbzmPDDD%2BPtbPmt27nSccwZ/L6oYYsqU0l9nKd/Y2ZE5TWUQAACgRBxxswujBwAA4MKoDAIAAOdGZdAujB4AAIALozIIAACcG5VBu5AMAgAA50YyaBdGDwAAwIVRGQQAAM6NyqBdGD0AAAAXRmUQAAA4NyqDdiEZBAAAzo1k0C6MHgAAgAujMggAAJwblUG7MHoAAAAujMogAABwblQG7UIyCAAAnBvJoF0YPQAAABdGZRAAADg3KoN2IRkEAADOjWTQLoweAACAC6MyCAAAnBuVQbswegAAAC6MyiAAAHBuVAbtQjIIAACcG8mgXRg9AAAAF0ZlEAAAODcqg3Zh9AAAAFwYlUEAAODcqAzahWTQ2TjSP3g3tytTo%2BPats3Y7V/Nz88yXbRIys42NhZJatbM6AiuiIqSduyQnnhC2rnT6GikM2eMjsDCw8N2arTAQKMjuMLb2zL195e8vIyNxZH4%2BlqmgYGMi2T8d5CTY/QAAABcGJVBAADg3KgM2oXRAwAAcGFUBgEAgHOjMmgXkkEAAODcSAbtwugBAAC4MCqDAADAuVEZtAujBwAA4MKoDAIAAOdGZdAuJIMAAMC5kQzahdEDAABwYVQGAQCAc6MyaBdGDwAAwIVRGQQAAM7NASuDJ06c0MSJE7V7926VK1dOnTp10qhRo%2BReQqyLFy/WggULlJaWprCwMMXHx6t9%2B/aSpHHjxmn58uXy8PCw9vfx8dG2bdtKLVaSQQAA4NwcMBmMj49Xo0aNtHbtWp09e1bPPfecKleurKeeesqm3%2BrVq/X222/rgw8%2B0J133qmvvvpKI0aM0LfffquaNWtKkgYNGqT4%2BPgyi9XxRg8AAMCJJSUlKSUlRaNHj1ZgYKBq1aqlfv36KTExsVjfnJwcPf/887r77rvl5eWlHj16yN/fX7t27frL4qUyCAAAnFsZVAbT0tKUnp5u0xYSEqLQ0NAbLpucnKzq1asrKCjI2taoUSMdOXJEmZmZCggIsLZ37drVZtkLFy4oKytLVapUsbb9%2BOOPWrdunX777TfVqVNHEyZMUOPGjW9114ohGQQAALhGYmKiEhISbNqGDh16U4drTSaTypcvb9NWlBhmZGTYJINXM5vNGj9%2BvJo0aaJ77rlHklSzZk25u7tr%2BPDh8vf3V0JCgvr376/Vq1erYsWKt7JrxZAMAgAA51YGlcGePXsqJibGpi0kJOSmlzebzX9qe3l5eRo3bpx%2B%2BeUXffzxx9b2IUOG2PR74YUXtHLlSq1du1Y9evT4U9u4HpJBAADg3MogGQwNDb2pQ8IlCQ4OlslksmkzmUxyc3NTcHBwsf45OTkaPHiwsrOz9emnn/5hxc/Dw0PVqlVTWlraLcVWEi4gAQAAKEWNGzfWyZMnde7cOWtbUlKS6tatK39/f5u%2BZrNZI0eOlKenpxYsWGCTCJrNZk2ZMkUpKSnWttzcXB09etR6pXFpIBkEAADOzd299P/s0LBhQ0VGRurtt99WZmamDh06pPnz56t3796SpI4dO1rvE7hixQr98ssv%2Bve//y0fHx%2Bb9bi5uen48eOaOHGiTp8%2BraysLE2bNk1eXl7W%2BxCWBpJBAACAUjZjxgylpaWpdevWevLJJ9WtWzfFxcVJko4cOaJLly5Jkr788kudOHFC99xzjyIjI61/48ePlyS9/vrrqlWrlh599FG1atVK%2B/bt08KFC1WuXLlSi5VzBgEAgHNzwJtOV61aVXPnzi1x3v79%2B63/vXDhwj9cT4UKFTRlypRSje1aJIMAAMC5OWAy6EwYPQAAABdGZRAAADg3KoN2YfQAAABcGJVBAADg3KgM2sWu0YuIiNDGjRtLKxanEBsbqyVLlhgdBgAAKOJg9xl0Nn%2BbyuB3332niIgI3X777WW6ndWrV5fp%2BgEAAP5Kf5vUd8aMGfrtt9%2BMDgMAAPzVqAzaxe69TU9PV9%2B%2BfXXnnXeqU6dOOnDggLKzs9W0aVOtX7/epm/fvn31zjvvaNmyZerQoYOWLFmie%2B%2B9V3fddZdeeeUV5efnW/suWrRIDz74oJo0aaKHHnpIa9eutc7r06ePpk6dqs6dO2vAgAHq0qWLDh48qMGDB%2BvFF1%2BUJKWkpKhv375q1qyZWrRoocmTJysvL0%2BStGzZMnXp0kVfffWVYmJiFBUVpZEjR1rn7969W48//riioqIUHR2tl156STk5OZKkmJgYLV68WJJUWFioWbNmqUOHDrrzzjv1yCOPaMuWLdY4Y2JitGTJEg0YMEBRUVFq3769fvjhB3uHHAAAXI1k0C52721iYqImTJigzZs3q3LlynrnnXfk5%2Ben2NhYrVixwtovIyNDP/30k7p06SJJOn36tJKSkvTdd9/pyy%2B/1Pr16/Xpp59KshzyTUhI0NSpU7V9%2B3YNHz5cI0aMUGpqqnV933zzjV5//XV98MEHWr58uSTpvffe05QpU5Sdna1nnnlGrVq10ubNm7VkyRJt3bpVH330kXX5EydOaM%2BePVq5cqW%2B%2BOILrV27VmvWrJEkjRkzRj169ND27du1YsUK7d%2B/X4mJicX2/dNPP9WSJUuUkJCgbdu2qXPnzho8eLDOnj1r7fPRRx9p6NCh2rp1q%2B655x698cYb9g45AABAqbH7nMGuXbvqjjvukGRbNevatauee%2B45ZWZmKiAgQOvWrVN4eLjq1q2rn3/%2BWZcvX9aIESPk5%2BenOnXq6KGHHtKGDRvUt29fLV26VN27d1fjxo0lSf/4xz909913a%2BXKlRowYIAk6c4779Sdd95ZYkwbNmyQ2WzWc889J0mqWbOmnn76aX3wwQcaOHCgJCkrK0sjRoxQuXLlVK9ePUVEROjw4cOSpAsXLqhcuXJyd3dXaGiovvjiC7mX8Cth6dKliouLU0REhCSpf//%2B%2BvDDD7VhwwY99thjkqR27dpZ44yNjdVXX32lwsLCEtd3rbS0NKWnp9u0heTkKLRy5Rsu%2B5coei5iKT4f8Zb5%2BRkdwRW%2BvrZTo0VFGR3BFfXr206N5uFhdAQWRXE4Sjze3kZHcIWnp%2B3UaI7yvvbxsZ26Oher5JU2u99dNWrUsP63j4%2BP9VBrdHS0goODtXbtWnXr1k1r1qxR586drX2DgoIUHBxsfX3bbbdZD6EePXpUmzZtsnlen9lsVt26da2vq1evft2Yjh07prNnzyoyMtJmee%2BrPuAqVqyogIAA62s/Pz/roeDnn39e//znP/XRRx%2BpTZs26tq1q%2BrUqVNsO8ePHy/WHhYWphMnTpQ4Pr6%2BviooKFBeXp58buINnJiYqISEBJu2oUOGKP7BB2%2B47F%2BqUSOjI3BMtWsbHYHFjh1GR1DcZ58ZHYFjCgw0OgKLChWMjqC4kBCjI3BMNWsaHQH%2BBuxOBt3c3K7b3qVLF61YsULt27fX1q1bNWnSJOv8goICm/5ms9m6Ll9fX40aNUr9%2B/e/7nY9/uAXtI%2BPj%2BrVq2dzmPpaf1SZ69Gjh9q3b6/169dr3bp16tatm6ZPn6727dvb9MvNzS1x%2BavH5GYqgNfTs2dPxcTE2LSFHD0q/fTTLa%2BzVJUrZ0kEk5OlS5eMjcXf39jtX83X15IIHj4s/f4Dw1BPPGF0BFfUr29JBOPipJQUo6ORrjmv2TAeHpZE8OJF6ZrPRkNkZxsdwRWenpZEMD1duuq8csNkZRkdgYWPjyURPHZMunzZ6GgsrirY/OWoDNqlTOvuXbt21UcffaRly5apSZMmqlKlinVeZmamzp07Z60OpqamWueHhYVp//79NutKTU1VtWrVrpt8Xi0sLEzHjh1TVlaW/H9PEjIyMuTl5WVTDbyejIwMVaxYUY899pgee%2BwxJSQkaOnSpcWSwbCwMB0%2BfFgPPPCAJCk/P1%2B//fabevXqdcNt3IzQ0FCFhobaNqalSZmZpbL%2BUnPpkvExOeIHQU6OY3yp7txpdATFpaQ4RlyOkHhdraDAMWK6zg9dQ%2BXnO0ZcjvAD72qXLzteTEZwxO8AJ1Kmo1e7dm01aNBA//73v20OEUuSt7e3Zs2apZycHP3yyy/65ptvrFWwnj17atWqVdqwYYPy8/P1448/6uGHH9bu3buvuy0fHx/99ttvyszMVJs2bRQcHKy33npLmZmZSk9P1/DhwzVt2rQbxnzq1CnFxMTohx9%2BUGFhoS5evKgDBw4oLCysWN%2BuXbvqs88%2B06FDh5Sbm6vZs2eroKCgWDUPAADAUZX5GbndunXTm2%2B%2BqdjYWJv28uXLKzw8XB06dNDFixfVpUsXa0WtdevWGjt2rCZNmqQzZ86oRo0amjBhgu66667rbqdXr17617/%2Bpc2bN%2Bv999/Xe%2B%2B9p8mTJ6t169YKCAjQAw88oLFjx94w3qpVq%2Br111/X66%2B/rtTUVAUEBKht27YaNmxYsb79%2B/dXRkaGnn32WV24cEENGjTQxx9/rPLly//JUQIAALeMyqBd3Mxms7ksNzBjxgwdO3ZMU6dOtbYtW7ZMb7/9tjZt2lSWm/57%2Bv57oyO4IiBAat7ccg6j0YeJHSkB9/OTGjaU9u51jMPEzZoZHcEVUVGWC1qaNnWMw8RnzhgdgYWHh%2BWiDZPJMQ4TG/1%2Bvpq3t1StmnTypGMcJr540egILHx9Lefo/fKL4xwm/v0OIIY4eLD011mvXumv00GVaWVw165d%2BuSTT/TJJ5%2BU5WYAAIArozJolzJLBp9%2B%2Bmnt379fY8eOVX1HuacYAAD4%2ByEZtEuZJYNXP%2B3jWo8%2B%2BqgeffTRsto0AAAAbpKD3NIdAADgFlEZtAujBwAA4MKoDAIAAOdGZdAuJIMAAMC5kQzahdEDAABwYVQGAQCAc6MyaBdGDwAAwIVRGQQAAM6NyqBdSAYBAIBzIxm0C6MHAADgwqgMAgAA50Zl0C6MHgAAgAujMggAAJwblUG7kAwCAADnRjJoF0YPAADAhVEZBAAAzo3KoF0YPQAAABdGZRAAADg3KoN2IRkEAADOjWTQLoweAACAC6MyCAAAnBuVQbswegAAAC6MZBAAADg3d/fS/7PTiRMnNGDAAEVHR6tdu3aaOnWqCgsLS%2Bz78ccfKzY2Vk2bNlXv3r21Z88e67zLly/rlVdeUdu2bRUdHa1hw4YpIyPD7viuRjIIAACcmwMmg/Hx8apSpYrWrl2r%2BfPna%2B3atVq4cGGxfuvXr9fMmTP1r3/9S5s3b1a7du00cOBAXbp0SZI0ffp0JScnKzExUatXr5bZbNaLL75od3xXIxkEAAAoRUlJSUpJSdHo0aMVGBioWrVqqV%2B/fkpMTCzWNzExUY8%2B%2BqiaNGkiX19fPfPMM5Kk77//Xvn5%2BVq6dKkGDx6satWqqUKFChoxYoQ2bNig06dPl1q8XEACAACcWxlcQJKWlqb09HSbtpCQEIWGht5w2eTkZFWvXl1BQUHWtkaNGunIkSPKzMxUQECATd9OnTpZX7u7u6tBgwZKSkpSgwYNdPHiRTVq1Mg6v06dOvL19VVycrKqVKlizy5akQw6mxo1jI7gCh8fy7RKFalCBWNjKV/e2O1fzfP3t1WVKlJ%2BvrGxSNKZM0ZHcIWHh2W6fr1UUGBsLJJUubLREVhERUk7dkgxMdLOnUZHIx0/bnQEVxT9m/HwuPLeMlKdOkZHYOHmZpnWqCGZzcbG8jeVmJiohIQEm7ahQ4cqPj7%2BhsuaTCaVv%2BZ7qSgxzMjIsEkGTSaTTdJY1DcjI0Mmk0mSiq2rfPnypXreoAO8swAAAG6dWW6lvs6ePXsqJibGpi0kJOSmlzf/iST9Rn3/zLpuBckgAABwate5SNcuoaGhN3VIuCTBwcHWql4Rk8kkNzc3BQcH27RXrFixxL716tWz9jWZTPL397fOP3/%2BvCpVqnRLsZWEC0gAAABKUePGjXXy5EmdO3fO2paUlKS6devaJHVFfZOTk62vCwoKtHfvXjVp0kQ1a9ZUUFCQzfwDBw4oNzdXjRs3LrV4SQYBAIBTKyws/T97NGzYUJGRkXr77beVmZmpQ4cOaf78%2Berdu7ckqWPHjtq2bZskqXfv3vrqq6%2B0a9cuZWdn6/3335e3t7fuv/9%2BeXh46PHHH9fs2bN18uRJZWRk6J133lGHDh1UuRTPeeYwMQAAQCmbMWOGXn75ZbVu3VoBAQHq1auX4uLiJElHjhyx3kewbdu2ev755zVixAidPXtWkZGRmjNnjnx9fSVJw4YNU1ZWlrp27ar8/Hy1a9dOEyZMKNVY3cxlfVYiStfBg0ZHcIWPjxQWJh09Kl2%2BbGwsjnY1caVK0tmzjnE1sSNcgVnEw8Ny5bnJxNXEVyu6mrhpU64mvpaXlxQaKqWlSXl5RkcjXXO%2Bl2Hc3CRfXyknx3GuJvbzM2zTZfEVVHTDDFfgQN8SAAAAf15ZXEDiSjhnEAAAwIVRGQQAAE6NyqB9SAYBAIBTIxm0D4eJAQAAXBiVQQAA4NSoDNqHyiAAAIALozIIAACcGpVB%2B5AMAgAAp0YyaB8OEwMAALgwKoMAAMCpURm0D5VBAAAAF0ZlEAAAODUqg/YhGQQAAE6NZNA%2BHCYGAABwYVQGAQCAU6MyaB8qgwAAAC6MyiAAAHBqVAbtQzIIAACcGsmgfThMDAAA4MKoDAIAAKdGZdA%2BVAYBAABcGJVBAADg1KgM2ofKoB1iYmK0ePFio8MAAMClFRaW/p8rcelkcOnSpTp37pzRYQAAABjGZZPBgoICvfnmm8rIyDA6FAAAYAcqg/ZxiWRwzpw5ateunZo0aaLY2Fh9/fXXuueee3Tx4kV17dpVCQkJ2rp1q6KiorRgwQI1bdpUO3fulCR9/vnnevDBB9WkSRN17NhRq1atKnEbubm5iouL07hx4yRJOTk5mjRpku6//37ddddd6tOnj3755Ze/bJ8BAABuxt/%2BApIdO3bo448/1hdffKFq1app06ZNio%2BP18KFC9WjRw99/fXXqlOnjrZu3aq8vDz99ttv2rx5s3x8fLR%2B/XpNnTpVH3zwgZo0aaI1a9bohRdeUJ06dRQREWGznVdffVXe3t567bXXJEnTpk3T3r17lZiYqKCgIM2YMUNDhw7Vt99%2BKzc3t5uKPS0tTenp6TZtIdnZCg0NLZ3BsZeXl%2B3USJ4O9E/Zw8N2ajRHiUNyvLGJijI6Aov69W2nRnOE93SRove2o7zHb/Lzu8wVxeEo8RjM1Sp5pc1B3l1l5%2BLFi3J3d5evr6/c3NzUpk0bbd%2B%2BXampqcX65uXlKS4uTr6%2BvpIs5xQ%2B/PDDatasmSSpU6dOmjdvnlavXm2TDH700UdKSkrS4sWL5eXlpcLCQi1btkzvvvuuqlSpIkkaMWKEFi1apJ9//llNmjS5qdgTExOVkJBg0zZ0yBDFDxt2S2NRZqpVMzoCx1ShgtEROK7AQKMjsNixw%2BgIbH32mdEROK7gYKMjcEw%2BPkZH4BBIBu3zt08GW7ZsqYYNGyomJkYtW7ZU27Zt1bVr1%2Bv2v%2B2226z/ffz4cbVo0cJm/u23364TJ05YX2/cuFEbNmzQRx99pMDfv%2BDOnj2rrKwsDR482KYKWFhYqJMnT950MtizZ0/FxMTYtIVkZ0tHj97U8mXOy8uSCJ48KeXlGRuLv7%2Bx27%2Bah4clETSZpIICo6NxnCqcZIklMFC6eNExxuaa95dh6te3JIJxcVJKitHRSP/7v0ZHcIWnpyURPHdOys83OhqpfHmjI7Bwc7MkgpcvS2az0dFY/F5IgfP52yeD3t7emj17tlJSUrRu3Tp9%2BumnmjdvnmbOnFlif8%2BrDkXk5uaW2OfqBG/nzp267777NH36dEVHR8vDw8NaWfz888/VuHHjW449NDS0%2BCHhgwctb35HkpdnfEyO%2BOu4oMAxvrwcUUGBYySDv58b7DBSUhwjJqN/3JUkP98x4nKUxKuI2ex4MRmAyqB9/vYXkOTl5SkzM1P169fXkCFD9NVXX8nNzU2bN2%2B%2B4bJhYWE6fPiwTdvhw4dVs2ZN6%2Bv4%2BHi9/fbbOnfunGbPni1JCgwMVIUKFbR//36bZY8fP14KewQAAFB6/vbJ4Lx58/Tss8/q1KlTkqRDhw7p/PnzuvvuuyVJv/76qzIzM0tctmvXrlqxYoV27dqlvLw8LVu2TAcPHtRDDz1k7ePu7i5/f39NmTJFs2fP1t69eyVJvXr10vvvv69Dhw4pLy9PCxYsUPfu3ZWdnV3GewwAgGvh1jL2%2BdsfJn7qqaeUmpqqbt26KScnR9WqVdPo0aOtt5kZPny4evXqpQ4dOhRb9qGHHtKJEyc0ZswYnTlzRrVr19a8efNUq1atYn3vuece9e7dW2PGjNGyZcs0ePBgXbhwQXFxccrLy1ODBg00d%2B5c%2Bfn5/QV7DQCA63C15K20uZnNnGzgVA4eNDqCK3x8pLAwywUtRp8z6CgndUuWE94rVZLOnnWMcwYd5ZYckuNdXFO5stERWERFWa5sbtrUMc4ZdKRTWry8pNBQKS3NMc4ZdJSrmt3cLBds5OQ4zjmDBhY7yuJt4yh3nvorONC3BAAAwJ9HZdA%2Bf/tzBgEAAHB9VAYBAIBTozJoH5JBAADg1EgG7cNhYgAAABdGZRAAADg1KoP2oTIIAADgwkgGAQCAU3O2J5CYTCaNGDFCrVq1Ups2bfTSSy8pJyfnuv2/%2B%2B47denSRVFRUYqNjdUXX3xhnTdz5kw1aNBAkZGRNn9nzpy56Xg4TAwAAJyasx0mfvnll5Wbm6uVK1cqLy9Pw4cP17Rp0zR%2B/PhifX/%2B%2BWeNHj1a77zzju6//35t2rRJQ4YMUe3atdWsWTNJlsfnvvnmm7ccD5VBAACAv8iZM2e0du1ajRw5UsHBwapSpYoGDx6sL7/8UnklPGXHZDLpueeeU/v27eXp6an77rtP4eHh2rZtW6nFRGUQAAA4tbKoDKalpSk9Pd2mLSQkRKGhoXatd9%2B%2BffLw8FBERIS1rVGjRrp06ZIOHz5s0y5Jbdu2Vdu2ba2v8/PzlZ6eripVqljb9u/fr169eunAgQOqVq2aXnzxRbVp0%2BamYyIZBAAATq0sksHExEQlJCTYtA0dOlTx8fF2rddkMikgIEBubm7WtqCgIElSRkbGDZefNm2aypUrp06dOkmSqlatqpo1a2rUqFEKDQ1VYmKiBg4cqOXLl6t27do3FRPJIAAAwDV69uypmJgYm7aQkJCbWvbrr7/WmDFjSpw3cuRImc3mPx2P2WzWtGnTtHLlSn388cfy8fGRJPXo0UM9evSw9uvXr5%2B%2B%2BeYbLV%2B%2BXCNGjLipdZMMAgAAp1YWlcHQ0NBbPiTctWtXde3atcR5mzZtUmZmpgoKCuTh4SHJUi2UpEqVKpW4TGFhoV588UX9/PPPWrx4sWrWrPmH269evbrS0tJuOl4uIAEAAPiLNGjQQGazWSkpKda2pKQklS9fXnfccUeJy7zxxhs6ePBgiYnge%2B%2B9py1btti0HTp06IYJ49VIBgEAgFNzpvsMBgcHKzY2Vu%2B%2B%2B67OnTunU6dOadasWerevbs8PS0HbPv27atVq1ZJkrZv367ly5drzpw5qlChQrH1mUwmTZw4UYcPH9bly5c1b948HT16VI888shNx8RhYgAA4NSc7T6DkyZN0quvvqoHHnhAXl5eevjhhzVy5Ejr/GPHjun8%2BfOSpC%2B//FIXL15Uu3btbNbRvHlzzZs3T6NGjZJkOVfQZDKpbt26WrBggapWrXrT8biZb%2BUsRhjn4EGjI7jCx0cKC5OOHpUuXzY2lvLljd3%2B1Tw9pUqVpLNnpfx8o6OxxOMoPDykChUkk0kqKDA6GqlyZaMjsHDQEqgAACAASURBVIiKknbskJo2lXbuNDoa6fhxoyO4wstLCg2V0tKkEu7B9pcLDjY6Ags3N8nXV8rJkRzla9zPz7BNr15d%2BuuMjS39dToqB/qWAAAA%2BPOcrTLoaDhnEAAAwIVRGQQAAE6NyqB9SAYBAIBTIxm0D4eJAQAAXBiVQQAA4NSoDNqHyiAAAIALozIIAACcGpVB%2B5AMAgAAp0YyaB8OEwMAALgwKoMAAMCpURm0D8mgszl1yugIrvD3tzyb%2BMwZKSvL2FiMfjby1Xx9Lc8mzsiwPDfUaIGBRkdwhbe35dnE2dlSbq7R0TjOM3i9vCzT//1fx3j%2Bbo0aRkdwRdFzmzt2dIznNqelGR2Bhaen5bMmO9sxnoEuGfpsYtiHZBAAADg1KoP2IRkEAABOjWTQPlxAAgAA4MKoDAIAAKdGZdA%2BVAYBAABcGJVBAADg1KgM2odkEAAAODWSQftwmBgAAMCFURkEAABOjcqgfagMAgAAuDAqgwAAwKlRGbQPySAAAHBqJIP24TAxAACAC6MyCAAAnBqVQftQGQQAAHBhVAYBAIBTozJoH5JBAADg1EgG7cNhYgAAABdGZRAAADg1KoP2oTIIAADgwqgMAgAAp0Zl0D4kgwAAwKmRDNqHw8QAAAAujMogAABwalQG7UMyCAAAnBrJoH04TAwAAODCqAwCAACnRmXQPlQGAQAAXNifSgYjIiK0cePGsorFbiNHjtS4ceMkSePHj9eYMWMMjggAAJS1wsLS/3MlDn2Y%2BLvvvlNERIRuv/32P73s5MmTyyAiAADgaP5/e/cel%2BP9/wH81blIiDI62IwVETnOecqxpFjmNJvTMkUWc9gcVn7Mcc6VbZiNtoVMOVPEkJFQUky2yaEDSkq66%2B7%2B/dHXPfcK0eFz312v5%2BPhkftzXffdy63u%2B32/P9f1uTSteMvKyoKfnx/Onj0LbW1t9OzZE/PmzYOhoWGJfXft2oUvv/wSenp6KuPBwcGwt7dHUVER1qxZg7179yI7Oxv29vbw8/ODlZVVmfOo9TTx2rVr8c8//4iOQURERFRh5s2bh7y8POzduxehoaFITk7GihUrnrt/hw4dEB8fr/LH3t4eQHFRuGfPHnz33Xc4duwY3nzzTXh7e0OhUJQ5zysXgxkZGfj4449hb28PZ2dnXLt2TbktOjoaw4YNg4ODA7p3746AgADlNoVCgRUrVqBnz55wcHDA4MGDce7cOeX20aNHY/ny5XB1dYWnpycGDRqEP//8E15eXvjiiy9KzbJ9%2B3Y4OjqiXbt28Pf3R9EzHw1mz54NX19fAMC9e/fg7e2NTp06oW3bthgzZgxSUlKU%2B27btg0DBgxA69at4eLigoiICOW2Bw8ewMfHB507d0b79u3xySef4O7du8rt3333HXr16oXWrVujX79%2BCAsLU25LSkrCxx9/jPbt2%2BPdd9/FwoULUVBQ8KpPOREREb2AJk0T37t3DxEREfD19YWpqSkaNGgALy8vhIaGvlaNEBISgjFjxuDtt9%2BGsbExfH19kZycjEuXLpX5MV65GAwJCYGfnx9Onz6N%2BvXrY%2BXKlQCA1NRUeHl5YcSIEYiJicHGjRvx66%2B/Ys%2BePQCAsLAw7N69GyEhIYiJiYGTkxN8fHwgl8uVj71v3z4sWrQI3377LcLDwwEAgYGBWLx4cYkcN27cwPz58/Hll18iOjoadnZ2OH78eKmZ16xZg9q1a%2BPEiRM4efIkrK2tsXTpUgDFU9Hr16/H8uXLcf78eUydOhWfffYZ7ty5AwBYvnw5cnNzERkZqXz8r7/%2BGgAQGxuLn376CcHBwbh48SLmzZsHPz8/3L9/H3l5eZgwYQK6dOmC06dPY8eOHfjjjz%2BwadOmV33KiYiIqJpITEyEjo4ObGxslGN2dnZ4/Pgxbty4Uep97t69i7Fjx6JDhw5wcnJSNp6ePHmC69evo0WLFsp9jY2N0bhxY8THx5c50ysfM%2Bjm5oa33noLAODo6IhffvkFALB37140a9YM7u7uAIpPNhk%2BfDjCwsLg6uoKV1dXODk5oVatWgAAFxcXrFu3Dnfu3FHOa9vb2yvbni8TERGBFi1aoHfv3gAADw8P/Pjjj6Xum52djTp16kBfXx9aWlrw8/ODtnZxHbxz5054eHigZcuWAIC%2BffuiXbt22Lt3Lzw9PeHv74/CwkLUqFEDANC7d29s2LABAPDo0SNoa2vD0NAQWlpa6NatG86fPw9tbW0cOHAACoUCEydOBABYWVlh/Pjx%2BPbbb/Hpp5%2BW6d%2BYnp6OjIwMlTGzvDyY169fpvtXOiMj1a8ilXKchTAGBqpfRdPXF53gX7q6ql9F09ERnaCYuj0vDg6iE/zL1lb1q2jq8n/09GdXXX6GBauMTl6p78FmZjA3Ny/X42ZlZcHY2BhaWlrKsdq1awMAMjMzS%2BxvamqKN998E9OmTUPTpk1x5MgRzJw5E%2Bbm5mjSpAkUCoXy/s8%2BXmmP9Tyv/FNtaWmp/LuBgYGypXnz5k3Ex8ejVatWyu0KhUJZOObl5eHrr7/GiRMn8PDhQ%2BU%2BMplM%2BXcLC4sy50hLS1PJAgBvvvlmqftOmDABkyZNwu%2B//45u3bphwIAB6Ny5szL3qVOnVApJhUKBpk2bAgD%2B%2BecfLFmyBHFxcXjy5AmKiopQp04dAEDnzp3RokULODo6onPnzujRowfc3NxQo0YNpKSk4P79%2ByWeD/1XeGMOCQnB%2BvXrVcYme3tjio9PmR%2BjSjRvLjqBenqFg3clx8xMdAL1ZGoqOkGx2FjRCUr6%2BWfRCdSTiYnoBGqhMorBUt%2BDJ0/GlClTXnrfsLCw565o4uvr%2B0rH87333nt47733lLddXFxw5MgR7Nq1C59//jkAvNLjleaVi8FnK9lnGRoaomfPnsqu2X/5%2B/vj6tWrCA4ORuPGjZGSkoI%2Bffqo7KPzCp9wZDIZCgsLVcaKnvPT0KpVKxw9ehS///47oqKiMHnyZHzwwQeYNWsWDA0NMX36dIwbN67E/YqKijBx4kS0a9cOhw4dgqmpKXbs2IHVq1cDAPT19bFhwwYkJSUhMjISwcHB2Lx5M3bt2gUDAwM0a9ZMOU3%2BOoYNGwZHR0eVMbPbt9XnhdrIqLgQTEwE8vLEZlGnF0QDg%2BJCMCUFyM8XnQaoWVN0gn/p6hYXghkZwH9%2Bf4VQl66Krm5xIfjggXo8L/37i07wL1vb4kJw5EggKUl0GiAyUnSCYjo6xa972dnAM4dbCVW3rugEFarU9%2BAyfpB1c3ODm5tbqdtOnTqFnJwcyOVyZd2TlZUFAKhXr16ZHt/CwgKXL19GnTp1oK2trbz/U1lZWWV%2BLKACl5axtrZGREQEFAqFsmDMyMhA7dq1oa%2Bvj7i4OAwdOlTZvUtISCjX9zM3Ny/xGMnJyWjTpk2JfbOyslC7dm04OTnByckJrq6umDhxImbNmgVra2tcvXpVZf87d%2B6gYcOGuHfvHm7fvo3Vq1fD9H%2Bf2K9cuaLcr6CgAPn5%2BbC1tYWtrS0mTpwIZ2dnnD59GtbW1khJSUFubi5q/u/NODMzE3p6ejA2Ni7zv7FEO/rBAyA3t0z3rzJ5eeIzqdNU6FP5%2BcCTJ6JTAP9ZjkAtFBYCz8wKCKMuU35PFRYC6nCS2YULohOUlJSkHrnUoVh/llyufpkEqIzOYKnvwRWgefPmUCgUSEpKgp2dHQAgPj4eJiYmytnUZ/3yyy%2BoXbs2nJ2dlWPJycmwsrJSNp4SEhLQsWNHAMWHxt28ebPMh90BFbi0jIuLC7KyshAYGIgnT54gJSUF48aNU06/WlpaIj4%2BHjKZDBcvXsS%2BffsAFM/JP4%2BBgQH%2B%2Becf5OTklNjWo0cPXLlyBVFRUZDJZAgODkZaWlqpjzN8%2BHB8//33yM/PR0FBAS5duqRcu3DYsGHYv38/oqKiUFhYiDNnzmDgwIG4dOkSTE1NUaNGDVy8eBH5%2BfnYs2cPEhMTkZOTg9zcXGzevBmffPIJUlNTART/5zx8%2BBDW1tbo1q0bTE1NsXTpUuTk5CAjIwNTp0594anjREREVL2ZmpqiX79%2BWL16NR48eIDU1FQEBATAw8MDuv/7gPrxxx9j//79AIpnQv/v//4P8fHxKCgowN69e3HixAkMHz4cADBixAj89NNPSE5ORk5ODlasWIHmzZurHKb2MhX2sbhu3boIDAzEsmXLsGHDBpiamsLNzU05/Tp9%2BnTMnDkTHTt2ROvWrbFs2TIAgJeXF7Zt21bqYw4fPhzLli3D6dOnERQUpLKtdevWmDt3Lvz8/JCdnQ1XV1f079%2B/1Hnz1atXw9/fH0FBQdDV1UWrVq2URVnXrl0xa9YsLFiwAPfu3YOlpSX8/PyUHUY/Pz8sX74ca9asUZ708uGHH6Jv3744duwY7ty5A3d3dzx58gQNGzbE559/jub/O4YuMDAQCxcuRNeuXWFsbAwnJyfMmjWrYp5wIiIiAqB5i04vWLAAX331FZycnKCnp4eBAwcql8MDgJSUFOX5FR999BFyc3MxdepUZGRkwNLSEgEBAcoTX4cPH46MjAyMHj0aubm56NSpU4ljHV9GS1Heow6pav3%2Bu%2BgE/6pZE2jbtvgYRtHTxOp0rIqhIdC0KXD9unpME//vDH61oK8PNGwI3L3LaeJn6ekB5uZAerp6TBP/5%2BQ8oRwcil9j2rZVj2niF8xmVSld3eLXvcxM9ZkmFnhi2HOWIy6XUla1q7bU%2BgokRERERFS51ORjMREREdHr0bRpYnXDziARERGRhLEzSERERBqNncHyYTFIREREGo3FYPlwmpiIiIhIwtgZJCIiIo3GzmD5sDNIREREJGHsDBIREZFGY2ewfFgMEhERkUZjMVg%2BnCYmIiIikjB2BomIiEijsTNYPuwMEhEREUkYO4NERESk0dgZLB8Wg0RERKTRWAyWD6eJiYiIiCSMnUEiIiLSaOwMlg87g0REREQSxs4gERERaTR2BsuHxSARERFpNBaD5cNpYiIiIiIJY2eQiIiINBo7g%2BXDziARERGRhLEzSERERBqNncHyYTFIREREGo3FYPlwmpiIiIhIwtgZJCIiIo3GzmD5sDNIREREJGHsDBIREZFGY2ewfFgMaprYWNEJ/mVmBrRtCyQlARkZYrO0ayf2%2Bz%2BrZs3ir48eAbm5YrOoG0PD4q%2B5ucCTJ2KzAMDbb4tOUExLq/iriQmgUIjNAgDp6aIT/Ev3f29TkZFAYaHYLABgbi46QTEHh%2BL3Aycn4MIF0WmKCfzZZTFYPpwmJiIiIpIwdgaJiIhIo7EzWD4sBomIiEijsRgsH04TExEREUkYO4NERESk0dgZLB92BomIiIgkjJ1BIiIi0mjsDJYPi0EiIiLSaCwGy4fTxEREREQSxs4gERERaTR2BsuHnUEiIiIiCWNnkIiIiDQaO4Plw2KQiIiINJqmFYNZWVnw8/PD2bNnoa2tjZ49e2LevHkwNDQsse/cuXMRFhamMiaXy%2BHm5obFixdj9uzZCA8Ph46OjnK7gYEBYmJiypyH08REREREVWjevHnIy8vD3r17ERoaiuTkZKxYsaLUfRcuXIj4%2BHjlnwsXLqBJkybo37%2B/cp9Jkyap7PMqhSDAYpCIiIg0XFFRxf%2BpLPfu3UNERAR8fX1hamqKBg0awMvLC6GhoSgoKHjp/X/88Uc0atQIPXv2rLBMLAaJiIiIqkhiYiJ0dHRgY2OjHLOzs8Pjx49x48aNF943OzsbGzZswIwZM1TGz5w5A3d3dzg4OMDDwwOXL19%2BpUw8ZpCIiIg0WmV08tLT05GRkaEyZmZmBnNz83I9blZWFoyNjaGlpaUcq127NgAgMzPzhffdtm0bOnTogGbNminHrKysoK2tjalTp6JmzZpYv349xo0bh0OHDqFu3bplysRikIiIiDRaZRSDISEhWL9%2BvcrY5MmTMWXKlJfeNywsDDNnzix1m6%2BvLxQKxSvnkcvlCA4OxjfffKMy7u3trXJ7xowZ2Lt3LyIiIjB06NAyPTaLQSIiIqL/GDZsGBwdHVXGzMzMynRfNzc3uLm5lbrt1KlTyMnJgVwuV54BnJWVBQCoV6/ecx/z3LlzkMlkaN%2B%2B/Qu/t46ODho2bIj09PQyZQVYDBIREZGGq4zOoLm5ebmnhEvTvHlzKBQKJCUlwc7ODgAQHx8PExMTvPXWW8%2B9X2RkJN59913o6v5buikUCixZsgSDBw%2BGra0tAEAmk%2BHmzZuwsrIqcyaeQEJERERURUxNTdGvXz%2BsXr0aDx48QGpqKgICAuDh4aEs9D7%2B%2BGPs379f5X6JiYmwtLRUGdPS0sKtW7fg7%2B%2BPtLQ05ObmYsWKFdDT00Pv3r3LnInFIBEREWk0TVpaBgAWLFiAWrVqwcnJCYMGDYK9vT18fX2V21NSUvDw4UOV%2B2RkZKB%2B/folHmvRokV48803MWTIEHTp0gWJiYn48ccfUaNGjTLn4TQxERERaTRNuwJJrVq1sHLlyuduP3r0aImxQ4cOlbpvnTp1sHjx4nLlYWeQiIiISMLYGSQiIiKNpmmdQXXDziARERGRhLEzSERERBqNncHyYTFIREREGo3FYPlwmpiIiIhIwtgZJCIiIo3GzmD5sDP4HI6OjrCzs0OrVq1gb2%2BPrl27Yvr06UhLSwMAzJ49GzY2Njhz5kyJ%2B165cgU2NjaYPXu2cszGxgYnTpyosvxEREREZcFi8AXmzp2L%2BPh4xMXFYdeuXbh37x7mz5%2Bv3F6vXj3s2bOnxP327NkDU1PTqoxKREQkWZp2BRJ1w2KwjBo0aIC%2Bffvir7/%2BUo716NEDhw8fhkwmU44pFAocOHAAPXr0EBGTiIhIclgMlg%2BLwTJQKBRISUlBWFgYBg4cqBy3sLBA48aNcezYMeVYTEwM6tWrV%2BJi0kRERETqiCeQvMDChQvx9ddfQ6FQoKCgAJ07d8aoUaNU9hk0aBD27NmDfv36ASieInZ1dcWjR4/K/f3T09ORkZGhMmamrQ3zevXK/dgVom5d1a8i1awpOsG/jIxUv4pmaCg6wb8MDFS/iqalJTpBsac51CWPrhq9NejoqH4VzcFBdIJitraqXyVOap28iqZGv/HqZ%2B7cuRgxYgQAIDs7G1u3boW7uzvCw8OV%2BwwcOBCrVq1CdnY2jIyMEBERgbCwMPz666/l/v4hISFYv369ythkb29MGTmy3I9doQYMEJ1APfFF%2BvmsrEQnUE/qUiSr0weIp0xMRCcoFhsrOoGqn38WnYCqARaDZWRiYgJvb2%2BEhobiwIEDynFTU1N06tQJBw8ehLm5OWxtbWFmZlYh33PYsGFwdHRUGTM7elR9fvnr1i0uBA8cADIzxWZp3lzs93%2BWkVFxIZiUBOTliU4D1KolOsG/DAyKC8GUFCA/X3QaQF0O59DSKn5u8vMBhUJ0GvX4uX1KR6e4EMzOBuRy0WkAJyfRCYrZ2ha/F4wcWfxaow4EFsrsDJYPi8HXkP%2BfN7FBgwYhNDQU9evXh6ura4V9H3Nzc5ibm6sORkQA/5k6Fi4zU3wma2ux3780eXlAbq7oFICenugEJeXnA0%2BeiE6hHoXXsxQK9chUWCg6QUlyuXrkunBBdAJVSUnql0kAFoPlwxNIyig/Px8//PADMjMz4fSfT4ZOTk64du0azp49iz59%2BghKSERERPTq2Bl8gacnkACAgYEBWrRogY0bN8L6P10oAwMD9OzZEzk5OTA2NhYRlYiISLLYGSwfFoPPcfTo0RduX7JkicrthQsXqtyeMmWKyu2rV69WTDAiIiKiCsRikIiIiDQaO4Plw2KQiIiINBqLwfLhCSREREREEsbOIBEREWk0dgbLh8UgERERaTQWg%2BXDaWIiIiIiCWNnkIiIiDQaO4Plw84gERERkYSxM0hEREQajZ3B8mExSERERBqNxWD5cJqYiIiISMLYGSQiIiKNxs5g%2BbAzSERERCRh7AwSERGRRmNnsHxYDBIREZFGYzFYPpwmJiIiIpIwdgaJiIhIo7EzWD7sDBIRERFJGDuDREREpNHYGSwfFoNERESk0VgMlg%2BniYmIiIgkjJ1BIiIi0mjsDJYPO4NEREREEsbOIBEREWk0dgbLh51BIiIi0mhFRRX/p7LFx8ejT58%2B%2BOCDD166708//YR%2B/fqhbdu2GDFiBC5fvqzclp%2Bfj/nz56NHjx7o1KkTfHx8kJmZ%2BUpZWAwSERERVaHw8HBMmTIFjRs3fum%2BR48exbp167Bs2TKcPn0avXr1wqefforHjx8DAFatWoWEhASEhITg0KFDUCgU%2BOKLL14pD4tBIiIi0mia1hnMz89HSEgIWrdu/dJ9Q0JCMGTIELRu3RqGhoaYMGECAODYsWMoLCzEzp074eXlhYYNG6JOnTr47LPPEBUVhbS0tDLnYTFIREREVIWGDh2KBg0alGnfhIQEtGjRQnlbW1sbzZs3R3x8PG7evIlHjx7Bzs5Ouf3tt9%2BGoaEhEhISypyHJ5AQERGRRquMTl56ejoyMjJUxszMzGBubl7x3%2BwFsrKyULt2bZWx2rVrIzMzE1lZWQAAExMTle0mJiavdNwgi0FNM3Wq6ARK6enpCFm3DsOGDavyXw51xufl%2BVSem6ZNRcdRG%2Bnp6Qj5/nv1%2BZkxMhKdQEntfp8UCtEJADzzvBw8qB7Pi2CV8d%2Bybl0I1q9frzI2efJkTJky5aX3DQsLw8yZM0vdtnjxYgwZMuSVsihe8g982faXYTFIry0jIwPr16%2BHo6MjX4yewefl%2BfjclI7Py/PxuSkdn5fKN2zYMDg6OqqMmZmZlem%2Bbm5ucHNzq5AcdevWVXYAn8rKykKzZs1gamqqvF2zZk3l9ocPH6JevXpl/h4sBomIiIj%2Bw9zcXC0K7ZYtWyIhIQGDBw8GAMjlcly5cgUeHh6wsrJC7dq1kZCQAAsLCwDAtWvXIJPJ0LJlyzJ/D55AQkRERKRG%2Bvfvj5iYGADAiBEjsHv3bly8eBF5eXkICgqCvr4%2B3nvvPejo6OCDDz7Ahg0bcPfuXWRmZmLlypXo06cP6tevX%2Bbvx84gERERURXq168f7ty5A7lcjqKiIrRq1QoAcPDgQVhYWOCvv/5SriPYo0cPTJs2DZ999hnu37%2BPVq1a4bvvvoOhoSEAwMfHB7m5uXBzc0NhYSF69eoFPz%2B/V8qjpSjvUYckWenp6QgJCVGfA7vVBJ%2BX5%2BNzUzo%2BL8/H56Z0fF6oIrEYJCIiIpIwHjNIREREJGEsBomIiIgkjMUgERERkYSxGCQiIiKSMBaDRERERBLGYpCIiIhIwlgMEhEREUkYi0EiIiIiCWMxSERERCRhLAaJKsnDhw9FR1A7MpmsxB%2Bpi4uLw%2BHDh5W38/PzBaYRTy6X47vvvoOzszM6dOgAAMjNzcWCBQsk/9wQVRYWg/RKUlNTsXHjRixcuFA5FhcXJzCRekhISMCQIUOUt6dOnYpOnTqhc%2BfOuHDhgsBk4p0%2BfRoDBw5Ey5Yt0bp16xJ/pCo5ORkDBgzA6NGjMW3aNADA7du30atXL1y5ckVwOnGWLFmCffv2YeLEicrir6CgAMnJyVi8eLHgdETVE69NTGUWGRkJX19ftG3bFufPn0d8fDzu3r2LgQMHYsGCBXBxcREdUZgRI0age/fu8PLyQkREBPz8/LB9%2B3bExsbi559/xs8//yw6ojB9%2BvRBx44d0bdvXxgZGZXY3rFjRwGpxPv444/RqlUr%2BPj4oH379soPVVu2bEFkZCS2bt0qOKEYXbp0wY4dO2BhYYHWrVvj0qVLAICMjAwMHjwYJ0%2BeFJxQjLL%2Bu7t161bJSag60hUdgDTH6tWrsXLlSvTu3Rv29vYAgIYNGyIgIAALFy6UdDF47do15Zt3ZGQknJ2d0ahRIzRs2BD%2B/v6C04l17949%2BPv7Q1eXLzfPiouLw/fffw99fX1oaWkpxz/88EOsX79eYDKxCgoK8MYbb5QYNzIyQm5uroBE6mHChAkv3UdLSwuJiYlVkIaqG746U5mlpKTA0dERAFTevDp06IBbt26JiqUWDAwMUFBQAC0tLfz%2B%2B%2B9Yvnw5AODx48coKioSnE6sjh07IikpCS1bthQdRa3UqVMH2dnZqF%2B/vsr4zZs3JV0429nZYfPmzfjkk0%2BUY3l5eVixYoWkf4aSkpJER6BqTLqvOPTKGjVqhKtXr6J58%2BYq4ydPnkS9evUEpVIPPXr0gI%2BPD3R1dWFsbIx3330XBQUFWLVqFdq2bSs6nlC9e/fGzJkz0atXL1haWkJbW/VQ5WHDhglKJlavXr3g4%2BMDLy8vKBQKJCYmIikpCUFBQZLuss%2BePRsTJkzAjz/%2BCJlMhkGDBiElJQWmpqYIDAwUHY%2BoWuIxg1Rm27ZtQ2BgIDw8PLB582Z8/vnnuHr1Kvbv34%2BZM2di1KhRoiMK8%2BTJE2zZsgWPHj3CyJEjYWFhgcePH2PKlClYtGhRqdNeUvG0m1waLS0tREZGVmEa9ZGfn4/ly5fjt99%2BU05/1qlTB8OGDYO3tzf09fUFJxTnyZMniIqKws2bN2FoaAhra2t069ZN0h3TL774okz78SQbeh0sBumVHD58GKGhocoXaSsrKwwfPhxdunQRHU1tZGZmom7duqJjkIZQKBS4f/8%2BDA0NYWxsDKD4uDk9PT3BycR58OABTE1NAQA5OTmIjo6GtbU1bGxsBCcTx9bWFvXq1UOPHj1gYWHx3P0mT55chamoumAxSFQBcnNzsXTpUoSHh6OwsBCXL19GVlYWZs2ahcWLFyvf2KTqwYMHOH78OG7fvg0AaNy4MXr16qUsfqToiy%2B%2BwKJFi0pMmyclJWHGjBnYs2ePoGRihYeHw8/PD7GxscjLy4O7uzuA4nU7Z8yYgffff19wQjESExMRHh6OgwcPon79%2BnB1dYWLi4vkD9GhisFikMrsRdMU2traaNCgAXr06IE2bdpUYSr1MGvWLKSnp8Pb2xvjxo1DXFwccnNzMX/%2BfCgUCqxcuVJ0LRsqCwAAF7NJREFURGGio6Ph7e0NIyMjWFlZASg%2BSUIul2Pr1q145513BCcUY%2BTIkTA0NMTatWthbGwMhUKBoKAgbNiwASNHjsTs2bNFRxRiwIABmDt3Lrp27Ypff/0VwcHB2L17N65fv45p06Zh3759oiMKFxMTgz179iAiIgK2trZwdXVF3759UaNGDdHRSEOxGKQymzt3Lo4cOQIjIyO0aNEC2trauHLlCvLz89GxY0fcu3cPFy5cgJ%2BfHzw8PETHrVKdOnXCgQMHYGpqqrI2WnZ2Nvr164fo6GjBCcUZMmQIXF1dMXbsWOWYXC5HUFAQzp07hx9//FFgOnEKCgowf/58XL58GV9%2B%2BSVWrVqFBw8eYPHixcorb0iRg4ODcqF2Ly8vtGrVCpMmTSqxjYDCwkKcOnUKBw4cwNmzZ%2BHg4IBvvvlGdCzSQNI9GpdeWZ06dTB69Gh4eXkpp7aKiooQFBQEPT09eHp64uTJk1i4cKHkikEtLa1SpzzlcrnkL6F148YNjB49WmVMR0cHnp6e%2BOmnnwSlEk9PTw%2BLFy/Gpk2bMGHCBPTo0QNbtmyRfHenbt26SEtLg76%2BPqKjozF16lQAQFpaGgwNDQWnUy9PnjxBeno67t27h8LCQtSsWVN0JNJQLAapzLZv346TJ0%2BqHOOkra2NTz75BL169YKnpye6du2KtLQ0gSnFcHBwwLJly/D5558rx27fvo1FixZJ9gobT5mbm%2BPvv/9G06ZNVcZTUlIkd8xgSEhIiTFjY2P07NkTFy9eRFhYmPL3S6pL7gwfPhweHh7Q0dFBp06dYGNjg5ycHPj6%2BqJfv36i4wlXUFCAqKgohIeH4%2BTJk3j33Xfx/vvvw8nJSdJnoFP5sBikMtPT08OJEyfQu3dvlfHo6GjIZDIAQFRUFBo2bCginlDz5s2Dl5cX2rdvj8LCQrRr1w6PHz%2BGg4MDVqxYITqeUG5ubvD09MSoUaPQpEkTAMXdwuDgYPTv319wuqr17bffPneboaEhvv/%2BewDFnWapFoOenp5o3749Hj16hM6dOwMofm7ee%2B89lUMNpObs2bPYs2cPDh8%2BjMaNG2PQoEHw9/eX/MlpVDF4zCCV2Y4dOzB//nzY2trCwsICurq6uHPnDuLj4%2BHr64sxY8agbdu2WLp0qWQXzY2Li8OtW7dgYGAAa2trNGvWTHQk4RQKBbZt24bQ0FDcunULMpkM1tbWGDRoEMaPHw8dHR3REUkDPH78GH379pXstYltbW1Rv359dO/enUvLUIVjMUiv5MqVKzhx4gQyMjJQVFSEevXqoVOnTvjll1%2BwcuVK3Lp1C5aWlqJjVrmxY8fihx9%2BKDGek5OD0aNH47fffhOQitTdn3/%2BiUOHDqksuePi4qI861qKUlNT8fXXX%2BPy5cvKGQegePkmc3NzHDp0SGA6cWbPnq1yGdDn4aLT9DpYDFKZyeVy/PrrryVepNPT03Ht2jX88ccfAtOJkZCQgPj4eCxcuFC5jMyzbt68iZ9//llyZ0Du3LlTeRJRacfJPUuq06FPr9zTvHlzWFtbAwD%2B%2BusvXL9%2BHZs3b0b79u0FJxTD09MTAODk5IT/%2B7//g5%2BfHxISEpCYmIiAgACuq/eMrKwsHDhwAPn5%2BXBycpL0hwgqHxaDVGZ%2Bfn44duwY2rdvj4MHD8LFxQWJiYnQ19fHnDlzJHkN3jNnzmDLli2IiopCo0aNSmw3NDTEBx98gDFjxlR9OIH69%2B%2BPgwcPAuDl6J7H2dkZkydPhrOzs8r4rl278Ouvv2L79u2CkonVsWNHHD9%2BHEZGRirLNO3duxcxMTHw8/MTG1CQjIwMzJs3D3/99RdcXV0xcuRIuLu7K69Uk5WVhU2bNklynVcqPxaDVGbdunXDzp078cYbb8De3h5xcXFQKBRYsWIFLC0tMWLECNERhZk0aRKCgoJExyAN0qZNG5w/f77EMZOFhYV49913ERMTIyiZWF26dMGxY8dgYGCAjh074vDhw6hTpw5kMhm6du2Kc%2BfOiY4oxPTp03H//n306dMH4eHhqFmzJtq3bw8vLy8AwA8//IDjx49jy5YtYoOSRtJ%2B%2BS5ExfLz8/HGG28AKF4nTiaTQUtLC56enpIvhIKCgvDkyRMcOHBA5cU4NTVVXCg1IZPJsHXrVuXtyMhITJo0CUuXLkVubq7AZGI1atRI2fV6VkJCgqSnQtu3b4/JkycjLy8PrVq1wpIlS3D58mVs374dBgYGouMJ88cff2D58uUYNWoUVqxYgejoaHz00UfK7aNGjcKVK1cEJiRNxmKQyuydd97B%2BvXrUVBQgLfeegs7duwAANy9exePHz8WnE6s2NhY9OzZEytXrlQuJXP79m0MGDBA0lcfAYAFCxYor7N748YNTJs2DXZ2dsp1GKXqo48%2BgqenJ/z9/bFt2zZs27YNCxYswIQJEzB06FDR8YTx9/eHmZkZdHV1MXv2bJw9exYeHh5YuXIlZs2aJTqeMDk5OTAzMwMAWFlZQVdXV2WdTn19fckvcE%2Bvj9PEVGbx8fGYNm0awsLCcPr0aXz22WfKF6BRo0bhyy%2B/FB1RmKFDh8Ld3R2jRo1STqEDxScJbNq0CaGhoYITitO5c2fs2bMH9evXx6pVq3D9%2BnUEBATg0aNHGDBggGSXCgGAo0ePllhyx83NrcRxhFKmUChw7949mJqaSnoZomePnyzt9vPGiMqCi05TmbVq1QpHjhwBAPTu3Rvh4eFITEyEhYWF5A9a/vPPP5VnxT67/EP//v0xZ84cUbHUQn5%2BPurXrw8AOHXqFEaNGgWg%2BMobUp4mvnTpEhwdHV94go1UpaamYu/evUhNTcXcuXNhZmaGuLg42Nvbi44mjFwux/bt25UrFvz39tMxotfBYpBeW5MmTZRXlJA6MzMz3L17t8TSDvHx8ZK75Np/NWvWDLt27YKhoSGuX7%2BuLH5Onz4tyavVPDV%2B/HicPn2alxD7j8jISPj6%2BqJt27Y4f/485s6di7t372Ls2LFYsGCBZBe0Nzc3x4YNG557%2B%2BkY0etgMUhUAVxdXfHJJ59g7NixKCoqQkREBJKSkhAcHIyRI0eKjifUnDlzMGPGDDx69Ahz5sxB7dq1kZWVhcmTJ%2BPrr78WHU%2BYKVOmYOnSpRg5ciQaNWpUYgpUqkXi6tWrsXLlSvTu3VvZCWzYsCECAgKwcOFCyRaDR48eFR2BqjEeM0hUARQKBbZs2YLQ0FDcvHkThoaGsLKywvDhw%2BHh4VGmKwdITVpaGho0aCA6hjAODg4oLCxEYWFhqdsTExOrOJF6aNOmDWJjY6Gtra1yDJxcLke7du1w8eJFwQmJqh92BokqgJaWFsaOHYuxY8eKjqJ25HI5jhw5guTk5FLPdpw2bZqAVOJ9%2B%2B23oiOopUaNGuHq1ato3ry5yvjJkyclveQOUWViMUhUQQ4dOoTjx48jLS0NBgYGaNCgAfr27YvOnTuLjibUjBkzEBERARsbGxgaGqpsk3LH9Ny5c/D29i4xnpubi9WrV6Njx44CUok3cuRIjB8/Hh4eHpDL5diyZQuuXr2qvHwfEVU8ThMTVYBVq1Zhy5Yt6N69u/Ikkps3b%2BL06dPw9PTEpEmTBCcUp23btti%2BfTuaNm0qOopayMrKwoMHD%2BDu7o7w8PAS17P%2B%2B%2B%2B/MXXqVOXyRFJ0%2BPDhUg%2B56NKli%2BhoRNUSi0GiCtCtWzesWbMG7dq1Uxm/ePEiJk%2BeLOm19BwdHbF///4SXUGpCg0NxZIlS5CTk1OiENTS0oJCoUDfvn2xdu1aQQmJSGpYDBJVgC5duiAqKqrEGaAFBQXo3r07zpw5IyiZeLt370ZCQgKmTZsGIyMj0XHUglwuR6dOnfDDDz/A1NQUAPDo0SNER0ejXbt2kl5PLyUlBcuXL1cWw8uWLUNISAgaN26M5cuX4%2B233xackKj6YTFIVAG%2B/fZb5OXlwdvbG3p6egCK3/C///57KBQKSU8Tu7m54fbt23j8%2BDHq1q1b4jhBqXZNw8PD4efnh9jYWOTl5cHd3R0A8PDhQ8yYMQPvv/%2B%2B4IRijBs3DlZWVvD398eZM2cwZcoUBAYG4uLFizhz5gw2bdokOiJRtcMTSIhe07Bhw1QKm2vXriE4OBhWVlbQ1tZGSkoKCgsL0apVK0kXg2PGjBEdQS0FBQVh3bp1AICwsDDo6%2Btj9%2B7duH79OqZNmybZYjAuLg6BgYEAgAMHDmDAgAHo0KED2rRpg40bNwpOR1Q9sRgkek3du3dXud2tWzdBSdTb4MGDRUdQS3fv3kXXrl0BACdOnICzszN0dHRgY2ODO3fuCE4njo6OjnIB7pMnT2Lu3LkAitfyLCgoEBmNqNpiMUj0miZPnlym/b755ptKTqLe5HI5Nm3ahN27dyMjIwPnzp1Dbm4uvvnmG8yaNQsGBgaiIwphamqKtLQ06OvrIzo6GlOnTgVQvBi3lE%2B26dChA/z9/aGnpweZTKb8kLVlyxbY2toKTkdUPbEYJKogUVFRuHz5MmQymXIsLS0NR44cwfTp0wUmE2vJkiU4e/YsJk6ciHnz5gEoPrEmOTkZixcvhp%2Bfn9iAgjy9Oo2Ojg46deoEGxsb5OTkwNfXF/379xcdTxh/f3%2BsWbMGmZmZCAoKgp6eHh4%2BfIjffvsNq1evFh2PqFriCSREFWDdunXYvHkzbGxsEBcXBwcHByQnJ6NBgwb49NNPMWDAANERhenSpQt27NgBCwsLlcuLZWRkYPDgwZI9gQQALly4gOzsbHTu3Bn6%2BvooLCzE5s2bMXbsWOWJSERElY2dQaIKsHPnTmzfvh3NmjWDvb09goODkZ%2BfD39/f%2BjqSvvXrKCgAG%2B88UaJcSMjI%2BTm5gpIpD4cHBxUbuvq6sLT01NQGnFmz56NJUuWAMBLu%2BhSP%2ByCqDJoiw5AVB08evQIzZo1A1B8ALxcLoeBgQGmTZuGZcuWCU4nlp2dHTZv3qwylpeXhxUrVqBly5aCUpE6ebYLqq%2Bv/8I/RFTxOE1MVAGGDBmCDz/8EIMHD8bAgQPh4%2BODfv36ITU1Fc7OzoiNjRUdUZikpCRMmDABAHD//n00a9YMKSkpMDU1RWBgIGxsbAQnJCKSNhaDRBXg5MmT8PHxwYkTJ7B//374%2B/ujSZMmSE1NRY8ePSQ/tfXkyRMcO3YMKSkpMDQ0hLW1Nbp16yb5KXQq9sUXX5R538WLF1diEiJpYjFIVEHy8vKUl1uLjo5GfHw8LCws0K9fP0kXPXPmzMGiRYtKjOfk5GDWrFkICAgQkIrUybRp05R/LyoqwvHjx2FpaYm33noLRUVFSE5ORlpaGgYMGFDqzxIRlQ%2BLQSKqFCkpKfj777/h5eWFDRs24L8vNf/88w%2BWLVumPLuYCAAWLFgAOzu7EldgCQ4OxvXr1/HVV18JSkZUfbEYJHpNTk5OiIyMBPDyq49IcfmUI0eOYO3atfjzzz9L3W5gYIDhw4e/0hQhVX8dOnRAdHR0iW66TCZDly5dEBMTIygZUfUl3bkronLy8fFR/v1Fy2E8e/1iKenTpw/69OkDNzc3hIWFiY5DGqJWrVo4ceIEHB0dVcajo6NRq1YtQamIqjcWg0Svac2aNVi7dm2Z9nV3d6/kNOqrYcOGoiOQBvn000/h7e2NFi1awNLSEnK5HHfv3kViYiLmzJkjOh5RtcRikOg1Pbs48P3797F9%2B3b06dMHb775JoqKinD9%2BnVERUVh3LhxAlOKd%2BfOHVy%2BfJlrClKZfPDBB2jfvj0iIyORlpYGmUwGW1tbfPXVV7C3txcdj6ha4jGDRBVg/PjxmDp1aok3q5iYGAQGBpZYdFlKVqxYgf3798Pe3h6NGjUqcSzYs2eSEhFR1WNnkKgCxMbGwtbWtsS4vb09Lly4ICCR%2Brh06RIsLCxw//593L9/X2WbVI%2BnJCJSJywGiSqAtbU11q1bh4kTJ8LY2BhA8Tp6GzduhKWlpeB0Ym3dulV0BCIiegFOExNVgEuXLmHq1KnIyMiAiYkJ5HI5cnJyYGJigoCAALRr1050RKFSU1Oxd%2B9epKWlKU8CiIuL4zFgRERqgMUgUQUpKirC5cuXkZqaCplMBnNzc7Ru3RoGBgaiowkVGRkJX19ftG3bFufPn0d8fDzu3r2LgQMHYsGCBXBxcREdkdQIr1hDVPU4TUxUQbS1tWFvb89u13%2BsXr0aK1euRO/evZXPTcOGDREQEICFCxeyGCQA/16xJjw8HM7OzqVesUaKi7cTVQUWg0RUqVJSUpQLCD97wkiHDh1w69YtUbFIzSQlJWHt2rUoKCjA%2BPHjS2x/esUaIqp4LAaJqFI1atQIV69eRfPmzVXGT548iXr16glKReqGV6whEofFIBFVqpEjR2L8%2BPHw8PCAXC7Hli1bcPXqVezfvx8zZ84UHY/UDK9YQ1T1WAwSUaX68MMPYW5ujtDQUFhZWSEsLAxWVlYICgpCly5dRMcjNcMr1hBVPZ5NTEREaoNXrCGqeuwMElGlKioqQnBwMKKiopCeng4AeOONN%2BDo6Ijhw4fzKiSkglesIap67AwSUaWaP38%2Bjh49ioEDB6JRo0ZQKBS4c%2BcO9u3bhz59%2BuCrr74SHZE0RGJiYokTkYio/FgMElGlcnBwQGhoKJo0aaIyfv36dQwdOlTy126mkp5%2BYJDJZMqxtLQ0eHl5ITY2VmAyouqJ08REVKlq1apV6vWZraysUKtWLQGJSJ3FxMTAx8cHmZmZAIoLw6fTw7179xYZjajaYmeQiCrVzp07ER8fD19fX9SpUwcAkJWVhfXr18PGxgZDhw4VnJDUyZAhQ%2BDk5ARnZ2cMGjQI%2B/fvx%2BXLl7F//37MmzcP5ubmoiMSVTssBomoUvXt2xdpaWmQyWQwMTFBUVERcnJyoKenBxMTE5V9ebkxcnBwQGxsLLS0tGBvb4%2B4uDgAwMWLF7FmzRr88MMPghMSVT%2BcJiaiSjVp0iTREUiD1K5dGxkZGTA3N4eJiQlSUlJgZWUFOzs7XLx4UXQ8omqJxSARVaq///4bgwYNwttvvy06CmmAgQMH4v3338eBAwfQvXt3TJkyBYMGDUJ8fHypx54SUflxmpiIKtWYMWMQExODd955B66urnBxceFxX/RCu3fvhpubG3Jzc%2BHv74/4%2BHhYWFjg888/59IyRJWAxSARVbqsrCxERkbiyJEj%2BOOPP9CmTRu4urqib9%2B%2BMDY2Fh2PiEjSWAwSUZXKzc3Frl27sGbNGhQUFKB///6YMGECmjVrJjoaqYl9%2B/Zh9%2B7dyMjIwO7duyGTybB161aMGzeOVyEhqgTaogMQkTQ8fvwYYWFh%2BOyzz7B06VI0adIEM2fOhKWlJT788EP89ttvoiOSGggMDMSyZcvg4OCAGzduAACys7Oxe/durFmzRnA6ouqJnUEiqlRRUVHYs2cPjh49irp168LV1RXu7u546623lPtcvHgRU6ZMwe%2B//y4wKamDnj17YuPGjWjWrBlat26NS5cuAQBSUlLw0Ucf4dixY4ITElU/PJuYiCrV9OnT0bdvX2zYsAGdOnUqdZ82bdrAxsamipOROnr06FGphwyYm5vjwYMHAhIRVX8sBomoUp06dQqGhoYv3W/jxo1VkIbU3TvvvIPw8HAMGjRIZXzz5s1cnoioknCamIgq1fXr17Fy5Ur89ddfkMlkJbZHRkYKSEXqKjo6Gt7e3njnnXcQFxeHnj174tq1a3j48CECAwPRsWNH0RGJqh0Wg0RUqVxcXFC/fn306tWr1A7h8OHDBaQidZaamoq9e/ciJSUFhoaGsLa2houLi/La1kRUsVgMElGlat26NaKjo1GjRg3RUYiIqBQ8ZpCIKpWDgwPu3bsHa2tr0VFIA/CwAqKqx84gEVW4kydPKv%2Benp6O7du3w93dHRYWFiUWDe7WrVtVxyM1NnDgQNSrV4%2BHFRBVIRaDRFThbG1ty7SflpYWEhMTKzkNaRIeVkBU9ThNTEQVLikpSXQE0lA8rICo6rEzSEREQvGwAiKxWAwSEZFQPKyASCwWg0REREQSpi06ABERERGJw2KQiIiISMJYDBIRERFJGItBIiIiIgljMUhEREQkYSwGiYiIiCSMxSARERGRhLEYJCIiIpIwFoNEREREEvb/ZpL6HVNe3ZIAAAAASUVORK5CYII%3D\" class=\"center-img\">\n",
              "</div>\n",
              "    <div class=\"row headerrow highlight\">\n",
              "        <h1>Sample</h1>\n",
              "    </div>\n",
              "    <div class=\"row variablerow\">\n",
              "    <div class=\"col-md-12\" style=\"overflow:scroll; width: 100%%; overflow-y: hidden;\">\n",
              "        <table border=\"1\" class=\"dataframe sample\">\n",
              "  <thead>\n",
              "    <tr style=\"text-align: right;\">\n",
              "      <th></th>\n",
              "      <th>gender</th>\n",
              "      <th>age</th>\n",
              "      <th>diabetes</th>\n",
              "      <th>hypertension</th>\n",
              "      <th>stroke</th>\n",
              "      <th>heart disease</th>\n",
              "      <th>smoking history</th>\n",
              "      <th>BMI</th>\n",
              "    </tr>\n",
              "  </thead>\n",
              "  <tbody>\n",
              "    <tr>\n",
              "      <th>0</th>\n",
              "      <td>Female</td>\n",
              "      <td>80.0</td>\n",
              "      <td>0</td>\n",
              "      <td>0</td>\n",
              "      <td>0</td>\n",
              "      <td>1</td>\n",
              "      <td>never</td>\n",
              "      <td>25.19</td>\n",
              "    </tr>\n",
              "    <tr>\n",
              "      <th>1</th>\n",
              "      <td>Female</td>\n",
              "      <td>54.0</td>\n",
              "      <td>0</td>\n",
              "      <td>0</td>\n",
              "      <td>0</td>\n",
              "      <td>0</td>\n",
              "      <td>NaN</td>\n",
              "      <td>NaN</td>\n",
              "    </tr>\n",
              "    <tr>\n",
              "      <th>2</th>\n",
              "      <td>Male</td>\n",
              "      <td>28.0</td>\n",
              "      <td>0</td>\n",
              "      <td>0</td>\n",
              "      <td>0</td>\n",
              "      <td>0</td>\n",
              "      <td>never</td>\n",
              "      <td>NaN</td>\n",
              "    </tr>\n",
              "    <tr>\n",
              "      <th>3</th>\n",
              "      <td>Female</td>\n",
              "      <td>36.0</td>\n",
              "      <td>0</td>\n",
              "      <td>0</td>\n",
              "      <td>0</td>\n",
              "      <td>0</td>\n",
              "      <td>current</td>\n",
              "      <td>23.45</td>\n",
              "    </tr>\n",
              "    <tr>\n",
              "      <th>4</th>\n",
              "      <td>Male</td>\n",
              "      <td>76.0</td>\n",
              "      <td>0</td>\n",
              "      <td>1</td>\n",
              "      <td>0</td>\n",
              "      <td>1</td>\n",
              "      <td>current</td>\n",
              "      <td>20.14</td>\n",
              "    </tr>\n",
              "  </tbody>\n",
              "</table>\n",
              "    </div>\n",
              "</div>\n",
              "</div>"
            ],
            "text/plain": [
              "<pandas_profiling.ProfileReport at 0x7fe82c874780>"
            ]
          },
          "metadata": {
            "tags": []
          },
          "execution_count": 76
        }
      ]
    },
    {
      "cell_type": "code",
      "metadata": {
        "_uuid": "dbfb45f1d369527e2a63b996e14cbd7fb40ab404",
        "id": "PGt0G621VtIh",
        "colab_type": "code",
        "colab": {}
      },
      "source": [
        "import matplotlib.pyplot as plt\n",
        "%matplotlib inline"
      ],
      "execution_count": 0,
      "outputs": []
    },
    {
      "cell_type": "code",
      "metadata": {
        "_uuid": "826d355a8fb9e6059110f70fa66daa435c1f7c3a",
        "id": "qJ3FUUi8VtIu",
        "colab_type": "code",
        "outputId": "e5422d7a-3e30-4267-9782-40d960f4ae58",
        "colab": {
          "base_uri": "https://localhost:8080/",
          "height": 286
        }
      },
      "source": [
        "plt.scatter(data.index,data.BMI)"
      ],
      "execution_count": 0,
      "outputs": [
        {
          "output_type": "execute_result",
          "data": {
            "text/plain": [
              "<matplotlib.collections.PathCollection at 0x7f486a6b6be0>"
            ]
          },
          "metadata": {
            "tags": []
          },
          "execution_count": 8
        },
        {
          "output_type": "display_data",
          "data": {
            "image/png": "[encoded data removed]",
            "text/plain": [
              "<Figure size 432x288 with 1 Axes>"
            ]
          },
          "metadata": {
            "tags": []
          }
        }
      ]
    },
    {
      "cell_type": "code",
      "metadata": {
        "_uuid": "1c8741bfacf46bc382e7f2e185a8e8a3902447c8",
        "id": "LJTnoKJrVtI7",
        "colab_type": "code",
        "colab": {}
      },
      "source": [
        "data['smoking history']=data['smoking history'].fillna('Unknown')"
      ],
      "execution_count": 0,
      "outputs": []
    },
    {
      "cell_type": "code",
      "metadata": {
        "_uuid": "10138c7e0d74796570a5867b1a4f11e4cb3bc61d",
        "id": "RlxPhAUDVtJI",
        "colab_type": "code",
        "outputId": "cae80559-4fe3-49b5-8f04-15970c0a38d1",
        "colab": {
          "base_uri": "https://localhost:8080/",
          "height": 145
        }
      },
      "source": [
        "data['smoking history'].value_counts()"
      ],
      "execution_count": 0,
      "outputs": [
        {
          "output_type": "execute_result",
          "data": {
            "text/plain": [
              "Unknown        35816\n",
              "never          35095\n",
              "former          9352\n",
              "current         9286\n",
              "not current     6447\n",
              "ever            4004\n",
              "Name: smoking history, dtype: int64"
            ]
          },
          "metadata": {
            "tags": []
          },
          "execution_count": 12
        }
      ]
    },
    {
      "cell_type": "code",
      "metadata": {
        "_uuid": "470d26beffbc74e45ef153c29bda8dacc7c522b8",
        "id": "ZUkY9tkxVtKf",
        "colab_type": "code",
        "colab": {}
      },
      "source": [
        "train_data_cat=data.select_dtypes(include=[object])\n",
        "train_data_num=data.select_dtypes(exclude=[object])\n",
        "train_data_cat=pd.get_dummies(train_data_cat, columns=train_data_cat.columns, drop_first=True)\n",
        "data_df=pd.concat([train_data_cat,train_data_num],axis=1)"
      ],
      "execution_count": 0,
      "outputs": []
    },
    {
      "cell_type": "code",
      "metadata": {
        "_uuid": "d323a733437812f6890266faa426c28660be74a2",
        "id": "kQS65Sp2VtKs",
        "colab_type": "code",
        "outputId": "f371deda-f0b2-4536-99a8-4d0c32e1ee3a",
        "colab": {
          "base_uri": "https://localhost:8080/",
          "height": 233
        }
      },
      "source": [
        "data_df.head()"
      ],
      "execution_count": 0,
      "outputs": [
        {
          "output_type": "execute_result",
          "data": {
            "text/html": [
              "<div>\n",
              "<style scoped>\n",
              "    .dataframe tbody tr th:only-of-type {\n",
              "        vertical-align: middle;\n",
              "    }\n",
              "\n",
              "    .dataframe tbody tr th {\n",
              "        vertical-align: top;\n",
              "    }\n",
              "\n",
              "    .dataframe thead th {\n",
              "        text-align: right;\n",
              "    }\n",
              "</style>\n",
              "<table border=\"1\" class=\"dataframe\">\n",
              "  <thead>\n",
              "    <tr style=\"text-align: right;\">\n",
              "      <th></th>\n",
              "      <th>gender_Male</th>\n",
              "      <th>gender_Other</th>\n",
              "      <th>smoking history_ever</th>\n",
              "      <th>smoking history_former</th>\n",
              "      <th>smoking history_never</th>\n",
              "      <th>smoking history_not current</th>\n",
              "      <th>age</th>\n",
              "      <th>diabetes</th>\n",
              "      <th>hypertension</th>\n",
              "      <th>stroke</th>\n",
              "      <th>heart disease</th>\n",
              "      <th>BMI</th>\n",
              "    </tr>\n",
              "  </thead>\n",
              "  <tbody>\n",
              "    <tr>\n",
              "      <th>0</th>\n",
              "      <td>0</td>\n",
              "      <td>0</td>\n",
              "      <td>0</td>\n",
              "      <td>0</td>\n",
              "      <td>1</td>\n",
              "      <td>0</td>\n",
              "      <td>80.0</td>\n",
              "      <td>0</td>\n",
              "      <td>0</td>\n",
              "      <td>0</td>\n",
              "      <td>1</td>\n",
              "      <td>25.19</td>\n",
              "    </tr>\n",
              "    <tr>\n",
              "      <th>1</th>\n",
              "      <td>0</td>\n",
              "      <td>0</td>\n",
              "      <td>0</td>\n",
              "      <td>0</td>\n",
              "      <td>0</td>\n",
              "      <td>0</td>\n",
              "      <td>54.0</td>\n",
              "      <td>0</td>\n",
              "      <td>0</td>\n",
              "      <td>0</td>\n",
              "      <td>0</td>\n",
              "      <td>NaN</td>\n",
              "    </tr>\n",
              "    <tr>\n",
              "      <th>2</th>\n",
              "      <td>1</td>\n",
              "      <td>0</td>\n",
              "      <td>0</td>\n",
              "      <td>0</td>\n",
              "      <td>1</td>\n",
              "      <td>0</td>\n",
              "      <td>28.0</td>\n",
              "      <td>0</td>\n",
              "      <td>0</td>\n",
              "      <td>0</td>\n",
              "      <td>0</td>\n",
              "      <td>NaN</td>\n",
              "    </tr>\n",
              "    <tr>\n",
              "      <th>3</th>\n",
              "      <td>0</td>\n",
              "      <td>0</td>\n",
              "      <td>0</td>\n",
              "      <td>0</td>\n",
              "      <td>0</td>\n",
              "      <td>0</td>\n",
              "      <td>36.0</td>\n",
              "      <td>0</td>\n",
              "      <td>0</td>\n",
              "      <td>0</td>\n",
              "      <td>0</td>\n",
              "      <td>23.45</td>\n",
              "    </tr>\n",
              "    <tr>\n",
              "      <th>4</th>\n",
              "      <td>1</td>\n",
              "      <td>0</td>\n",
              "      <td>0</td>\n",
              "      <td>0</td>\n",
              "      <td>0</td>\n",
              "      <td>0</td>\n",
              "      <td>76.0</td>\n",
              "      <td>0</td>\n",
              "      <td>1</td>\n",
              "      <td>0</td>\n",
              "      <td>1</td>\n",
              "      <td>20.14</td>\n",
              "    </tr>\n",
              "  </tbody>\n",
              "</table>\n",
              "</div>"
            ],
            "text/plain": [
              "   gender_Male  gender_Other  smoking history_ever  smoking history_former  \\\n",
              "0            0             0                     0                       0   \n",
              "1            0             0                     0                       0   \n",
              "2            1             0                     0                       0   \n",
              "3            0             0                     0                       0   \n",
              "4            1             0                     0                       0   \n",
              "\n",
              "   smoking history_never  smoking history_not current   age  diabetes  \\\n",
              "0                      1                            0  80.0         0   \n",
              "1                      0                            0  54.0         0   \n",
              "2                      1                            0  28.0         0   \n",
              "3                      0                            0  36.0         0   \n",
              "4                      0                            0  76.0         0   \n",
              "\n",
              "   hypertension  stroke  heart disease    BMI  \n",
              "0             0       0              1  25.19  \n",
              "1             0       0              0    NaN  \n",
              "2             0       0              0    NaN  \n",
              "3             0       0              0  23.45  \n",
              "4             1       0              1  20.14  "
            ]
          },
          "metadata": {
            "tags": []
          },
          "execution_count": 7
        }
      ]
    },
    {
      "cell_type": "code",
      "metadata": {
        "_uuid": "ecdc878c63a4d7c250ef2944a433e9b87632b123",
        "id": "AZYyHZD7VtLY",
        "colab_type": "code",
        "outputId": "cc342b05-11e8-4b89-eb25-348cac157896",
        "colab": {
          "base_uri": "https://localhost:8080/",
          "height": 35
        }
      },
      "source": [
        "from fancyimpute import IterativeImputer"
      ],
      "execution_count": 0,
      "outputs": [
        {
          "output_type": "stream",
          "text": [
            "Using TensorFlow backend.\n"
          ],
          "name": "stderr"
        }
      ]
    },
    {
      "cell_type": "code",
      "metadata": {
        "_uuid": "77e8425327c4b3e842800fc4f24dde0e910fb7ff",
        "id": "237EVe7VVtLt",
        "colab_type": "code",
        "colab": {}
      },
      "source": [
        "XY_incomplete = data_df.copy()"
      ],
      "execution_count": 0,
      "outputs": []
    },
    {
      "cell_type": "code",
      "metadata": {
        "_uuid": "8ce98906a5ac427b4017c789ce792e15fcb83901",
        "id": "Wx26m87zVtL_",
        "colab_type": "code",
        "colab": {}
      },
      "source": [
        "data_complete_df = pd.DataFrame(IterativeImputer(n_iter=20, sample_posterior=True, random_state=8).fit_transform(XY_incomplete))"
      ],
      "execution_count": 0,
      "outputs": []
    },
    {
      "cell_type": "code",
      "metadata": {
        "_uuid": "5a2a575cab17e3304b492f80d81a82c019f331cb",
        "id": "Bzy8UgjPVtMK",
        "colab_type": "code",
        "colab": {}
      },
      "source": [
        "data_complete_df.columns=data_df.columns"
      ],
      "execution_count": 0,
      "outputs": []
    },
    {
      "cell_type": "code",
      "metadata": {
        "_uuid": "94a2339789e9814190a41fba49700ca62e9eb6f1",
        "id": "CCR8jrgZVtMY",
        "colab_type": "code",
        "outputId": "18079ea6-ce78-4280-e866-7699aa26c660",
        "colab": {
          "base_uri": "https://localhost:8080/",
          "height": 253
        }
      },
      "source": [
        "data_complete_df.head()"
      ],
      "execution_count": 0,
      "outputs": [
        {
          "output_type": "execute_result",
          "data": {
            "text/html": [
              "<div>\n",
              "<style scoped>\n",
              "    .dataframe tbody tr th:only-of-type {\n",
              "        vertical-align: middle;\n",
              "    }\n",
              "\n",
              "    .dataframe tbody tr th {\n",
              "        vertical-align: top;\n",
              "    }\n",
              "\n",
              "    .dataframe thead th {\n",
              "        text-align: right;\n",
              "    }\n",
              "</style>\n",
              "<table border=\"1\" class=\"dataframe\">\n",
              "  <thead>\n",
              "    <tr style=\"text-align: right;\">\n",
              "      <th></th>\n",
              "      <th>gender_Male</th>\n",
              "      <th>gender_Other</th>\n",
              "      <th>smoking history_ever</th>\n",
              "      <th>smoking history_former</th>\n",
              "      <th>smoking history_never</th>\n",
              "      <th>smoking history_not current</th>\n",
              "      <th>age</th>\n",
              "      <th>diabetes</th>\n",
              "      <th>hypertension</th>\n",
              "      <th>stroke</th>\n",
              "      <th>heart disease</th>\n",
              "      <th>BMI</th>\n",
              "    </tr>\n",
              "  </thead>\n",
              "  <tbody>\n",
              "    <tr>\n",
              "      <th>0</th>\n",
              "      <td>0.0</td>\n",
              "      <td>0.0</td>\n",
              "      <td>0.0</td>\n",
              "      <td>0.0</td>\n",
              "      <td>1.0</td>\n",
              "      <td>0.0</td>\n",
              "      <td>80.0</td>\n",
              "      <td>0.0</td>\n",
              "      <td>0.0</td>\n",
              "      <td>0.0</td>\n",
              "      <td>1.0</td>\n",
              "      <td>25.190000</td>\n",
              "    </tr>\n",
              "    <tr>\n",
              "      <th>1</th>\n",
              "      <td>0.0</td>\n",
              "      <td>0.0</td>\n",
              "      <td>0.0</td>\n",
              "      <td>0.0</td>\n",
              "      <td>0.0</td>\n",
              "      <td>0.0</td>\n",
              "      <td>54.0</td>\n",
              "      <td>0.0</td>\n",
              "      <td>0.0</td>\n",
              "      <td>0.0</td>\n",
              "      <td>0.0</td>\n",
              "      <td>19.749781</td>\n",
              "    </tr>\n",
              "    <tr>\n",
              "      <th>2</th>\n",
              "      <td>1.0</td>\n",
              "      <td>0.0</td>\n",
              "      <td>0.0</td>\n",
              "      <td>0.0</td>\n",
              "      <td>1.0</td>\n",
              "      <td>0.0</td>\n",
              "      <td>28.0</td>\n",
              "      <td>0.0</td>\n",
              "      <td>0.0</td>\n",
              "      <td>0.0</td>\n",
              "      <td>0.0</td>\n",
              "      <td>27.503976</td>\n",
              "    </tr>\n",
              "    <tr>\n",
              "      <th>3</th>\n",
              "      <td>0.0</td>\n",
              "      <td>0.0</td>\n",
              "      <td>0.0</td>\n",
              "      <td>0.0</td>\n",
              "      <td>0.0</td>\n",
              "      <td>0.0</td>\n",
              "      <td>36.0</td>\n",
              "      <td>0.0</td>\n",
              "      <td>0.0</td>\n",
              "      <td>0.0</td>\n",
              "      <td>0.0</td>\n",
              "      <td>23.450000</td>\n",
              "    </tr>\n",
              "    <tr>\n",
              "      <th>4</th>\n",
              "      <td>1.0</td>\n",
              "      <td>0.0</td>\n",
              "      <td>0.0</td>\n",
              "      <td>0.0</td>\n",
              "      <td>0.0</td>\n",
              "      <td>0.0</td>\n",
              "      <td>76.0</td>\n",
              "      <td>0.0</td>\n",
              "      <td>1.0</td>\n",
              "      <td>0.0</td>\n",
              "      <td>1.0</td>\n",
              "      <td>20.140000</td>\n",
              "    </tr>\n",
              "  </tbody>\n",
              "</table>\n",
              "</div>"
            ],
            "text/plain": [
              "   gender_Male  gender_Other  smoking history_ever  smoking history_former  \\\n",
              "0          0.0           0.0                   0.0                     0.0   \n",
              "1          0.0           0.0                   0.0                     0.0   \n",
              "2          1.0           0.0                   0.0                     0.0   \n",
              "3          0.0           0.0                   0.0                     0.0   \n",
              "4          1.0           0.0                   0.0                     0.0   \n",
              "\n",
              "   smoking history_never  smoking history_not current   age  diabetes  \\\n",
              "0                    1.0                          0.0  80.0       0.0   \n",
              "1                    0.0                          0.0  54.0       0.0   \n",
              "2                    1.0                          0.0  28.0       0.0   \n",
              "3                    0.0                          0.0  36.0       0.0   \n",
              "4                    0.0                          0.0  76.0       0.0   \n",
              "\n",
              "   hypertension  stroke  heart disease        BMI  \n",
              "0           0.0     0.0            1.0  25.190000  \n",
              "1           0.0     0.0            0.0  19.749781  \n",
              "2           0.0     0.0            0.0  27.503976  \n",
              "3           0.0     0.0            0.0  23.450000  \n",
              "4           1.0     0.0            1.0  20.140000  "
            ]
          },
          "metadata": {
            "tags": []
          },
          "execution_count": 12
        }
      ]
    },
    {
      "cell_type": "code",
      "metadata": {
        "id": "Q_-PsxTin74o",
        "colab_type": "code",
        "outputId": "e7f395d6-f75d-42be-db33-4c7dde218658",
        "colab": {
          "base_uri": "https://localhost:8080/",
          "height": 35
        }
      },
      "source": [
        "data_complete_df.shape"
      ],
      "execution_count": 0,
      "outputs": [
        {
          "output_type": "execute_result",
          "data": {
            "text/plain": [
              "(100000, 12)"
            ]
          },
          "metadata": {
            "tags": []
          },
          "execution_count": 13
        }
      ]
    },
    {
      "cell_type": "code",
      "metadata": {
        "_uuid": "509b36c9ecb4617a8ee96438ccd59d3c6b7abd07",
        "id": "i39jpBw0VtMt",
        "colab_type": "code",
        "colab": {}
      },
      "source": [
        "data_complete_df['diabetes & hypertension']=data_complete_df['diabetes']*data_complete_df['hypertension']\n",
        "data_complete_df['diabetes & srtoke']=data_complete_df['diabetes']*data_complete_df['stroke']\n",
        "data_complete_df['diabetes & heart disease']=data_complete_df['diabetes']*data_complete_df['heart disease']\n",
        "data_complete_df['hypertension & stroke']=data_complete_df['hypertension']*data_complete_df['stroke']\n",
        "data_complete_df['hypertension & heart disease']=data_complete_df['hypertension']*data_complete_df['heart disease']\n",
        "data_complete_df['stroke & heart disease']=data_complete_df['stroke']*data_complete_df['heart disease']"
      ],
      "execution_count": 0,
      "outputs": []
    },
    {
      "cell_type": "code",
      "metadata": {
        "_uuid": "b73692337ee135d642d9b2b91bc9e96879f0d439",
        "id": "VYRZvQNxVtM4",
        "colab_type": "code",
        "colab": {}
      },
      "source": [
        "data_complete_df['diabetes,hypertension,stroke']=data_complete_df['diabetes']*data_complete_df['hypertension']*data_complete_df['stroke']\n",
        "data_complete_df['diabetes,hypertension,heart disease']=data_complete_df['diabetes']*data_complete_df['hypertension']*data_complete_df['heart disease']\n",
        "data_complete_df['hypertension,stroke,heart disease']=data_complete_df['hypertension']*data_complete_df['stroke']*data_complete_df['heart disease']\n",
        "data_complete_df['diabetes,hypertension,stroke,heart disease']=data_complete_df['diabetes']*data_complete_df['hypertension']*data_complete_df['stroke']*data_complete_df['heart disease']\n"
      ],
      "execution_count": 0,
      "outputs": []
    },
    {
      "cell_type": "code",
      "metadata": {
        "_uuid": "7128b6e32d02d45356409055dfeaa7724c0b0338",
        "id": "HcDLgyd4VtNG",
        "colab_type": "code",
        "outputId": "4f2e8e69-1177-4605-ccf7-7cd54cb15241",
        "colab": {
          "base_uri": "https://localhost:8080/",
          "height": 35
        }
      },
      "source": [
        "data_complete_df.shape"
      ],
      "execution_count": 0,
      "outputs": [
        {
          "output_type": "execute_result",
          "data": {
            "text/plain": [
              "(100000, 22)"
            ]
          },
          "metadata": {
            "tags": []
          },
          "execution_count": 18
        }
      ]
    },
    {
      "cell_type": "code",
      "metadata": {
        "_uuid": "650b44b512cd53a1e943099ee32bdc642afd54a7",
        "id": "gV_3Ejl5VtNe",
        "colab_type": "code",
        "outputId": "72251a01-8125-489a-a5d2-32ce574145b0",
        "colab": {
          "base_uri": "https://localhost:8080/",
          "height": 282
        }
      },
      "source": [
        "data_complete_df.head()"
      ],
      "execution_count": 0,
      "outputs": [
        {
          "output_type": "execute_result",
          "data": {
            "text/html": [
              "<div>\n",
              "<style scoped>\n",
              "    .dataframe tbody tr th:only-of-type {\n",
              "        vertical-align: middle;\n",
              "    }\n",
              "\n",
              "    .dataframe tbody tr th {\n",
              "        vertical-align: top;\n",
              "    }\n",
              "\n",
              "    .dataframe thead th {\n",
              "        text-align: right;\n",
              "    }\n",
              "</style>\n",
              "<table border=\"1\" class=\"dataframe\">\n",
              "  <thead>\n",
              "    <tr style=\"text-align: right;\">\n",
              "      <th></th>\n",
              "      <th>gender_Male</th>\n",
              "      <th>gender_Other</th>\n",
              "      <th>smoking history_ever</th>\n",
              "      <th>smoking history_former</th>\n",
              "      <th>smoking history_never</th>\n",
              "      <th>smoking history_not current</th>\n",
              "      <th>age</th>\n",
              "      <th>diabetes</th>\n",
              "      <th>hypertension</th>\n",
              "      <th>stroke</th>\n",
              "      <th>...</th>\n",
              "      <th>diabetes &amp; hypertension</th>\n",
              "      <th>diabetes &amp; srtoke</th>\n",
              "      <th>diabetes &amp; heart disease</th>\n",
              "      <th>hypertension &amp; stroke</th>\n",
              "      <th>hypertension &amp; heart disease</th>\n",
              "      <th>stroke &amp; heart disease</th>\n",
              "      <th>diabetes,hypertension,stroke</th>\n",
              "      <th>diabetes,hypertension,heart disease</th>\n",
              "      <th>hypertension,stroke,heart disease</th>\n",
              "      <th>diabetes,hypertension,stroke,heart disease</th>\n",
              "    </tr>\n",
              "  </thead>\n",
              "  <tbody>\n",
              "    <tr>\n",
              "      <th>0</th>\n",
              "      <td>0.0</td>\n",
              "      <td>0.0</td>\n",
              "      <td>0.0</td>\n",
              "      <td>0.0</td>\n",
              "      <td>1.0</td>\n",
              "      <td>0.0</td>\n",
              "      <td>80.0</td>\n",
              "      <td>0.0</td>\n",
              "      <td>0.0</td>\n",
              "      <td>0.0</td>\n",
              "      <td>...</td>\n",
              "      <td>0.0</td>\n",
              "      <td>0.0</td>\n",
              "      <td>0.0</td>\n",
              "      <td>0.0</td>\n",
              "      <td>0.0</td>\n",
              "      <td>0.0</td>\n",
              "      <td>0.0</td>\n",
              "      <td>0.0</td>\n",
              "      <td>0.0</td>\n",
              "      <td>0.0</td>\n",
              "    </tr>\n",
              "    <tr>\n",
              "      <th>1</th>\n",
              "      <td>0.0</td>\n",
              "      <td>0.0</td>\n",
              "      <td>0.0</td>\n",
              "      <td>0.0</td>\n",
              "      <td>0.0</td>\n",
              "      <td>0.0</td>\n",
              "      <td>54.0</td>\n",
              "      <td>0.0</td>\n",
              "      <td>0.0</td>\n",
              "      <td>0.0</td>\n",
              "      <td>...</td>\n",
              "      <td>0.0</td>\n",
              "      <td>0.0</td>\n",
              "      <td>0.0</td>\n",
              "      <td>0.0</td>\n",
              "      <td>0.0</td>\n",
              "      <td>0.0</td>\n",
              "      <td>0.0</td>\n",
              "      <td>0.0</td>\n",
              "      <td>0.0</td>\n",
              "      <td>0.0</td>\n",
              "    </tr>\n",
              "    <tr>\n",
              "      <th>2</th>\n",
              "      <td>1.0</td>\n",
              "      <td>0.0</td>\n",
              "      <td>0.0</td>\n",
              "      <td>0.0</td>\n",
              "      <td>1.0</td>\n",
              "      <td>0.0</td>\n",
              "      <td>28.0</td>\n",
              "      <td>0.0</td>\n",
              "      <td>0.0</td>\n",
              "      <td>0.0</td>\n",
              "      <td>...</td>\n",
              "      <td>0.0</td>\n",
              "      <td>0.0</td>\n",
              "      <td>0.0</td>\n",
              "      <td>0.0</td>\n",
              "      <td>0.0</td>\n",
              "      <td>0.0</td>\n",
              "      <td>0.0</td>\n",
              "      <td>0.0</td>\n",
              "      <td>0.0</td>\n",
              "      <td>0.0</td>\n",
              "    </tr>\n",
              "    <tr>\n",
              "      <th>3</th>\n",
              "      <td>0.0</td>\n",
              "      <td>0.0</td>\n",
              "      <td>0.0</td>\n",
              "      <td>0.0</td>\n",
              "      <td>0.0</td>\n",
              "      <td>0.0</td>\n",
              "      <td>36.0</td>\n",
              "      <td>0.0</td>\n",
              "      <td>0.0</td>\n",
              "      <td>0.0</td>\n",
              "      <td>...</td>\n",
              "      <td>0.0</td>\n",
              "      <td>0.0</td>\n",
              "      <td>0.0</td>\n",
              "      <td>0.0</td>\n",
              "      <td>0.0</td>\n",
              "      <td>0.0</td>\n",
              "      <td>0.0</td>\n",
              "      <td>0.0</td>\n",
              "      <td>0.0</td>\n",
              "      <td>0.0</td>\n",
              "    </tr>\n",
              "    <tr>\n",
              "      <th>4</th>\n",
              "      <td>1.0</td>\n",
              "      <td>0.0</td>\n",
              "      <td>0.0</td>\n",
              "      <td>0.0</td>\n",
              "      <td>0.0</td>\n",
              "      <td>0.0</td>\n",
              "      <td>76.0</td>\n",
              "      <td>0.0</td>\n",
              "      <td>1.0</td>\n",
              "      <td>0.0</td>\n",
              "      <td>...</td>\n",
              "      <td>0.0</td>\n",
              "      <td>0.0</td>\n",
              "      <td>0.0</td>\n",
              "      <td>0.0</td>\n",
              "      <td>1.0</td>\n",
              "      <td>0.0</td>\n",
              "      <td>0.0</td>\n",
              "      <td>0.0</td>\n",
              "      <td>0.0</td>\n",
              "      <td>0.0</td>\n",
              "    </tr>\n",
              "  </tbody>\n",
              "</table>\n",
              "<p>5 rows × 22 columns</p>\n",
              "</div>"
            ],
            "text/plain": [
              "   gender_Male  gender_Other  smoking history_ever  smoking history_former  \\\n",
              "0          0.0           0.0                   0.0                     0.0   \n",
              "1          0.0           0.0                   0.0                     0.0   \n",
              "2          1.0           0.0                   0.0                     0.0   \n",
              "3          0.0           0.0                   0.0                     0.0   \n",
              "4          1.0           0.0                   0.0                     0.0   \n",
              "\n",
              "   smoking history_never  smoking history_not current   age  diabetes  \\\n",
              "0                    1.0                          0.0  80.0       0.0   \n",
              "1                    0.0                          0.0  54.0       0.0   \n",
              "2                    1.0                          0.0  28.0       0.0   \n",
              "3                    0.0                          0.0  36.0       0.0   \n",
              "4                    0.0                          0.0  76.0       0.0   \n",
              "\n",
              "   hypertension  stroke                     ...                      \\\n",
              "0           0.0     0.0                     ...                       \n",
              "1           0.0     0.0                     ...                       \n",
              "2           0.0     0.0                     ...                       \n",
              "3           0.0     0.0                     ...                       \n",
              "4           1.0     0.0                     ...                       \n",
              "\n",
              "   diabetes & hypertension  diabetes & srtoke  diabetes & heart disease  \\\n",
              "0                      0.0                0.0                       0.0   \n",
              "1                      0.0                0.0                       0.0   \n",
              "2                      0.0                0.0                       0.0   \n",
              "3                      0.0                0.0                       0.0   \n",
              "4                      0.0                0.0                       0.0   \n",
              "\n",
              "   hypertension & stroke  hypertension & heart disease  \\\n",
              "0                    0.0                           0.0   \n",
              "1                    0.0                           0.0   \n",
              "2                    0.0                           0.0   \n",
              "3                    0.0                           0.0   \n",
              "4                    0.0                           1.0   \n",
              "\n",
              "   stroke & heart disease  diabetes,hypertension,stroke  \\\n",
              "0                     0.0                           0.0   \n",
              "1                     0.0                           0.0   \n",
              "2                     0.0                           0.0   \n",
              "3                     0.0                           0.0   \n",
              "4                     0.0                           0.0   \n",
              "\n",
              "   diabetes,hypertension,heart disease  hypertension,stroke,heart disease  \\\n",
              "0                                  0.0                                0.0   \n",
              "1                                  0.0                                0.0   \n",
              "2                                  0.0                                0.0   \n",
              "3                                  0.0                                0.0   \n",
              "4                                  0.0                                0.0   \n",
              "\n",
              "   diabetes,hypertension,stroke,heart disease  \n",
              "0                                         0.0  \n",
              "1                                         0.0  \n",
              "2                                         0.0  \n",
              "3                                         0.0  \n",
              "4                                         0.0  \n",
              "\n",
              "[5 rows x 22 columns]"
            ]
          },
          "metadata": {
            "tags": []
          },
          "execution_count": 17
        }
      ]
    },
    {
      "cell_type": "code",
      "metadata": {
        "_uuid": "a623bb6a5fc0554d4790e63abeba24d9d5eb14b1",
        "id": "hM8DpaGnVtPM",
        "colab_type": "code",
        "colab": {}
      },
      "source": [
        ""
      ],
      "execution_count": 0,
      "outputs": []
    },
    {
      "cell_type": "code",
      "metadata": {
        "_uuid": "74ff98dd952d869aa41cd8bcb9405eb6f0bfa6f6",
        "scrolled": true,
        "id": "7fY85cWIVtPX",
        "colab_type": "code",
        "outputId": "43146731-d5ba-4684-affc-47285d005897",
        "colab": {
          "base_uri": "https://localhost:8080/",
          "height": 350
        }
      },
      "source": [
        "plt.hist(data['age'])"
      ],
      "execution_count": 0,
      "outputs": [
        {
          "output_type": "execute_result",
          "data": {
            "text/plain": [
              "(array([ 8981.,  7220.,  9684., 10368., 10619., 11669., 12136., 10755.,\n",
              "         7873., 10695.]),\n",
              " array([ 0.08 ,  8.072, 16.064, 24.056, 32.048, 40.04 , 48.032, 56.024,\n",
              "        64.016, 72.008, 80.   ]),\n",
              " <a list of 10 Patch objects>)"
            ]
          },
          "metadata": {
            "tags": []
          },
          "execution_count": 25
        },
        {
          "output_type": "display_data",
          "data": {
            "image/png": "[encoded data removed]",
            "text/plain": [
              "<Figure size 432x288 with 1 Axes>"
            ]
          },
          "metadata": {
            "tags": []
          }
        }
      ]
    },
    {
      "cell_type": "code",
      "metadata": {
        "_uuid": "7a89255c073b966b71b171dc3a72b4f94afe0c7d",
        "id": "VFb7hc82VtPg",
        "colab_type": "code",
        "outputId": "83b73cd1-a839-466a-d58e-330038d3f0f7",
        "colab": {
          "base_uri": "https://localhost:8080/",
          "height": 418
        }
      },
      "source": [
        "plt.hist(data['BMI'])"
      ],
      "execution_count": 0,
      "outputs": [
        {
          "output_type": "stream",
          "text": [
            "/usr/local/lib/python3.6/dist-packages/numpy/lib/function_base.py:780: RuntimeWarning: invalid value encountered in greater_equal\n",
            "  keep = (tmp_a >= first_edge)\n",
            "/usr/local/lib/python3.6/dist-packages/numpy/lib/function_base.py:781: RuntimeWarning: invalid value encountered in less_equal\n",
            "  keep &= (tmp_a <= last_edge)\n"
          ],
          "name": "stderr"
        },
        {
          "output_type": "execute_result",
          "data": {
            "text/plain": [
              "(array([8.6570e+03, 3.1394e+04, 2.4929e+04, 7.3890e+03, 1.7160e+03,\n",
              "        3.7900e+02, 7.3000e+01, 8.0000e+00, 4.0000e+00, 7.0000e+00]),\n",
              " array([10.01 , 18.578, 27.146, 35.714, 44.282, 52.85 , 61.418, 69.986,\n",
              "        78.554, 87.122, 95.69 ]),\n",
              " <a list of 10 Patch objects>)"
            ]
          },
          "metadata": {
            "tags": []
          },
          "execution_count": 25
        },
        {
          "output_type": "display_data",
          "data": {
            "image/png": "[encoded data removed]",
            "text/plain": [
              "<Figure size 432x288 with 1 Axes>"
            ]
          },
          "metadata": {
            "tags": []
          }
        }
      ]
    },
    {
      "cell_type": "code",
      "metadata": {
        "id": "6bqHACa6SAWY",
        "colab_type": "code",
        "outputId": "302ef0ca-4be0-4ccd-f044-fb830ec75641",
        "colab": {
          "base_uri": "https://localhost:8080/",
          "height": 68
        }
      },
      "source": [
        "data_complete_df['hypertension'].value_counts()"
      ],
      "execution_count": 0,
      "outputs": [
        {
          "output_type": "execute_result",
          "data": {
            "text/plain": [
              "0.0    92515\n",
              "1.0     7485\n",
              "Name: hypertension, dtype: int64"
            ]
          },
          "metadata": {
            "tags": []
          },
          "execution_count": 23
        }
      ]
    },
    {
      "cell_type": "code",
      "metadata": {
        "id": "POgZyxduZ7zw",
        "colab_type": "code",
        "colab": {}
      },
      "source": [
        ""
      ],
      "execution_count": 0,
      "outputs": []
    },
    {
      "cell_type": "markdown",
      "metadata": {
        "id": "XVHpJA9gq5EN",
        "colab_type": "text"
      },
      "source": [
        "# ** Splitting**"
      ]
    },
    {
      "cell_type": "code",
      "metadata": {
        "id": "z20QUZ07aDhT",
        "colab_type": "code",
        "colab": {}
      },
      "source": [
        "x_train, x_test, y_train, y_test = train_test_split(data_complete_df.drop(['hypertension'], axis= 1), \n",
        "                                                    data_complete_df['hypertension'], test_size=0.3, random_state=11)"
      ],
      "execution_count": 0,
      "outputs": []
    },
    {
      "cell_type": "code",
      "metadata": {
        "id": "jD4itUEa9ywU",
        "colab_type": "code",
        "outputId": "dfe1e416-2e9a-412c-9e64-ae32401b8655",
        "colab": {
          "base_uri": "https://localhost:8080/",
          "height": 90
        }
      },
      "source": [
        "print(\"Number of Employees in X_train dataset: \", x_train.shape)\n",
        "print(\"Number of Employees in y_train dataset: \", y_train.shape)\n",
        "print(\"Number of Employees in X_test dataset: \", x_test.shape)\n",
        "print(\"Number of Employees in y_test dataset: \", y_test.shape)"
      ],
      "execution_count": 0,
      "outputs": [
        {
          "output_type": "stream",
          "text": [
            "Number of Employees in X_train dataset:  (70000, 22)\n",
            "Number of Employees in y_train dataset:  (70000,)\n",
            "Number of Employees in X_test dataset:  (30000, 22)\n",
            "Number of Employees in y_test dataset:  (30000,)\n"
          ],
          "name": "stdout"
        }
      ]
    },
    {
      "cell_type": "markdown",
      "metadata": {
        "id": "2aP8u8E9ab8x",
        "colab_type": "text"
      },
      "source": [
        "#** Without interaction variables **"
      ]
    },
    {
      "cell_type": "code",
      "metadata": {
        "id": "CDbe5NhPaaJd",
        "colab_type": "code",
        "colab": {}
      },
      "source": [
        "ndata=data_complete_df.drop(['diabetes & hypertension','diabetes & srtoke','diabetes & heart disease','hypertension & stroke','hypertension & heart disease','stroke & heart disease',\n",
        "                            'diabetes,hypertension,stroke','diabetes,hypertension,heart disease','hypertension,stroke,heart disease'],axis=1)"
      ],
      "execution_count": 0,
      "outputs": []
    },
    {
      "cell_type": "code",
      "metadata": {
        "id": "-9AgmEoFb-sw",
        "colab_type": "code",
        "outputId": "a0d3fe05-699b-4d01-f8f5-6cf8cfe6cf98",
        "colab": {
          "base_uri": "https://localhost:8080/",
          "height": 35
        }
      },
      "source": [
        "ndata.shape"
      ],
      "execution_count": 0,
      "outputs": [
        {
          "output_type": "execute_result",
          "data": {
            "text/plain": [
              "(100000, 13)"
            ]
          },
          "metadata": {
            "tags": []
          },
          "execution_count": 22
        }
      ]
    },
    {
      "cell_type": "code",
      "metadata": {
        "id": "cjwXCE79cAmb",
        "colab_type": "code",
        "colab": {}
      },
      "source": [
        "xx_train, xx_test, yy_train, yy_test = train_test_split(ndata.drop(['hypertension'], axis= 1), \n",
        "                                                    ndata['hypertension'], test_size=0.3, random_state=123)"
      ],
      "execution_count": 0,
      "outputs": []
    },
    {
      "cell_type": "code",
      "metadata": {
        "id": "9ueBmYgKnDD2",
        "colab_type": "code",
        "colab": {}
      },
      "source": [
        "Dt_w=DecisionTreeClassifier()\n",
        "Rf_w=RandomForestClassifier()\n",
        "Bagg_w=BaggingClassifier(base_estimator=Dt_w)\n",
        "Boost_w=AdaBoostClassifier(base_estimator=Dt_w)\n",
        "Knn_w=KNeighborsClassifier()\n",
        "Svc_w=LinearSVC()\n",
        "Lr_w=LogisticRegression()\n",
        "Gbc_w=GradientBoostingClassifier()\n",
        "Xgb_w=XGBClassifier()\n",
        "Gnb_w=GaussianNB()\n",
        "Bnb_w=BernoulliNB()"
      ],
      "execution_count": 0,
      "outputs": []
    },
    {
      "cell_type": "code",
      "metadata": {
        "id": "GMnYq_EHcNJ8",
        "colab_type": "code",
        "outputId": "07d739ec-22ff-484f-df94-33c5d20352b4",
        "colab": {
          "base_uri": "https://localhost:8080/",
          "height": 390
        }
      },
      "source": [
        "models=[Rf_w,Boost_w,Bagg_w,Svc_w,Knn_w,Dt_w,Lr_w,Gbc_w,Xgb_w,Gnb_w,Bnb_w]\n",
        "model_names=['RandomForestClassifier','AdaBoostClassifier','BaggingClassifier','LinearSVC',\n",
        "             'KNeighborsClassifier', 'DecisionTreeClassifier', 'LogisticRegression', \n",
        "             'GradientBoostingClassifier', 'XGBClassifier','GaussianNB','BernoulliNB']\n",
        "ROC_AUC_scores1 = []\n",
        "F1_score1=[]\n",
        "mcc1=[]\n",
        "\n",
        "d={}\n",
        "\n",
        "for model in range(len(models)):\n",
        "    m = models[model]\n",
        "    m.fit(xx_train, yy_train)\n",
        "    test_pred_w = m.predict(xx_test)\n",
        "    ROC_AUC_scores1.append(roc_auc_score(yy_test, test_pred_w))\n",
        "    F1_score1.append(f1_score(yy_test,test_pred_w))\n",
        "    #ck.append(cohen_kappa_score(y_test,test_pred))\n",
        "    mcc1.append(matthews_corrcoef(yy_test,test_pred_w))\n",
        "    \n",
        "d={'Modelling Algo':model_names, 'ROC_AUC_Scores': ROC_AUC_scores1,'F1_Score':F1_score1,'MCC':mcc1}   \n",
        "df_models = pd.DataFrame(d)\n",
        "df_models"
      ],
      "execution_count": 0,
      "outputs": [
        {
          "output_type": "execute_result",
          "data": {
            "text/html": [
              "<div>\n",
              "<style scoped>\n",
              "    .dataframe tbody tr th:only-of-type {\n",
              "        vertical-align: middle;\n",
              "    }\n",
              "\n",
              "    .dataframe tbody tr th {\n",
              "        vertical-align: top;\n",
              "    }\n",
              "\n",
              "    .dataframe thead th {\n",
              "        text-align: right;\n",
              "    }\n",
              "</style>\n",
              "<table border=\"1\" class=\"dataframe\">\n",
              "  <thead>\n",
              "    <tr style=\"text-align: right;\">\n",
              "      <th></th>\n",
              "      <th>F1_Score</th>\n",
              "      <th>MCC</th>\n",
              "      <th>Modelling Algo</th>\n",
              "      <th>ROC_AUC_Scores</th>\n",
              "    </tr>\n",
              "  </thead>\n",
              "  <tbody>\n",
              "    <tr>\n",
              "      <th>0</th>\n",
              "      <td>0.141686</td>\n",
              "      <td>0.100367</td>\n",
              "      <td>RandomForestClassifier</td>\n",
              "      <td>0.537256</td>\n",
              "    </tr>\n",
              "    <tr>\n",
              "      <th>1</th>\n",
              "      <td>0.145414</td>\n",
              "      <td>0.096307</td>\n",
              "      <td>AdaBoostClassifier</td>\n",
              "      <td>0.538712</td>\n",
              "    </tr>\n",
              "    <tr>\n",
              "      <th>2</th>\n",
              "      <td>0.129894</td>\n",
              "      <td>0.096582</td>\n",
              "      <td>BaggingClassifier</td>\n",
              "      <td>0.532832</td>\n",
              "    </tr>\n",
              "    <tr>\n",
              "      <th>3</th>\n",
              "      <td>0.011586</td>\n",
              "      <td>0.073457</td>\n",
              "      <td>LinearSVC</td>\n",
              "      <td>0.502913</td>\n",
              "    </tr>\n",
              "    <tr>\n",
              "      <th>4</th>\n",
              "      <td>0.078067</td>\n",
              "      <td>0.073351</td>\n",
              "      <td>KNeighborsClassifier</td>\n",
              "      <td>0.517158</td>\n",
              "    </tr>\n",
              "    <tr>\n",
              "      <th>5</th>\n",
              "      <td>0.184422</td>\n",
              "      <td>0.116703</td>\n",
              "      <td>DecisionTreeClassifier</td>\n",
              "      <td>0.560084</td>\n",
              "    </tr>\n",
              "    <tr>\n",
              "      <th>6</th>\n",
              "      <td>0.033693</td>\n",
              "      <td>0.078751</td>\n",
              "      <td>LogisticRegression</td>\n",
              "      <td>0.507930</td>\n",
              "    </tr>\n",
              "    <tr>\n",
              "      <th>7</th>\n",
              "      <td>0.013357</td>\n",
              "      <td>0.078909</td>\n",
              "      <td>GradientBoostingClassifier</td>\n",
              "      <td>0.503362</td>\n",
              "    </tr>\n",
              "    <tr>\n",
              "      <th>8</th>\n",
              "      <td>0.011586</td>\n",
              "      <td>0.073457</td>\n",
              "      <td>XGBClassifier</td>\n",
              "      <td>0.502913</td>\n",
              "    </tr>\n",
              "    <tr>\n",
              "      <th>9</th>\n",
              "      <td>0.269069</td>\n",
              "      <td>0.204907</td>\n",
              "      <td>GaussianNB</td>\n",
              "      <td>0.612937</td>\n",
              "    </tr>\n",
              "    <tr>\n",
              "      <th>10</th>\n",
              "      <td>0.096220</td>\n",
              "      <td>0.109236</td>\n",
              "      <td>BernoulliNB</td>\n",
              "      <td>0.523521</td>\n",
              "    </tr>\n",
              "  </tbody>\n",
              "</table>\n",
              "</div>"
            ],
            "text/plain": [
              "    F1_Score       MCC              Modelling Algo  ROC_AUC_Scores\n",
              "0   0.141686  0.100367      RandomForestClassifier        0.537256\n",
              "1   0.145414  0.096307          AdaBoostClassifier        0.538712\n",
              "2   0.129894  0.096582           BaggingClassifier        0.532832\n",
              "3   0.011586  0.073457                   LinearSVC        0.502913\n",
              "4   0.078067  0.073351        KNeighborsClassifier        0.517158\n",
              "5   0.184422  0.116703      DecisionTreeClassifier        0.560084\n",
              "6   0.033693  0.078751          LogisticRegression        0.507930\n",
              "7   0.013357  0.078909  GradientBoostingClassifier        0.503362\n",
              "8   0.011586  0.073457               XGBClassifier        0.502913\n",
              "9   0.269069  0.204907                  GaussianNB        0.612937\n",
              "10  0.096220  0.109236                 BernoulliNB        0.523521"
            ]
          },
          "metadata": {
            "tags": []
          },
          "execution_count": 26
        }
      ]
    },
    {
      "cell_type": "code",
      "metadata": {
        "id": "TByrpc7IcnHh",
        "colab_type": "code",
        "colab": {}
      },
      "source": [
        ""
      ],
      "execution_count": 0,
      "outputs": []
    },
    {
      "cell_type": "markdown",
      "metadata": {
        "id": "WNvz84ZdwUGq",
        "colab_type": "text"
      },
      "source": [
        "# ** Models on upsampled data**"
      ]
    },
    {
      "cell_type": "code",
      "metadata": {
        "id": "j-vUdYzyq_t4",
        "colab_type": "code",
        "colab": {}
      },
      "source": [
        "sm=SMOTE(random_state=123)"
      ],
      "execution_count": 0,
      "outputs": []
    },
    {
      "cell_type": "code",
      "metadata": {
        "id": "rk2HMVv6rJAe",
        "colab_type": "code",
        "colab": {}
      },
      "source": [
        "X_train_res, y_train_res = sm.fit_sample(x_train, y_train.ravel())"
      ],
      "execution_count": 0,
      "outputs": []
    },
    {
      "cell_type": "code",
      "metadata": {
        "id": "TnFPMr9xq2V9",
        "colab_type": "code",
        "outputId": "66a6018d-1720-4077-deb1-405ebb86ac37",
        "colab": {
          "base_uri": "https://localhost:8080/",
          "height": 72
        }
      },
      "source": [
        "print(\"Before OvererSampling, counts of label '1': {}\".format(sum(y_train==1)))\n",
        "print(\"Before OverSampling, counts of label '0': {} \\n\".format(sum(y_train==0)))\n"
      ],
      "execution_count": 0,
      "outputs": [
        {
          "output_type": "stream",
          "text": [
            "Before OvererSampling, counts of label '1': 5230\n",
            "Before OverSampling, counts of label '0': 64770 \n",
            "\n"
          ],
          "name": "stdout"
        }
      ]
    },
    {
      "cell_type": "code",
      "metadata": {
        "id": "s_05UvDnrNX2",
        "colab_type": "code",
        "outputId": "e8895352-1f47-44fb-e3c1-1818bdc12570",
        "colab": {
          "base_uri": "https://localhost:8080/",
          "height": 72
        }
      },
      "source": [
        "print('After OverSampling, the shape of X_train: {}'.format(X_train_res.shape))\n",
        "print('After OverSampling, the shape of y_train: {} \\n'.format(y_train_res.shape))"
      ],
      "execution_count": 0,
      "outputs": [
        {
          "output_type": "stream",
          "text": [
            "After OverSampling, the shape of X_train: (129540, 21)\n",
            "After OverSampling, the shape of y_train: (129540,) \n",
            "\n"
          ],
          "name": "stdout"
        }
      ]
    },
    {
      "cell_type": "code",
      "metadata": {
        "id": "hlPhkvoqrVK4",
        "colab_type": "code",
        "outputId": "e3426b7d-7f92-403d-f14a-c34596369c4f",
        "colab": {
          "base_uri": "https://localhost:8080/",
          "height": 72
        }
      },
      "source": [
        "print(\"After OvererSampling, counts of label '1': {}\".format(sum(y_train_res==1)))\n",
        "print(\"After OverSampling, counts of label '0': {} \\n\".format(sum(y_train_res==0)))\n"
      ],
      "execution_count": 0,
      "outputs": [
        {
          "output_type": "stream",
          "text": [
            "After OvererSampling, counts of label '1': 64770\n",
            "After OverSampling, counts of label '0': 64770 \n",
            "\n"
          ],
          "name": "stdout"
        }
      ]
    },
    {
      "cell_type": "code",
      "metadata": {
        "id": "L3rMvIMFhxJq",
        "colab_type": "code",
        "colab": {}
      },
      "source": [
        "Dt=DecisionTreeClassifier()\n",
        "Rf=RandomForestClassifier()\n",
        "Bagg=BaggingClassifier(base_estimator=Dt)\n",
        "Boost=AdaBoostClassifier(base_estimator=Dt)\n",
        "Knn=KNeighborsClassifier()\n",
        "Svc=LinearSVC()\n",
        "Lr=LogisticRegression()\n",
        "Gbc=GradientBoostingClassifier()\n",
        "Xgb=XGBClassifier()\n",
        "Gnb=GaussianNB()\n",
        "Bnb=BernoulliNB()"
      ],
      "execution_count": 0,
      "outputs": []
    },
    {
      "cell_type": "code",
      "metadata": {
        "id": "zIXy9jFOX8Av",
        "colab_type": "code",
        "outputId": "3463933f-70c9-4061-937c-186e5d567004",
        "colab": {
          "base_uri": "https://localhost:8080/",
          "height": 390
        }
      },
      "source": [
        "models=[Rf,Boost,Bagg,Svc,Knn,Dt,Lr,Gbc,Xgb,Gnb,Bnb]\n",
        "model_names=['RandomForestClassifier','AdaBoostClassifier','BaggingClassifier','LinearSVC',\n",
        "             'KNeighborsClassifier', 'DecisionTreeClassifier', 'LogisticRegression', \n",
        "             'GradientBoostingClassifier', 'XGBClassifier','GaussianNB','BernoulliNB']\n",
        "ROC_AUC_scores = []\n",
        "F1_score=[]\n",
        "mcc=[]\n",
        "\n",
        "d={}\n",
        "\n",
        "for model in range(len(models)):\n",
        "    clf = models[model]\n",
        "    clf.fit(X_train_res, y_train_res)\n",
        "    test_pred = clf.predict(x_test.as_matrix())\n",
        "    ROC_AUC_scores.append(roc_auc_score(y_test, test_pred))\n",
        "    F1_score.append(f1_score(y_test,test_pred))\n",
        "    mcc.append(matthews_corrcoef(y_test,test_pred))\n",
        "    \n",
        "d={'Modelling Algo':model_names, 'ROC_AUC_Scores': ROC_AUC_scores,'F1_Score':F1_score,'MCC':mcc}   \n",
        "df_models = pd.DataFrame(d)\n",
        "df_models"
      ],
      "execution_count": 0,
      "outputs": [
        {
          "output_type": "execute_result",
          "data": {
            "text/html": [
              "<div>\n",
              "<style scoped>\n",
              "    .dataframe tbody tr th:only-of-type {\n",
              "        vertical-align: middle;\n",
              "    }\n",
              "\n",
              "    .dataframe tbody tr th {\n",
              "        vertical-align: top;\n",
              "    }\n",
              "\n",
              "    .dataframe thead th {\n",
              "        text-align: right;\n",
              "    }\n",
              "</style>\n",
              "<table border=\"1\" class=\"dataframe\">\n",
              "  <thead>\n",
              "    <tr style=\"text-align: right;\">\n",
              "      <th></th>\n",
              "      <th>F1_Score</th>\n",
              "      <th>MCC</th>\n",
              "      <th>Modelling Algo</th>\n",
              "      <th>ROC_AUC_Scores</th>\n",
              "    </tr>\n",
              "  </thead>\n",
              "  <tbody>\n",
              "    <tr>\n",
              "      <th>0</th>\n",
              "      <td>0.437086</td>\n",
              "      <td>0.388687</td>\n",
              "      <td>RandomForestClassifier</td>\n",
              "      <td>0.711927</td>\n",
              "    </tr>\n",
              "    <tr>\n",
              "      <th>1</th>\n",
              "      <td>0.416035</td>\n",
              "      <td>0.366067</td>\n",
              "      <td>AdaBoostClassifier</td>\n",
              "      <td>0.713048</td>\n",
              "    </tr>\n",
              "    <tr>\n",
              "      <th>2</th>\n",
              "      <td>0.437049</td>\n",
              "      <td>0.388641</td>\n",
              "      <td>BaggingClassifier</td>\n",
              "      <td>0.712076</td>\n",
              "    </tr>\n",
              "    <tr>\n",
              "      <th>3</th>\n",
              "      <td>0.268405</td>\n",
              "      <td>0.284165</td>\n",
              "      <td>LinearSVC</td>\n",
              "      <td>0.768657</td>\n",
              "    </tr>\n",
              "    <tr>\n",
              "      <th>4</th>\n",
              "      <td>0.316960</td>\n",
              "      <td>0.264822</td>\n",
              "      <td>KNeighborsClassifier</td>\n",
              "      <td>0.691505</td>\n",
              "    </tr>\n",
              "    <tr>\n",
              "      <th>5</th>\n",
              "      <td>0.409025</td>\n",
              "      <td>0.358553</td>\n",
              "      <td>DecisionTreeClassifier</td>\n",
              "      <td>0.711073</td>\n",
              "    </tr>\n",
              "    <tr>\n",
              "      <th>6</th>\n",
              "      <td>0.366861</td>\n",
              "      <td>0.355175</td>\n",
              "      <td>LogisticRegression</td>\n",
              "      <td>0.789404</td>\n",
              "    </tr>\n",
              "    <tr>\n",
              "      <th>7</th>\n",
              "      <td>0.417144</td>\n",
              "      <td>0.381949</td>\n",
              "      <td>GradientBoostingClassifier</td>\n",
              "      <td>0.763759</td>\n",
              "    </tr>\n",
              "    <tr>\n",
              "      <th>8</th>\n",
              "      <td>0.387725</td>\n",
              "      <td>0.361195</td>\n",
              "      <td>XGBClassifier</td>\n",
              "      <td>0.771541</td>\n",
              "    </tr>\n",
              "    <tr>\n",
              "      <th>9</th>\n",
              "      <td>0.487973</td>\n",
              "      <td>0.482621</td>\n",
              "      <td>GaussianNB</td>\n",
              "      <td>0.681975</td>\n",
              "    </tr>\n",
              "    <tr>\n",
              "      <th>10</th>\n",
              "      <td>0.308472</td>\n",
              "      <td>0.245988</td>\n",
              "      <td>BernoulliNB</td>\n",
              "      <td>0.645356</td>\n",
              "    </tr>\n",
              "  </tbody>\n",
              "</table>\n",
              "</div>"
            ],
            "text/plain": [
              "    F1_Score       MCC              Modelling Algo  ROC_AUC_Scores\n",
              "0   0.437086  0.388687      RandomForestClassifier        0.711927\n",
              "1   0.416035  0.366067          AdaBoostClassifier        0.713048\n",
              "2   0.437049  0.388641           BaggingClassifier        0.712076\n",
              "3   0.268405  0.284165                   LinearSVC        0.768657\n",
              "4   0.316960  0.264822        KNeighborsClassifier        0.691505\n",
              "5   0.409025  0.358553      DecisionTreeClassifier        0.711073\n",
              "6   0.366861  0.355175          LogisticRegression        0.789404\n",
              "7   0.417144  0.381949  GradientBoostingClassifier        0.763759\n",
              "8   0.387725  0.361195               XGBClassifier        0.771541\n",
              "9   0.487973  0.482621                  GaussianNB        0.681975\n",
              "10  0.308472  0.245988                 BernoulliNB        0.645356"
            ]
          },
          "metadata": {
            "tags": []
          },
          "execution_count": 33
        }
      ]
    },
    {
      "cell_type": "code",
      "metadata": {
        "id": "h-R1pCrCn4En",
        "colab_type": "code",
        "outputId": "d6171ac3-517b-4624-bdd3-1094cf198db4",
        "colab": {
          "base_uri": "https://localhost:8080/",
          "height": 386
        }
      },
      "source": [
        "import seaborn as sns\n",
        "sns.factorplot(y='Modelling Algo', x='ROC_AUC_Scores', data= df_models, kind = 'bar', size=5, aspect=2)"
      ],
      "execution_count": 0,
      "outputs": [
        {
          "output_type": "execute_result",
          "data": {
            "text/plain": [
              "<seaborn.axisgrid.FacetGrid at 0x7f48512763c8>"
            ]
          },
          "metadata": {
            "tags": []
          },
          "execution_count": 33
        },
        {
          "output_type": "display_data",
          "data": {
            "image/png": "[encoded data removed]",
            "text/plain": [
              "<Figure size 720x360 with 1 Axes>"
            ]
          },
          "metadata": {
            "tags": []
          }
        }
      ]
    },
    {
      "cell_type": "markdown",
      "metadata": {
        "id": "0gpz_wrCe8Yj",
        "colab_type": "text"
      },
      "source": [
        "# ** Under Sampling**"
      ]
    },
    {
      "cell_type": "code",
      "metadata": {
        "id": "Z70FOGkwe8Ei",
        "colab_type": "code",
        "colab": {}
      },
      "source": [
        "from imblearn.under_sampling import RandomUnderSampler"
      ],
      "execution_count": 0,
      "outputs": []
    },
    {
      "cell_type": "code",
      "metadata": {
        "id": "dOyDrQFoftu_",
        "colab_type": "code",
        "colab": {}
      },
      "source": [
        "xx=x_train.values\n",
        "yy=y_train.values\n",
        "xx_testt=x_test.values\n",
        "yy_testt=y_test.values"
      ],
      "execution_count": 0,
      "outputs": []
    },
    {
      "cell_type": "code",
      "metadata": {
        "id": "Zt1L29B7gwZl",
        "colab_type": "code",
        "outputId": "e0b9940c-5b79-449c-b644-41b798b3ad71",
        "colab": {
          "base_uri": "https://localhost:8080/",
          "height": 282
        }
      },
      "source": [
        "x_train.head()"
      ],
      "execution_count": 0,
      "outputs": [
        {
          "output_type": "execute_result",
          "data": {
            "text/html": [
              "<div>\n",
              "<style scoped>\n",
              "    .dataframe tbody tr th:only-of-type {\n",
              "        vertical-align: middle;\n",
              "    }\n",
              "\n",
              "    .dataframe tbody tr th {\n",
              "        vertical-align: top;\n",
              "    }\n",
              "\n",
              "    .dataframe thead th {\n",
              "        text-align: right;\n",
              "    }\n",
              "</style>\n",
              "<table border=\"1\" class=\"dataframe\">\n",
              "  <thead>\n",
              "    <tr style=\"text-align: right;\">\n",
              "      <th></th>\n",
              "      <th>gender_Male</th>\n",
              "      <th>gender_Other</th>\n",
              "      <th>smoking history_ever</th>\n",
              "      <th>smoking history_former</th>\n",
              "      <th>smoking history_never</th>\n",
              "      <th>smoking history_not current</th>\n",
              "      <th>age</th>\n",
              "      <th>diabetes</th>\n",
              "      <th>stroke</th>\n",
              "      <th>heart disease</th>\n",
              "      <th>...</th>\n",
              "      <th>diabetes &amp; hypertension</th>\n",
              "      <th>diabetes &amp; srtoke</th>\n",
              "      <th>diabetes &amp; heart disease</th>\n",
              "      <th>hypertension &amp; stroke</th>\n",
              "      <th>hypertension &amp; heart disease</th>\n",
              "      <th>stroke &amp; heart disease</th>\n",
              "      <th>diabetes,hypertension,stroke</th>\n",
              "      <th>diabetes,hypertension,heart disease</th>\n",
              "      <th>hypertension,stroke,heart disease</th>\n",
              "      <th>diabetes,hypertension,stroke,heart disease</th>\n",
              "    </tr>\n",
              "  </thead>\n",
              "  <tbody>\n",
              "    <tr>\n",
              "      <th>41446</th>\n",
              "      <td>0.0</td>\n",
              "      <td>0.0</td>\n",
              "      <td>0.0</td>\n",
              "      <td>0.0</td>\n",
              "      <td>0.0</td>\n",
              "      <td>0.0</td>\n",
              "      <td>7.0</td>\n",
              "      <td>0.0</td>\n",
              "      <td>0.0</td>\n",
              "      <td>0.0</td>\n",
              "      <td>...</td>\n",
              "      <td>0.0</td>\n",
              "      <td>0.0</td>\n",
              "      <td>0.0</td>\n",
              "      <td>0.0</td>\n",
              "      <td>0.0</td>\n",
              "      <td>0.0</td>\n",
              "      <td>0.0</td>\n",
              "      <td>0.0</td>\n",
              "      <td>0.0</td>\n",
              "      <td>0.0</td>\n",
              "    </tr>\n",
              "    <tr>\n",
              "      <th>83682</th>\n",
              "      <td>1.0</td>\n",
              "      <td>0.0</td>\n",
              "      <td>0.0</td>\n",
              "      <td>0.0</td>\n",
              "      <td>1.0</td>\n",
              "      <td>0.0</td>\n",
              "      <td>39.0</td>\n",
              "      <td>0.0</td>\n",
              "      <td>0.0</td>\n",
              "      <td>0.0</td>\n",
              "      <td>...</td>\n",
              "      <td>0.0</td>\n",
              "      <td>0.0</td>\n",
              "      <td>0.0</td>\n",
              "      <td>0.0</td>\n",
              "      <td>0.0</td>\n",
              "      <td>0.0</td>\n",
              "      <td>0.0</td>\n",
              "      <td>0.0</td>\n",
              "      <td>0.0</td>\n",
              "      <td>0.0</td>\n",
              "    </tr>\n",
              "    <tr>\n",
              "      <th>10698</th>\n",
              "      <td>1.0</td>\n",
              "      <td>0.0</td>\n",
              "      <td>0.0</td>\n",
              "      <td>0.0</td>\n",
              "      <td>0.0</td>\n",
              "      <td>0.0</td>\n",
              "      <td>3.0</td>\n",
              "      <td>0.0</td>\n",
              "      <td>0.0</td>\n",
              "      <td>0.0</td>\n",
              "      <td>...</td>\n",
              "      <td>0.0</td>\n",
              "      <td>0.0</td>\n",
              "      <td>0.0</td>\n",
              "      <td>0.0</td>\n",
              "      <td>0.0</td>\n",
              "      <td>0.0</td>\n",
              "      <td>0.0</td>\n",
              "      <td>0.0</td>\n",
              "      <td>0.0</td>\n",
              "      <td>0.0</td>\n",
              "    </tr>\n",
              "    <tr>\n",
              "      <th>11748</th>\n",
              "      <td>0.0</td>\n",
              "      <td>0.0</td>\n",
              "      <td>0.0</td>\n",
              "      <td>0.0</td>\n",
              "      <td>1.0</td>\n",
              "      <td>0.0</td>\n",
              "      <td>19.0</td>\n",
              "      <td>0.0</td>\n",
              "      <td>0.0</td>\n",
              "      <td>0.0</td>\n",
              "      <td>...</td>\n",
              "      <td>0.0</td>\n",
              "      <td>0.0</td>\n",
              "      <td>0.0</td>\n",
              "      <td>0.0</td>\n",
              "      <td>0.0</td>\n",
              "      <td>0.0</td>\n",
              "      <td>0.0</td>\n",
              "      <td>0.0</td>\n",
              "      <td>0.0</td>\n",
              "      <td>0.0</td>\n",
              "    </tr>\n",
              "    <tr>\n",
              "      <th>30672</th>\n",
              "      <td>0.0</td>\n",
              "      <td>0.0</td>\n",
              "      <td>0.0</td>\n",
              "      <td>0.0</td>\n",
              "      <td>0.0</td>\n",
              "      <td>0.0</td>\n",
              "      <td>27.0</td>\n",
              "      <td>0.0</td>\n",
              "      <td>0.0</td>\n",
              "      <td>0.0</td>\n",
              "      <td>...</td>\n",
              "      <td>0.0</td>\n",
              "      <td>0.0</td>\n",
              "      <td>0.0</td>\n",
              "      <td>0.0</td>\n",
              "      <td>0.0</td>\n",
              "      <td>0.0</td>\n",
              "      <td>0.0</td>\n",
              "      <td>0.0</td>\n",
              "      <td>0.0</td>\n",
              "      <td>0.0</td>\n",
              "    </tr>\n",
              "  </tbody>\n",
              "</table>\n",
              "<p>5 rows × 21 columns</p>\n",
              "</div>"
            ],
            "text/plain": [
              "       gender_Male  gender_Other  smoking history_ever  \\\n",
              "41446          0.0           0.0                   0.0   \n",
              "83682          1.0           0.0                   0.0   \n",
              "10698          1.0           0.0                   0.0   \n",
              "11748          0.0           0.0                   0.0   \n",
              "30672          0.0           0.0                   0.0   \n",
              "\n",
              "       smoking history_former  smoking history_never  \\\n",
              "41446                     0.0                    0.0   \n",
              "83682                     0.0                    1.0   \n",
              "10698                     0.0                    0.0   \n",
              "11748                     0.0                    1.0   \n",
              "30672                     0.0                    0.0   \n",
              "\n",
              "       smoking history_not current   age  diabetes  stroke  heart disease  \\\n",
              "41446                          0.0   7.0       0.0     0.0            0.0   \n",
              "83682                          0.0  39.0       0.0     0.0            0.0   \n",
              "10698                          0.0   3.0       0.0     0.0            0.0   \n",
              "11748                          0.0  19.0       0.0     0.0            0.0   \n",
              "30672                          0.0  27.0       0.0     0.0            0.0   \n",
              "\n",
              "                          ...                      diabetes & hypertension  \\\n",
              "41446                     ...                                          0.0   \n",
              "83682                     ...                                          0.0   \n",
              "10698                     ...                                          0.0   \n",
              "11748                     ...                                          0.0   \n",
              "30672                     ...                                          0.0   \n",
              "\n",
              "       diabetes & srtoke  diabetes & heart disease  hypertension & stroke  \\\n",
              "41446                0.0                       0.0                    0.0   \n",
              "83682                0.0                       0.0                    0.0   \n",
              "10698                0.0                       0.0                    0.0   \n",
              "11748                0.0                       0.0                    0.0   \n",
              "30672                0.0                       0.0                    0.0   \n",
              "\n",
              "       hypertension & heart disease  stroke & heart disease  \\\n",
              "41446                           0.0                     0.0   \n",
              "83682                           0.0                     0.0   \n",
              "10698                           0.0                     0.0   \n",
              "11748                           0.0                     0.0   \n",
              "30672                           0.0                     0.0   \n",
              "\n",
              "       diabetes,hypertension,stroke  diabetes,hypertension,heart disease  \\\n",
              "41446                           0.0                                  0.0   \n",
              "83682                           0.0                                  0.0   \n",
              "10698                           0.0                                  0.0   \n",
              "11748                           0.0                                  0.0   \n",
              "30672                           0.0                                  0.0   \n",
              "\n",
              "       hypertension,stroke,heart disease  \\\n",
              "41446                                0.0   \n",
              "83682                                0.0   \n",
              "10698                                0.0   \n",
              "11748                                0.0   \n",
              "30672                                0.0   \n",
              "\n",
              "       diabetes,hypertension,stroke,heart disease  \n",
              "41446                                         0.0  \n",
              "83682                                         0.0  \n",
              "10698                                         0.0  \n",
              "11748                                         0.0  \n",
              "30672                                         0.0  \n",
              "\n",
              "[5 rows x 21 columns]"
            ]
          },
          "metadata": {
            "tags": []
          },
          "execution_count": 36
        }
      ]
    },
    {
      "cell_type": "code",
      "metadata": {
        "id": "SQSbkxtlfQDY",
        "colab_type": "code",
        "colab": {}
      },
      "source": [
        "rus=RandomUnderSampler(return_indices=True)\n",
        "X_rus,y_rus,id_rus=rus.fit_sample(xx,yy)"
      ],
      "execution_count": 0,
      "outputs": []
    },
    {
      "cell_type": "code",
      "metadata": {
        "id": "hFwtVa9siviU",
        "colab_type": "code",
        "outputId": "2fb38e3b-4f75-47d4-eb87-0132a10548df",
        "colab": {
          "base_uri": "https://localhost:8080/",
          "height": 34
        }
      },
      "source": [
        "X_rus.shape"
      ],
      "execution_count": 0,
      "outputs": [
        {
          "output_type": "execute_result",
          "data": {
            "text/plain": [
              "(10460, 21)"
            ]
          },
          "metadata": {
            "tags": []
          },
          "execution_count": 38
        }
      ]
    },
    {
      "cell_type": "code",
      "metadata": {
        "id": "6hsh6sJKjJtF",
        "colab_type": "code",
        "outputId": "e49361df-ac38-4201-c75d-d15a506805de",
        "colab": {
          "base_uri": "https://localhost:8080/",
          "height": 287
        }
      },
      "source": [
        "xxx=pd.DataFrame(X_rus)\n",
        "\n",
        "xxx.columns=x_train.columns\n",
        "xxx.head()"
      ],
      "execution_count": 0,
      "outputs": [
        {
          "output_type": "execute_result",
          "data": {
            "text/html": [
              "<div>\n",
              "<style scoped>\n",
              "    .dataframe tbody tr th:only-of-type {\n",
              "        vertical-align: middle;\n",
              "    }\n",
              "\n",
              "    .dataframe tbody tr th {\n",
              "        vertical-align: top;\n",
              "    }\n",
              "\n",
              "    .dataframe thead th {\n",
              "        text-align: right;\n",
              "    }\n",
              "</style>\n",
              "<table border=\"1\" class=\"dataframe\">\n",
              "  <thead>\n",
              "    <tr style=\"text-align: right;\">\n",
              "      <th></th>\n",
              "      <th>gender_Male</th>\n",
              "      <th>gender_Other</th>\n",
              "      <th>smoking history_ever</th>\n",
              "      <th>smoking history_former</th>\n",
              "      <th>smoking history_never</th>\n",
              "      <th>smoking history_not current</th>\n",
              "      <th>age</th>\n",
              "      <th>diabetes</th>\n",
              "      <th>stroke</th>\n",
              "      <th>heart disease</th>\n",
              "      <th>...</th>\n",
              "      <th>diabetes &amp; hypertension</th>\n",
              "      <th>diabetes &amp; srtoke</th>\n",
              "      <th>diabetes &amp; heart disease</th>\n",
              "      <th>hypertension &amp; stroke</th>\n",
              "      <th>hypertension &amp; heart disease</th>\n",
              "      <th>stroke &amp; heart disease</th>\n",
              "      <th>diabetes,hypertension,stroke</th>\n",
              "      <th>diabetes,hypertension,heart disease</th>\n",
              "      <th>hypertension,stroke,heart disease</th>\n",
              "      <th>diabetes,hypertension,stroke,heart disease</th>\n",
              "    </tr>\n",
              "  </thead>\n",
              "  <tbody>\n",
              "    <tr>\n",
              "      <th>0</th>\n",
              "      <td>0.0</td>\n",
              "      <td>0.0</td>\n",
              "      <td>0.0</td>\n",
              "      <td>0.0</td>\n",
              "      <td>0.0</td>\n",
              "      <td>1.0</td>\n",
              "      <td>44.0</td>\n",
              "      <td>0.0</td>\n",
              "      <td>0.0</td>\n",
              "      <td>0.0</td>\n",
              "      <td>...</td>\n",
              "      <td>0.0</td>\n",
              "      <td>0.0</td>\n",
              "      <td>0.0</td>\n",
              "      <td>0.0</td>\n",
              "      <td>0.0</td>\n",
              "      <td>0.0</td>\n",
              "      <td>0.0</td>\n",
              "      <td>0.0</td>\n",
              "      <td>0.0</td>\n",
              "      <td>0.0</td>\n",
              "    </tr>\n",
              "    <tr>\n",
              "      <th>1</th>\n",
              "      <td>0.0</td>\n",
              "      <td>0.0</td>\n",
              "      <td>0.0</td>\n",
              "      <td>0.0</td>\n",
              "      <td>1.0</td>\n",
              "      <td>0.0</td>\n",
              "      <td>20.0</td>\n",
              "      <td>0.0</td>\n",
              "      <td>0.0</td>\n",
              "      <td>0.0</td>\n",
              "      <td>...</td>\n",
              "      <td>0.0</td>\n",
              "      <td>0.0</td>\n",
              "      <td>0.0</td>\n",
              "      <td>0.0</td>\n",
              "      <td>0.0</td>\n",
              "      <td>0.0</td>\n",
              "      <td>0.0</td>\n",
              "      <td>0.0</td>\n",
              "      <td>0.0</td>\n",
              "      <td>0.0</td>\n",
              "    </tr>\n",
              "    <tr>\n",
              "      <th>2</th>\n",
              "      <td>1.0</td>\n",
              "      <td>0.0</td>\n",
              "      <td>0.0</td>\n",
              "      <td>0.0</td>\n",
              "      <td>0.0</td>\n",
              "      <td>1.0</td>\n",
              "      <td>24.0</td>\n",
              "      <td>0.0</td>\n",
              "      <td>0.0</td>\n",
              "      <td>0.0</td>\n",
              "      <td>...</td>\n",
              "      <td>0.0</td>\n",
              "      <td>0.0</td>\n",
              "      <td>0.0</td>\n",
              "      <td>0.0</td>\n",
              "      <td>0.0</td>\n",
              "      <td>0.0</td>\n",
              "      <td>0.0</td>\n",
              "      <td>0.0</td>\n",
              "      <td>0.0</td>\n",
              "      <td>0.0</td>\n",
              "    </tr>\n",
              "    <tr>\n",
              "      <th>3</th>\n",
              "      <td>1.0</td>\n",
              "      <td>0.0</td>\n",
              "      <td>0.0</td>\n",
              "      <td>1.0</td>\n",
              "      <td>0.0</td>\n",
              "      <td>0.0</td>\n",
              "      <td>56.0</td>\n",
              "      <td>0.0</td>\n",
              "      <td>0.0</td>\n",
              "      <td>1.0</td>\n",
              "      <td>...</td>\n",
              "      <td>0.0</td>\n",
              "      <td>0.0</td>\n",
              "      <td>0.0</td>\n",
              "      <td>0.0</td>\n",
              "      <td>0.0</td>\n",
              "      <td>0.0</td>\n",
              "      <td>0.0</td>\n",
              "      <td>0.0</td>\n",
              "      <td>0.0</td>\n",
              "      <td>0.0</td>\n",
              "    </tr>\n",
              "    <tr>\n",
              "      <th>4</th>\n",
              "      <td>1.0</td>\n",
              "      <td>0.0</td>\n",
              "      <td>0.0</td>\n",
              "      <td>0.0</td>\n",
              "      <td>1.0</td>\n",
              "      <td>0.0</td>\n",
              "      <td>47.0</td>\n",
              "      <td>0.0</td>\n",
              "      <td>0.0</td>\n",
              "      <td>0.0</td>\n",
              "      <td>...</td>\n",
              "      <td>0.0</td>\n",
              "      <td>0.0</td>\n",
              "      <td>0.0</td>\n",
              "      <td>0.0</td>\n",
              "      <td>0.0</td>\n",
              "      <td>0.0</td>\n",
              "      <td>0.0</td>\n",
              "      <td>0.0</td>\n",
              "      <td>0.0</td>\n",
              "      <td>0.0</td>\n",
              "    </tr>\n",
              "  </tbody>\n",
              "</table>\n",
              "<p>5 rows × 21 columns</p>\n",
              "</div>"
            ],
            "text/plain": [
              "   gender_Male  gender_Other  smoking history_ever  smoking history_former  \\\n",
              "0          0.0           0.0                   0.0                     0.0   \n",
              "1          0.0           0.0                   0.0                     0.0   \n",
              "2          1.0           0.0                   0.0                     0.0   \n",
              "3          1.0           0.0                   0.0                     1.0   \n",
              "4          1.0           0.0                   0.0                     0.0   \n",
              "\n",
              "   smoking history_never  smoking history_not current   age  diabetes  stroke  \\\n",
              "0                    0.0                          1.0  44.0       0.0     0.0   \n",
              "1                    1.0                          0.0  20.0       0.0     0.0   \n",
              "2                    0.0                          1.0  24.0       0.0     0.0   \n",
              "3                    0.0                          0.0  56.0       0.0     0.0   \n",
              "4                    1.0                          0.0  47.0       0.0     0.0   \n",
              "\n",
              "   heart disease                     ...                      \\\n",
              "0            0.0                     ...                       \n",
              "1            0.0                     ...                       \n",
              "2            0.0                     ...                       \n",
              "3            1.0                     ...                       \n",
              "4            0.0                     ...                       \n",
              "\n",
              "   diabetes & hypertension  diabetes & srtoke  diabetes & heart disease  \\\n",
              "0                      0.0                0.0                       0.0   \n",
              "1                      0.0                0.0                       0.0   \n",
              "2                      0.0                0.0                       0.0   \n",
              "3                      0.0                0.0                       0.0   \n",
              "4                      0.0                0.0                       0.0   \n",
              "\n",
              "   hypertension & stroke  hypertension & heart disease  \\\n",
              "0                    0.0                           0.0   \n",
              "1                    0.0                           0.0   \n",
              "2                    0.0                           0.0   \n",
              "3                    0.0                           0.0   \n",
              "4                    0.0                           0.0   \n",
              "\n",
              "   stroke & heart disease  diabetes,hypertension,stroke  \\\n",
              "0                     0.0                           0.0   \n",
              "1                     0.0                           0.0   \n",
              "2                     0.0                           0.0   \n",
              "3                     0.0                           0.0   \n",
              "4                     0.0                           0.0   \n",
              "\n",
              "   diabetes,hypertension,heart disease  hypertension,stroke,heart disease  \\\n",
              "0                                  0.0                                0.0   \n",
              "1                                  0.0                                0.0   \n",
              "2                                  0.0                                0.0   \n",
              "3                                  0.0                                0.0   \n",
              "4                                  0.0                                0.0   \n",
              "\n",
              "   diabetes,hypertension,stroke,heart disease  \n",
              "0                                         0.0  \n",
              "1                                         0.0  \n",
              "2                                         0.0  \n",
              "3                                         0.0  \n",
              "4                                         0.0  \n",
              "\n",
              "[5 rows x 21 columns]"
            ]
          },
          "metadata": {
            "tags": []
          },
          "execution_count": 39
        }
      ]
    },
    {
      "cell_type": "code",
      "metadata": {
        "id": "QbsIfc93jPdY",
        "colab_type": "code",
        "outputId": "a33f89e8-4672-4c0f-bab8-9821b50db76e",
        "colab": {
          "base_uri": "https://localhost:8080/",
          "height": 204
        }
      },
      "source": [
        "yyy=pd.DataFrame(y_rus,columns=['hypertension'])\n",
        "yyy.head()\n"
      ],
      "execution_count": 0,
      "outputs": [
        {
          "output_type": "execute_result",
          "data": {
            "text/html": [
              "<div>\n",
              "<style scoped>\n",
              "    .dataframe tbody tr th:only-of-type {\n",
              "        vertical-align: middle;\n",
              "    }\n",
              "\n",
              "    .dataframe tbody tr th {\n",
              "        vertical-align: top;\n",
              "    }\n",
              "\n",
              "    .dataframe thead th {\n",
              "        text-align: right;\n",
              "    }\n",
              "</style>\n",
              "<table border=\"1\" class=\"dataframe\">\n",
              "  <thead>\n",
              "    <tr style=\"text-align: right;\">\n",
              "      <th></th>\n",
              "      <th>hypertension</th>\n",
              "    </tr>\n",
              "  </thead>\n",
              "  <tbody>\n",
              "    <tr>\n",
              "      <th>0</th>\n",
              "      <td>0.0</td>\n",
              "    </tr>\n",
              "    <tr>\n",
              "      <th>1</th>\n",
              "      <td>0.0</td>\n",
              "    </tr>\n",
              "    <tr>\n",
              "      <th>2</th>\n",
              "      <td>0.0</td>\n",
              "    </tr>\n",
              "    <tr>\n",
              "      <th>3</th>\n",
              "      <td>0.0</td>\n",
              "    </tr>\n",
              "    <tr>\n",
              "      <th>4</th>\n",
              "      <td>0.0</td>\n",
              "    </tr>\n",
              "  </tbody>\n",
              "</table>\n",
              "</div>"
            ],
            "text/plain": [
              "   hypertension\n",
              "0           0.0\n",
              "1           0.0\n",
              "2           0.0\n",
              "3           0.0\n",
              "4           0.0"
            ]
          },
          "metadata": {
            "tags": []
          },
          "execution_count": 40
        }
      ]
    },
    {
      "cell_type": "code",
      "metadata": {
        "id": "dl5HfeEcjcck",
        "colab_type": "code",
        "outputId": "b96cef16-9b1b-4373-d00f-4b2a3fa282c3",
        "colab": {
          "base_uri": "https://localhost:8080/",
          "height": 68
        }
      },
      "source": [
        "yyy['hypertension'].value_counts()"
      ],
      "execution_count": 0,
      "outputs": [
        {
          "output_type": "execute_result",
          "data": {
            "text/plain": [
              "1.0    5230\n",
              "0.0    5230\n",
              "Name: hypertension, dtype: int64"
            ]
          },
          "metadata": {
            "tags": []
          },
          "execution_count": 41
        }
      ]
    },
    {
      "cell_type": "code",
      "metadata": {
        "id": "sz4biyy0tJEd",
        "colab_type": "code",
        "colab": {}
      },
      "source": [
        "Dt_us=DecisionTreeClassifier()\n",
        "Rf_us=RandomForestClassifier()\n",
        "Bagg_us=BaggingClassifier(base_estimator=Dt_us)\n",
        "Boost_us=AdaBoostClassifier(base_estimator=Dt_us)\n",
        "Knn_us=KNeighborsClassifier()\n",
        "Svc_us=LinearSVC()\n",
        "Lr_us=LogisticRegression()\n",
        "Gbc_us=GradientBoostingClassifier()\n",
        "Xgb_us=XGBClassifier()\n",
        "Gnb_us=GaussianNB()\n",
        "Bnb_us=BernoulliNB()"
      ],
      "execution_count": 0,
      "outputs": []
    },
    {
      "cell_type": "code",
      "metadata": {
        "id": "3RkSF6yefozl",
        "colab_type": "code",
        "outputId": "1edea7c8-a578-4052-983b-dc77ee4ca013",
        "colab": {
          "base_uri": "https://localhost:8080/",
          "height": 390
        }
      },
      "source": [
        "models=[Rf_us,Boost_us,Bagg_us,Svc_us,Knn_us,Dt_us,Lr_us,Gbc_us,Xgb_us,Gnb_us,Bnb_us,]\n",
        "model_names=['RandomForestClassifier','AdaBoostClassifier','BaggingClassifier','LinearSVC',\n",
        "             'KNeighborsClassifier', 'DecisionTreeClassifier', 'LogisticRegression', \n",
        "             'GradientBoostingClassifier', 'XGBClassifier','GaussianNB','BernoulliNB']\n",
        "ROC_AUC_scores1 = []\n",
        "F1_score1=[]\n",
        "mcc1=[]\n",
        "\n",
        "d={}\n",
        "\n",
        "for model in range(len(models)):\n",
        "    m = models[model]\n",
        "    m.fit(xxx,yyy)\n",
        "    test_pred_us = m.predict(x_test)\n",
        "    ROC_AUC_scores1.append(roc_auc_score(y_test, test_pred_us))\n",
        "    F1_score1.append(f1_score(y_test,test_pred_us))\n",
        "    #ck.append(cohen_kappa_score(y_test,test_pred))\n",
        "    mcc1.append(matthews_corrcoef(y_test,test_pred_us))\n",
        "    \n",
        "d={'Modelling Algo':model_names, 'ROC_AUC_Scores': ROC_AUC_scores1,'F1_Score':F1_score1,'MCC':mcc1}   \n",
        "df_models = pd.DataFrame(d)\n",
        "df_models"
      ],
      "execution_count": 0,
      "outputs": [
        {
          "output_type": "execute_result",
          "data": {
            "text/html": [
              "<div>\n",
              "<style scoped>\n",
              "    .dataframe tbody tr th:only-of-type {\n",
              "        vertical-align: middle;\n",
              "    }\n",
              "\n",
              "    .dataframe tbody tr th {\n",
              "        vertical-align: top;\n",
              "    }\n",
              "\n",
              "    .dataframe thead th {\n",
              "        text-align: right;\n",
              "    }\n",
              "</style>\n",
              "<table border=\"1\" class=\"dataframe\">\n",
              "  <thead>\n",
              "    <tr style=\"text-align: right;\">\n",
              "      <th></th>\n",
              "      <th>F1_Score</th>\n",
              "      <th>MCC</th>\n",
              "      <th>Modelling Algo</th>\n",
              "      <th>ROC_AUC_Scores</th>\n",
              "    </tr>\n",
              "  </thead>\n",
              "  <tbody>\n",
              "    <tr>\n",
              "      <th>0</th>\n",
              "      <td>0.330160</td>\n",
              "      <td>0.307091</td>\n",
              "      <td>RandomForestClassifier</td>\n",
              "      <td>0.753490</td>\n",
              "    </tr>\n",
              "    <tr>\n",
              "      <th>1</th>\n",
              "      <td>0.302359</td>\n",
              "      <td>0.282033</td>\n",
              "      <td>AdaBoostClassifier</td>\n",
              "      <td>0.744602</td>\n",
              "    </tr>\n",
              "    <tr>\n",
              "      <th>2</th>\n",
              "      <td>0.332520</td>\n",
              "      <td>0.309955</td>\n",
              "      <td>BaggingClassifier</td>\n",
              "      <td>0.755409</td>\n",
              "    </tr>\n",
              "    <tr>\n",
              "      <th>3</th>\n",
              "      <td>0.356328</td>\n",
              "      <td>0.347656</td>\n",
              "      <td>LinearSVC</td>\n",
              "      <td>0.789426</td>\n",
              "    </tr>\n",
              "    <tr>\n",
              "      <th>4</th>\n",
              "      <td>0.269509</td>\n",
              "      <td>0.241642</td>\n",
              "      <td>KNeighborsClassifier</td>\n",
              "      <td>0.716202</td>\n",
              "    </tr>\n",
              "    <tr>\n",
              "      <th>5</th>\n",
              "      <td>0.301048</td>\n",
              "      <td>0.279640</td>\n",
              "      <td>DecisionTreeClassifier</td>\n",
              "      <td>0.742284</td>\n",
              "    </tr>\n",
              "    <tr>\n",
              "      <th>6</th>\n",
              "      <td>0.364877</td>\n",
              "      <td>0.353683</td>\n",
              "      <td>LogisticRegression</td>\n",
              "      <td>0.789311</td>\n",
              "    </tr>\n",
              "    <tr>\n",
              "      <th>7</th>\n",
              "      <td>0.333937</td>\n",
              "      <td>0.336818</td>\n",
              "      <td>GradientBoostingClassifier</td>\n",
              "      <td>0.795707</td>\n",
              "    </tr>\n",
              "    <tr>\n",
              "      <th>8</th>\n",
              "      <td>0.330130</td>\n",
              "      <td>0.331790</td>\n",
              "      <td>XGBClassifier</td>\n",
              "      <td>0.791863</td>\n",
              "    </tr>\n",
              "    <tr>\n",
              "      <th>9</th>\n",
              "      <td>0.487973</td>\n",
              "      <td>0.482621</td>\n",
              "      <td>GaussianNB</td>\n",
              "      <td>0.681975</td>\n",
              "    </tr>\n",
              "    <tr>\n",
              "      <th>10</th>\n",
              "      <td>0.288667</td>\n",
              "      <td>0.223508</td>\n",
              "      <td>BernoulliNB</td>\n",
              "      <td>0.638526</td>\n",
              "    </tr>\n",
              "  </tbody>\n",
              "</table>\n",
              "</div>"
            ],
            "text/plain": [
              "    F1_Score       MCC              Modelling Algo  ROC_AUC_Scores\n",
              "0   0.330160  0.307091      RandomForestClassifier        0.753490\n",
              "1   0.302359  0.282033          AdaBoostClassifier        0.744602\n",
              "2   0.332520  0.309955           BaggingClassifier        0.755409\n",
              "3   0.356328  0.347656                   LinearSVC        0.789426\n",
              "4   0.269509  0.241642        KNeighborsClassifier        0.716202\n",
              "5   0.301048  0.279640      DecisionTreeClassifier        0.742284\n",
              "6   0.364877  0.353683          LogisticRegression        0.789311\n",
              "7   0.333937  0.336818  GradientBoostingClassifier        0.795707\n",
              "8   0.330130  0.331790               XGBClassifier        0.791863\n",
              "9   0.487973  0.482621                  GaussianNB        0.681975\n",
              "10  0.288667  0.223508                 BernoulliNB        0.638526"
            ]
          },
          "metadata": {
            "tags": []
          },
          "execution_count": 44
        }
      ]
    },
    {
      "cell_type": "markdown",
      "metadata": {
        "id": "Ay2nc1XHqMId",
        "colab_type": "text"
      },
      "source": [
        "# **Models on imbalanced dataset**"
      ]
    },
    {
      "cell_type": "code",
      "metadata": {
        "id": "FVte2HWziEwq",
        "colab_type": "code",
        "colab": {}
      },
      "source": [
        "Dt_ib=DecisionTreeClassifier()\n",
        "Rf_ib=RandomForestClassifier()\n",
        "Bagg_ib=BaggingClassifier(base_estimator=Dt_ib)\n",
        "Boost_ib=AdaBoostClassifier(base_estimator=Dt_ib)\n",
        "Knn_ib=KNeighborsClassifier()\n",
        "Svc_ib=LinearSVC()\n",
        "Lr_ib=LogisticRegression()\n",
        "Gbc_ib=GradientBoostingClassifier()\n",
        "Xgb_ib=XGBClassifier()\n",
        "Gnb_ib=GaussianNB()\n",
        "Bnb_ib=BernoulliNB()"
      ],
      "execution_count": 0,
      "outputs": []
    },
    {
      "cell_type": "code",
      "metadata": {
        "id": "lHFjw8pdO5y_",
        "colab_type": "code",
        "outputId": "02e9d48c-ce0a-4a81-ef25-9112833005b1",
        "colab": {
          "base_uri": "https://localhost:8080/",
          "height": 378
        }
      },
      "source": [
        "models=[Rf_ib,Boost_ib,Bagg_ib,Svc_ib,Knn_ib,Dt_ib,Lr_ib,Gbc_ib,Xgb_ib,Gnb_ib,Bnb_ib]\n",
        "model_names=['RandomForestClassifier','AdaBoostClassifier','BaggingClassifier','LinearSVC',\n",
        "             'KNeighborsClassifier', 'DecisionTreeClassifier', 'LogisticRegression', \n",
        "             'GradientBoostingClassifier', 'XGBClassifier','GaussianNB','BernoulliNB']\n",
        "ROC_AUC_scores = []\n",
        "F1_score=[]\n",
        "mcc=[]\n",
        "\n",
        "d={}\n",
        "\n",
        "for model in range(len(models)):\n",
        "    clf = models[model]\n",
        "    clf.fit(x_train, y_train)\n",
        "    test_pred_ib= clf.predict(x_test)\n",
        "    ROC_AUC_scores.append(roc_auc_score(y_test, test_pred_ib))\n",
        "    F1_score.append(f1_score(y_test,test_pred_ib))\n",
        "    mcc.append(matthews_corrcoef(y_test,test_pred_ib))\n",
        "    \n",
        "d={'Modelling Algo':model_names, 'ROC_AUC_Scores': ROC_AUC_scores,'F1_Score':F1_score,'MCC':mcc}   \n",
        "df_models = pd.DataFrame(d)\n",
        "df_models"
      ],
      "execution_count": 0,
      "outputs": [
        {
          "output_type": "execute_result",
          "data": {
            "text/html": [
              "<div>\n",
              "<style scoped>\n",
              "    .dataframe tbody tr th:only-of-type {\n",
              "        vertical-align: middle;\n",
              "    }\n",
              "\n",
              "    .dataframe tbody tr th {\n",
              "        vertical-align: top;\n",
              "    }\n",
              "\n",
              "    .dataframe thead th {\n",
              "        text-align: right;\n",
              "    }\n",
              "</style>\n",
              "<table border=\"1\" class=\"dataframe\">\n",
              "  <thead>\n",
              "    <tr style=\"text-align: right;\">\n",
              "      <th></th>\n",
              "      <th>F1_Score</th>\n",
              "      <th>MCC</th>\n",
              "      <th>Modelling Algo</th>\n",
              "      <th>ROC_AUC_Scores</th>\n",
              "    </tr>\n",
              "  </thead>\n",
              "  <tbody>\n",
              "    <tr>\n",
              "      <th>0</th>\n",
              "      <td>0.500130</td>\n",
              "      <td>0.475572</td>\n",
              "      <td>RandomForestClassifier</td>\n",
              "      <td>0.701447</td>\n",
              "    </tr>\n",
              "    <tr>\n",
              "      <th>1</th>\n",
              "      <td>0.459480</td>\n",
              "      <td>0.429395</td>\n",
              "      <td>AdaBoostClassifier</td>\n",
              "      <td>0.684687</td>\n",
              "    </tr>\n",
              "    <tr>\n",
              "      <th>2</th>\n",
              "      <td>0.514223</td>\n",
              "      <td>0.502329</td>\n",
              "      <td>BaggingClassifier</td>\n",
              "      <td>0.698591</td>\n",
              "    </tr>\n",
              "    <tr>\n",
              "      <th>3</th>\n",
              "      <td>0.548439</td>\n",
              "      <td>0.599701</td>\n",
              "      <td>LinearSVC</td>\n",
              "      <td>0.688914</td>\n",
              "    </tr>\n",
              "    <tr>\n",
              "      <th>4</th>\n",
              "      <td>0.288936</td>\n",
              "      <td>0.335362</td>\n",
              "      <td>KNeighborsClassifier</td>\n",
              "      <td>0.587791</td>\n",
              "    </tr>\n",
              "    <tr>\n",
              "      <th>5</th>\n",
              "      <td>0.457890</td>\n",
              "      <td>0.413809</td>\n",
              "      <td>DecisionTreeClassifier</td>\n",
              "      <td>0.706989</td>\n",
              "    </tr>\n",
              "    <tr>\n",
              "      <th>6</th>\n",
              "      <td>0.548086</td>\n",
              "      <td>0.598904</td>\n",
              "      <td>LogisticRegression</td>\n",
              "      <td>0.688877</td>\n",
              "    </tr>\n",
              "    <tr>\n",
              "      <th>7</th>\n",
              "      <td>0.548439</td>\n",
              "      <td>0.599701</td>\n",
              "      <td>GradientBoostingClassifier</td>\n",
              "      <td>0.688914</td>\n",
              "    </tr>\n",
              "    <tr>\n",
              "      <th>8</th>\n",
              "      <td>0.547972</td>\n",
              "      <td>0.599338</td>\n",
              "      <td>XGBClassifier</td>\n",
              "      <td>0.688692</td>\n",
              "    </tr>\n",
              "    <tr>\n",
              "      <th>9</th>\n",
              "      <td>0.487973</td>\n",
              "      <td>0.482621</td>\n",
              "      <td>GaussianNB</td>\n",
              "      <td>0.681975</td>\n",
              "    </tr>\n",
              "    <tr>\n",
              "      <th>10</th>\n",
              "      <td>0.487973</td>\n",
              "      <td>0.482621</td>\n",
              "      <td>BernoulliNB</td>\n",
              "      <td>0.681975</td>\n",
              "    </tr>\n",
              "  </tbody>\n",
              "</table>\n",
              "</div>"
            ],
            "text/plain": [
              "    F1_Score       MCC              Modelling Algo  ROC_AUC_Scores\n",
              "0   0.500130  0.475572      RandomForestClassifier        0.701447\n",
              "1   0.459480  0.429395          AdaBoostClassifier        0.684687\n",
              "2   0.514223  0.502329           BaggingClassifier        0.698591\n",
              "3   0.548439  0.599701                   LinearSVC        0.688914\n",
              "4   0.288936  0.335362        KNeighborsClassifier        0.587791\n",
              "5   0.457890  0.413809      DecisionTreeClassifier        0.706989\n",
              "6   0.548086  0.598904          LogisticRegression        0.688877\n",
              "7   0.548439  0.599701  GradientBoostingClassifier        0.688914\n",
              "8   0.547972  0.599338               XGBClassifier        0.688692\n",
              "9   0.487973  0.482621                  GaussianNB        0.681975\n",
              "10  0.487973  0.482621                 BernoulliNB        0.681975"
            ]
          },
          "metadata": {
            "tags": []
          },
          "execution_count": 23
        }
      ]
    },
    {
      "cell_type": "code",
      "metadata": {
        "id": "9wzcx9F3XztM",
        "colab_type": "code",
        "colab": {}
      },
      "source": [
        "Xgb_ib.fit(X=x_train,y=y_train)\n",
        "test_pred_ib=Xgb_ib.predict(x_test)"
      ],
      "execution_count": 0,
      "outputs": []
    },
    {
      "cell_type": "code",
      "metadata": {
        "id": "bznf5QHeV7EP",
        "colab_type": "code",
        "outputId": "7ce92a86-c9a1-4960-9ea7-152b6ce58854",
        "colab": {
          "base_uri": "https://localhost:8080/",
          "height": 72
        }
      },
      "source": [
        "print('ROC_AUC Score:',roc_auc_score(y_test, test_pred_ib))\n",
        "print('F1_score',f1_score(y_test,test_pred_ib))\n",
        "print('MCC Score',matthews_corrcoef(y_test,test_pred_ib))"
      ],
      "execution_count": 0,
      "outputs": [
        {
          "output_type": "stream",
          "text": [
            "ROC_AUC Score: 0.6886917960088692\n",
            "F1_score 0.5479716677398583\n",
            "MCC Score 0.5993383134427629\n"
          ],
          "name": "stdout"
        }
      ]
    },
    {
      "cell_type": "markdown",
      "metadata": {
        "id": "mfZDcd3eU_8o",
        "colab_type": "text"
      },
      "source": [
        "# Neural Network"
      ]
    },
    {
      "cell_type": "code",
      "metadata": {
        "id": "daENpDtZUzYT",
        "colab_type": "code",
        "colab": {}
      },
      "source": [
        "from keras.layers import Dense,Input,BatchNormalization,Dropout\n",
        "from keras.models import Model,K, Sequential\n",
        "from keras.optimizers import SGD, rmsprop"
      ],
      "execution_count": 0,
      "outputs": []
    },
    {
      "cell_type": "code",
      "metadata": {
        "id": "vFUDhB7F_yy3",
        "colab_type": "code",
        "colab": {}
      },
      "source": [
        "K.clear_session()\n",
        "def build_model():\n",
        "  classifier = Sequential()\n",
        "  classifier.add(Dense(output_dim=12,input_dim=22,init='uniform',activation='relu'))\n",
        "  classifier.add(Dropout(rate=0.01))\n",
        "  classifier.add(Dense(output_dim=12,input_dim=22,init='uniform',activation='relu'))\n",
        "  classifier.add(Dropout(rate=0.01))\n",
        "  classifier.add(Dense(output_dim=12,input_dim=22,init='uniform',activation='relu'))\n",
        "  classifier.add(Dropout(rate=0.01))\n",
        "  classifier.add(Dense(output_dim=12,input_dim=22,init='uniform',activation='relu'))\n",
        "  classifier.add(Dropout(rate=0.01))\n",
        "  classifier.add(Dense(output_dim=1,input_dim=22,init='uniform',activation='sigmoid'))\n",
        "  classifier.compile(optimizer='adam',loss='binary_crossentropy',metrics=[auc])\n",
        "  return classifier"
      ],
      "execution_count": 0,
      "outputs": []
    },
    {
      "cell_type": "code",
      "metadata": {
        "id": "DATc6gx6Nj5X",
        "colab_type": "code",
        "colab": {}
      },
      "source": [
        "import tensorflow as tf\n",
        "from keras import backend as K\n",
        "\n",
        "def auc(y_test,y_pred_keras):\n",
        "    auc = tf.metrics.auc(y_test, y_pred_keras)[1]\n",
        "    K.get_session().run(tf.local_variables_initializer())\n",
        "    return auc"
      ],
      "execution_count": 0,
      "outputs": []
    },
    {
      "cell_type": "code",
      "metadata": {
        "id": "fCKRb6fFWHDf",
        "colab_type": "code",
        "outputId": "e4deb016-9ffa-4b6d-a2bb-f536a9bf33ca",
        "colab": {
          "base_uri": "https://localhost:8080/",
          "height": 3690
        }
      },
      "source": [
        "from keras.wrappers.scikit_learn import KerasClassifier\n",
        "keras_model = build_model()\n",
        "keras_model.fit(x_train, y_train, epochs=100, batch_size=100,verbose=1,validation_split=0.3)"
      ],
      "execution_count": 0,
      "outputs": [
        {
          "output_type": "stream",
          "text": [
            "Train on 49000 samples, validate on 21000 samples\n",
            "Epoch 1/100\n",
            "49000/49000 [==============================] - 4s 91us/step - loss: 0.3429 - auc: 0.4291 - val_loss: 0.2518 - val_auc: 0.5016\n",
            "Epoch 2/100\n",
            "49000/49000 [==============================] - 4s 80us/step - loss: 0.2442 - auc: 0.5782 - val_loss: 0.2325 - val_auc: 0.6224\n",
            "Epoch 3/100\n",
            "49000/49000 [==============================] - 4s 82us/step - loss: 0.2310 - auc: 0.6521 - val_loss: 0.2168 - val_auc: 0.6761\n",
            "Epoch 4/100\n",
            "49000/49000 [==============================] - 4s 82us/step - loss: 0.2086 - auc: 0.6950 - val_loss: 0.1907 - val_auc: 0.7122\n",
            "Epoch 5/100\n",
            "49000/49000 [==============================] - 4s 81us/step - loss: 0.1860 - auc: 0.7290 - val_loss: 0.1748 - val_auc: 0.7468\n",
            "Epoch 6/100\n",
            "49000/49000 [==============================] - 4s 81us/step - loss: 0.1811 - auc: 0.7607 - val_loss: 0.1673 - val_auc: 0.7724\n",
            "Epoch 7/100\n",
            "49000/49000 [==============================] - 4s 81us/step - loss: 0.1762 - auc: 0.7825 - val_loss: 0.1648 - val_auc: 0.7913\n",
            "Epoch 8/100\n",
            "49000/49000 [==============================] - 4s 81us/step - loss: 0.1754 - auc: 0.7985 - val_loss: 0.1629 - val_auc: 0.8047\n",
            "Epoch 9/100\n",
            "49000/49000 [==============================] - 4s 81us/step - loss: 0.1724 - auc: 0.8103 - val_loss: 0.1619 - val_auc: 0.8152\n",
            "Epoch 10/100\n",
            "49000/49000 [==============================] - 4s 81us/step - loss: 0.1714 - auc: 0.8193 - val_loss: 0.1598 - val_auc: 0.8233\n",
            "Epoch 11/100\n",
            "49000/49000 [==============================] - 4s 80us/step - loss: 0.1696 - auc: 0.8266 - val_loss: 0.1584 - val_auc: 0.8299\n",
            "Epoch 12/100\n",
            "49000/49000 [==============================] - 4s 82us/step - loss: 0.1694 - auc: 0.8327 - val_loss: 0.1576 - val_auc: 0.8352\n",
            "Epoch 13/100\n",
            "49000/49000 [==============================] - 4s 80us/step - loss: 0.1693 - auc: 0.8375 - val_loss: 0.1594 - val_auc: 0.8394\n",
            "Epoch 14/100\n",
            "49000/49000 [==============================] - 4s 82us/step - loss: 0.1682 - auc: 0.8411 - val_loss: 0.1590 - val_auc: 0.8430\n",
            "Epoch 15/100\n",
            "49000/49000 [==============================] - 4s 82us/step - loss: 0.1680 - auc: 0.8444 - val_loss: 0.1615 - val_auc: 0.8458\n",
            "Epoch 16/100\n",
            "49000/49000 [==============================] - 4s 82us/step - loss: 0.1674 - auc: 0.8469 - val_loss: 0.1558 - val_auc: 0.8483\n",
            "Epoch 17/100\n",
            "49000/49000 [==============================] - 4s 80us/step - loss: 0.1664 - auc: 0.8495 - val_loss: 0.1590 - val_auc: 0.8506\n",
            "Epoch 18/100\n",
            "49000/49000 [==============================] - 4s 80us/step - loss: 0.1667 - auc: 0.8517 - val_loss: 0.1589 - val_auc: 0.8526\n",
            "Epoch 19/100\n",
            "49000/49000 [==============================] - 4s 81us/step - loss: 0.1658 - auc: 0.8535 - val_loss: 0.1578 - val_auc: 0.8544\n",
            "Epoch 20/100\n",
            "49000/49000 [==============================] - 4s 81us/step - loss: 0.1655 - auc: 0.8552 - val_loss: 0.1650 - val_auc: 0.8558\n",
            "Epoch 21/100\n",
            "49000/49000 [==============================] - 4s 80us/step - loss: 0.1663 - auc: 0.8563 - val_loss: 0.1605 - val_auc: 0.8569\n",
            "Epoch 22/100\n",
            "49000/49000 [==============================] - 4s 80us/step - loss: 0.1648 - auc: 0.8574 - val_loss: 0.1546 - val_auc: 0.8581\n",
            "Epoch 23/100\n",
            "49000/49000 [==============================] - 4s 80us/step - loss: 0.1649 - auc: 0.8587 - val_loss: 0.1586 - val_auc: 0.8592\n",
            "Epoch 24/100\n",
            "49000/49000 [==============================] - 4s 80us/step - loss: 0.1639 - auc: 0.8597 - val_loss: 0.1533 - val_auc: 0.8604\n",
            "Epoch 25/100\n",
            "49000/49000 [==============================] - 4s 81us/step - loss: 0.1661 - auc: 0.8609 - val_loss: 0.1533 - val_auc: 0.8613\n",
            "Epoch 26/100\n",
            "49000/49000 [==============================] - 4s 81us/step - loss: 0.1645 - auc: 0.8619 - val_loss: 0.1545 - val_auc: 0.8623\n",
            "Epoch 27/100\n",
            "49000/49000 [==============================] - 4s 81us/step - loss: 0.1655 - auc: 0.8628 - val_loss: 0.1558 - val_auc: 0.8631\n",
            "Epoch 28/100\n",
            "49000/49000 [==============================] - 4s 80us/step - loss: 0.1641 - auc: 0.8635 - val_loss: 0.1519 - val_auc: 0.8640\n",
            "Epoch 29/100\n",
            "49000/49000 [==============================] - 4s 80us/step - loss: 0.1631 - auc: 0.8644 - val_loss: 0.1529 - val_auc: 0.8649\n",
            "Epoch 30/100\n",
            "49000/49000 [==============================] - 4s 80us/step - loss: 0.1630 - auc: 0.8653 - val_loss: 0.1499 - val_auc: 0.8656\n",
            "Epoch 31/100\n",
            "49000/49000 [==============================] - 4s 80us/step - loss: 0.1604 - auc: 0.8660 - val_loss: 0.1488 - val_auc: 0.8663\n",
            "Epoch 32/100\n",
            "49000/49000 [==============================] - 4s 80us/step - loss: 0.1602 - auc: 0.8666 - val_loss: 0.1496 - val_auc: 0.8669\n",
            "Epoch 33/100\n",
            "49000/49000 [==============================] - 4s 80us/step - loss: 0.1605 - auc: 0.8671 - val_loss: 0.1487 - val_auc: 0.8675\n",
            "Epoch 34/100\n",
            "49000/49000 [==============================] - 4s 80us/step - loss: 0.1593 - auc: 0.8677 - val_loss: 0.1488 - val_auc: 0.8680\n",
            "Epoch 35/100\n",
            "49000/49000 [==============================] - 4s 81us/step - loss: 0.1588 - auc: 0.8683 - val_loss: 0.1499 - val_auc: 0.8685\n",
            "Epoch 36/100\n",
            "49000/49000 [==============================] - 4s 80us/step - loss: 0.1580 - auc: 0.8688 - val_loss: 0.1541 - val_auc: 0.8690\n",
            "Epoch 37/100\n",
            "49000/49000 [==============================] - 4s 80us/step - loss: 0.1577 - auc: 0.8692 - val_loss: 0.1510 - val_auc: 0.8694\n",
            "Epoch 38/100\n",
            "49000/49000 [==============================] - 4s 81us/step - loss: 0.1579 - auc: 0.8696 - val_loss: 0.1473 - val_auc: 0.8699\n",
            "Epoch 39/100\n",
            "49000/49000 [==============================] - 4s 80us/step - loss: 0.1571 - auc: 0.8701 - val_loss: 0.1520 - val_auc: 0.8704\n",
            "Epoch 40/100\n",
            "49000/49000 [==============================] - 4s 80us/step - loss: 0.1577 - auc: 0.8705 - val_loss: 0.1480 - val_auc: 0.8708\n",
            "Epoch 41/100\n",
            "49000/49000 [==============================] - 4s 80us/step - loss: 0.1575 - auc: 0.8710 - val_loss: 0.1510 - val_auc: 0.8711\n",
            "Epoch 42/100\n",
            "49000/49000 [==============================] - 4s 81us/step - loss: 0.1577 - auc: 0.8713 - val_loss: 0.1516 - val_auc: 0.8715\n",
            "Epoch 43/100\n",
            "49000/49000 [==============================] - 4s 80us/step - loss: 0.1573 - auc: 0.8716 - val_loss: 0.1485 - val_auc: 0.8718\n",
            "Epoch 44/100\n",
            "49000/49000 [==============================] - 4s 80us/step - loss: 0.1571 - auc: 0.8720 - val_loss: 0.1486 - val_auc: 0.8722\n",
            "Epoch 45/100\n",
            "49000/49000 [==============================] - 4s 80us/step - loss: 0.1573 - auc: 0.8723 - val_loss: 0.1569 - val_auc: 0.8724\n",
            "Epoch 46/100\n",
            "49000/49000 [==============================] - 4s 80us/step - loss: 0.1576 - auc: 0.8725 - val_loss: 0.1479 - val_auc: 0.8727\n",
            "Epoch 47/100\n",
            "49000/49000 [==============================] - 4s 79us/step - loss: 0.1572 - auc: 0.8728 - val_loss: 0.1509 - val_auc: 0.8730\n",
            "Epoch 48/100\n",
            "49000/49000 [==============================] - 4s 79us/step - loss: 0.1570 - auc: 0.8731 - val_loss: 0.1478 - val_auc: 0.8732\n",
            "Epoch 49/100\n",
            "49000/49000 [==============================] - 4s 79us/step - loss: 0.1572 - auc: 0.8734 - val_loss: 0.1479 - val_auc: 0.8735\n",
            "Epoch 50/100\n",
            "49000/49000 [==============================] - 4s 81us/step - loss: 0.1566 - auc: 0.8737 - val_loss: 0.1491 - val_auc: 0.8738\n",
            "Epoch 51/100\n",
            "49000/49000 [==============================] - 4s 81us/step - loss: 0.1563 - auc: 0.8740 - val_loss: 0.1488 - val_auc: 0.8741\n",
            "Epoch 52/100\n",
            "49000/49000 [==============================] - 4s 81us/step - loss: 0.1558 - auc: 0.8743 - val_loss: 0.1519 - val_auc: 0.8744\n",
            "Epoch 53/100\n",
            "49000/49000 [==============================] - 4s 81us/step - loss: 0.1565 - auc: 0.8745 - val_loss: 0.1491 - val_auc: 0.8746\n",
            "Epoch 54/100\n",
            "49000/49000 [==============================] - 4s 82us/step - loss: 0.1563 - auc: 0.8747 - val_loss: 0.1524 - val_auc: 0.8748\n",
            "Epoch 55/100\n",
            "49000/49000 [==============================] - 4s 81us/step - loss: 0.1566 - auc: 0.8749 - val_loss: 0.1477 - val_auc: 0.8751\n",
            "Epoch 56/100\n",
            "49000/49000 [==============================] - 4s 80us/step - loss: 0.1562 - auc: 0.8752 - val_loss: 0.1504 - val_auc: 0.8753\n",
            "Epoch 57/100\n",
            "49000/49000 [==============================] - 4s 81us/step - loss: 0.1562 - auc: 0.8754 - val_loss: 0.1485 - val_auc: 0.8755\n",
            "Epoch 58/100\n",
            "49000/49000 [==============================] - 4s 81us/step - loss: 0.1560 - auc: 0.8757 - val_loss: 0.1484 - val_auc: 0.8758\n",
            "Epoch 59/100\n",
            "49000/49000 [==============================] - 4s 81us/step - loss: 0.1566 - auc: 0.8759 - val_loss: 0.1485 - val_auc: 0.8760\n",
            "Epoch 60/100\n",
            "49000/49000 [==============================] - 4s 83us/step - loss: 0.1561 - auc: 0.8761 - val_loss: 0.1492 - val_auc: 0.8762\n",
            "Epoch 61/100\n",
            "49000/49000 [==============================] - 4s 84us/step - loss: 0.1566 - auc: 0.8763 - val_loss: 0.1477 - val_auc: 0.8764\n",
            "Epoch 62/100\n",
            "49000/49000 [==============================] - 4s 80us/step - loss: 0.1561 - auc: 0.8765 - val_loss: 0.1474 - val_auc: 0.8766\n",
            "Epoch 63/100\n",
            "49000/49000 [==============================] - 4s 79us/step - loss: 0.1567 - auc: 0.8767 - val_loss: 0.1476 - val_auc: 0.8768\n",
            "Epoch 64/100\n",
            "49000/49000 [==============================] - 4s 82us/step - loss: 0.1564 - auc: 0.8769 - val_loss: 0.1494 - val_auc: 0.8770\n",
            "Epoch 65/100\n",
            "49000/49000 [==============================] - 4s 83us/step - loss: 0.1570 - auc: 0.8771 - val_loss: 0.1482 - val_auc: 0.8772\n",
            "Epoch 66/100\n",
            "49000/49000 [==============================] - 4s 84us/step - loss: 0.1569 - auc: 0.8773 - val_loss: 0.1555 - val_auc: 0.8773\n",
            "Epoch 67/100\n",
            "49000/49000 [==============================] - 4s 80us/step - loss: 0.1566 - auc: 0.8774 - val_loss: 0.1529 - val_auc: 0.8774\n",
            "Epoch 68/100\n",
            "49000/49000 [==============================] - 4s 79us/step - loss: 0.1556 - auc: 0.8775 - val_loss: 0.1486 - val_auc: 0.8776\n",
            "Epoch 69/100\n",
            "49000/49000 [==============================] - 4s 80us/step - loss: 0.1563 - auc: 0.8776 - val_loss: 0.1484 - val_auc: 0.8777\n",
            "Epoch 70/100\n",
            "49000/49000 [==============================] - 4s 80us/step - loss: 0.1558 - auc: 0.8778 - val_loss: 0.1506 - val_auc: 0.8779\n",
            "Epoch 71/100\n",
            "49000/49000 [==============================] - 4s 81us/step - loss: 0.1558 - auc: 0.8779 - val_loss: 0.1489 - val_auc: 0.8780\n",
            "Epoch 72/100\n",
            "49000/49000 [==============================] - 4s 80us/step - loss: 0.1547 - auc: 0.8781 - val_loss: 0.1476 - val_auc: 0.8782\n",
            "Epoch 73/100\n",
            "49000/49000 [==============================] - 4s 80us/step - loss: 0.1554 - auc: 0.8783 - val_loss: 0.1484 - val_auc: 0.8784\n",
            "Epoch 74/100\n",
            "49000/49000 [==============================] - 4s 80us/step - loss: 0.1561 - auc: 0.8784 - val_loss: 0.1481 - val_auc: 0.8785\n",
            "Epoch 75/100\n",
            "49000/49000 [==============================] - 4s 80us/step - loss: 0.1554 - auc: 0.8786 - val_loss: 0.1494 - val_auc: 0.8787\n",
            "Epoch 76/100\n",
            "49000/49000 [==============================] - 4s 80us/step - loss: 0.1557 - auc: 0.8787 - val_loss: 0.1484 - val_auc: 0.8788\n",
            "Epoch 77/100\n",
            "49000/49000 [==============================] - 4s 81us/step - loss: 0.1558 - auc: 0.8789 - val_loss: 0.1477 - val_auc: 0.8789\n",
            "Epoch 78/100\n",
            "49000/49000 [==============================] - 4s 81us/step - loss: 0.1559 - auc: 0.8790 - val_loss: 0.1483 - val_auc: 0.8791\n",
            "Epoch 79/100\n",
            "49000/49000 [==============================] - 4s 81us/step - loss: 0.1562 - auc: 0.8791 - val_loss: 0.1485 - val_auc: 0.8792\n",
            "Epoch 80/100\n",
            "49000/49000 [==============================] - 4s 80us/step - loss: 0.1555 - auc: 0.8793 - val_loss: 0.1482 - val_auc: 0.8793\n",
            "Epoch 81/100\n",
            "49000/49000 [==============================] - 4s 81us/step - loss: 0.1569 - auc: 0.8794 - val_loss: 0.1481 - val_auc: 0.8794\n",
            "Epoch 82/100\n",
            "49000/49000 [==============================] - 4s 80us/step - loss: 0.1559 - auc: 0.8795 - val_loss: 0.1497 - val_auc: 0.8796\n",
            "Epoch 83/100\n",
            "49000/49000 [==============================] - 4s 80us/step - loss: 0.1560 - auc: 0.8796 - val_loss: 0.1480 - val_auc: 0.8797\n",
            "Epoch 84/100\n",
            "49000/49000 [==============================] - 4s 80us/step - loss: 0.1556 - auc: 0.8797 - val_loss: 0.1483 - val_auc: 0.8798\n",
            "Epoch 85/100\n",
            "49000/49000 [==============================] - 4s 80us/step - loss: 0.1556 - auc: 0.8799 - val_loss: 0.1483 - val_auc: 0.8799\n",
            "Epoch 86/100\n",
            "49000/49000 [==============================] - 4s 80us/step - loss: 0.1553 - auc: 0.8800 - val_loss: 0.1478 - val_auc: 0.8800\n",
            "Epoch 87/100\n",
            "49000/49000 [==============================] - 4s 81us/step - loss: 0.1562 - auc: 0.8801 - val_loss: 0.1482 - val_auc: 0.8802\n",
            "Epoch 88/100\n",
            "49000/49000 [==============================] - 4s 80us/step - loss: 0.1560 - auc: 0.8802 - val_loss: 0.1481 - val_auc: 0.8803\n",
            "Epoch 89/100\n",
            "49000/49000 [==============================] - 4s 80us/step - loss: 0.1553 - auc: 0.8803 - val_loss: 0.1481 - val_auc: 0.8804\n",
            "Epoch 90/100\n",
            "49000/49000 [==============================] - 4s 80us/step - loss: 0.1554 - auc: 0.8804 - val_loss: 0.1476 - val_auc: 0.8805\n",
            "Epoch 91/100\n",
            "49000/49000 [==============================] - 4s 79us/step - loss: 0.1557 - auc: 0.8805 - val_loss: 0.1474 - val_auc: 0.8806\n",
            "Epoch 92/100\n",
            "49000/49000 [==============================] - 4s 79us/step - loss: 0.1559 - auc: 0.8807 - val_loss: 0.1482 - val_auc: 0.8807\n",
            "Epoch 93/100\n",
            "49000/49000 [==============================] - 4s 79us/step - loss: 0.1549 - auc: 0.8807 - val_loss: 0.1477 - val_auc: 0.8808\n",
            "Epoch 94/100\n",
            "49000/49000 [==============================] - 4s 80us/step - loss: 0.1558 - auc: 0.8809 - val_loss: 0.1481 - val_auc: 0.8809\n",
            "Epoch 95/100\n",
            "49000/49000 [==============================] - 4s 81us/step - loss: 0.1554 - auc: 0.8809 - val_loss: 0.1501 - val_auc: 0.8810\n",
            "Epoch 96/100\n",
            "49000/49000 [==============================] - 4s 80us/step - loss: 0.1552 - auc: 0.8810 - val_loss: 0.1487 - val_auc: 0.8811\n",
            "Epoch 97/100\n",
            "49000/49000 [==============================] - 4s 82us/step - loss: 0.1551 - auc: 0.8811 - val_loss: 0.1473 - val_auc: 0.8812\n",
            "Epoch 98/100\n",
            "49000/49000 [==============================] - 4s 82us/step - loss: 0.1554 - auc: 0.8812 - val_loss: 0.1486 - val_auc: 0.8813\n",
            "Epoch 99/100\n",
            "49000/49000 [==============================] - 4s 82us/step - loss: 0.1549 - auc: 0.8813 - val_loss: 0.1519 - val_auc: 0.8814\n",
            "Epoch 100/100\n",
            "49000/49000 [==============================] - 4s 83us/step - loss: 0.1550 - auc: 0.8814 - val_loss: 0.1490 - val_auc: 0.8814\n"
          ],
          "name": "stdout"
        },
        {
          "output_type": "execute_result",
          "data": {
            "text/plain": [
              "<keras.callbacks.History at 0x7f210b7c3f28>"
            ]
          },
          "metadata": {
            "tags": []
          },
          "execution_count": 45
        }
      ]
    },
    {
      "cell_type": "code",
      "metadata": {
        "id": "rbf9bHHi_wr9",
        "colab_type": "code",
        "colab": {}
      },
      "source": [
        "from sklearn.metrics import roc_curve\n",
        "y_pred_keras = keras_model.predict(x_test).ravel()\n",
        "fpr_keras, tpr_keras, thresholds_keras = roc_curve(y_test, y_pred_keras)"
      ],
      "execution_count": 0,
      "outputs": []
    },
    {
      "cell_type": "code",
      "metadata": {
        "id": "j9f4NaK9gPQB",
        "colab_type": "code",
        "outputId": "6b3c1016-ff39-4e9c-d4c6-30265635b412",
        "colab": {
          "base_uri": "https://localhost:8080/",
          "height": 72
        }
      },
      "source": [
        "print('ROC_AUC Score:',roc_auc_score(y_test, y_pred_keras))\n",
        "print('F1_score',f1_score(y_test,y_pred_keras.round()))\n",
        "print('MCC Score',matthews_corrcoef(y_test,y_pred_keras.round()))\n",
        "#accuracy_score(y_true, y_pred.round(), normalize=False)"
      ],
      "execution_count": 0,
      "outputs": [
        {
          "output_type": "stream",
          "text": [
            "ROC_AUC Score: 0.895174720360713\n",
            "F1_score 0.5484390086900547\n",
            "MCC Score 0.5997006346261777\n"
          ],
          "name": "stdout"
        }
      ]
    },
    {
      "cell_type": "code",
      "metadata": {
        "id": "JIomnEFclHZW",
        "colab_type": "code",
        "outputId": "21527625-af9c-42d4-ab8b-c2374d694205",
        "colab": {
          "base_uri": "https://localhost:8080/",
          "height": 181
        }
      },
      "source": [
        "print(classification_report(y_test,y_pred_keras.round()))"
      ],
      "execution_count": 0,
      "outputs": [
        {
          "output_type": "stream",
          "text": [
            "              precision    recall  f1-score   support\n",
            "\n",
            "         0.0       0.95      1.00      0.98     27745\n",
            "         1.0       1.00      0.38      0.55      2255\n",
            "\n",
            "   micro avg       0.95      0.95      0.95     30000\n",
            "   macro avg       0.98      0.69      0.76     30000\n",
            "weighted avg       0.96      0.95      0.94     30000\n",
            "\n"
          ],
          "name": "stdout"
        }
      ]
    },
    {
      "cell_type": "code",
      "metadata": {
        "id": "3Dmx9mHUkVoY",
        "colab_type": "code",
        "colab": {}
      },
      "source": [
        "auc_keras = auc(fpr_keras, tpr_keras)"
      ],
      "execution_count": 0,
      "outputs": []
    },
    {
      "cell_type": "code",
      "metadata": {
        "id": "jWJ_uCjFpJ_H",
        "colab_type": "code",
        "outputId": "c5eac573-ddea-4de0-8384-92e97cad26b3",
        "colab": {
          "base_uri": "https://localhost:8080/",
          "height": 572
        }
      },
      "source": [
        "plt.figure(1)\n",
        "plt.plot([0, 1], [0, 1], 'k--')\n",
        "plt.plot(fpr_keras, tpr_keras,label='ROC_AUC Curve')\n",
        "plt.xlabel('False positive rate')\n",
        "plt.ylabel('True positive rate')\n",
        "plt.title('ROC curve')\n",
        "plt.legend(loc='best')\n",
        "plt.show()\n",
        "# Zoom in view of the upper left corner.\n",
        "plt.figure(2)\n",
        "plt.xlim(0, 0.8)\n",
        "plt.ylim(0.7, 1)\n",
        "plt.plot([0, 1], [0, 1], 'k--')\n",
        "plt.plot(fpr_keras, tpr_keras,label='Zoomed curve')\n",
        "plt.xlabel('False positive rate')\n",
        "plt.ylabel('True positive rate')\n",
        "plt.title('ROC curve (zoomed in at top left)')\n",
        "plt.legend(loc='best')\n",
        "plt.show()"
      ],
      "execution_count": 0,
      "outputs": [
        {
          "output_type": "display_data",
          "data": {
            "image/png": "[encoded data removed]",
            "text/plain": [
              "<Figure size 432x288 with 1 Axes>"
            ]
          },
          "metadata": {
            "tags": []
          }
        },
        {
          "output_type": "display_data",
          "data": {
            "image/png": "[encoded data removed]",
            "text/plain": [
              "<Figure size 432x288 with 1 Axes>"
            ]
          },
          "metadata": {
            "tags": []
          }
        }
      ]
    },
    {
      "cell_type": "code",
      "metadata": {
        "id": "uEFcjGYKgAOQ",
        "colab_type": "code",
        "colab": {}
      },
      "source": [
        ""
      ],
      "execution_count": 0,
      "outputs": []
    },
    {
      "cell_type": "markdown",
      "metadata": {
        "id": "iRRr1Xvtww6C",
        "colab_type": "text"
      },
      "source": [
        "# Tuning"
      ]
    },
    {
      "cell_type": "code",
      "metadata": {
        "colab_type": "code",
        "id": "iTUacrmZn2W6",
        "colab": {}
      },
      "source": [
        "param_grid_Lr_ib={\"penalty\": ['l1', 'l2'], 'C': [0.001, 0.01, 0.1, 1, 10, 100]}\n",
        "param_grid_Boost_ib={'n_estimators':[50,100,200],'learning_rate':[0.0001,0.0003,0.0005]}\n",
        "param_grid_Xgb_ib={'n_estimators':[50,100,200],'learning_rate':[0.01,0.05,0.1],'max_depth':[3,5,7,9]}\n",
        "param_grid_Gbc_ib={'n_estimators':[50,100,200],'learning_rate':[0.0001,0.0003,0.0005],'max_depth': [4, 6, 8,10]}\n",
        "param_grid_Bagg_ib={'n_estimators':[50,100,200]}\n",
        "param_grid_Rf_ib={'n_estimators':[50,100,200],'max_depth':[3,5,7,9]}"
      ],
      "execution_count": 0,
      "outputs": []
    },
    {
      "cell_type": "code",
      "metadata": {
        "id": "h-VYHN8fMfqB",
        "colab_type": "code",
        "colab": {}
      },
      "source": [
        "best_model_Lr_ib = GridSearchCV(estimator=Lr_ib,param_grid=param_grid_Lr_ib,scoring='f1',n_jobs=-1,cv=5)\n",
        "best_model_Boost_ib = GridSearchCV(estimator=Boost_ib,param_grid=param_grid_Boost_ib ,scoring='f1',n_jobs=-1,cv=5)\n",
        "best_model_Xgb_ib = GridSearchCV(estimator=Xgb_ib,param_grid=param_grid_Xgb_ib ,scoring='f1',n_jobs=-1,cv=5)\n",
        "best_model_Gbc_ib = GridSearchCV(estimator=Gbc_ib,param_grid=param_grid_Gbc_ib ,scoring='f1',n_jobs=-1,cv=5)\n",
        "best_model_Bagg_ib = GridSearchCV(estimator=Bagg_ib,param_grid=param_grid_Bagg_ib ,scoring='f1',n_jobs=-1,cv=5)\n",
        "best_model_Rf_ib = GridSearchCV(estimator=Rf_ib,param_grid=param_grid_Rf_ib ,scoring='f1',n_jobs=-1,cv=5)"
      ],
      "execution_count": 0,
      "outputs": []
    },
    {
      "cell_type": "markdown",
      "metadata": {
        "id": "VQx-Tp9LNGNO",
        "colab_type": "text"
      },
      "source": [
        "Logistic Regression"
      ]
    },
    {
      "cell_type": "code",
      "metadata": {
        "id": "QSCjfWHzyYUG",
        "colab_type": "code",
        "outputId": "774b5501-8fb0-475e-8291-63d0a8a008fa",
        "colab": {
          "base_uri": "https://localhost:8080/",
          "height": 181
        }
      },
      "source": [
        "best_model_Lr_ib.fit(x_train,y_train)"
      ],
      "execution_count": 0,
      "outputs": [
        {
          "output_type": "execute_result",
          "data": {
            "text/plain": [
              "GridSearchCV(cv=5, error_score='raise-deprecating',\n",
              "       estimator=LogisticRegression(C=1.0, class_weight=None, dual=False, fit_intercept=True,\n",
              "          intercept_scaling=1, max_iter=100, multi_class='warn',\n",
              "          n_jobs=None, penalty='l2', random_state=None, solver='warn',\n",
              "          tol=0.0001, verbose=0, warm_start=False),\n",
              "       fit_params=None, iid='warn', n_jobs=-1,\n",
              "       param_grid={'penalty': ['l1', 'l2'], 'C': [0.001, 0.01, 0.1, 1, 10, 100]},\n",
              "       pre_dispatch='2*n_jobs', refit=True, return_train_score='warn',\n",
              "       scoring='f1', verbose=0)"
            ]
          },
          "metadata": {
            "tags": []
          },
          "execution_count": 49
        }
      ]
    },
    {
      "cell_type": "code",
      "metadata": {
        "id": "fD_iH_sJnef8",
        "colab_type": "code",
        "colab": {}
      },
      "source": [
        ""
      ],
      "execution_count": 0,
      "outputs": []
    },
    {
      "cell_type": "code",
      "metadata": {
        "id": "YDtmvtlMOC-y",
        "colab_type": "code",
        "outputId": "5b486465-971b-4c4f-e172-66ae82c8f0df",
        "colab": {
          "base_uri": "https://localhost:8080/",
          "height": 34
        }
      },
      "source": [
        "best_model_Lr_ib.best_params_"
      ],
      "execution_count": 0,
      "outputs": [
        {
          "output_type": "execute_result",
          "data": {
            "text/plain": [
              "{'C': 0.1, 'penalty': 'l1'}"
            ]
          },
          "metadata": {
            "tags": []
          },
          "execution_count": 50
        }
      ]
    },
    {
      "cell_type": "code",
      "metadata": {
        "id": "_8J8h1wOTzbh",
        "colab_type": "code",
        "colab": {}
      },
      "source": [
        "#cross_val_score(best_model_Lr_ib.best_estimator_,X=X_train_res,y=y_train_res,cv=5)"
      ],
      "execution_count": 0,
      "outputs": []
    },
    {
      "cell_type": "code",
      "metadata": {
        "colab_type": "code",
        "id": "jrtbt5C7n2I_",
        "outputId": "a03ce430-230d-4825-f847-a49ac6b4e27c",
        "colab": {
          "base_uri": "https://localhost:8080/",
          "height": 51
        }
      },
      "source": [
        "test_pred_lr = best_model_Lr_ib.predict(x_test)\n",
        "print('ROC_AUC Score:', roc_auc_score(y_test, test_pred_lr))\n",
        "print('F1_score:', f1_score(y_test,test_pred_lr))"
      ],
      "execution_count": 0,
      "outputs": [
        {
          "output_type": "stream",
          "text": [
            "ROC_AUC Score: 0.6888774829687058\n",
            "F1_score: 0.5480862013509167\n"
          ],
          "name": "stdout"
        }
      ]
    },
    {
      "cell_type": "markdown",
      "metadata": {
        "id": "UAghZLmSVAgJ",
        "colab_type": "text"
      },
      "source": [
        "AdaBoost"
      ]
    },
    {
      "cell_type": "code",
      "metadata": {
        "id": "xNZdTgiMG1qO",
        "colab_type": "code",
        "outputId": "04acc428-dbd4-464c-e43c-b401ff4cca99",
        "colab": {
          "base_uri": "https://localhost:8080/",
          "height": 238
        }
      },
      "source": [
        "best_model_Boost_ib.fit(x_train,y_train)"
      ],
      "execution_count": 0,
      "outputs": [
        {
          "output_type": "execute_result",
          "data": {
            "text/plain": [
              "GridSearchCV(cv=5, error_score='raise-deprecating',\n",
              "       estimator=AdaBoostClassifier(algorithm='SAMME.R',\n",
              "          base_estimator=DecisionTreeClassifier(class_weight=None, criterion='gini', max_depth=None,\n",
              "            max_features=None, max_leaf_nodes=None,\n",
              "            min_impurity_decrease=0.0, min_impurity_split=None,\n",
              "            min_samples_leaf=1, min_samples_split=2,\n",
              "            min_weight_fraction_leaf=0.0, presort=False, random_state=None,\n",
              "            splitter='best'),\n",
              "          learning_rate=1.0, n_estimators=50, random_state=None),\n",
              "       fit_params=None, iid='warn', n_jobs=-1,\n",
              "       param_grid={'n_estimators': [50, 100, 200], 'learning_rate': [0.0001, 0.0003, 0.0005]},\n",
              "       pre_dispatch='2*n_jobs', refit=True, return_train_score='warn',\n",
              "       scoring='f1', verbose=0)"
            ]
          },
          "metadata": {
            "tags": []
          },
          "execution_count": 53
        }
      ]
    },
    {
      "cell_type": "code",
      "metadata": {
        "id": "wlcEBkQZxJdX",
        "colab_type": "code",
        "colab": {}
      },
      "source": [
        ""
      ],
      "execution_count": 0,
      "outputs": []
    },
    {
      "cell_type": "code",
      "metadata": {
        "id": "YgKUDmwdCvhW",
        "colab_type": "code",
        "outputId": "713ca43c-8ee6-4146-d1ba-011a4492c404",
        "colab": {
          "base_uri": "https://localhost:8080/",
          "height": 34
        }
      },
      "source": [
        "best_model_Boost_ib.best_params_"
      ],
      "execution_count": 0,
      "outputs": [
        {
          "output_type": "execute_result",
          "data": {
            "text/plain": [
              "{'learning_rate': 0.0005, 'n_estimators': 200}"
            ]
          },
          "metadata": {
            "tags": []
          },
          "execution_count": 55
        }
      ]
    },
    {
      "cell_type": "code",
      "metadata": {
        "id": "z7FcZtqBR17A",
        "colab_type": "code",
        "outputId": "36eb8976-c759-4e36-fd36-0b36b2db5f08",
        "colab": {
          "base_uri": "https://localhost:8080/",
          "height": 51
        }
      },
      "source": [
        "test_pred_Boost = best_model_Boost_ib.predict(x_test)\n",
        "print('ROC_AUC Score:', roc_auc_score(y_test, test_pred_Boost))\n",
        "print('F1_score:', f1_score(y_test,test_pred_Boost))"
      ],
      "execution_count": 0,
      "outputs": [
        {
          "output_type": "stream",
          "text": [
            "ROC_AUC Score: 0.7083488005869099\n",
            "F1_score: 0.47048054919908466\n"
          ],
          "name": "stdout"
        }
      ]
    },
    {
      "cell_type": "code",
      "metadata": {
        "id": "HyKH518YEAW3",
        "colab_type": "code",
        "outputId": "e2385388-3b4b-42cb-c629-812aa33d7a9c",
        "colab": {
          "base_uri": "https://localhost:8080/",
          "height": 34
        }
      },
      "source": [
        "#cross_val_score(best_model_Boost.best_estimator_,X=X_train_res,y=y_train_res,cv=5)"
      ],
      "execution_count": 0,
      "outputs": [
        {
          "output_type": "execute_result",
          "data": {
            "text/plain": [
              "array([0.9772859 , 0.98902333, 0.98840664, 0.98942106, 0.98963843])"
            ]
          },
          "metadata": {
            "tags": []
          },
          "execution_count": 38
        }
      ]
    },
    {
      "cell_type": "markdown",
      "metadata": {
        "id": "wnO2Lr_kVNUC",
        "colab_type": "text"
      },
      "source": [
        "XGBoost"
      ]
    },
    {
      "cell_type": "code",
      "metadata": {
        "id": "SeLUX_G8RqeP",
        "colab_type": "code",
        "outputId": "d5ad1d6b-475e-4ad2-e40f-bb12d6da2f2d",
        "colab": {
          "base_uri": "https://localhost:8080/",
          "height": 204
        }
      },
      "source": [
        "best_model_Xgb_ib.fit(x_train,y_train)"
      ],
      "execution_count": 0,
      "outputs": [
        {
          "output_type": "execute_result",
          "data": {
            "text/plain": [
              "GridSearchCV(cv=5, error_score='raise-deprecating',\n",
              "       estimator=XGBClassifier(base_score=0.5, booster='gbtree', colsample_bylevel=1,\n",
              "       colsample_bytree=1, gamma=0, learning_rate=0.1, max_delta_step=0,\n",
              "       max_depth=3, min_child_weight=1, missing=None, n_estimators=100,\n",
              "       n_jobs=1, nthread=None, objective='binary:logistic', random_state=0,\n",
              "       reg_alpha=0, reg_lambda=1, scale_pos_weight=1, seed=None,\n",
              "       silent=True, subsample=1),\n",
              "       fit_params=None, iid='warn', n_jobs=-1,\n",
              "       param_grid={'n_estimators': [50, 100, 200], 'learning_rate': [0.01, 0.05, 0.1], 'max_depth': [3, 5, 7, 9]},\n",
              "       pre_dispatch='2*n_jobs', refit=True, return_train_score='warn',\n",
              "       scoring='f1', verbose=0)"
            ]
          },
          "metadata": {
            "tags": []
          },
          "execution_count": 57
        }
      ]
    },
    {
      "cell_type": "code",
      "metadata": {
        "id": "H9K3zhyvSEdQ",
        "colab_type": "code",
        "outputId": "c8720378-1633-4f2a-c215-40f643965170",
        "colab": {
          "base_uri": "https://localhost:8080/",
          "height": 34
        }
      },
      "source": [
        "best_model_Xgb_ib .best_params_"
      ],
      "execution_count": 0,
      "outputs": [
        {
          "output_type": "execute_result",
          "data": {
            "text/plain": [
              "{'learning_rate': 0.1, 'max_depth': 5, 'n_estimators': 200}"
            ]
          },
          "metadata": {
            "tags": []
          },
          "execution_count": 58
        }
      ]
    },
    {
      "cell_type": "code",
      "metadata": {
        "id": "SabmkZPRSJ2m",
        "colab_type": "code",
        "outputId": "eef7b74f-0196-495c-82fc-9f56b0633e0e",
        "colab": {
          "base_uri": "https://localhost:8080/",
          "height": 51
        }
      },
      "source": [
        "test_pred_Xgb = best_model_Xgb_ib.predict(x_test)\n",
        "print('ROC_AUC Score:', roc_auc_score(y_test, test_pred_Xgb))\n",
        "print('F1_score:', f1_score(y_test,test_pred_Xgb))"
      ],
      "execution_count": 0,
      "outputs": [
        {
          "output_type": "stream",
          "text": [
            "ROC_AUC Score: 0.6888955042337985\n",
            "F1_score: 0.5482625482625482\n"
          ],
          "name": "stdout"
        }
      ]
    },
    {
      "cell_type": "markdown",
      "metadata": {
        "id": "Aj48IDqSWGZH",
        "colab_type": "text"
      },
      "source": [
        "Gradient Boosting Classifier"
      ]
    },
    {
      "cell_type": "code",
      "metadata": {
        "colab_type": "code",
        "id": "Gl2SPplSn132",
        "outputId": "c07f6927-42b4-42bf-8ef8-087961f578b2",
        "colab": {
          "base_uri": "https://localhost:8080/",
          "height": 204
        }
      },
      "source": [
        "best_model_Gbc_ib.fit(x_train,y_train)"
      ],
      "execution_count": 0,
      "outputs": [
        {
          "output_type": "execute_result",
          "data": {
            "text/plain": [
              "GridSearchCV(cv=5, error_score='raise-deprecating',\n",
              "       estimator=GradientBoostingClassifier(criterion='friedman_mse', init=None,\n",
              "              learning_rate=0.1, loss='deviance', max_depth=3,\n",
              "              max_features=None, max_leaf_nodes=None,\n",
              "              min_impurity_decrease=0.0, min_impurity_split=None,\n",
              "              min_samples_leaf=1, min_sampl...      subsample=1.0, tol=0.0001, validation_fraction=0.1,\n",
              "              verbose=0, warm_start=False),\n",
              "       fit_params=None, iid='warn', n_jobs=-1,\n",
              "       param_grid={'n_estimators': [50, 100, 200], 'learning_rate': [0.0001, 0.0003, 0.0005], 'max_depth': [4, 6, 8, 10]},\n",
              "       pre_dispatch='2*n_jobs', refit=True, return_train_score='warn',\n",
              "       scoring='f1', verbose=0)"
            ]
          },
          "metadata": {
            "tags": []
          },
          "execution_count": 60
        }
      ]
    },
    {
      "cell_type": "code",
      "metadata": {
        "id": "K3leS5qhYBlI",
        "colab_type": "code",
        "outputId": "4782b244-a878-4dab-b622-50131086e002",
        "colab": {
          "base_uri": "https://localhost:8080/",
          "height": 34
        }
      },
      "source": [
        "best_model_Gbc_ib .best_params_"
      ],
      "execution_count": 0,
      "outputs": [
        {
          "output_type": "execute_result",
          "data": {
            "text/plain": [
              "{'learning_rate': 0.0001, 'max_depth': 4, 'n_estimators': 50}"
            ]
          },
          "metadata": {
            "tags": []
          },
          "execution_count": 61
        }
      ]
    },
    {
      "cell_type": "code",
      "metadata": {
        "id": "2Xl_yk3LYE2r",
        "colab_type": "code",
        "outputId": "10750b51-300d-431d-b982-2498e72b929b",
        "colab": {
          "base_uri": "https://localhost:8080/",
          "height": 204
        }
      },
      "source": [
        "test_pred_Gbc = best_model_Gbc_ib.predict(x_test)\n",
        "print('ROC_AUC Score:', roc_auc_score(y_test, test_pred_Gbc))\n",
        "print('F1_score:', f1_score(y_test,test_pred_Gbc))\n",
        "print('F1_score:', classification_report(y_test,test_pred_Gbc))"
      ],
      "execution_count": 0,
      "outputs": [
        {
          "output_type": "stream",
          "text": [
            "ROC_AUC Score: 0.5\n",
            "F1_score: 0.0\n",
            "F1_score:               precision    recall  f1-score   support\n",
            "\n",
            "         0.0       0.92      1.00      0.96     27745\n",
            "         1.0       0.00      0.00      0.00      2255\n",
            "\n",
            "   micro avg       0.92      0.92      0.92     30000\n",
            "   macro avg       0.46      0.50      0.48     30000\n",
            "weighted avg       0.86      0.92      0.89     30000\n",
            "\n"
          ],
          "name": "stdout"
        }
      ]
    },
    {
      "cell_type": "markdown",
      "metadata": {
        "id": "sBs1C4x4W1J2",
        "colab_type": "text"
      },
      "source": [
        "Bagging Classifier"
      ]
    },
    {
      "cell_type": "code",
      "metadata": {
        "id": "H2aflYZzYG4e",
        "colab_type": "code",
        "outputId": "e52ff248-dde2-4cdf-e8a3-91c959b53490",
        "colab": {
          "base_uri": "https://localhost:8080/",
          "height": 204
        }
      },
      "source": [
        "best_model_Bagg_ib.fit(x_train,y_train)"
      ],
      "execution_count": 0,
      "outputs": [
        {
          "output_type": "execute_result",
          "data": {
            "text/plain": [
              "GridSearchCV(cv=5, error_score='raise-deprecating',\n",
              "       estimator=BaggingClassifier(base_estimator=DecisionTreeClassifier(class_weight=None, criterion='gini', max_depth=None,\n",
              "            max_features=None, max_leaf_nodes=None,\n",
              "            min_impurity_decrease=0.0, min_impurity_split=None,\n",
              "            min_samples_leaf=1, min_samples_split=2,\n",
              "            ...stimators=10, n_jobs=None, oob_score=False,\n",
              "         random_state=None, verbose=0, warm_start=False),\n",
              "       fit_params=None, iid='warn', n_jobs=-1,\n",
              "       param_grid={'n_estimators': [50, 100, 200]},\n",
              "       pre_dispatch='2*n_jobs', refit=True, return_train_score='warn',\n",
              "       scoring='f1', verbose=0)"
            ]
          },
          "metadata": {
            "tags": []
          },
          "execution_count": 65
        }
      ]
    },
    {
      "cell_type": "code",
      "metadata": {
        "id": "AxBVyucOEyc-",
        "colab_type": "code",
        "outputId": "4089a10d-4daf-4a25-da00-d0fcd0681785",
        "colab": {
          "base_uri": "https://localhost:8080/",
          "height": 34
        }
      },
      "source": [
        "best_model_Bagg_ib .best_params_"
      ],
      "execution_count": 0,
      "outputs": [
        {
          "output_type": "execute_result",
          "data": {
            "text/plain": [
              "{'n_estimators': 100}"
            ]
          },
          "metadata": {
            "tags": []
          },
          "execution_count": 67
        }
      ]
    },
    {
      "cell_type": "code",
      "metadata": {
        "id": "i1AH-5CoEyXy",
        "colab_type": "code",
        "outputId": "f5cbb058-637d-4ab7-d61a-4f609a86727b",
        "colab": {
          "base_uri": "https://localhost:8080/",
          "height": 51
        }
      },
      "source": [
        "test_pred_Bagg = best_model_Bagg_ib.predict(x_test)\n",
        "print('ROC_AUC Score:', roc_auc_score(y_test, test_pred_Bagg))\n",
        "print('F1_score:', f1_score(y_test,test_pred_Bagg))"
      ],
      "execution_count": 0,
      "outputs": [
        {
          "output_type": "stream",
          "text": [
            "ROC_AUC Score: 0.6995318866506379\n",
            "F1_score: 0.5162893429044727\n"
          ],
          "name": "stdout"
        }
      ]
    },
    {
      "cell_type": "markdown",
      "metadata": {
        "id": "tmP5swekXRbf",
        "colab_type": "text"
      },
      "source": [
        "Random Forest"
      ]
    },
    {
      "cell_type": "code",
      "metadata": {
        "colab_type": "code",
        "id": "0B9r4pInEzxt",
        "outputId": "bd13e7c2-9713-488c-e871-84d53b7e15a9",
        "colab": {
          "base_uri": "https://localhost:8080/",
          "height": 221
        }
      },
      "source": [
        "best_model_Rf_ib.fit(x_train,y_train)"
      ],
      "execution_count": 0,
      "outputs": [
        {
          "output_type": "execute_result",
          "data": {
            "text/plain": [
              "GridSearchCV(cv=5, error_score='raise-deprecating',\n",
              "       estimator=RandomForestClassifier(bootstrap=True, class_weight=None, criterion='gini',\n",
              "            max_depth=None, max_features='auto', max_leaf_nodes=None,\n",
              "            min_impurity_decrease=0.0, min_impurity_split=None,\n",
              "            min_samples_leaf=1, min_samples_split=2,\n",
              "            min_weight_fraction_leaf=0.0, n_estimators=10, n_jobs=None,\n",
              "            oob_score=False, random_state=None, verbose=0,\n",
              "            warm_start=False),\n",
              "       fit_params=None, iid='warn', n_jobs=-1,\n",
              "       param_grid={'n_estimators': [50, 100, 200], 'max_depth': [3, 5, 7, 9]},\n",
              "       pre_dispatch='2*n_jobs', refit=True, return_train_score='warn',\n",
              "       scoring='f1', verbose=0)"
            ]
          },
          "metadata": {
            "tags": []
          },
          "execution_count": 69
        }
      ]
    },
    {
      "cell_type": "code",
      "metadata": {
        "colab_type": "code",
        "id": "T91hHYDQEzx7",
        "outputId": "97cec5a9-33bc-4427-e746-33720bfd0cce",
        "colab": {
          "base_uri": "https://localhost:8080/",
          "height": 34
        }
      },
      "source": [
        "best_model_Rf_ib.best_params_"
      ],
      "execution_count": 0,
      "outputs": [
        {
          "output_type": "execute_result",
          "data": {
            "text/plain": [
              "{'max_depth': 5, 'n_estimators': 50}"
            ]
          },
          "metadata": {
            "tags": []
          },
          "execution_count": 70
        }
      ]
    },
    {
      "cell_type": "code",
      "metadata": {
        "colab_type": "code",
        "id": "hr7XRuTvEzyJ",
        "outputId": "e71fbd7e-bd5e-4a25-fbff-3d59147119e6",
        "colab": {
          "base_uri": "https://localhost:8080/",
          "height": 51
        }
      },
      "source": [
        "test_pred_Rf = best_model_Rf_ib.predict(x_test)\n",
        "print('ROC_AUC Score:', roc_auc_score(y_test, test_pred_Rf))\n",
        "print('F1_score:', f1_score(y_test,test_pred_Rf))"
      ],
      "execution_count": 0,
      "outputs": [
        {
          "output_type": "stream",
          "text": [
            "ROC_AUC Score: 0.6880266075388026\n",
            "F1_score: 0.5465678375765388\n"
          ],
          "name": "stdout"
        }
      ]
    },
    {
      "cell_type": "code",
      "metadata": {
        "colab_type": "code",
        "id": "KZYyc8XgEzyV",
        "colab": {}
      },
      "source": [
        "#c=cross_val_score(best_model_tree.best_estimator_,X=X_train_res,y=y_train_res,cv=5).mean()\n",
        "#c"
      ],
      "execution_count": 0,
      "outputs": []
    },
    {
      "cell_type": "markdown",
      "metadata": {
        "id": "VnltiADPXs47",
        "colab_type": "text"
      },
      "source": [
        "# Voting Classifier"
      ]
    },
    {
      "cell_type": "code",
      "metadata": {
        "id": "S7Pc0F4xEyA2",
        "colab_type": "code",
        "outputId": "a1365645-225f-4abc-c91c-5af5439bfdbf",
        "colab": {
          "base_uri": "https://localhost:8080/",
          "height": 54
        }
      },
      "source": [
        "from sklearn.ensemble import VotingClassifier\n",
        "model = VotingClassifier(estimators=[('Random Forest', best_model_Rf_ib), ('Adaboost', best_model_Boost_ib),('Bagging', best_model_Bagg_ib),('SVC', Svc_ib),('Logistic Regression', best_model_Lr_ib),('Gradient Bosting', Gbc_ib), ('XGBoost', best_model_Xgb_ib),('GaussianNB', Gnb_ib),('BernoulliNB',Bnb_ib)], voting='hard')\n",
        "model.fit(x_train, y_train)\n",
        "test_m_pred=model.predict(x_test)\n",
        "#model.score(x_test,test_m_pred)\n",
        "print('ROC_AUC Score:',roc_auc_score(y_test, test_m_pred))\n",
        "print('F1_score',f1_score(y_test,test_m_pred))"
      ],
      "execution_count": 0,
      "outputs": [
        {
          "output_type": "stream",
          "text": [
            "ROC_AUC Score: 0.6889135254988914\n",
            "F1_score 0.5484390086900547\n"
          ],
          "name": "stdout"
        }
      ]
    },
    {
      "cell_type": "markdown",
      "metadata": {
        "id": "-TvYOed4fj9w",
        "colab_type": "text"
      },
      "source": [
        "# ** Data to csv **"
      ]
    },
    {
      "cell_type": "code",
      "metadata": {
        "id": "1L58B_aLhb4z",
        "colab_type": "code",
        "colab": {}
      },
      "source": [
        "data_complete_df.to_excel(r'C:\\Users\\user\\Desktop\\BA\\Term-III\\Capstone Project\\New_data.xlsx')"
      ],
      "execution_count": 0,
      "outputs": []
    },
    {
      "cell_type": "code",
      "metadata": {
        "id": "4TACsxMbleGE",
        "colab_type": "code",
        "colab": {}
      },
      "source": [
        "from google.colab import files"
      ],
      "execution_count": 0,
      "outputs": []
    }
  ]
}